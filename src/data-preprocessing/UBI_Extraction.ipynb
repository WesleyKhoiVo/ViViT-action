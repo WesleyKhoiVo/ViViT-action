{
  "nbformat": 4,
  "nbformat_minor": 0,
  "metadata": {
    "colab": {
      "provenance": [],
      "authorship_tag": "ABX9TyPae/2g+FhyNLakhn6cwxA1",
      "include_colab_link": true
    },
    "kernelspec": {
      "name": "python3",
      "display_name": "Python 3"
    },
    "language_info": {
      "name": "python"
    }
  },
  "cells": [
    {
      "cell_type": "markdown",
      "metadata": {
        "id": "view-in-github",
        "colab_type": "text"
      },
      "source": [
        "<a href=\"https://colab.research.google.com/github/moharamfatema/graduation-project/blob/main/data-preprocessing/UBI_Extraction.ipynb\" target=\"_parent\"><img src=\"https://colab.research.google.com/assets/colab-badge.svg\" alt=\"Open In Colab\"/></a>"
      ]
    },
    {
      "cell_type": "markdown",
      "source": [
        "# Extracting packets and labels fron UBI Fights dataset\n",
        "\n",
        "Packet size = 28 frames * 28 W * 28 H"
      ],
      "metadata": {
        "id": "JMAkxvcvjCzi"
      }
    },
    {
      "cell_type": "code",
      "execution_count": null,
      "metadata": {
        "colab": {
          "base_uri": "https://localhost:8080/"
        },
        "id": "rG0CZHdcimcv",
        "outputId": "4bdb85c8-e172-4cbf-d007-f33bef4682bc"
      },
      "outputs": [
        {
          "output_type": "stream",
          "name": "stdout",
          "text": [
            "Mounted at /gdrive\n"
          ]
        }
      ],
      "source": [
        "from google.colab import drive\n",
        "drive.mount('/gdrive')"
      ]
    },
    {
      "cell_type": "markdown",
      "source": [
        "Mohanad's UCF extraction\n",
        "\n",
        "```python\n",
        "def extract_frames(root,\n",
        "                   label,\n",
        "                   out,\n",
        "                   packet_shape=INPUT_SHAPE,\n",
        "                   overlap=0):\n",
        "  '''\n",
        "  summary:\n",
        "  transform videos located at root into 2 numpy arrays [X, y] loacated at out\n",
        "  '''\n",
        "  # initiate packets counter\n",
        "  n_class_packets = 0\n",
        "\n",
        "  # initiate packet\n",
        "  packet = np.empty(packet_shape,\n",
        "                    dtype=np.uint8)\n",
        "  \n",
        "  # unique packet frames count\n",
        "  n_unique_frames = packet_shape[0] - overlap\n",
        "\n",
        "  # intiate extracted frames X ndarray\n",
        "  with NpyAppendArray(out + 'X.npy') as npaa:\n",
        "\n",
        "    # loop on videos locations \n",
        "    for subdir, _, videos_paths in [*os.walk(root)]:\n",
        "      for video_path in videos_paths:\n",
        "\n",
        "        # initate capture\n",
        "        cap = cv2.VideoCapture(subdir + os.sep + video_path)\n",
        "        \n",
        "        # print('full_path', subdir + os.sep +  video_path)\n",
        "\n",
        "        # TODO: Reformulate considering overlaps\n",
        "        # Calculate packets per video\n",
        "        n_video_packets = int(cap.get(cv2.CAP_PROP_FRAME_COUNT)) // n_unique_frames\n",
        "        # print(n_video_packets)\n",
        "\n",
        "        # accumulate class whole packets count\n",
        "        n_class_packets += n_video_packets\n",
        "        \n",
        "\n",
        "        # initiate video packets array\n",
        "        video_packets = np.empty((n_video_packets,) + packet_shape,\n",
        "                                dtype=np.uint8)\n",
        "        \n",
        "        # loop on video frames\n",
        "        for i in range(n_video_packets):\n",
        "          # loop on packet size\n",
        "          for j in range(packet_shape[0]):\n",
        "            \n",
        "              # read the frame\n",
        "              _, frame = cap.read()\n",
        "\n",
        "              # NOTE: is it the best interpolation?\n",
        "              # resize frame shape\n",
        "              frame = cv2.resize(frame, packet_shape[1:], interpolation=cv2.INTER_AREA)\n",
        "\n",
        "              # assure grayscale\n",
        "              frame = cv2.cvtColor(frame, cv2.COLOR_BGR2GRAY)\n",
        "\n",
        "              # assign to packet\n",
        "              packet[j] = frame\n",
        "\n",
        "          # assign to video packets\n",
        "          video_packets[i] = packet\n",
        "       \n",
        "        cv2.destroyAllWindows()\n",
        "        \n",
        "        # print(video_packets.shape)\n",
        "        # save video packets\n",
        "        npaa.append(video_packets)\n",
        "\n",
        "  print('for', label, n_class_packets)\n",
        "  # save labels array\n",
        "  # NOTE: EXPERIMENTAL\n",
        "  y = np.full((n_class_packets, 1), label, dtype=np.uint8)\n",
        "  with NpyAppendArray(out + 'y.npy') as npaa:\n",
        "    npaa.append(y)\n",
        "```"
      ],
      "metadata": {
        "id": "X777zebGnO1S"
      }
    },
    {
      "cell_type": "code",
      "source": [
        "! pip install npy_append_array scikit-video opencv-python scikit-image"
      ],
      "metadata": {
        "colab": {
          "base_uri": "https://localhost:8080/"
        },
        "id": "-n2bE449ojAi",
        "outputId": "7247a753-8207-4fa7-8bc4-76be37b0767c"
      },
      "execution_count": null,
      "outputs": [
        {
          "output_type": "stream",
          "name": "stdout",
          "text": [
            "Looking in indexes: https://pypi.org/simple, https://us-python.pkg.dev/colab-wheels/public/simple/\n",
            "Collecting npy_append_array\n",
            "  Downloading npy_append_array-0.9.16-py3-none-any.whl (9.0 kB)\n",
            "Collecting scikit-video\n",
            "  Downloading scikit_video-1.1.11-py2.py3-none-any.whl (2.3 MB)\n",
            "\u001b[2K     \u001b[90m━━━━━━━━━━━━━━━━━━━━━━━━━━━━━━━━━━━━━━━━\u001b[0m \u001b[32m2.3/2.3 MB\u001b[0m \u001b[31m22.7 MB/s\u001b[0m eta \u001b[36m0:00:00\u001b[0m\n",
            "\u001b[?25hRequirement already satisfied: opencv-python in /usr/local/lib/python3.9/dist-packages (4.6.0.66)\n",
            "Requirement already satisfied: scikit-image in /usr/local/lib/python3.9/dist-packages (0.19.3)\n",
            "Requirement already satisfied: scipy in /usr/local/lib/python3.9/dist-packages (from scikit-video) (1.10.1)\n",
            "Requirement already satisfied: pillow in /usr/local/lib/python3.9/dist-packages (from scikit-video) (8.4.0)\n",
            "Requirement already satisfied: numpy in /usr/local/lib/python3.9/dist-packages (from scikit-video) (1.22.4)\n",
            "Requirement already satisfied: networkx>=2.2 in /usr/local/lib/python3.9/dist-packages (from scikit-image) (3.0)\n",
            "Requirement already satisfied: packaging>=20.0 in /usr/local/lib/python3.9/dist-packages (from scikit-image) (23.0)\n",
            "Requirement already satisfied: tifffile>=2019.7.26 in /usr/local/lib/python3.9/dist-packages (from scikit-image) (2023.2.28)\n",
            "Requirement already satisfied: PyWavelets>=1.1.1 in /usr/local/lib/python3.9/dist-packages (from scikit-image) (1.4.1)\n",
            "Requirement already satisfied: imageio>=2.4.1 in /usr/local/lib/python3.9/dist-packages (from scikit-image) (2.9.0)\n",
            "Installing collected packages: npy_append_array, scikit-video\n",
            "Successfully installed npy_append_array-0.9.16 scikit-video-1.1.11\n"
          ]
        }
      ]
    },
    {
      "cell_type": "code",
      "source": [
        "from npy_append_array import NpyAppendArray as npaa\n",
        "import matplotlib.pyplot as plt\n",
        "import skvideo.io\n",
        "import os\n",
        "import numpy as np\n",
        "from glob import glob\n",
        "from tqdm import tqdm\n",
        "import gc\n",
        "from typing import Tuple\n",
        "import cv2\n",
        "from time import perf_counter\n",
        "from skimage.transform import resize"
      ],
      "metadata": {
        "id": "9vtvxm-voa1s"
      },
      "execution_count": null,
      "outputs": []
    },
    {
      "cell_type": "code",
      "source": [
        "ROOT = '/gdrive/MyDrive/Datasets/UBI_FIGHTS/UBI_FIGHTS_v2/UBI_FIGHTS'\n",
        "VIDEOS = ROOT + '/videos'\n",
        "ANNOTATIONS = ROOT + '/annotation'\n",
        "OUT = '/gdrive/MyDrive/Datasets/UBI_FIGHTS/extracted'"
      ],
      "metadata": {
        "id": "hQcHxTaHjfxg"
      },
      "execution_count": null,
      "outputs": []
    },
    {
      "cell_type": "code",
      "source": [
        "PACKET_SHAPE = (28, 28, 28)\n",
        "VIOLENT = 1\n",
        "NON_VIOLENT = 0"
      ],
      "metadata": {
        "id": "tWp2ciYls1J_"
      },
      "execution_count": null,
      "outputs": []
    },
    {
      "cell_type": "code",
      "source": [
        "video_paths = sorted(glob(VIDEOS + '/**/*.mp4'))\n",
        "annot_paths = sorted(glob(ANNOTATIONS + '/*.csv'))"
      ],
      "metadata": {
        "id": "z9Jths9Oq7GB"
      },
      "execution_count": null,
      "outputs": []
    },
    {
      "cell_type": "code",
      "source": [
        "class Extractor():\n",
        "    def __init__(self,\n",
        "                 packet_shape = PACKET_SHAPE,\n",
        "                 overlap = 0,\n",
        "                 backend_read='opencv'\n",
        "                ) -> None:\n",
        "        assert len(packet_shape) == 3 , f'Packet shape { packet_shape } should be in the format: (number of frames, width, height)'\n",
        "        assert backend_read == 'opencv' or backend_read == 'scikit'\n",
        "        assert overlap == 0, 'This feature is not yet implemented'\n",
        "        self.packet_shape = packet_shape\n",
        "        self.overlap = overlap\n",
        "        self.backend_read = backend_read\n",
        "\n",
        "    # Read the data\n",
        "    def video_to_np(self, path, verbose=False):\n",
        "        shape = self.packet_shape[1:]\n",
        "        if self.backend_read == 'opencv':\n",
        "            cap = cv2.VideoCapture(path)\n",
        "            n_frames = int(cap.get(cv2.CAP_PROP_FRAME_COUNT))\n",
        "            video = np.zeros((n_frames,) + shape)\n",
        "            loop = range(n_frames)\n",
        "            if verbose:\n",
        "                loop = tqdm(loop)\n",
        "            for i in loop:\n",
        "                _, frame = cap.read()\n",
        "                frame = cv2.resize(frame, shape, interpolation=cv2.INTER_AREA)\n",
        "                video[i] = cv2.cvtColor(frame, cv2.COLOR_RGB2GRAY)\n",
        "\n",
        "            cv2.destroyAllWindows()\n",
        "\n",
        "        else: # 'scikit'\n",
        "            temp = skvideo.io.vread(path)\n",
        "            video = np.zeros((temp.shape[0],) + shape)\n",
        "\n",
        "            if verbose:\n",
        "                print('Resizing...')\n",
        "\n",
        "            resized = np.zeros((temp.shape[0],) + shape + (3,))\n",
        "            \n",
        "            for i in range(temp.shape[0]):\n",
        "                resized[i] = cv2.resize(temp[i], shape, interpolation=cv2.INTER_AREA)\n",
        "\n",
        "            if verbose:\n",
        "                print('Converting to grayscale...')\n",
        "                \n",
        "            video = np.dot(resized, [0.299, 0.587, 0.114])\n",
        "\n",
        "        return video / 255.\n",
        "\n",
        "    def extract_packets_ubi(self, \n",
        "        video_path: str,\n",
        "        annotation_path: str,\n",
        "        verbose = False\n",
        "    ) -> Tuple[np.ndarray, np.ndarray]:\n",
        "        ''' This function always outputs grayscale packets '''\n",
        "        \n",
        "        tick = None\n",
        "        if verbose:\n",
        "            print(f'Reading video ...')\n",
        "            tick = perf_counter()\n",
        "        video = self.video_to_np(video_path, verbose)\n",
        "        if verbose:\n",
        "            tock = perf_counter() - tick if tick is not None else 0\n",
        "            print(f'Video reading took {tock} sec.')\n",
        "\n",
        "        lbl = np.genfromtxt(\n",
        "            annotation_path,\n",
        "            delimiter=\",\", dtype=int\n",
        "        )\n",
        "        anchor = np.where(np.diff(lbl) != 0)[0]\n",
        "\n",
        "        # initialize placeholders for output\n",
        "        shape_x = (1 + len(video) // self.packet_shape[0],) + self.packet_shape\n",
        "        shape_y = (shape_x[0],1)\n",
        "        count = 0\n",
        "        y = np.zeros(shape_y)\n",
        "        x = np.zeros(shape_x)\n",
        "\n",
        "        # fill in output\n",
        "        current = lbl[0]\n",
        "        nxt_anchor = anchor[0] if anchor.shape[0] != 0 else np.inf\n",
        "        idx = 0\n",
        "        for i in range(0, len(video), self.packet_shape[0] - self.overlap):\n",
        "            packet = np.zeros(self.packet_shape)\n",
        "            temp = video[i: i + self.packet_shape[0]]\n",
        "            packet[:len(temp)] = temp\n",
        "            del temp\n",
        "            x[count] = packet\n",
        "            y[count] = current\n",
        "            if i >= nxt_anchor:\n",
        "                current = lbl[i + 1]\n",
        "                idx = idx + 1\n",
        "                nxt_anchor = anchor[idx] if idx < anchor.shape[0] else np.inf\n",
        "            count = count + 1\n",
        "\n",
        "        return (x, y)\n",
        "\n",
        "    def get_shapes(self,paths):\n",
        "        final = 0\n",
        "        for path in tqdm(paths):\n",
        "            cap = cv2.VideoCapture(path)\n",
        "            n_frames = int(cap.get(cv2.CAP_PROP_FRAME_COUNT))\n",
        "            cv2.destroyAllWindows()\n",
        "            final = final + 1 + n_frames // self.packet_shape[0] \n",
        "        shape_x = (final,) + self.packet_shape\n",
        "        shape_y = (final, 1)\n",
        "        return shape_x, shape_y\n",
        "\n",
        "    def __map_vid_to_lbl_paths(self,\n",
        "                               video_paths: list[str], \n",
        "                               annot_paths: list[str], \n",
        "                               ext = 'csv'\n",
        "                            ) -> dict[str,str]:\n",
        "        '''\n",
        "        Warning: This function assumes all video paths are from the same directory and the same for annotations\n",
        "        '''\n",
        "        map = {}\n",
        "        root = '/'.join(annot_paths[0].split('/')[:-1])\n",
        "        for p in video_paths:\n",
        "            token = p.split('/')[-1].split('.')[0]\n",
        "            map[p] = f'{root}/{token}.{ext}' \n",
        "        return map\n",
        "\n",
        "\n",
        "            \n",
        "    def packets_from_paths(self, video_paths, annot_paths, out_path):\n",
        "        skipped = []\n",
        "        print('Calculating shapes ...')\n",
        "        _ , shape_y = self.get_shapes(video_paths)\n",
        "        map = self.__map_vid_to_lbl_paths(video_paths,annot_paths)\n",
        "        y = np.zeros(shape_y)\n",
        "        start = 0\n",
        "        print('Processing files ...')\n",
        "        with npaa(out_path+'/x.npy') as x:\n",
        "            for video_path in tqdm(video_paths):\n",
        "                annot_path = map[video_path]\n",
        "                if not os.path.exists(annot_path):\n",
        "                    skipped.append(video_path)\n",
        "                    continue\n",
        "                x_sub, y_sub = (self.extract_packets_ubi(video_path, annot_path))\n",
        "                x.append(x_sub)\n",
        "                end = y_sub.shape[0] + start\n",
        "                y[start:end] = y_sub\n",
        "                start = end\n",
        "                for _ in range(10):\n",
        "                    gc.collect()\n",
        "        np.save(out_path+'/y.npy',y)\n",
        "        print('The following files were skipped because no annotation file was found')\n",
        "        print(skipped)\n",
        "\n"
      ],
      "metadata": {
        "id": "mDKqo_SCXnfM"
      },
      "execution_count": null,
      "outputs": []
    },
    {
      "cell_type": "code",
      "source": [
        "ext = Extractor()\n",
        "x, y = ext.extract_packets_ubi(video_paths[0], annot_paths[0])\n",
        "print(x.shape, y.shape)\n",
        "plt.imshow(x[8,8],cmap='gray')\n",
        "plt.show()"
      ],
      "metadata": {
        "colab": {
          "base_uri": "https://localhost:8080/",
          "height": 283
        },
        "id": "EPf1I-yxH94v",
        "outputId": "29333cb2-e8bd-459c-8d7b-1a59f85f42c8"
      },
      "execution_count": null,
      "outputs": [
        {
          "output_type": "stream",
          "name": "stdout",
          "text": [
            "(172, 28, 28, 28) (172, 1)\n"
          ]
        },
        {
          "output_type": "display_data",
          "data": {
            "text/plain": [
              "<Figure size 432x288 with 1 Axes>"
            ],
            "image/png": "[encoded data removed]"
          },
          "metadata": {
            "needs_background": "light"
          }
        }
      ]
    },
    {
      "cell_type": "code",
      "source": [
        "x, y = extract_packets_ubi(video_paths[0], annot_paths[0],verbose=True,backend_read='scikit')\n",
        "plt.imshow(x[8,8],cmap='gray')\n",
        "plt.show()"
      ],
      "metadata": {
        "colab": {
          "base_uri": "https://localhost:8080/",
          "height": 338
        },
        "id": "u1nCBhN0wohu",
        "outputId": "42958760-9856-48fd-82df-67ff38a8ef42"
      },
      "execution_count": null,
      "outputs": [
        {
          "output_type": "stream",
          "name": "stdout",
          "text": [
            "Reading video ...\n",
            "Resizing...\n",
            "Converting to grayscale...\n",
            "Video reading took 23.132183089001046 sec.\n"
          ]
        },
        {
          "output_type": "display_data",
          "data": {
            "text/plain": [
              "<Figure size 432x288 with 1 Axes>"
            ],
            "image/png": "[encoded data removed]"
          },
          "metadata": {
            "needs_background": "light"
          }
        }
      ]
    },
    {
      "cell_type": "code",
      "source": [
        "ext = Extractor()\n",
        "ext.get_shapes(video_paths)"
      ],
      "metadata": {
        "colab": {
          "base_uri": "https://localhost:8080/"
        },
        "id": "xXTkusr7yttQ",
        "outputId": "7c061978-98cd-4a44-e8a9-28987663370b"
      },
      "execution_count": null,
      "outputs": [
        {
          "output_type": "stream",
          "name": "stderr",
          "text": [
            "100%|██████████| 960/960 [03:31<00:00,  4.54it/s]\n"
          ]
        },
        {
          "output_type": "execute_result",
          "data": {
            "text/plain": [
              "((299354, 28, 28, 28), (299354, 1))"
            ]
          },
          "metadata": {},
          "execution_count": 8
        }
      ]
    },
    {
      "cell_type": "code",
      "source": [
        "for _ in tqdm(range(100)):\n",
        "    gc.collect()"
      ],
      "metadata": {
        "colab": {
          "base_uri": "https://localhost:8080/"
        },
        "id": "PoFbEdFHGvkU",
        "outputId": "aa9388d0-17be-41b1-c66b-8c70d705a20c"
      },
      "execution_count": null,
      "outputs": [
        {
          "output_type": "stream",
          "name": "stderr",
          "text": [
            "100%|██████████| 100/100 [00:11<00:00,  8.59it/s]\n"
          ]
        }
      ]
    }
  ]
}