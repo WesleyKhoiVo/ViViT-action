{
  "cells": [
    {
      "cell_type": "code",
      "source": [
        "%pip install numpy"
      ],
      "outputs": [
        {
          "output_type": "stream",
          "name": "stdout",
          "text": "Requirement already satisfied: numpy in /anaconda/envs/azureml_py310_sdkv2/lib/python3.10/site-packages (1.24.2)\nNote: you may need to restart the kernel to use updated packages.\n"
        }
      ],
      "execution_count": 7,
      "metadata": {
        "jupyter": {
          "source_hidden": false,
          "outputs_hidden": false
        },
        "nteract": {
          "transient": {
            "deleting": false
          }
        }
      }
    },
    {
      "cell_type": "code",
      "source": [
        "%pip install gdown"
      ],
      "outputs": [
        {
          "output_type": "stream",
          "name": "stdout",
          "text": "Collecting gdown\n  Downloading gdown-4.7.1-py3-none-any.whl (15 kB)\nCollecting beautifulsoup4\n  Downloading beautifulsoup4-4.12.2-py3-none-any.whl (142 kB)\n\u001b[2K     \u001b[90m━━━━━━━━━━━━━━━━━━━━━━━━━━━━━━━━━━━━━━━\u001b[0m \u001b[32m143.0/143.0 kB\u001b[0m \u001b[31m8.5 MB/s\u001b[0m eta \u001b[36m0:00:00\u001b[0m\n\u001b[?25hRequirement already satisfied: tqdm in /anaconda/envs/azureml_py310_sdkv2/lib/python3.10/site-packages (from gdown) (4.65.0)\nRequirement already satisfied: six in /anaconda/envs/azureml_py310_sdkv2/lib/python3.10/site-packages (from gdown) (1.16.0)\nRequirement already satisfied: filelock in /anaconda/envs/azureml_py310_sdkv2/lib/python3.10/site-packages (from gdown) (3.11.0)\nRequirement already satisfied: requests[socks] in /anaconda/envs/azureml_py310_sdkv2/lib/python3.10/site-packages (from gdown) (2.28.2)\nCollecting soupsieve>1.2\n  Downloading soupsieve-2.4.1-py3-none-any.whl (36 kB)\nRequirement already satisfied: charset-normalizer<4,>=2 in /anaconda/envs/azureml_py310_sdkv2/lib/python3.10/site-packages (from requests[socks]->gdown) (3.1.0)\nRequirement already satisfied: certifi>=2017.4.17 in /anaconda/envs/azureml_py310_sdkv2/lib/python3.10/site-packages (from requests[socks]->gdown) (2022.12.7)\nRequirement already satisfied: urllib3<1.27,>=1.21.1 in /anaconda/envs/azureml_py310_sdkv2/lib/python3.10/site-packages (from requests[socks]->gdown) (1.26.15)\nRequirement already satisfied: idna<4,>=2.5 in /anaconda/envs/azureml_py310_sdkv2/lib/python3.10/site-packages (from requests[socks]->gdown) (3.4)\nRequirement already satisfied: PySocks!=1.5.7,>=1.5.6 in /anaconda/envs/azureml_py310_sdkv2/lib/python3.10/site-packages (from requests[socks]->gdown) (1.7.1)\nInstalling collected packages: soupsieve, beautifulsoup4, gdown\nSuccessfully installed beautifulsoup4-4.12.2 gdown-4.7.1 soupsieve-2.4.1\nNote: you may need to restart the kernel to use updated packages.\n"
        }
      ],
      "execution_count": 9,
      "metadata": {}
    },
    {
      "cell_type": "code",
      "source": [
        "import gdown\r\n",
        "\r\n",
        "gdown.download(url=\"https://drive.google.com/file/d/1aD954iBd7GcJLJdGI-9JhZqP0Rcl2OmB/view?usp=sharing\", output=\"y_train.npy\", quiet=False, fuzzy=True)"
      ],
      "outputs": [
        {
          "output_type": "stream",
          "name": "stderr",
          "text": "Downloading...\nFrom: https://drive.google.com/uc?id=1aD954iBd7GcJLJdGI-9JhZqP0Rcl2OmB\nTo: /mnt/batch/tasks/shared/LS_root/mounts/clusters/youssefvictor001/code/Users/youssefvictor00/y_train.npy\n\r  0%|          | 0.00/2.64M [00:00<?, ?B/s]\r100%|██████████| 2.64M/2.64M [00:00<00:00, 50.2MB/s]\n"
        },
        {
          "output_type": "execute_result",
          "execution_count": 10,
          "data": {
            "text/plain": "'y_train.npy'"
          },
          "metadata": {}
        }
      ],
      "execution_count": 10,
      "metadata": {
        "jupyter": {
          "source_hidden": false,
          "outputs_hidden": false
        },
        "nteract": {
          "transient": {
            "deleting": false
          }
        },
        "gather": {
          "logged": 1686312686196
        }
      }
    },
    {
      "cell_type": "code",
      "source": [
        "im"
      ],
      "outputs": [],
      "execution_count": null,
      "metadata": {
        "jupyter": {
          "source_hidden": false,
          "outputs_hidden": false
        },
        "nteract": {
          "transient": {
            "deleting": false
          }
        }
      }
    },
    {
      "cell_type": "code",
      "source": [
        "import numpy as np\r\n",
        "q = np.load('X_test.npy')\r\n",
        "w = np.load('X_val.npy')\r\n",
        "print('a')"
      ],
      "outputs": [],
      "execution_count": 4,
      "metadata": {
        "jupyter": {
          "source_hidden": false,
          "outputs_hidden": false
        },
        "nteract": {
          "transient": {
            "deleting": false
          }
        },
        "gather": {
          "logged": 1686310932230
        }
      }
    },
    {
      "cell_type": "code",
      "source": [
        "X_train = np.load('X_train.npy')"
      ],
      "outputs": [],
      "execution_count": 5,
      "metadata": {
        "jupyter": {
          "source_hidden": false,
          "outputs_hidden": false
        },
        "nteract": {
          "transient": {
            "deleting": false
          }
        },
        "gather": {
          "logged": 1686312491201
        }
      }
    },
    {
      "cell_type": "code",
      "source": [
        "%pip install sklearn"
      ],
      "outputs": [
        {
          "output_type": "stream",
          "name": "stdout",
          "text": "Collecting sklearn\n  Downloading sklearn-0.0.post5.tar.gz (3.7 kB)\n  Preparing metadata (setup.py) ... \u001b[?25l-\b \bdone\n\u001b[?25hBuilding wheels for collected packages: sklearn\n  Building wheel for sklearn (setup.py) ... \u001b[?25l-\b \b\\\b \b|\b \bdone\n\u001b[?25h  Created wheel for sklearn: filename=sklearn-0.0.post5-py3-none-any.whl size=2951 sha256=4700103178b5ea7815b196017c91d3d0a2adc1f6b2e0f2d23b4104557fc78e87\n  Stored in directory: /home/azureuser/.cache/pip/wheels/38/1f/8d/4f812c590e074c1e928f5cec67bf5053b71f38e2648739403a\nSuccessfully built sklearn\nInstalling collected packages: sklearn\nSuccessfully installed sklearn-0.0.post5\nNote: you may need to restart the kernel to use updated packages.\n"
        }
      ],
      "execution_count": 11,
      "metadata": {
        "jupyter": {
          "source_hidden": false,
          "outputs_hidden": false
        },
        "nteract": {
          "transient": {
            "deleting": false
          }
        }
      }
    },
    {
      "cell_type": "code",
      "source": [
        "y_train = np.load('y_train.npy')"
      ],
      "outputs": [],
      "execution_count": 13,
      "metadata": {
        "jupyter": {
          "source_hidden": false,
          "outputs_hidden": false
        },
        "nteract": {
          "transient": {
            "deleting": false
          }
        },
        "gather": {
          "logged": 1686312861069
        }
      }
    },
    {
      "cell_type": "code",
      "source": [
        "from sklearn.model_selection import train_test_split\r\n",
        "X_train, X_train_4, y_train, y_train_4 = train_test_split(X_train, y_train, test_size=0.25, random_state=42, stratify=y_train)"
      ],
      "outputs": [],
      "execution_count": 15,
      "metadata": {
        "jupyter": {
          "source_hidden": false,
          "outputs_hidden": false
        },
        "nteract": {
          "transient": {
            "deleting": false
          }
        },
        "gather": {
          "logged": 1686313181944
        }
      }
    },
    {
      "cell_type": "code",
      "source": [
        "X_train, X_train_3, y_train, y_train_3 = train_test_split(X_train, y_train, test_size=0.33, random_state=42, stratify=y_train)"
      ],
      "outputs": [],
      "execution_count": 17,
      "metadata": {
        "jupyter": {
          "source_hidden": false,
          "outputs_hidden": false
        },
        "nteract": {
          "transient": {
            "deleting": false
          }
        },
        "gather": {
          "logged": 1686315001179
        }
      }
    },
    {
      "cell_type": "code",
      "source": [
        "X_train, X_train_2, y_train, y_train_2 = train_test_split(X_train, y_train, test_size=0.5, random_state=42, stratify=y_train)"
      ],
      "outputs": [],
      "execution_count": 18,
      "metadata": {
        "jupyter": {
          "source_hidden": false,
          "outputs_hidden": false
        },
        "nteract": {
          "transient": {
            "deleting": false
          }
        },
        "gather": {
          "logged": 1686315094773
        }
      }
    },
    {
      "cell_type": "code",
      "source": [
        "np.save('X_train_4', X_train_4)\r\n",
        "np.save('y_train_4', y_train_4)"
      ],
      "outputs": [],
      "execution_count": 20,
      "metadata": {
        "jupyter": {
          "source_hidden": false,
          "outputs_hidden": false
        },
        "nteract": {
          "transient": {
            "deleting": false
          }
        },
        "gather": {
          "logged": 1686315449173
        }
      }
    },
    {
      "cell_type": "code",
      "source": [
        "np.save('X_train_3', X_train_3)\r\n",
        "np.save('y_train_3', y_train_3)"
      ],
      "outputs": [],
      "execution_count": 21,
      "metadata": {
        "jupyter": {
          "source_hidden": false,
          "outputs_hidden": false
        },
        "nteract": {
          "transient": {
            "deleting": false
          }
        },
        "gather": {
          "logged": 1686315632814
        }
      }
    },
    {
      "cell_type": "code",
      "source": [
        "np.save('X_train_2', X_train_2)\r\n",
        "np.save('y_train_2', y_train_2)"
      ],
      "outputs": [],
      "execution_count": 22,
      "metadata": {
        "jupyter": {
          "source_hidden": false,
          "outputs_hidden": false
        },
        "nteract": {
          "transient": {
            "deleting": false
          }
        },
        "gather": {
          "logged": 1686315863934
        }
      }
    },
    {
      "cell_type": "code",
      "source": [
        "np.save('X_train_1', X_train)\r\n",
        "np.save('y_train_1', y_train)"
      ],
      "outputs": [],
      "execution_count": 23,
      "metadata": {
        "jupyter": {
          "source_hidden": false,
          "outputs_hidden": false
        },
        "nteract": {
          "transient": {
            "deleting": false
          }
        },
        "gather": {
          "logged": 1686316063361
        }
      }
    },
    {
      "cell_type": "code",
      "source": [
        "%pip install tensorflow\r\n",
        "%pip install ipywidgets\r\n",
        "\r\n",
        "import tensorflow as tf\r\n",
        "from tensorflow import keras\r\n",
        "import ipywidgets"
      ],
      "outputs": [
        {
          "output_type": "stream",
          "name": "stdout",
          "text": "Requirement already satisfied: tensorflow in /anaconda/envs/azureml_py310_sdkv2/lib/python3.10/site-packages (2.12.0)\nRequirement already satisfied: gast<=0.4.0,>=0.2.1 in /anaconda/envs/azureml_py310_sdkv2/lib/python3.10/site-packages (from tensorflow) (0.4.0)\nRequirement already satisfied: libclang>=13.0.0 in /anaconda/envs/azureml_py310_sdkv2/lib/python3.10/site-packages (from tensorflow) (16.0.0)\nRequirement already satisfied: packaging in /anaconda/envs/azureml_py310_sdkv2/lib/python3.10/site-packages (from tensorflow) (21.3)\nRequirement already satisfied: absl-py>=1.0.0 in /anaconda/envs/azureml_py310_sdkv2/lib/python3.10/site-packages (from tensorflow) (1.4.0)\nRequirement already satisfied: h5py>=2.9.0 in /anaconda/envs/azureml_py310_sdkv2/lib/python3.10/site-packages (from tensorflow) (3.8.0)\nRequirement already satisfied: tensorflow-estimator<2.13,>=2.12.0 in /anaconda/envs/azureml_py310_sdkv2/lib/python3.10/site-packages (from tensorflow) (2.12.0)\nRequirement already satisfied: tensorflow-io-gcs-filesystem>=0.23.1 in /anaconda/envs/azureml_py310_sdkv2/lib/python3.10/site-packages (from tensorflow) (0.32.0)\nRequirement already satisfied: setuptools in /anaconda/envs/azureml_py310_sdkv2/lib/python3.10/site-packages (from tensorflow) (65.6.3)\nRequirement already satisfied: termcolor>=1.1.0 in /anaconda/envs/azureml_py310_sdkv2/lib/python3.10/site-packages (from tensorflow) (2.3.0)\nRequirement already satisfied: flatbuffers>=2.0 in /anaconda/envs/azureml_py310_sdkv2/lib/python3.10/site-packages (from tensorflow) (23.5.26)\nRequirement already satisfied: grpcio<2.0,>=1.24.3 in /anaconda/envs/azureml_py310_sdkv2/lib/python3.10/site-packages (from tensorflow) (1.54.2)\nRequirement already satisfied: numpy<1.24,>=1.22 in /anaconda/envs/azureml_py310_sdkv2/lib/python3.10/site-packages (from tensorflow) (1.23.5)\nRequirement already satisfied: astunparse>=1.6.0 in /anaconda/envs/azureml_py310_sdkv2/lib/python3.10/site-packages (from tensorflow) (1.6.3)\nRequirement already satisfied: protobuf!=4.21.0,!=4.21.1,!=4.21.2,!=4.21.3,!=4.21.4,!=4.21.5,<5.0.0dev,>=3.20.3 in /anaconda/envs/azureml_py310_sdkv2/lib/python3.10/site-packages (from tensorflow) (3.20.3)\nRequirement already satisfied: keras<2.13,>=2.12.0 in /anaconda/envs/azureml_py310_sdkv2/lib/python3.10/site-packages (from tensorflow) (2.12.0)\nRequirement already satisfied: opt-einsum>=2.3.2 in /anaconda/envs/azureml_py310_sdkv2/lib/python3.10/site-packages (from tensorflow) (3.3.0)\nRequirement already satisfied: tensorboard<2.13,>=2.12 in /anaconda/envs/azureml_py310_sdkv2/lib/python3.10/site-packages (from tensorflow) (2.12.3)\nRequirement already satisfied: jax>=0.3.15 in /anaconda/envs/azureml_py310_sdkv2/lib/python3.10/site-packages (from tensorflow) (0.4.12)\nRequirement already satisfied: typing-extensions>=3.6.6 in /anaconda/envs/azureml_py310_sdkv2/lib/python3.10/site-packages (from tensorflow) (4.5.0)\nRequirement already satisfied: wrapt<1.15,>=1.11.0 in /anaconda/envs/azureml_py310_sdkv2/lib/python3.10/site-packages (from tensorflow) (1.14.1)\nRequirement already satisfied: google-pasta>=0.1.1 in /anaconda/envs/azureml_py310_sdkv2/lib/python3.10/site-packages (from tensorflow) (0.2.0)\nRequirement already satisfied: six>=1.12.0 in /anaconda/envs/azureml_py310_sdkv2/lib/python3.10/site-packages (from tensorflow) (1.16.0)\nRequirement already satisfied: wheel<1.0,>=0.23.0 in /anaconda/envs/azureml_py310_sdkv2/lib/python3.10/site-packages (from astunparse>=1.6.0->tensorflow) (0.38.4)\nRequirement already satisfied: ml-dtypes>=0.1.0 in /anaconda/envs/azureml_py310_sdkv2/lib/python3.10/site-packages (from jax>=0.3.15->tensorflow) (0.2.0)\nRequirement already satisfied: scipy>=1.7 in /anaconda/envs/azureml_py310_sdkv2/lib/python3.10/site-packages (from jax>=0.3.15->tensorflow) (1.10.1)\nRequirement already satisfied: tensorboard-data-server<0.8.0,>=0.7.0 in /anaconda/envs/azureml_py310_sdkv2/lib/python3.10/site-packages (from tensorboard<2.13,>=2.12->tensorflow) (0.7.0)\nRequirement already satisfied: markdown>=2.6.8 in /anaconda/envs/azureml_py310_sdkv2/lib/python3.10/site-packages (from tensorboard<2.13,>=2.12->tensorflow) (3.4.3)\nRequirement already satisfied: requests<3,>=2.21.0 in /anaconda/envs/azureml_py310_sdkv2/lib/python3.10/site-packages (from tensorboard<2.13,>=2.12->tensorflow) (2.28.2)\nRequirement already satisfied: google-auth-oauthlib<1.1,>=0.5 in /anaconda/envs/azureml_py310_sdkv2/lib/python3.10/site-packages (from tensorboard<2.13,>=2.12->tensorflow) (1.0.0)\nRequirement already satisfied: google-auth<3,>=1.6.3 in /anaconda/envs/azureml_py310_sdkv2/lib/python3.10/site-packages (from tensorboard<2.13,>=2.12->tensorflow) (2.17.2)\nRequirement already satisfied: werkzeug>=1.0.1 in /anaconda/envs/azureml_py310_sdkv2/lib/python3.10/site-packages (from tensorboard<2.13,>=2.12->tensorflow) (2.2.3)\nRequirement already satisfied: pyparsing!=3.0.5,>=2.0.2 in /anaconda/envs/azureml_py310_sdkv2/lib/python3.10/site-packages (from packaging->tensorflow) (3.0.9)\nRequirement already satisfied: cachetools<6.0,>=2.0.0 in /anaconda/envs/azureml_py310_sdkv2/lib/python3.10/site-packages (from google-auth<3,>=1.6.3->tensorboard<2.13,>=2.12->tensorflow) (5.3.0)\nRequirement already satisfied: rsa<5,>=3.1.4 in /anaconda/envs/azureml_py310_sdkv2/lib/python3.10/site-packages (from google-auth<3,>=1.6.3->tensorboard<2.13,>=2.12->tensorflow) (4.9)\nRequirement already satisfied: pyasn1-modules>=0.2.1 in /anaconda/envs/azureml_py310_sdkv2/lib/python3.10/site-packages (from google-auth<3,>=1.6.3->tensorboard<2.13,>=2.12->tensorflow) (0.2.8)\nRequirement already satisfied: requests-oauthlib>=0.7.0 in /anaconda/envs/azureml_py310_sdkv2/lib/python3.10/site-packages (from google-auth-oauthlib<1.1,>=0.5->tensorboard<2.13,>=2.12->tensorflow) (1.3.1)\nRequirement already satisfied: idna<4,>=2.5 in /anaconda/envs/azureml_py310_sdkv2/lib/python3.10/site-packages (from requests<3,>=2.21.0->tensorboard<2.13,>=2.12->tensorflow) (3.4)\nRequirement already satisfied: urllib3<1.27,>=1.21.1 in /anaconda/envs/azureml_py310_sdkv2/lib/python3.10/site-packages (from requests<3,>=2.21.0->tensorboard<2.13,>=2.12->tensorflow) (1.26.15)\nRequirement already satisfied: certifi>=2017.4.17 in /anaconda/envs/azureml_py310_sdkv2/lib/python3.10/site-packages (from requests<3,>=2.21.0->tensorboard<2.13,>=2.12->tensorflow) (2022.12.7)\nRequirement already satisfied: charset-normalizer<4,>=2 in /anaconda/envs/azureml_py310_sdkv2/lib/python3.10/site-packages (from requests<3,>=2.21.0->tensorboard<2.13,>=2.12->tensorflow) (3.1.0)\nRequirement already satisfied: MarkupSafe>=2.1.1 in /anaconda/envs/azureml_py310_sdkv2/lib/python3.10/site-packages (from werkzeug>=1.0.1->tensorboard<2.13,>=2.12->tensorflow) (2.1.2)\nRequirement already satisfied: pyasn1<0.5.0,>=0.4.6 in /anaconda/envs/azureml_py310_sdkv2/lib/python3.10/site-packages (from pyasn1-modules>=0.2.1->google-auth<3,>=1.6.3->tensorboard<2.13,>=2.12->tensorflow) (0.4.8)\nRequirement already satisfied: oauthlib>=3.0.0 in /anaconda/envs/azureml_py310_sdkv2/lib/python3.10/site-packages (from requests-oauthlib>=0.7.0->google-auth-oauthlib<1.1,>=0.5->tensorboard<2.13,>=2.12->tensorflow) (3.2.2)\nNote: you may need to restart the kernel to use updated packages.\nCollecting ipywidgets\n  Downloading ipywidgets-8.0.6-py3-none-any.whl (138 kB)\n\u001b[2K     \u001b[90m━━━━━━━━━━━━━━━━━━━━━━━━━━━━━━━━━━━━━━━\u001b[0m \u001b[32m138.3/138.3 kB\u001b[0m \u001b[31m7.8 MB/s\u001b[0m eta \u001b[36m0:00:00\u001b[0m\n\u001b[?25hCollecting widgetsnbextension~=4.0.7\n  Downloading widgetsnbextension-4.0.7-py3-none-any.whl (2.1 MB)\n\u001b[2K     \u001b[90m━━━━━━━━━━━━━━━━━━━━━━━━━━━━━━━━━━━━━━━━\u001b[0m \u001b[32m2.1/2.1 MB\u001b[0m \u001b[31m58.6 MB/s\u001b[0m eta \u001b[36m0:00:00\u001b[0m:00:01\u001b[0m\n\u001b[?25hRequirement already satisfied: ipykernel>=4.5.1 in /anaconda/envs/azureml_py310_sdkv2/lib/python3.10/site-packages (from ipywidgets) (6.19.2)\nRequirement already satisfied: traitlets>=4.3.1 in /anaconda/envs/azureml_py310_sdkv2/lib/python3.10/site-packages (from ipywidgets) (5.7.1)\nCollecting jupyterlab-widgets~=3.0.7\n  Downloading jupyterlab_widgets-3.0.7-py3-none-any.whl (198 kB)\n\u001b[2K     \u001b[90m━━━━━━━━━━━━━━━━━━━━━━━━━━━━━━━━━━━━━━\u001b[0m \u001b[32m198.2/198.2 kB\u001b[0m \u001b[31m24.5 MB/s\u001b[0m eta \u001b[36m0:00:00\u001b[0m\n\u001b[?25hRequirement already satisfied: ipython>=6.1.0 in /anaconda/envs/azureml_py310_sdkv2/lib/python3.10/site-packages (from ipywidgets) (8.8.0)\nRequirement already satisfied: matplotlib-inline>=0.1 in /anaconda/envs/azureml_py310_sdkv2/lib/python3.10/site-packages (from ipykernel>=4.5.1->ipywidgets) (0.1.6)\nRequirement already satisfied: packaging in /anaconda/envs/azureml_py310_sdkv2/lib/python3.10/site-packages (from ipykernel>=4.5.1->ipywidgets) (21.3)\nRequirement already satisfied: comm>=0.1.1 in /anaconda/envs/azureml_py310_sdkv2/lib/python3.10/site-packages (from ipykernel>=4.5.1->ipywidgets) (0.1.2)\nRequirement already satisfied: pyzmq>=17 in /anaconda/envs/azureml_py310_sdkv2/lib/python3.10/site-packages (from ipykernel>=4.5.1->ipywidgets) (23.2.0)\nRequirement already satisfied: nest-asyncio in /anaconda/envs/azureml_py310_sdkv2/lib/python3.10/site-packages (from ipykernel>=4.5.1->ipywidgets) (1.5.6)\nRequirement already satisfied: tornado>=6.1 in /anaconda/envs/azureml_py310_sdkv2/lib/python3.10/site-packages (from ipykernel>=4.5.1->ipywidgets) (6.2)\nRequirement already satisfied: debugpy>=1.0 in /anaconda/envs/azureml_py310_sdkv2/lib/python3.10/site-packages (from ipykernel>=4.5.1->ipywidgets) (1.5.1)\nRequirement already satisfied: jupyter-client>=6.1.12 in /anaconda/envs/azureml_py310_sdkv2/lib/python3.10/site-packages (from ipykernel>=4.5.1->ipywidgets) (7.4.8)\nRequirement already satisfied: psutil in /anaconda/envs/azureml_py310_sdkv2/lib/python3.10/site-packages (from ipykernel>=4.5.1->ipywidgets) (5.9.0)\nRequirement already satisfied: stack-data in /anaconda/envs/azureml_py310_sdkv2/lib/python3.10/site-packages (from ipython>=6.1.0->ipywidgets) (0.2.0)\nRequirement already satisfied: jedi>=0.16 in /anaconda/envs/azureml_py310_sdkv2/lib/python3.10/site-packages (from ipython>=6.1.0->ipywidgets) (0.18.1)\nRequirement already satisfied: pickleshare in /anaconda/envs/azureml_py310_sdkv2/lib/python3.10/site-packages (from ipython>=6.1.0->ipywidgets) (0.7.5)\nRequirement already satisfied: backcall in /anaconda/envs/azureml_py310_sdkv2/lib/python3.10/site-packages (from ipython>=6.1.0->ipywidgets) (0.2.0)\nRequirement already satisfied: prompt-toolkit<3.1.0,>=3.0.11 in /anaconda/envs/azureml_py310_sdkv2/lib/python3.10/site-packages (from ipython>=6.1.0->ipywidgets) (3.0.36)\nRequirement already satisfied: decorator in /anaconda/envs/azureml_py310_sdkv2/lib/python3.10/site-packages (from ipython>=6.1.0->ipywidgets) (5.1.1)\nRequirement already satisfied: pygments>=2.4.0 in /anaconda/envs/azureml_py310_sdkv2/lib/python3.10/site-packages (from ipython>=6.1.0->ipywidgets) (2.11.2)\nRequirement already satisfied: pexpect>4.3 in /anaconda/envs/azureml_py310_sdkv2/lib/python3.10/site-packages (from ipython>=6.1.0->ipywidgets) (4.8.0)\nRequirement already satisfied: parso<0.9.0,>=0.8.0 in /anaconda/envs/azureml_py310_sdkv2/lib/python3.10/site-packages (from jedi>=0.16->ipython>=6.1.0->ipywidgets) (0.8.3)\nRequirement already satisfied: python-dateutil>=2.8.2 in /anaconda/envs/azureml_py310_sdkv2/lib/python3.10/site-packages (from jupyter-client>=6.1.12->ipykernel>=4.5.1->ipywidgets) (2.8.2)\nRequirement already satisfied: jupyter-core>=4.9.2 in /anaconda/envs/azureml_py310_sdkv2/lib/python3.10/site-packages (from jupyter-client>=6.1.12->ipykernel>=4.5.1->ipywidgets) (5.1.1)\nRequirement already satisfied: entrypoints in /anaconda/envs/azureml_py310_sdkv2/lib/python3.10/site-packages (from jupyter-client>=6.1.12->ipykernel>=4.5.1->ipywidgets) (0.4)\nRequirement already satisfied: ptyprocess>=0.5 in /anaconda/envs/azureml_py310_sdkv2/lib/python3.10/site-packages (from pexpect>4.3->ipython>=6.1.0->ipywidgets) (0.7.0)\nRequirement already satisfied: wcwidth in /anaconda/envs/azureml_py310_sdkv2/lib/python3.10/site-packages (from prompt-toolkit<3.1.0,>=3.0.11->ipython>=6.1.0->ipywidgets) (0.2.5)\nRequirement already satisfied: pyparsing!=3.0.5,>=2.0.2 in /anaconda/envs/azureml_py310_sdkv2/lib/python3.10/site-packages (from packaging->ipykernel>=4.5.1->ipywidgets) (3.0.9)\nRequirement already satisfied: asttokens in /anaconda/envs/azureml_py310_sdkv2/lib/python3.10/site-packages (from stack-data->ipython>=6.1.0->ipywidgets) (2.0.5)\nRequirement already satisfied: executing in /anaconda/envs/azureml_py310_sdkv2/lib/python3.10/site-packages (from stack-data->ipython>=6.1.0->ipywidgets) (0.8.3)\nRequirement already satisfied: pure-eval in /anaconda/envs/azureml_py310_sdkv2/lib/python3.10/site-packages (from stack-data->ipython>=6.1.0->ipywidgets) (0.2.2)\nRequirement already satisfied: platformdirs>=2.5 in /anaconda/envs/azureml_py310_sdkv2/lib/python3.10/site-packages (from jupyter-core>=4.9.2->jupyter-client>=6.1.12->ipykernel>=4.5.1->ipywidgets) (2.5.2)\nRequirement already satisfied: six>=1.5 in /anaconda/envs/azureml_py310_sdkv2/lib/python3.10/site-packages (from python-dateutil>=2.8.2->jupyter-client>=6.1.12->ipykernel>=4.5.1->ipywidgets) (1.16.0)\nInstalling collected packages: widgetsnbextension, jupyterlab-widgets, ipywidgets\nSuccessfully installed ipywidgets-8.0.6 jupyterlab-widgets-3.0.7 widgetsnbextension-4.0.7\nNote: you may need to restart the kernel to use updated packages.\n"
        }
      ],
      "execution_count": 26,
      "metadata": {
        "jupyter": {
          "source_hidden": false,
          "outputs_hidden": false
        },
        "nteract": {
          "transient": {
            "deleting": false
          }
        },
        "gather": {
          "logged": 1686317789856
        }
      }
    },
    {
      "cell_type": "code",
      "source": [
        "%pip install opencv-python\r\n",
        "\r\n",
        "import os\r\n",
        "import io\r\n",
        "import matplotlib.pyplot as plt\r\n",
        "import cv2\r\n",
        "import imageio\r\n",
        "#import medmnist\r\n",
        "#import ipywidgets\r\n",
        "import numpy as np\r\n",
        "import tensorflow as tf\r\n",
        "from tensorflow import keras\r\n",
        "from tensorflow.keras import layers\r\n",
        "from tensorflow.keras.callbacks import ModelCheckpoint\r\n",
        "import cv2 as cv\r\n",
        "import numpy as np\r\n",
        "import tensorflow as tf\r\n",
        "from tensorflow import keras\r\n",
        "from tensorflow.keras import layers\r\n",
        "from keras.layers import Dense\r\n",
        "from keras.regularizers import l2\r\n",
        "from tensorflow.keras.layers import BatchNormalization\r\n",
        "from tensorflow.keras.regularizers import l2\r\n",
        "from tensorflow.keras.utils import to_categorical\r\n",
        "from sklearn.metrics import confusion_matrix, classification_report\r\n",
        "from tensorflow.keras import layers, models\r\n",
        "# Setting seed for reproducibility\r\n",
        "SEED = 42\r\n",
        "os.environ.pop(\"TF_CUDNN_DETERMINISTIC\", None)\r\n",
        "np.random.seed(SEED)"
      ],
      "outputs": [
        {
          "output_type": "stream",
          "name": "stdout",
          "text": "Requirement already satisfied: opencv-python in /anaconda/envs/azureml_py310_sdkv2/lib/python3.10/site-packages (4.7.0.72)\nRequirement already satisfied: numpy>=1.21.2 in /anaconda/envs/azureml_py310_sdkv2/lib/python3.10/site-packages (from opencv-python) (1.23.5)\nNote: you may need to restart the kernel to use updated packages.\n"
        }
      ],
      "execution_count": 49,
      "metadata": {
        "jupyter": {
          "source_hidden": false,
          "outputs_hidden": false
        },
        "nteract": {
          "transient": {
            "deleting": false
          }
        },
        "gather": {
          "logged": 1686319313991
        }
      }
    },
    {
      "cell_type": "code",
      "source": [
        "# DATA\r\n",
        "DATASET_NAME = \"LAD2000\"\r\n",
        "BATCH_SIZE = 64\r\n",
        "PATH = '/content/gdrive/MyDrive/All extracted frames/mama data/ucf/'\r\n",
        "Extraction_Name = ''\r\n",
        "# AUTO = tf.data.AUTOTUNE\r\n",
        "INPUT_SHAPE = (75, 75, 15, 3)\r\n",
        "NUM_CLASSES = 13\r\n",
        "\r\n",
        "# OPTIMIZER\r\n",
        "LEARNING_RATE = 1e-4\r\n",
        "WEIGHT_DECAY = 1e-5\r\n",
        "\r\n",
        "# TRAINING\r\n",
        "EPOCHS = 10\r\n",
        "\r\n",
        "# TUBELET EMBEDDING\r\n",
        "PATCH_SIZE = (8, 8, 8)\r\n",
        "NUM_PATCHES = (INPUT_SHAPE[0] // PATCH_SIZE[0]) ** 2\r\n",
        "\r\n",
        "# ViViT ARCHITECTURE\r\n",
        "LAYER_NORM_EPS = 1e-6\r\n",
        "PROJECTION_DIM = 128\r\n",
        "NUM_HEADS = 8\r\n",
        "NUM_LAYERS = 8"
      ],
      "outputs": [],
      "execution_count": 30,
      "metadata": {
        "jupyter": {
          "source_hidden": false,
          "outputs_hidden": false
        },
        "nteract": {
          "transient": {
            "deleting": false
          }
        },
        "gather": {
          "logged": 1686317849904
        }
      }
    },
    {
      "cell_type": "code",
      "source": [
        "def stringtoint(y):\r\n",
        "    for i, val in enumerate(y):\r\n",
        "        if val == 'Abuse':\r\n",
        "            y[i] = 0\r\n",
        "        elif val == 'Arrest':\r\n",
        "            y[i] = 1\r\n",
        "        elif val == 'Arson':\r\n",
        "            y[i] = 2\r\n",
        "        elif val == 'Assault':\r\n",
        "            y[i] = 3\r\n",
        "        elif val == 'Burglary':\r\n",
        "            y[i] = 4\r\n",
        "        elif val == 'Explosion':\r\n",
        "            y[i] = 5\r\n",
        "        elif val == 'Fighting':\r\n",
        "            y[i] = 6\r\n",
        "        elif val == 'RoadAccidents':\r\n",
        "            y[i] = 7\r\n",
        "        elif val == 'Robbery':\r\n",
        "            y[i] = 8       \r\n",
        "        elif val == 'Shooting':\r\n",
        "            y[i] = 9\r\n",
        "        elif val == 'Shoplifting':\r\n",
        "            y[i] = 10\r\n",
        "        elif val == 'Stealing':\r\n",
        "            y[i] = 11\r\n",
        "        elif val == 'Vandalism':\r\n",
        "            y[i] = 12                                  \r\n",
        "    return y"
      ],
      "outputs": [],
      "execution_count": 31,
      "metadata": {
        "jupyter": {
          "source_hidden": false,
          "outputs_hidden": false
        },
        "nteract": {
          "transient": {
            "deleting": false
          }
        },
        "gather": {
          "logged": 1686317855378
        }
      }
    },
    {
      "cell_type": "code",
      "source": [
        "y_val = np.load(\"y_val.npy\")\r\n",
        "y_train = stringtoint(y_train)\r\n",
        "y_val = stringtoint(y_val)\r\n"
      ],
      "outputs": [],
      "execution_count": 33,
      "metadata": {
        "jupyter": {
          "source_hidden": false,
          "outputs_hidden": false
        },
        "nteract": {
          "transient": {
            "deleting": false
          }
        },
        "gather": {
          "logged": 1686317981005
        }
      }
    },
    {
      "cell_type": "code",
      "source": [
        "y_test = np.load(\"y_test.npy\")\r\n",
        "y_test = stringtoint(y_test)"
      ],
      "outputs": [],
      "execution_count": 34,
      "metadata": {
        "jupyter": {
          "source_hidden": false,
          "outputs_hidden": false
        },
        "nteract": {
          "transient": {
            "deleting": false
          }
        },
        "gather": {
          "logged": 1686318025816
        }
      }
    },
    {
      "cell_type": "code",
      "source": [
        "X_test = np.load(\"X_test.npy\")"
      ],
      "outputs": [],
      "execution_count": null,
      "metadata": {
        "jupyter": {
          "source_hidden": false,
          "outputs_hidden": false
        },
        "nteract": {
          "transient": {
            "deleting": false
          }
        }
      }
    },
    {
      "cell_type": "code",
      "source": [
        "X_val = np.load(\"X_val.npy\")\r\n",
        "print(X_train.shape, y_train.shape)\r\n",
        "print(X_test.shape, y_test.shape)\r\n",
        "print(X_val.shape, y_val.shape)"
      ],
      "outputs": [
        {
          "output_type": "stream",
          "name": "stdout",
          "text": "(12732, 15, 75, 75, 3) (12732,)\n(10859, 15, 75, 75, 3) (10859,)\n(10859, 15, 75, 75, 3) (10859,)\n"
        }
      ],
      "execution_count": 37,
      "metadata": {
        "jupyter": {
          "source_hidden": false,
          "outputs_hidden": false
        },
        "nteract": {
          "transient": {
            "deleting": false
          }
        },
        "gather": {
          "logged": 1686318837678
        }
      }
    },
    {
      "cell_type": "code",
      "source": [
        "y_train_2 = stringtoint(y_train_2)\r\n",
        "y_train_3 = stringtoint(y_train_3)\r\n",
        "y_train_4 = stringtoint(y_train_4)"
      ],
      "outputs": [],
      "execution_count": 38,
      "metadata": {
        "jupyter": {
          "source_hidden": false,
          "outputs_hidden": false
        },
        "nteract": {
          "transient": {
            "deleting": false
          }
        },
        "gather": {
          "logged": 1686318872720
        }
      }
    },
    {
      "cell_type": "code",
      "source": [
        "X_train_5 = X_train.copy()\r\n",
        "y_train_5 = y_train.copy()\r\n",
        "X_train = np.concatenate([X_train, X_train_2, X_train_3, X_train_4])\r\n",
        "y_train = np.concatenate([y_train, y_train_2, y_train_3, y_train_4])"
      ],
      "outputs": [],
      "execution_count": 39,
      "metadata": {
        "jupyter": {
          "source_hidden": false,
          "outputs_hidden": false
        },
        "nteract": {
          "transient": {
            "deleting": false
          }
        },
        "gather": {
          "logged": 1686318956586
        }
      }
    },
    {
      "cell_type": "code",
      "source": [
        "print(X_train.shape, y_train.shape)\r\n",
        "print(X_test.shape, y_test.shape)\r\n",
        "print(X_val.shape, y_val.shape)"
      ],
      "outputs": [
        {
          "output_type": "stream",
          "name": "stdout",
          "text": "(50675, 15, 75, 75, 3) (50675,)\n(10859, 15, 75, 75, 3) (10859,)\n(10859, 15, 75, 75, 3) (10859,)\n"
        }
      ],
      "execution_count": 40,
      "metadata": {
        "jupyter": {
          "source_hidden": false,
          "outputs_hidden": false
        },
        "nteract": {
          "transient": {
            "deleting": false
          }
        },
        "gather": {
          "logged": 1686318974043
        }
      }
    },
    {
      "cell_type": "code",
      "source": [
        "X_train = np.moveaxis(X_train, 1, 3)\r\n",
        "X_val = np.moveaxis(X_val, 1, 3)\r\n",
        "X_test = np.moveaxis(X_test, 1, 3)"
      ],
      "outputs": [],
      "execution_count": 41,
      "metadata": {
        "jupyter": {
          "source_hidden": false,
          "outputs_hidden": false
        },
        "nteract": {
          "transient": {
            "deleting": false
          }
        },
        "gather": {
          "logged": 1686319014775
        }
      }
    },
    {
      "cell_type": "code",
      "source": [
        "y_train = to_categorical(y_train, 13)\r\n",
        "y_val = to_categorical(y_val, 13)\r\n",
        "y_test = to_categorical(y_test, 13)"
      ],
      "outputs": [],
      "execution_count": 42,
      "metadata": {
        "jupyter": {
          "source_hidden": false,
          "outputs_hidden": false
        },
        "nteract": {
          "transient": {
            "deleting": false
          }
        },
        "gather": {
          "logged": 1686319030773
        }
      }
    },
    {
      "cell_type": "code",
      "source": [
        "y_train[50]\r\n"
      ],
      "outputs": [
        {
          "output_type": "execute_result",
          "execution_count": 43,
          "data": {
            "text/plain": "array([0., 0., 0., 0., 0., 1., 0., 0., 0., 0., 0., 0., 0.], dtype=float32)"
          },
          "metadata": {}
        }
      ],
      "execution_count": 43,
      "metadata": {
        "jupyter": {
          "source_hidden": false,
          "outputs_hidden": false
        },
        "nteract": {
          "transient": {
            "deleting": false
          }
        },
        "gather": {
          "logged": 1686319041077
        }
      }
    },
    {
      "cell_type": "code",
      "source": [
        "class TubeletEmbedding(layers.Layer):\r\n",
        "    def __init__(self, embed_dim, patch_size, **kwargs):\r\n",
        "        super().__init__(**kwargs)\r\n",
        "        self.projection = layers.Conv3D(\r\n",
        "            filters=embed_dim,\r\n",
        "            kernel_size=patch_size,\r\n",
        "            strides=patch_size,\r\n",
        "            padding=\"VALID\",\r\n",
        "        )\r\n",
        "        self.flatten = layers.Reshape(target_shape=(-1, embed_dim))\r\n",
        "\r\n",
        "    def call(self, videos):\r\n",
        "        projected_patches = self.projection(videos)\r\n",
        "        flattened_patches = self.flatten(projected_patches)\r\n",
        "        return flattened_patches"
      ],
      "outputs": [],
      "execution_count": 44,
      "metadata": {
        "jupyter": {
          "source_hidden": false,
          "outputs_hidden": false
        },
        "nteract": {
          "transient": {
            "deleting": false
          }
        },
        "gather": {
          "logged": 1686319050798
        }
      }
    },
    {
      "cell_type": "code",
      "source": [
        "class PositionalEncoder(layers.Layer):\r\n",
        "    def __init__(self, embed_dim, **kwargs):\r\n",
        "        super().__init__(**kwargs)\r\n",
        "        self.embed_dim = embed_dim\r\n",
        "\r\n",
        "    def build(self, input_shape):\r\n",
        "        _, num_tokens, _ = input_shape\r\n",
        "        self.position_embedding = layers.Embedding(\r\n",
        "            input_dim=num_tokens, output_dim=self.embed_dim\r\n",
        "        )\r\n",
        "        self.positions = tf.range(start=0, limit=num_tokens, delta=1)\r\n",
        "\r\n",
        "    def call(self, encoded_tokens):\r\n",
        "        # Encode the positions and add it to the encoded tokens\r\n",
        "        encoded_positions = self.position_embedding(self.positions)\r\n",
        "        encoded_tokens = encoded_tokens + encoded_positions\r\n",
        "        return encoded_tokens"
      ],
      "outputs": [],
      "execution_count": 45,
      "metadata": {
        "jupyter": {
          "source_hidden": false,
          "outputs_hidden": false
        },
        "nteract": {
          "transient": {
            "deleting": false
          }
        },
        "gather": {
          "logged": 1686319054252
        }
      }
    },
    {
      "cell_type": "code",
      "source": [
        "from keras.callbacks import ReduceLROnPlateau\r\n",
        "checkpoint_filepath = './checkpoint/'\r\n",
        "checkpoint = model_checkpoint_callback = tf.keras.callbacks.ModelCheckpoint(\r\n",
        "                                filepath=checkpoint_filepath,\r\n",
        "                                save_weights_only=True,\r\n",
        "                                monitor='val_loss',\r\n",
        "                                mode='min',\r\n",
        "                                save_best_only=True\r\n",
        "                                )\r\n",
        "\r\n",
        "earlystopping = tf.keras.callbacks.EarlyStopping(\r\n",
        "                     monitor=\"val_loss\",\r\n",
        "                     min_delta=0.025,\r\n",
        "                     patience=5,\r\n",
        "                     verbose=0,\r\n",
        "                     mode=\"min\",\r\n",
        "                     baseline=None,\r\n",
        "                     restore_best_weights=False\r\n",
        "                 )\r\n",
        "\r\n",
        "values = np.linspace(0.00001,LEARNING_RATE,14)[::-1].astype(np.float32)\r\n",
        "boundaries = np.linspace(5, 45,13)[:values.shape[0]-1].astype(np.int32)\r\n",
        "\r\n",
        "scheduler = keras.optimizers.schedules.PiecewiseConstantDecay(\r\n",
        "    list(boundaries), list(values))\r\n",
        "\r\n",
        "lr_scheduler = tf.keras.callbacks.LearningRateScheduler(scheduler,verbose=1)\r\n",
        "\r\n",
        "reduce_lr = ReduceLROnPlateau(monitor='val_loss', factor=0.5,\r\n",
        "                              patience=3, min_lr=0.000001)\r\n",
        "\r\n",
        "callbacks = [checkpoint, lr_scheduler, reduce_lr]"
      ],
      "outputs": [],
      "execution_count": 46,
      "metadata": {
        "jupyter": {
          "source_hidden": false,
          "outputs_hidden": false
        },
        "nteract": {
          "transient": {
            "deleting": false
          }
        },
        "gather": {
          "logged": 1686319127022
        }
      }
    },
    {
      "cell_type": "code",
      "source": [
        "def create_vivit_classifier(\r\n",
        "    tubelet_embedder,\r\n",
        "    positional_encoder,\r\n",
        "    input_shape=INPUT_SHAPE,\r\n",
        "    transformer_layers=NUM_LAYERS,\r\n",
        "    num_heads=NUM_HEADS,\r\n",
        "    embed_dim=PROJECTION_DIM,\r\n",
        "    layer_norm_eps=LAYER_NORM_EPS,\r\n",
        "    num_classes=NUM_CLASSES,\r\n",
        "):\r\n",
        "    input_shape = (75, 75, 15, 3)\r\n",
        "    # Get the input layer\r\n",
        "    inputs = layers.Input(shape=input_shape)\r\n",
        "    # Create patches.\r\n",
        "    patches = tubelet_embedder(inputs)\r\n",
        "    # Encode patches.\r\n",
        "    encoded_patches = positional_encoder(patches)\r\n",
        "\r\n",
        "    # Create multiple layers of the Transformer block.\r\n",
        "    for _ in range(transformer_layers):\r\n",
        "        # Layer normalization and MHSA\r\n",
        "        x1 = layers.LayerNormalization(epsilon=1e-6)(encoded_patches)\r\n",
        "        attention_output = layers.MultiHeadAttention(\r\n",
        "            num_heads=num_heads, key_dim=embed_dim // num_heads, dropout=0.1\r\n",
        "        )(x1, x1)\r\n",
        "\r\n",
        "        # Skip connection\r\n",
        "        x2 = layers.Add()([attention_output, encoded_patches])\r\n",
        "\r\n",
        "        # Layer Normalization and MLP\r\n",
        "        x3 = layers.LayerNormalization(epsilon=1e-6)(x2)\r\n",
        "        x3 = keras.Sequential(\r\n",
        "            [\r\n",
        "                layers.Dense(units=embed_dim * 4, activation=tf.nn.gelu),\r\n",
        "                layers.Dense(units=embed_dim, activation=tf.nn.gelu),\r\n",
        "            ]\r\n",
        "        )(x3)\r\n",
        "\r\n",
        "        # Skip connection\r\n",
        "        encoded_patches = layers.Add()([x3, x2])\r\n",
        "\r\n",
        "    # Layer normalization and Global average pooling.\r\n",
        "    representation = layers.LayerNormalization(epsilon=layer_norm_eps)(encoded_patches)\r\n",
        "    representation = layers.GlobalAvgPool1D()(representation)\r\n",
        "\r\n",
        "    # Classify outputs.\r\n",
        "    outputs = layers.Dense(units=num_classes, activation=\"softmax\")(representation)\r\n",
        "\r\n",
        "    # Create the Keras model.\r\n",
        "    model = keras.Model(inputs=inputs, outputs=outputs)\r\n",
        "    return model"
      ],
      "outputs": [],
      "execution_count": 47,
      "metadata": {
        "jupyter": {
          "source_hidden": false,
          "outputs_hidden": false
        },
        "nteract": {
          "transient": {
            "deleting": false
          }
        },
        "gather": {
          "logged": 1686319144090
        }
      }
    },
    {
      "cell_type": "code",
      "source": [
        "model = create_vivit_classifier(\r\n",
        "            tubelet_embedder=TubeletEmbedding(\r\n",
        "                embed_dim=PROJECTION_DIM, patch_size=PATCH_SIZE\r\n",
        "            ),\r\n",
        "            positional_encoder=PositionalEncoder(embed_dim=PROJECTION_DIM),\r\n",
        "        )"
      ],
      "outputs": [],
      "execution_count": 50,
      "metadata": {
        "jupyter": {
          "source_hidden": false,
          "outputs_hidden": false
        },
        "nteract": {
          "transient": {
            "deleting": false
          }
        },
        "gather": {
          "logged": 1686319335734
        }
      }
    },
    {
      "cell_type": "code",
      "source": [
        "model.summary()"
      ],
      "outputs": [
        {
          "output_type": "stream",
          "name": "stdout",
          "text": "Model: \"model_1\"\n__________________________________________________________________________________________________\n Layer (type)                   Output Shape         Param #     Connected to                     \n==================================================================================================\n input_2 (InputLayer)           [(None, 75, 75, 15,  0           []                               \n                                 3)]                                                              \n                                                                                                  \n tubelet_embedding_1 (TubeletEm  (None, 81, 128)     196736      ['input_2[0][0]']                \n bedding)                                                                                         \n                                                                                                  \n positional_encoder_1 (Position  (None, 81, 128)     10368       ['tubelet_embedding_1[0][0]']    \n alEncoder)                                                                                       \n                                                                                                  \n layer_normalization_17 (LayerN  (None, 81, 128)     256         ['positional_encoder_1[0][0]']   \n ormalization)                                                                                    \n                                                                                                  \n multi_head_attention_8 (MultiH  (None, 81, 128)     66048       ['layer_normalization_17[0][0]', \n eadAttention)                                                    'layer_normalization_17[0][0]'] \n                                                                                                  \n add_16 (Add)                   (None, 81, 128)      0           ['multi_head_attention_8[0][0]', \n                                                                  'positional_encoder_1[0][0]']   \n                                                                                                  \n layer_normalization_18 (LayerN  (None, 81, 128)     256         ['add_16[0][0]']                 \n ormalization)                                                                                    \n                                                                                                  \n sequential_8 (Sequential)      (None, 81, 128)      131712      ['layer_normalization_18[0][0]'] \n                                                                                                  \n add_17 (Add)                   (None, 81, 128)      0           ['sequential_8[0][0]',           \n                                                                  'add_16[0][0]']                 \n                                                                                                  \n layer_normalization_19 (LayerN  (None, 81, 128)     256         ['add_17[0][0]']                 \n ormalization)                                                                                    \n                                                                                                  \n multi_head_attention_9 (MultiH  (None, 81, 128)     66048       ['layer_normalization_19[0][0]', \n eadAttention)                                                    'layer_normalization_19[0][0]'] \n                                                                                                  \n add_18 (Add)                   (None, 81, 128)      0           ['multi_head_attention_9[0][0]', \n                                                                  'add_17[0][0]']                 \n                                                                                                  \n layer_normalization_20 (LayerN  (None, 81, 128)     256         ['add_18[0][0]']                 \n ormalization)                                                                                    \n                                                                                                  \n sequential_9 (Sequential)      (None, 81, 128)      131712      ['layer_normalization_20[0][0]'] \n                                                                                                  \n add_19 (Add)                   (None, 81, 128)      0           ['sequential_9[0][0]',           \n                                                                  'add_18[0][0]']                 \n                                                                                                  \n layer_normalization_21 (LayerN  (None, 81, 128)     256         ['add_19[0][0]']                 \n ormalization)                                                                                    \n                                                                                                  \n multi_head_attention_10 (Multi  (None, 81, 128)     66048       ['layer_normalization_21[0][0]', \n HeadAttention)                                                   'layer_normalization_21[0][0]'] \n                                                                                                  \n add_20 (Add)                   (None, 81, 128)      0           ['multi_head_attention_10[0][0]',\n                                                                  'add_19[0][0]']                 \n                                                                                                  \n layer_normalization_22 (LayerN  (None, 81, 128)     256         ['add_20[0][0]']                 \n ormalization)                                                                                    \n                                                                                                  \n sequential_10 (Sequential)     (None, 81, 128)      131712      ['layer_normalization_22[0][0]'] \n                                                                                                  \n add_21 (Add)                   (None, 81, 128)      0           ['sequential_10[0][0]',          \n                                                                  'add_20[0][0]']                 \n                                                                                                  \n layer_normalization_23 (LayerN  (None, 81, 128)     256         ['add_21[0][0]']                 \n ormalization)                                                                                    \n                                                                                                  \n multi_head_attention_11 (Multi  (None, 81, 128)     66048       ['layer_normalization_23[0][0]', \n HeadAttention)                                                   'layer_normalization_23[0][0]'] \n                                                                                                  \n add_22 (Add)                   (None, 81, 128)      0           ['multi_head_attention_11[0][0]',\n                                                                  'add_21[0][0]']                 \n                                                                                                  \n layer_normalization_24 (LayerN  (None, 81, 128)     256         ['add_22[0][0]']                 \n ormalization)                                                                                    \n                                                                                                  \n sequential_11 (Sequential)     (None, 81, 128)      131712      ['layer_normalization_24[0][0]'] \n                                                                                                  \n add_23 (Add)                   (None, 81, 128)      0           ['sequential_11[0][0]',          \n                                                                  'add_22[0][0]']                 \n                                                                                                  \n layer_normalization_25 (LayerN  (None, 81, 128)     256         ['add_23[0][0]']                 \n ormalization)                                                                                    \n                                                                                                  \n multi_head_attention_12 (Multi  (None, 81, 128)     66048       ['layer_normalization_25[0][0]', \n HeadAttention)                                                   'layer_normalization_25[0][0]'] \n                                                                                                  \n add_24 (Add)                   (None, 81, 128)      0           ['multi_head_attention_12[0][0]',\n                                                                  'add_23[0][0]']                 \n                                                                                                  \n layer_normalization_26 (LayerN  (None, 81, 128)     256         ['add_24[0][0]']                 \n ormalization)                                                                                    \n                                                                                                  \n sequential_12 (Sequential)     (None, 81, 128)      131712      ['layer_normalization_26[0][0]'] \n                                                                                                  \n add_25 (Add)                   (None, 81, 128)      0           ['sequential_12[0][0]',          \n                                                                  'add_24[0][0]']                 \n                                                                                                  \n layer_normalization_27 (LayerN  (None, 81, 128)     256         ['add_25[0][0]']                 \n ormalization)                                                                                    \n                                                                                                  \n multi_head_attention_13 (Multi  (None, 81, 128)     66048       ['layer_normalization_27[0][0]', \n HeadAttention)                                                   'layer_normalization_27[0][0]'] \n                                                                                                  \n add_26 (Add)                   (None, 81, 128)      0           ['multi_head_attention_13[0][0]',\n                                                                  'add_25[0][0]']                 \n                                                                                                  \n layer_normalization_28 (LayerN  (None, 81, 128)     256         ['add_26[0][0]']                 \n ormalization)                                                                                    \n                                                                                                  \n sequential_13 (Sequential)     (None, 81, 128)      131712      ['layer_normalization_28[0][0]'] \n                                                                                                  \n add_27 (Add)                   (None, 81, 128)      0           ['sequential_13[0][0]',          \n                                                                  'add_26[0][0]']                 \n                                                                                                  \n layer_normalization_29 (LayerN  (None, 81, 128)     256         ['add_27[0][0]']                 \n ormalization)                                                                                    \n                                                                                                  \n multi_head_attention_14 (Multi  (None, 81, 128)     66048       ['layer_normalization_29[0][0]', \n HeadAttention)                                                   'layer_normalization_29[0][0]'] \n                                                                                                  \n add_28 (Add)                   (None, 81, 128)      0           ['multi_head_attention_14[0][0]',\n                                                                  'add_27[0][0]']                 \n                                                                                                  \n layer_normalization_30 (LayerN  (None, 81, 128)     256         ['add_28[0][0]']                 \n ormalization)                                                                                    \n                                                                                                  \n sequential_14 (Sequential)     (None, 81, 128)      131712      ['layer_normalization_30[0][0]'] \n                                                                                                  \n add_29 (Add)                   (None, 81, 128)      0           ['sequential_14[0][0]',          \n                                                                  'add_28[0][0]']                 \n                                                                                                  \n layer_normalization_31 (LayerN  (None, 81, 128)     256         ['add_29[0][0]']                 \n ormalization)                                                                                    \n                                                                                                  \n multi_head_attention_15 (Multi  (None, 81, 128)     66048       ['layer_normalization_31[0][0]', \n HeadAttention)                                                   'layer_normalization_31[0][0]'] \n                                                                                                  \n add_30 (Add)                   (None, 81, 128)      0           ['multi_head_attention_15[0][0]',\n                                                                  'add_29[0][0]']                 \n                                                                                                  \n layer_normalization_32 (LayerN  (None, 81, 128)     256         ['add_30[0][0]']                 \n ormalization)                                                                                    \n                                                                                                  \n sequential_15 (Sequential)     (None, 81, 128)      131712      ['layer_normalization_32[0][0]'] \n                                                                                                  \n add_31 (Add)                   (None, 81, 128)      0           ['sequential_15[0][0]',          \n                                                                  'add_30[0][0]']                 \n                                                                                                  \n layer_normalization_33 (LayerN  (None, 81, 128)     256         ['add_31[0][0]']                 \n ormalization)                                                                                    \n                                                                                                  \n global_average_pooling1d_1 (Gl  (None, 128)         0           ['layer_normalization_33[0][0]'] \n obalAveragePooling1D)                                                                            \n                                                                                                  \n dense_33 (Dense)               (None, 13)           1677        ['global_average_pooling1d_1[0][0\n                                                                 ]']                              \n                                                                                                  \n==================================================================================================\nTotal params: 1,795,213\nTrainable params: 1,795,213\nNon-trainable params: 0\n__________________________________________________________________________________________________\n"
        }
      ],
      "execution_count": 51,
      "metadata": {
        "jupyter": {
          "source_hidden": false,
          "outputs_hidden": false
        },
        "nteract": {
          "transient": {
            "deleting": false
          }
        },
        "gather": {
          "logged": 1686319346164
        }
      }
    },
    {
      "cell_type": "code",
      "source": [
        "def run_experiment():\r\n",
        "    # mirrored_strategy = tf.distribute.MirroredStrategy(devices= [\"/gpu:0\"],cross_device_ops=tf.distribute.HierarchicalCopyAllReduce())\r\n",
        "    # with mirrored_strategy.scope():\r\n",
        "    # Initialize model\r\n",
        "  model = create_vivit_classifier(\r\n",
        "      tubelet_embedder=TubeletEmbedding(\r\n",
        "          embed_dim=PROJECTION_DIM, patch_size=PATCH_SIZE\r\n",
        "      ),\r\n",
        "      positional_encoder=PositionalEncoder(embed_dim=PROJECTION_DIM),\r\n",
        "  )\r\n",
        "\r\n",
        "  # Compile the model with the optimizer, loss function\r\n",
        "  # and the metrics.\r\n",
        "  opt = keras.optimizers.Adam(learning_rate=LEARNING_RATE)\r\n",
        "  loss_fn = keras.losses.CategoricalCrossentropy(from_logits=True)\r\n",
        "  model.compile(loss=\"categorical_crossentropy\",optimizer=opt,metrics=['accuracy'])\r\n",
        "  #model.load_weights(checkpoint_filepath)\r\n",
        "  # Train the model.\r\n",
        "  history = model.fit(X_train, y_train, epochs=10, validation_data=(X_val, y_val), callbacks=callbacks)\r\n",
        "\r\n",
        "  return model, history\r\n",
        "\r\n",
        "\r\n",
        "model, history = run_experiment()"
      ],
      "outputs": [
        {
          "output_type": "stream",
          "name": "stderr",
          "text": "2023-06-09 14:03:45.896587: W tensorflow/tsl/framework/cpu_allocator_impl.cc:83] Allocation of 51308437500 exceeds 10% of free system memory.\n2023-06-09 14:10:51.092465: W tensorflow/tsl/framework/cpu_allocator_impl.cc:83] Allocation of 10994737500 exceeds 10% of free system memory.\n"
        },
        {
          "output_type": "stream",
          "name": "stdout",
          "text": "\nEpoch 1: LearningRateScheduler setting learning rate to 9.999999747378752e-05.\nEpoch 1/10\n1584/1584 [==============================] - 439s 269ms/step - loss: 1.6670 - accuracy: 0.4493 - val_loss: 0.5058 - val_accuracy: 0.8492 - lr: 1.0000e-04\b\b\b\b\b\b\b\b\b\b\b\b\b\b\b\b\b\b\b\b\b\b\b\b\b\b\b\b\b\n\nEpoch 2: LearningRateScheduler setting learning rate to 9.999999747378752e-05.\nEpoch 2/10\n1584/1584 [==============================] - 401s 253ms/step - loss: 0.2259 - accuracy: 0.9348 - val_loss: 0.0827 - val_accuracy: 0.9785 - lr: 1.0000e-04\b\b\b\b\b\b\b\b\b\b\b\b\b\b\b\b\b\b\b\b\b\b\b\n\nEpoch 3: LearningRateScheduler setting learning rate to 9.999999747378752e-05.\nEpoch 3/10\n1584/1584 [==============================] - 404s 255ms/step - loss: 0.0774 - accuracy: 0.9769 - val_loss: 0.0840 - val_accuracy: 0.9726 - lr: 1.0000e-04\b\b\b\b\b\b\b\b\b\b\b\b\b\b\b\b\b\b\b\b\b\b\b\n\nEpoch 4: LearningRateScheduler setting learning rate to 9.999999747378752e-05.\nEpoch 4/10\n1584/1584 [==============================] - 404s 255ms/step - loss: 0.0446 - accuracy: 0.9873 - val_loss: 0.0198 - val_accuracy: 0.9951 - lr: 1.0000e-04\b\b\b\b\b\b\b\b\b\b\b\b\b\b\b\b\b\b\b\b\b\b\b\n\nEpoch 5: LearningRateScheduler setting learning rate to 9.999999747378752e-05.\nEpoch 5/10\n1584/1584 [==============================] - 403s 254ms/step - loss: 0.0419 - accuracy: 0.9874 - val_loss: 0.0385 - val_accuracy: 0.9887 - lr: 1.0000e-04\b\b\b\b\b\b\b\b\b\b\b\b\b\b\b\b\b\b\b\b\b\b\b\n\nEpoch 6: LearningRateScheduler setting learning rate to 9.999999747378752e-05.\nEpoch 6/10\n1584/1584 [==============================] - 410s 259ms/step - loss: 0.0238 - accuracy: 0.9928 - val_loss: 0.0136 - val_accuracy: 0.9960 - lr: 1.0000e-04\b\b\b\b\b\b\b\b\b\b\b\b\b\b\b\b\b\b\b\b\b\b\b\n\nEpoch 7: LearningRateScheduler setting learning rate to 9.307692380389199e-05.\nEpoch 7/10\n1584/1584 [==============================] - 408s 257ms/step - loss: 0.0174 - accuracy: 0.9949 - val_loss: 0.0075 - val_accuracy: 0.9984 - lr: 9.3077e-05\b\b\b\b\b\b\b\b\b\b\b\b\b\b\b\b\b\b\b\b\b\b\b\n\nEpoch 8: LearningRateScheduler setting learning rate to 9.307692380389199e-05.\nEpoch 8/10\n1584/1584 [==============================] - 416s 263ms/step - loss: 0.0201 - accuracy: 0.9945 - val_loss: 0.0065 - val_accuracy: 0.9979 - lr: 9.3077e-05\b\b\b\b\b\b\b\b\b\b\b\b\b\b\b\b\b\b\b\b\b\b\b\b\b\b\b\b\b\b\b\n\nEpoch 9: LearningRateScheduler setting learning rate to 9.307692380389199e-05.\nEpoch 9/10\n1584/1584 [==============================] - 404s 255ms/step - loss: 0.0164 - accuracy: 0.9955 - val_loss: 0.0139 - val_accuracy: 0.9957 - lr: 9.3077e-05\b\b\b\b\b\b\b\b\b\b\b\b\b\b\b\b\b\b\b\b\b\b\b\b\b\b\b\b\b\b\b\n\nEpoch 10: LearningRateScheduler setting learning rate to 8.615384285803884e-05.\nEpoch 10/10\n1584/1584 [==============================] - 396s 250ms/step - loss: 0.0142 - accuracy: 0.9960 - val_loss: 0.0049 - val_accuracy: 0.9983 - lr: 8.6154e-05\b\b\b\b\b\b\b\b\b\b\b\b\b\b\b\b\b\b\b\b\b\b\b\b\b\b\b\b\b\b\b\n"
        }
      ],
      "execution_count": 52,
      "metadata": {
        "jupyter": {
          "source_hidden": false,
          "outputs_hidden": false
        },
        "nteract": {
          "transient": {
            "deleting": false
          }
        },
        "gather": {
          "logged": 1686323534238
        }
      }
    },
    {
      "cell_type": "code",
      "source": [
        "model.compile(loss=\"categorical_crossentropy\",optimizer=keras.optimizers.Adam(learning_rate=LEARNING_RATE),metrics=['accuracy'])"
      ],
      "outputs": [],
      "execution_count": null,
      "metadata": {
        "jupyter": {
          "source_hidden": false,
          "outputs_hidden": false
        },
        "nteract": {
          "transient": {
            "deleting": false
          }
        }
      }
    },
    {
      "cell_type": "code",
      "source": [
        "model.load_weights(checkpoint_filepath)"
      ],
      "outputs": [],
      "execution_count": null,
      "metadata": {
        "jupyter": {
          "source_hidden": false,
          "outputs_hidden": false
        },
        "nteract": {
          "transient": {
            "deleting": false
          }
        }
      }
    },
    {
      "cell_type": "code",
      "source": [
        "model.evaluate(X_test, y_test)"
      ],
      "outputs": [
        {
          "output_type": "stream",
          "name": "stderr",
          "text": "2023-06-09 15:13:00.134951: W tensorflow/tsl/framework/cpu_allocator_impl.cc:83] Allocation of 10994737500 exceeds 10% of free system memory.\n"
        },
        {
          "output_type": "stream",
          "name": "stdout",
          "text": "340/340 [==============================] - 31s 92ms/step - loss: 0.0054 - accuracy: 0.9983\b\b\b\b\b\b\b\b\b\b\b\b\b\b\b\b\b\b\b\b\b\b\b\b\b\b\b\b\b\b\b\b\b\b\b\b\b\b\b\b\b\b\b\b\b\b\b\b\b\b\b\b\b\b\b\b\b\b\b\b\b\b\b\b\b\b\b\b\b\b\b\b\b\b\b\b\b\b\b\b\b\b\b\b\b\b\b\b\n"
        },
        {
          "output_type": "execute_result",
          "execution_count": 53,
          "data": {
            "text/plain": "[0.005383772309869528, 0.9982503056526184]"
          },
          "metadata": {}
        }
      ],
      "execution_count": 53,
      "metadata": {
        "jupyter": {
          "source_hidden": false,
          "outputs_hidden": false
        },
        "nteract": {
          "transient": {
            "deleting": false
          }
        },
        "gather": {
          "logged": 1686323615580
        }
      }
    },
    {
      "cell_type": "code",
      "source": [
        "%pip install plotly\r\n",
        "\r\n",
        "import plotly.figure_factory as ff\r\n",
        "from sklearn.metrics import f1_score\r\n",
        "\r\n",
        "def eval_model(model,x,y):\r\n",
        "#     print(model.evaluate(x.reshape(x.shape+(1,)),y_encoded))\r\n",
        "    y_pred = model.predict(x)\r\n",
        "    y_pred = np.argmax(y_pred,axis = -1)\r\n",
        "    y_numbers = np.argmax(y,axis=-1)\r\n",
        "   # f1_score(y_test, y_pred, average='micro')\r\n",
        "    #print(f1_score)\r\n",
        "    target_names = [\r\n",
        "    'Abuse',\r\n",
        "    'Arrest',\r\n",
        "    'Arson',\r\n",
        "    'Assault',\r\n",
        "    'Burglary',\r\n",
        "    'Explosion',\r\n",
        "    'Fighting',\r\n",
        "    'RoadAccidents',\r\n",
        "    'Robbery',\r\n",
        "    'Shooting',\r\n",
        "    'Shoplifting',\r\n",
        "    'Stealing',\r\n",
        "    'Vandalism'\r\n",
        "]\r\n",
        "    labels = target_names\r\n",
        "    tick_marks = np.arange(len(labels))\r\n",
        "\r\n",
        "    print(classification_report(y_numbers, y_pred, target_names=target_names))\r\n",
        "    \r\n",
        "    z = tf.math.confusion_matrix(y_numbers,y_pred).numpy().astype(np.int64)\r\n",
        "    z = np.around(z.astype('float') / z.sum(axis=1)[:, np.newaxis], decimals=3)\r\n",
        "\r\n",
        "    x = target_names\r\n",
        "    y = target_names\r\n",
        "\r\n",
        "    # change each element of z to type string for annotations\r\n",
        "    z_text = [[str(y) for y in x] for x in z]\r\n",
        "\r\n",
        "    # set up figure \r\n",
        "    fig = ff.create_annotated_heatmap(z, x=x, y=y, annotation_text=z_text, colorscale='Viridis')\r\n",
        "\r\n",
        "    # add title\r\n",
        "    fig.update_layout(title_text='<i><b>Confusion matrix</b></i>',\r\n",
        "                    #xaxis = dict(title='x'),\r\n",
        "                    #yaxis = dict(title='x')\r\n",
        "                    )\r\n",
        "\r\n",
        "    # add custom xaxis title\r\n",
        "    fig.add_annotation(dict(font=dict(color=\"black\",size=14),\r\n",
        "                            x=0.5,\r\n",
        "                            y=-0.15,\r\n",
        "                            showarrow=False,\r\n",
        "                            text=\"Predicted value\",\r\n",
        "                            xref=\"paper\",\r\n",
        "                            yref=\"paper\"))\r\n",
        "\r\n",
        "    # add custom yaxis title\r\n",
        "    fig.add_annotation(dict(font=dict(color=\"black\",size=14),\r\n",
        "                            x=-0.35,\r\n",
        "                            y=0.5,\r\n",
        "                            showarrow=False,\r\n",
        "                            text=\"Real value\",\r\n",
        "                            textangle=-90,\r\n",
        "                            xref=\"paper\",\r\n",
        "                            yref=\"paper\"))\r\n",
        "\r\n",
        "    # adjust margins to make room for yaxis title\r\n",
        "    fig.update_layout(margin=dict(t=50, l=200))\r\n",
        "\r\n",
        "    # add colorbar\r\n",
        "    fig['data'][0]['showscale'] = True\r\n",
        "    fig.show()"
      ],
      "outputs": [
        {
          "output_type": "stream",
          "name": "stdout",
          "text": "Collecting plotly\n  Downloading plotly-5.15.0-py2.py3-none-any.whl (15.5 MB)\n\u001b[2K     \u001b[90m━━━━━━━━━━━━━━━━━━━━━━━━━━━━━━━━━━━━━━━━\u001b[0m \u001b[32m15.5/15.5 MB\u001b[0m \u001b[31m93.5 MB/s\u001b[0m eta \u001b[36m0:00:00\u001b[0m00:01\u001b[0m00:01\u001b[0m\n\u001b[?25hRequirement already satisfied: packaging in /anaconda/envs/azureml_py310_sdkv2/lib/python3.10/site-packages (from plotly) (21.3)\nCollecting tenacity>=6.2.0\n  Downloading tenacity-8.2.2-py3-none-any.whl (24 kB)\nRequirement already satisfied: pyparsing!=3.0.5,>=2.0.2 in /anaconda/envs/azureml_py310_sdkv2/lib/python3.10/site-packages (from packaging->plotly) (3.0.9)\nInstalling collected packages: tenacity, plotly\nSuccessfully installed plotly-5.15.0 tenacity-8.2.2\nNote: you may need to restart the kernel to use updated packages.\n"
        }
      ],
      "execution_count": 55,
      "metadata": {
        "jupyter": {
          "source_hidden": false,
          "outputs_hidden": false
        },
        "nteract": {
          "transient": {
            "deleting": false
          }
        },
        "gather": {
          "logged": 1686323807091
        }
      }
    },
    {
      "cell_type": "code",
      "source": [
        "%pip install nbformat\r\n",
        "\r\n",
        "eval_model(model,X_test,y_test)"
      ],
      "outputs": [
        {
          "output_type": "stream",
          "name": "stdout",
          "text": "Collecting nbformat\n  Downloading nbformat-5.9.0-py3-none-any.whl (77 kB)\n\u001b[2K     \u001b[90m━━━━━━━━━━━━━━━━━━━━━━━━━━━━━━━━━━━━━━━━\u001b[0m \u001b[32m77.6/77.6 kB\u001b[0m \u001b[31m5.4 MB/s\u001b[0m eta \u001b[36m0:00:00\u001b[0m\n\u001b[?25hCollecting fastjsonschema\n  Downloading fastjsonschema-2.17.1-py3-none-any.whl (23 kB)\nRequirement already satisfied: jsonschema>=2.6 in /anaconda/envs/azureml_py310_sdkv2/lib/python3.10/site-packages (from nbformat) (4.17.3)\nRequirement already satisfied: traitlets>=5.1 in /anaconda/envs/azureml_py310_sdkv2/lib/python3.10/site-packages (from nbformat) (5.7.1)\nRequirement already satisfied: jupyter-core in /anaconda/envs/azureml_py310_sdkv2/lib/python3.10/site-packages (from nbformat) (5.1.1)\nRequirement already satisfied: attrs>=17.4.0 in /anaconda/envs/azureml_py310_sdkv2/lib/python3.10/site-packages (from jsonschema>=2.6->nbformat) (22.2.0)\nRequirement already satisfied: pyrsistent!=0.17.0,!=0.17.1,!=0.17.2,>=0.14.0 in /anaconda/envs/azureml_py310_sdkv2/lib/python3.10/site-packages (from jsonschema>=2.6->nbformat) (0.19.3)\nRequirement already satisfied: platformdirs>=2.5 in /anaconda/envs/azureml_py310_sdkv2/lib/python3.10/site-packages (from jupyter-core->nbformat) (2.5.2)\nInstalling collected packages: fastjsonschema, nbformat\nSuccessfully installed fastjsonschema-2.17.1 nbformat-5.9.0\nNote: you may need to restart the kernel to use updated packages.\n340/340 [==============================] - 30s 89ms/step\b\b\b\b\b\b\b\b\b\b\b\b\b\b\b\b\b\b\b\b\b\b\b\b\b\b\b\b\b\b\b\b\b\b\b\b\b\b\b\b\b\b\b\b\b\b\n               precision    recall  f1-score   support\n\n        Abuse       1.00      1.00      1.00       925\n       Arrest       1.00      1.00      1.00       931\n        Arson       1.00      1.00      1.00       923\n      Assault       1.00      1.00      1.00       886\n     Burglary       0.99      1.00      1.00       956\n    Explosion       1.00      1.00      1.00       771\n     Fighting       1.00      1.00      1.00       937\nRoadAccidents       1.00      0.99      0.99       910\n      Robbery       1.00      1.00      1.00       978\n     Shooting       1.00      0.99      1.00       167\n  Shoplifting       1.00      1.00      1.00       680\n     Stealing       1.00      1.00      1.00       899\n    Vandalism       1.00      1.00      1.00       896\n\n     accuracy                           1.00     10859\n    macro avg       1.00      1.00      1.00     10859\n weighted avg       1.00      1.00      1.00     10859\n\n"
        },
        {
          "output_type": "stream",
          "name": "stderr",
          "text": "2023-06-09 15:19:28.759809: W tensorflow/tsl/framework/cpu_allocator_impl.cc:83] Allocation of 10994737500 exceeds 10% of free system memory.\n"
        },
        {
          "output_type": "error",
          "ename": "ValueError",
          "evalue": "Mime type rendering requires nbformat>=4.2.0 but it is not installed",
          "traceback": [
            "\u001b[0;31m---------------------------------------------------------------------------\u001b[0m",
            "\u001b[0;31mValueError\u001b[0m                                Traceback (most recent call last)",
            "Cell \u001b[0;32mIn[57], line 3\u001b[0m\n\u001b[1;32m      1\u001b[0m get_ipython()\u001b[38;5;241m.\u001b[39mrun_line_magic(\u001b[38;5;124m'\u001b[39m\u001b[38;5;124mpip\u001b[39m\u001b[38;5;124m'\u001b[39m, \u001b[38;5;124m'\u001b[39m\u001b[38;5;124minstall nbformat\u001b[39m\u001b[38;5;124m'\u001b[39m)\n\u001b[0;32m----> 3\u001b[0m \u001b[43meval_model\u001b[49m\u001b[43m(\u001b[49m\u001b[43mmodel\u001b[49m\u001b[43m,\u001b[49m\u001b[43mX_test\u001b[49m\u001b[43m,\u001b[49m\u001b[43my_test\u001b[49m\u001b[43m)\u001b[49m\n",
            "Cell \u001b[0;32mIn[55], line 75\u001b[0m, in \u001b[0;36meval_model\u001b[0;34m(model, x, y)\u001b[0m\n\u001b[1;32m     73\u001b[0m \u001b[38;5;66;03m# add colorbar\u001b[39;00m\n\u001b[1;32m     74\u001b[0m fig[\u001b[38;5;124m'\u001b[39m\u001b[38;5;124mdata\u001b[39m\u001b[38;5;124m'\u001b[39m][\u001b[38;5;241m0\u001b[39m][\u001b[38;5;124m'\u001b[39m\u001b[38;5;124mshowscale\u001b[39m\u001b[38;5;124m'\u001b[39m] \u001b[38;5;241m=\u001b[39m \u001b[38;5;28;01mTrue\u001b[39;00m\n\u001b[0;32m---> 75\u001b[0m \u001b[43mfig\u001b[49m\u001b[38;5;241;43m.\u001b[39;49m\u001b[43mshow\u001b[49m\u001b[43m(\u001b[49m\u001b[43m)\u001b[49m\n",
            "File \u001b[0;32m/anaconda/envs/azureml_py310_sdkv2/lib/python3.10/site-packages/plotly/basedatatypes.py:3409\u001b[0m, in \u001b[0;36mBaseFigure.show\u001b[0;34m(self, *args, **kwargs)\u001b[0m\n\u001b[1;32m   3376\u001b[0m \u001b[38;5;124;03m\"\"\"\u001b[39;00m\n\u001b[1;32m   3377\u001b[0m \u001b[38;5;124;03mShow a figure using either the default renderer(s) or the renderer(s)\u001b[39;00m\n\u001b[1;32m   3378\u001b[0m \u001b[38;5;124;03mspecified by the renderer argument\u001b[39;00m\n\u001b[0;32m   (...)\u001b[0m\n\u001b[1;32m   3405\u001b[0m \u001b[38;5;124;03mNone\u001b[39;00m\n\u001b[1;32m   3406\u001b[0m \u001b[38;5;124;03m\"\"\"\u001b[39;00m\n\u001b[1;32m   3407\u001b[0m \u001b[38;5;28;01mimport\u001b[39;00m \u001b[38;5;21;01mplotly\u001b[39;00m\u001b[38;5;21;01m.\u001b[39;00m\u001b[38;5;21;01mio\u001b[39;00m \u001b[38;5;28;01mas\u001b[39;00m \u001b[38;5;21;01mpio\u001b[39;00m\n\u001b[0;32m-> 3409\u001b[0m \u001b[38;5;28;01mreturn\u001b[39;00m \u001b[43mpio\u001b[49m\u001b[38;5;241;43m.\u001b[39;49m\u001b[43mshow\u001b[49m\u001b[43m(\u001b[49m\u001b[38;5;28;43mself\u001b[39;49m\u001b[43m,\u001b[49m\u001b[43m \u001b[49m\u001b[38;5;241;43m*\u001b[39;49m\u001b[43margs\u001b[49m\u001b[43m,\u001b[49m\u001b[43m \u001b[49m\u001b[38;5;241;43m*\u001b[39;49m\u001b[38;5;241;43m*\u001b[39;49m\u001b[43mkwargs\u001b[49m\u001b[43m)\u001b[49m\n",
            "File \u001b[0;32m/anaconda/envs/azureml_py310_sdkv2/lib/python3.10/site-packages/plotly/io/_renderers.py:396\u001b[0m, in \u001b[0;36mshow\u001b[0;34m(fig, renderer, validate, **kwargs)\u001b[0m\n\u001b[1;32m    391\u001b[0m         \u001b[38;5;28;01mraise\u001b[39;00m \u001b[38;5;167;01mValueError\u001b[39;00m(\n\u001b[1;32m    392\u001b[0m             \u001b[38;5;124m\"\u001b[39m\u001b[38;5;124mMime type rendering requires ipython but it is not installed\u001b[39m\u001b[38;5;124m\"\u001b[39m\n\u001b[1;32m    393\u001b[0m         )\n\u001b[1;32m    395\u001b[0m     \u001b[38;5;28;01mif\u001b[39;00m \u001b[38;5;129;01mnot\u001b[39;00m nbformat \u001b[38;5;129;01mor\u001b[39;00m Version(nbformat\u001b[38;5;241m.\u001b[39m__version__) \u001b[38;5;241m<\u001b[39m Version(\u001b[38;5;124m\"\u001b[39m\u001b[38;5;124m4.2.0\u001b[39m\u001b[38;5;124m\"\u001b[39m):\n\u001b[0;32m--> 396\u001b[0m         \u001b[38;5;28;01mraise\u001b[39;00m \u001b[38;5;167;01mValueError\u001b[39;00m(\n\u001b[1;32m    397\u001b[0m             \u001b[38;5;124m\"\u001b[39m\u001b[38;5;124mMime type rendering requires nbformat>=4.2.0 but it is not installed\u001b[39m\u001b[38;5;124m\"\u001b[39m\n\u001b[1;32m    398\u001b[0m         )\n\u001b[1;32m    400\u001b[0m     ipython_display\u001b[38;5;241m.\u001b[39mdisplay(bundle, raw\u001b[38;5;241m=\u001b[39m\u001b[38;5;28;01mTrue\u001b[39;00m)\n\u001b[1;32m    402\u001b[0m \u001b[38;5;66;03m# external renderers\u001b[39;00m\n",
            "\u001b[0;31mValueError\u001b[0m: Mime type rendering requires nbformat>=4.2.0 but it is not installed"
          ]
        }
      ],
      "execution_count": 57,
      "metadata": {
        "jupyter": {
          "source_hidden": false,
          "outputs_hidden": false
        },
        "nteract": {
          "transient": {
            "deleting": false
          }
        },
        "gather": {
          "logged": 1686324003676
        }
      }
    },
    {
      "cell_type": "code",
      "source": [
        "%pip install seaborn\r\n",
        "\r\n",
        "import seaborn as sns\r\n",
        "import numpy as np\r\n",
        "import matplotlib.pyplot as plt\r\n",
        "from sklearn.metrics import confusion_matrix as cm\r\n",
        "\r\n",
        "def eval_model_f(model,x,y):\r\n",
        "#     print(model.evaluate(x.reshape(x.shape+(1,)),y_encoded))\r\n",
        "    y_pred = model.predict(x)\r\n",
        "    y_pred = np.argmax(y_pred,axis = -1)\r\n",
        "    y_numbers = np.argmax(y,axis=-1)\r\n",
        "    \r\n",
        "    target_names = [\r\n",
        "   'Abuse',\r\n",
        "    'Arrest',\r\n",
        "    'Arson',\r\n",
        "    'Assault',\r\n",
        "    'Burglary',\r\n",
        "    'Explosion',\r\n",
        "    'Fighting',\r\n",
        "    'RoadAccidents',\r\n",
        "    'Robbery',\r\n",
        "    'Shooting',\r\n",
        "    'Shoplifting',\r\n",
        "    'Stealing',\r\n",
        "    'Vandalism'\r\n",
        "    ]\r\n",
        "    tick_marks = np.arange(len(target_names))\r\n",
        "    print(classification_report(y_numbers, y_pred, target_names=target_names))\r\n",
        "    \r\n",
        "    conf = cm(y_numbers,y_pred)\r\n",
        "\r\n",
        "    sns.heatmap(conf,annot=True)\r\n",
        "    plt.xticks(tick_marks,target_names,rotation=45)\r\n",
        "    plt.yticks(tick_marks,target_names,rotation=0)\r\n",
        "    plt.show()"
      ],
      "outputs": [
        {
          "output_type": "stream",
          "name": "stdout",
          "text": "Collecting seaborn\n  Downloading seaborn-0.12.2-py3-none-any.whl (293 kB)\n\u001b[2K     \u001b[90m━━━━━━━━━━━━━━━━━━━━━━━━━━━━━━━━━━━━━━\u001b[0m \u001b[32m293.3/293.3 kB\u001b[0m \u001b[31m12.2 MB/s\u001b[0m eta \u001b[36m0:00:00\u001b[0m\n\u001b[?25hRequirement already satisfied: matplotlib!=3.6.1,>=3.1 in /anaconda/envs/azureml_py310_sdkv2/lib/python3.10/site-packages (from seaborn) (3.7.1)\nRequirement already satisfied: numpy!=1.24.0,>=1.17 in /anaconda/envs/azureml_py310_sdkv2/lib/python3.10/site-packages (from seaborn) (1.23.5)\nRequirement already satisfied: pandas>=0.25 in /anaconda/envs/azureml_py310_sdkv2/lib/python3.10/site-packages (from seaborn) (2.0.0)\nRequirement already satisfied: cycler>=0.10 in /anaconda/envs/azureml_py310_sdkv2/lib/python3.10/site-packages (from matplotlib!=3.6.1,>=3.1->seaborn) (0.11.0)\nRequirement already satisfied: contourpy>=1.0.1 in /anaconda/envs/azureml_py310_sdkv2/lib/python3.10/site-packages (from matplotlib!=3.6.1,>=3.1->seaborn) (1.0.7)\nRequirement already satisfied: kiwisolver>=1.0.1 in /anaconda/envs/azureml_py310_sdkv2/lib/python3.10/site-packages (from matplotlib!=3.6.1,>=3.1->seaborn) (1.4.4)\nRequirement already satisfied: fonttools>=4.22.0 in /anaconda/envs/azureml_py310_sdkv2/lib/python3.10/site-packages (from matplotlib!=3.6.1,>=3.1->seaborn) (4.39.3)\nRequirement already satisfied: packaging>=20.0 in /anaconda/envs/azureml_py310_sdkv2/lib/python3.10/site-packages (from matplotlib!=3.6.1,>=3.1->seaborn) (21.3)\nRequirement already satisfied: pillow>=6.2.0 in /anaconda/envs/azureml_py310_sdkv2/lib/python3.10/site-packages (from matplotlib!=3.6.1,>=3.1->seaborn) (9.5.0)\nRequirement already satisfied: python-dateutil>=2.7 in /anaconda/envs/azureml_py310_sdkv2/lib/python3.10/site-packages (from matplotlib!=3.6.1,>=3.1->seaborn) (2.8.2)\nRequirement already satisfied: pyparsing>=2.3.1 in /anaconda/envs/azureml_py310_sdkv2/lib/python3.10/site-packages (from matplotlib!=3.6.1,>=3.1->seaborn) (3.0.9)\nRequirement already satisfied: pytz>=2020.1 in /anaconda/envs/azureml_py310_sdkv2/lib/python3.10/site-packages (from pandas>=0.25->seaborn) (2023.3)\nRequirement already satisfied: tzdata>=2022.1 in /anaconda/envs/azureml_py310_sdkv2/lib/python3.10/site-packages (from pandas>=0.25->seaborn) (2023.3)\nRequirement already satisfied: six>=1.5 in /anaconda/envs/azureml_py310_sdkv2/lib/python3.10/site-packages (from python-dateutil>=2.7->matplotlib!=3.6.1,>=3.1->seaborn) (1.16.0)\nInstalling collected packages: seaborn\nSuccessfully installed seaborn-0.12.2\nNote: you may need to restart the kernel to use updated packages.\n"
        }
      ],
      "execution_count": 59,
      "metadata": {
        "jupyter": {
          "source_hidden": false,
          "outputs_hidden": false
        },
        "nteract": {
          "transient": {
            "deleting": false
          }
        },
        "gather": {
          "logged": 1686324106510
        }
      }
    },
    {
      "cell_type": "code",
      "source": [
        "eval_model_f(model, X_test, y_test)"
      ],
      "outputs": [
        {
          "output_type": "stream",
          "name": "stdout",
          "text": "340/340 [==============================] - 30s 89ms/step\b\b\b\b\b\b\b\b\b\b\b\b\b\b\b\b\b\b\b\b\b\b\b\b\b\b\b\b\b\b\b\b\b\b\b\b\b\b\b\b\b\b\b\b\b\b\n               precision    recall  f1-score   support\n\n        Abuse       1.00      1.00      1.00       925\n       Arrest       1.00      1.00      1.00       931\n        Arson       1.00      1.00      1.00       923\n      Assault       1.00      1.00      1.00       886\n     Burglary       0.99      1.00      1.00       956\n    Explosion       1.00      1.00      1.00       771\n     Fighting       1.00      1.00      1.00       937\nRoadAccidents       1.00      0.99      0.99       910\n      Robbery       1.00      1.00      1.00       978\n     Shooting       1.00      0.99      1.00       167\n  Shoplifting       1.00      1.00      1.00       680\n     Stealing       1.00      1.00      1.00       899\n    Vandalism       1.00      1.00      1.00       896\n\n     accuracy                           1.00     10859\n    macro avg       1.00      1.00      1.00     10859\n weighted avg       1.00      1.00      1.00     10859\n\n"
        },
        {
          "output_type": "display_data",
          "data": {
            "text/plain": "<Figure size 640x480 with 2 Axes>",
            "image/png": "[encoded data removed]"
          },
          "metadata": {}
        }
      ],
      "execution_count": 60,
      "metadata": {
        "jupyter": {
          "source_hidden": false,
          "outputs_hidden": false
        },
        "nteract": {
          "transient": {
            "deleting": false
          }
        },
        "gather": {
          "logged": 1686324156414
        }
      }
    }
  ],
  "metadata": {
    "kernelspec": {
      "name": "python310-sdkv2",
      "language": "python",
      "display_name": "Python 3.10 - SDK v2"
    },
    "language_info": {
      "name": "python",
      "version": "3.10.10",
      "mimetype": "text/x-python",
      "codemirror_mode": {
        "name": "ipython",
        "version": 3
      },
      "pygments_lexer": "ipython3",
      "nbconvert_exporter": "python",
      "file_extension": ".py"
    },
    "microsoft": {
      "ms_spell_check": {
        "ms_spell_check_language": "en"
      }
    },
    "kernel_info": {
      "name": "python310-sdkv2"
    },
    "nteract": {
      "version": "nteract-front-end@1.0.0"
    }
  },
  "nbformat": 4,
  "nbformat_minor": 2
}