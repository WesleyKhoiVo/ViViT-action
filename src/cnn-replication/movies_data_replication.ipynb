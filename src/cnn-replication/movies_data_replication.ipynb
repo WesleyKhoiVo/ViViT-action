{
  "nbformat": 4,
  "nbformat_minor": 0,
  "metadata": {
    "colab": {
      "provenance": [],
      "collapsed_sections": [
        "k-V9JzqnxeHD",
        "fL4v8Detxl5k"
      ]
    },
    "kernelspec": {
      "name": "python3",
      "display_name": "Python 3"
    },
    "language_info": {
      "name": "python"
    },
    "accelerator": "GPU",
    "gpuClass": "standard"
  },
  "cells": [
    {
      "cell_type": "markdown",
      "source": [
        "\n",
        "[![Open In Colab](https://colab.research.google.com/assets/colab-badge.svg)](https://colab.research.google.com/drive/1r_ElyehZwlWC7je1ZCsrauqKAObqnjNN?usp=sharing)\n",
        "\n",
        "# Violence Detection In Movie Scenes"
      ],
      "metadata": {
        "id": "OFgTD_PAXmUQ"
      }
    },
    {
      "cell_type": "markdown",
      "source": [
        "## Prepare the runtime"
      ],
      "metadata": {
        "id": "II784z1uYNdS"
      }
    },
    {
      "cell_type": "code",
      "source": [
        "!pip install colab-convert"
      ],
      "metadata": {
        "id": "YzX5K-pfW0DP",
        "colab": {
          "base_uri": "https://localhost:8080/"
        },
        "outputId": "922aa590-1cdc-4506-9542-ef548c8447e9"
      },
      "execution_count": null,
      "outputs": [
        {
          "output_type": "stream",
          "name": "stdout",
          "text": [
            "Looking in indexes: https://pypi.org/simple, https://us-python.pkg.dev/colab-wheels/public/simple/\n",
            "Collecting colab-convert\n",
            "  Downloading colab-convert-2.0.5.tar.gz (18 kB)\n",
            "Collecting json5\n",
            "  Downloading json5-0.9.10-py2.py3-none-any.whl (19 kB)\n",
            "Building wheels for collected packages: colab-convert\n",
            "  Building wheel for colab-convert (setup.py) ... \u001b[?25l\u001b[?25hdone\n",
            "  Created wheel for colab-convert: filename=colab_convert-2.0.5-py3-none-any.whl size=19224 sha256=433c19571c3c447ddaa7553ec51fa7089200d7f02a94bc6b41e29406ebfdc659\n",
            "  Stored in directory: /root/.cache/pip/wheels/04/f2/9d/ee946c8db91ba06736f0fc6d0391421f891d5e19785ce707f6\n",
            "Successfully built colab-convert\n",
            "Installing collected packages: json5, colab-convert\n",
            "Successfully installed colab-convert-2.0.5 json5-0.9.10\n"
          ]
        }
      ]
    },
    {
      "cell_type": "code",
      "source": [
        "!pip show colab-convert\n",
        "print()\n",
        "!pip show numpy\n",
        "print()\n",
        "!pip show tensorflow\n",
        "print()\n",
        "!pip show opencv-python\n",
        "print()\n",
        "!pip show pyyaml\n",
        "print()\n",
        "!pip show h5py"
      ],
      "metadata": {
        "colab": {
          "base_uri": "https://localhost:8080/"
        },
        "id": "2HNxQirlYbcB",
        "outputId": "2d2f984f-d97b-4dd7-bf0d-12ab7342d676"
      },
      "execution_count": null,
      "outputs": [
        {
          "output_type": "stream",
          "name": "stdout",
          "text": [
            "Name: colab-convert\n",
            "Version: 2.0.5\n",
            "Summary: Convert .py files runnable in VSCode/Python or Atom/Hydrogen to jupyter/colab .ipynb notebooks and vice versa\n",
            "Home-page: https://github.com/MSFTserver/colab-convert\n",
            "Author: HostsServer\n",
            "Author-email: msftserver@gmail.com\n",
            "License: MIT\n",
            "Location: /usr/local/lib/python3.7/dist-packages\n",
            "Requires: json5\n",
            "Required-by: \n",
            "\n",
            "Name: numpy\n",
            "Version: 1.21.6\n",
            "Summary: NumPy is the fundamental package for array computing with Python.\n",
            "Home-page: https://www.numpy.org\n",
            "Author: Travis E. Oliphant et al.\n",
            "Author-email: None\n",
            "License: BSD\n",
            "Location: /usr/local/lib/python3.7/dist-packages\n",
            "Requires: \n",
            "Required-by: yellowbrick, xgboost, xarray, xarray-einstats, wordcloud, torchvision, torchtext, tifffile, thinc, tensorflow, tensorflow-probability, tensorflow-hub, tensorflow-datasets, tensorboard, tables, statsmodels, spacy, sklearn-pandas, seaborn, scs, scipy, scikit-learn, scikit-image, resampy, qudida, qdldl, PyWavelets, python-louvain, pystan, pysndfile, pymc, pyerfa, pyemd, pycocotools, pyarrow, prophet, plotnine, patsy, pandas, osqp, opt-einsum, opencv-python, opencv-python-headless, opencv-contrib-python, numexpr, numba, nibabel, netCDF4, moviepy, mlxtend, mizani, missingno, matplotlib, matplotlib-venn, lightgbm, librosa, Keras-Preprocessing, kapre, jpeg4py, jaxlib, jax, imgaug, imbalanced-learn, imageio, hyperopt, httpstan, holoviews, h5py, gym, gensim, folium, fix-yahoo-finance, fastdtw, fa2, ecos, datascience, daft, cvxpy, cupy-cuda111, cufflinks, cmdstanpy, cftime, bokeh, blis, autograd, atari-py, astropy, arviz, altair, albumentations, aesara, aeppl\n",
            "\n",
            "Name: tensorflow\n",
            "Version: 2.8.2+zzzcolab20220719082949\n",
            "Summary: TensorFlow is an open source machine learning framework for everyone.\n",
            "Home-page: https://www.tensorflow.org/\n",
            "Author: Google Inc.\n",
            "Author-email: packages@tensorflow.org\n",
            "License: Apache 2.0\n",
            "Location: /usr/local/lib/python3.7/dist-packages\n",
            "Requires: gast, google-pasta, libclang, tensorflow-io-gcs-filesystem, typing-extensions, six, h5py, wrapt, keras, numpy, flatbuffers, grpcio, termcolor, setuptools, astunparse, protobuf, opt-einsum, tensorflow-estimator, keras-preprocessing, absl-py, tensorboard\n",
            "Required-by: kapre\n",
            "\n",
            "Name: opencv-python\n",
            "Version: 4.6.0.66\n",
            "Summary: Wrapper package for OpenCV python bindings.\n",
            "Home-page: https://github.com/skvark/opencv-python\n",
            "Author: None\n",
            "Author-email: None\n",
            "License: MIT\n",
            "Location: /usr/local/lib/python3.7/dist-packages\n",
            "Requires: numpy\n",
            "Required-by: imgaug, dopamine-rl\n",
            "\n",
            "Name: PyYAML\n",
            "Version: 6.0\n",
            "Summary: YAML parser and emitter for Python\n",
            "Home-page: https://pyyaml.org/\n",
            "Author: Kirill Simonov\n",
            "Author-email: xi@resolvent.net\n",
            "License: MIT\n",
            "Location: /usr/local/lib/python3.7/dist-packages\n",
            "Requires: \n",
            "Required-by: PyDrive, fastai, distributed, dask, bokeh, albumentations\n",
            "\n",
            "Name: h5py\n",
            "Version: 3.1.0\n",
            "Summary: Read and write HDF5 files from Python\n",
            "Home-page: http://www.h5py.org\n",
            "Author: Andrew Collette\n",
            "Author-email: andrew.collette@gmail.com\n",
            "License: BSD\n",
            "Location: /usr/local/lib/python3.7/dist-packages\n",
            "Requires: cached-property, numpy\n",
            "Required-by: tensorflow, keras-vis\n"
          ]
        }
      ]
    },
    {
      "cell_type": "markdown",
      "source": [
        "### Mount Drive"
      ],
      "metadata": {
        "id": "wryP8k9KXdPm"
      }
    },
    {
      "cell_type": "code",
      "execution_count": null,
      "metadata": {
        "id": "5y09Bw_IGCtT",
        "colab": {
          "base_uri": "https://localhost:8080/"
        },
        "outputId": "c3b40a0c-c6cc-4e0c-ed11-c7b96113ba7b"
      },
      "outputs": [
        {
          "output_type": "stream",
          "name": "stdout",
          "text": [
            "Mounted at /content/drive/\n",
            "/content/drive/MyDrive/automatic-detection-of-violence-in-video-scenes\n",
            "cc-outputs.log  convert.txt  .gitignore          info.txt     requirements.txt\n",
            "\u001b[0m\u001b[01;34mCombined\u001b[0m/       \u001b[01;36mCrowd2\u001b[0m@      git_interactive.py  \u001b[01;34mMovies\u001b[0m/      sync.sh\n",
            "config_user.sh  \u001b[01;34m.git\u001b[0m/        \u001b[01;36mHockey\u001b[0m@             new_repo.sh\n"
          ]
        }
      ],
      "source": [
        "from google.colab import drive\n",
        "drive.mount('/content/drive/')\n",
        "\n",
        "%cd '/content/drive/MyDrive/automatic-detection-of-violence-in-video-scenes'\n",
        "%ls -a"
      ]
    },
    {
      "cell_type": "markdown",
      "source": [
        "### Imports"
      ],
      "metadata": {
        "id": "s2so4O8CYpEJ"
      }
    },
    {
      "cell_type": "code",
      "source": [
        "import tensorflow as tf\n",
        "from tensorflow      import keras\n",
        "from keras           import layers as tfl\n",
        "from keras.callbacks import EarlyStopping\n",
        "from keras.backend   import clear_session\n",
        "\n",
        "\n",
        "import os\n",
        "import numpy as np\n",
        "import cv2 \n",
        "import datetime\n",
        "\n",
        "import pandas as pd\n",
        "import matplotlib.pyplot as plt\n",
        "import seaborn as sns\n",
        "import pickle\n",
        "\n",
        "tf.test.gpu_device_name()\n",
        "# Standard output is '/device:GPU:0'"
      ],
      "metadata": {
        "id": "lt1G6WwGYv-V",
        "colab": {
          "base_uri": "https://localhost:8080/",
          "height": 35
        },
        "outputId": "d1454d2f-c8d8-42ac-c85e-7bed7771e541"
      },
      "execution_count": null,
      "outputs": [
        {
          "output_type": "execute_result",
          "data": {
            "text/plain": [
              "'/device:GPU:0'"
            ],
            "application/vnd.google.colaboratory.intrinsic+json": {
              "type": "string"
            }
          },
          "metadata": {},
          "execution_count": 3
        }
      ]
    },
    {
      "cell_type": "markdown",
      "source": [
        "## Sync with Github"
      ],
      "metadata": {
        "id": "GSzKcCYSXh0H"
      }
    },
    {
      "cell_type": "code",
      "source": [
        "# !git config user.email \"moharamfatema@gmail.com\"\n",
        "# !git config user.name \"moharamfatema\"\n",
        "\n",
        "# !python3 git_interactive.py"
      ],
      "metadata": {
        "id": "qshzMq_JVbcS",
        "colab": {
          "base_uri": "https://localhost:8080/"
        },
        "outputId": "5e77d9d8-c37f-4528-9e33-067b0e70616c"
      },
      "execution_count": null,
      "outputs": [
        {
          "output_type": "stream",
          "name": "stdout",
          "text": [
            "repo owner: moharamfatema\n",
            "repo name: violence-detection-paper-replicatio\n",
            "Enter your username:\n",
            "\n"
          ]
        }
      ]
    },
    {
      "cell_type": "code",
      "source": [
        "# !git add Movies/movies-data.py\n",
        "# !git commit -m \"+svm and rf movies\"\n",
        "# !git push moharamfatema-origin main"
      ],
      "metadata": {
        "colab": {
          "base_uri": "https://localhost:8080/"
        },
        "id": "fnRKMI5iuNaZ",
        "outputId": "9ea01cc7-8539-47c6-9927-4d3178438edb"
      },
      "execution_count": null,
      "outputs": [
        {
          "output_type": "stream",
          "name": "stdout",
          "text": [
            "cc-outputs.log  \u001b[0m\u001b[01;36mCrowd2\u001b[0m@           git_interactive.py  new_repo.sh\n",
            "\u001b[01;34mCombined\u001b[0m/       forest_model.pkl  \u001b[01;36mHockey\u001b[0m@             requirements.txt\n",
            "config_user.sh  \u001b[01;34m.git\u001b[0m/             info.txt            svm_model.pkl\n",
            "convert.txt     .gitignore        \u001b[01;34mMovies\u001b[0m/             sync.sh\n",
            "[main 767af37] +svm and rf movies\n",
            " 1 file changed, 439 insertions(+), 118 deletions(-)\n"
          ]
        }
      ]
    },
    {
      "cell_type": "markdown",
      "source": [
        "## Data Preprocessing"
      ],
      "metadata": {
        "id": "YhHJ07ZWZCzr"
      }
    },
    {
      "cell_type": "markdown",
      "source": [
        "### Define Constants"
      ],
      "metadata": {
        "id": "k-V9JzqnxeHD"
      }
    },
    {
      "cell_type": "code",
      "source": [
        "# define input paths\n",
        "\n",
        "ROOT_PATH = '/content/drive/MyDrive/automatic-detection-of-violence-in-video-scenes'\n",
        "MOVIES_PATH = ROOT_PATH + '/Movies/Movies Fight Dataset'\n",
        "\n",
        "VIOLENCE_PATH = MOVIES_PATH + '/Violence'\n",
        "NORMAL_PATH = MOVIES_PATH + '/Normal'\n",
        "\n",
        "print(os.listdir(NORMAL_PATH)[-1])\n",
        "print(os.listdir(VIOLENCE_PATH)[-1])\n",
        "\n",
        "# define output paths\n",
        "\n",
        "OUT_PATH = ROOT_PATH + '/Movies/out'\n"
      ],
      "metadata": {
        "id": "tKkvBlmCZF-a",
        "colab": {
          "base_uri": "https://localhost:8080/"
        },
        "outputId": "188eb65b-6888-46a1-82e6-324230dedad8"
      },
      "execution_count": null,
      "outputs": [
        {
          "output_type": "stream",
          "name": "stdout",
          "text": [
            "60.mpg\n",
            "newfi67.avi\n"
          ]
        }
      ]
    },
    {
      "cell_type": "markdown",
      "source": [
        "### Process raw data"
      ],
      "metadata": {
        "id": "fL4v8Detxl5k"
      }
    },
    {
      "cell_type": "code",
      "source": [
        "# @title define extraction function\n",
        "# @markdown define the default parameters:\n",
        "\n",
        "DIMENSIONS = (50, 50) # @param\n",
        "PACKET_LENGTH = 15 # @param\n",
        "\n",
        "def extract_frames(\n",
        "    directory: str, \n",
        "    permutation: np.ndarray,\n",
        "    dimensions: tuple = DIMENSIONS, \n",
        "    packet_length: int = PACKET_LENGTH, \n",
        "    save_path: str = None\n",
        "    ) -> np.ndarray:\n",
        "  \"\"\" Extract packets from video directory\n",
        "\n",
        "  Parameters\n",
        "  -----------\n",
        "  directory : str\n",
        "    A directory on the disk that contains the videos \n",
        "\n",
        "  dimensions: Tuple of shape 2 , optional\n",
        "    The desired frame dimensions to be stored\n",
        "    default = (50,50)\n",
        "\n",
        "  permutation : tuple\n",
        "    the boundaries of the data taken from the directory\n",
        "\n",
        "  packet_length: int , optional\n",
        "    Packet length , Default = 15\n",
        "\n",
        "  save_dir : str , optional\n",
        "    The path to which the axtracted data should be saved\n",
        "\n",
        "  Returns\n",
        "  -------\n",
        "  ndarray \n",
        "    The extracted packets from each video stacked together \n",
        "  \"\"\"\n",
        "  data = []\n",
        "    \n",
        "  for video_name in np.array(os.listdir(directory))[permutation]:\n",
        "    video = cv2.VideoCapture(directory + '/' + video_name )\n",
        "    packet = []\n",
        "    i = 0\n",
        "\n",
        "    while video.isOpened():\n",
        "      ret, frame = video.read()\n",
        "\n",
        "      if not ret: # no more frames\n",
        "        break\n",
        "      \n",
        "      del ret\n",
        "\n",
        "      if i % 2 == 0: # capture one in every 2 frames\n",
        "        i += 1\n",
        "        continue\n",
        "\n",
        "      # capturing the frame\n",
        "\n",
        "      frame = cv2.resize(frame, dimensions, interpolation = cv2.INTER_AREA)\n",
        "      frame = cv2.cvtColor(frame, cv2.COLOR_BGR2GRAY)\n",
        "      packet.append(frame)\n",
        "      del frame\n",
        "\n",
        "      if len(packet) == packet_length: \n",
        "        '''\n",
        "        consecutive packets share 14 of the 15 frames to generate more data\n",
        "        '''\n",
        "        # packet itself is not normalized\n",
        "        stacked = np.array(packet) / 255. # convert to numpy and normalize packet\n",
        "        data.append(stacked.copy()) # this .copy() is not in the original code \n",
        "        packet.pop(0) \n",
        "\n",
        "      i += 1\n",
        "\n",
        "    video.release()\n",
        "    cv2.destroyAllWindows()\n",
        "  \n",
        "  del packet\n",
        "  # TODO: read the docs for the next 2 lines\n",
        "  data = np.stack(data, axis= 0)\n",
        "  data = np.moveaxis(data, 1 ,-1)\n",
        "\n",
        "  # save to disk\n",
        "  if(save_path is not None):\n",
        "    np.save(f'{save_path}',data)\n",
        "\n",
        "  return data"
      ],
      "metadata": {
        "cellView": "code",
        "id": "erY_qjG0b_QS"
      },
      "execution_count": null,
      "outputs": []
    },
    {
      "cell_type": "code",
      "source": [
        "def process_np(normal, violence):\n",
        "  subset = min(len(normal),len(violence))\n",
        "\n",
        "  y = np.concatenate([np.zeros(subset), np.ones(subset)])\n",
        "  x = np.concatenate([normal[:subset,:,:,:], violence[:subset,:,:,:]], axis = 0)\n",
        "\n",
        "  print((x.shape, y.shape))\n",
        "\n",
        "  #shuffle\n",
        "  per = np.random.permutation(len(x))\n",
        "\n",
        "  x = x[per,:,:,:]\n",
        "  y = y[per]\n",
        "  y = y.astype(int)\n",
        "\n",
        "  y = np.expand_dims(y, -1)\n",
        "\n",
        "  return x, y"
      ],
      "metadata": {
        "id": "8fR5dkaIolrz"
      },
      "execution_count": null,
      "outputs": []
    },
    {
      "cell_type": "code",
      "source": [
        "def save_datasets(\n",
        "    save_path: str\n",
        "  ) -> np.ndarray:\n",
        "  \n",
        "  normal_random = np.random.permutation(100)\n",
        "  violence_random = np.random.permutation(100)\n",
        "\n",
        "  # train\n",
        "  normal_data = extract_frames(f'{MOVIES_PATH}/Normal', normal_random[:70])\n",
        "  violence_data = extract_frames(f'{MOVIES_PATH}/Violence', violence_random[:70])\n",
        "\n",
        "  x, y = process_np(normal_data, violence_data)\n",
        "  del normal_data\n",
        "  del violence_data\n",
        "\n",
        "  np.save(f'{save_path}/x_train',x)\n",
        "  np.save(f'{save_path}/y_train',y)\n",
        "\n",
        "  del x\n",
        "  del y\n",
        "\n",
        "  # validation\n",
        "  normal_data = extract_frames(f'{MOVIES_PATH}/Normal', normal_random[70:85])\n",
        "  violence_data = extract_frames(f'{MOVIES_PATH}/Violence', violence_random[70:85])\n",
        "\n",
        "  x, y = process_np(normal_data, violence_data)\n",
        "  del normal_data\n",
        "  del violence_data\n",
        "\n",
        "  np.save(f'{save_path}/x_val',x)\n",
        "  np.save(f'{save_path}/y_val',y)\n",
        "\n",
        "  del x\n",
        "  del y\n",
        "\n",
        "  # test\n",
        "  normal_data = extract_frames(f'{MOVIES_PATH}/Normal', normal_random[85:])\n",
        "  violence_data = extract_frames(f'{MOVIES_PATH}/Violence', violence_random[85:])\n",
        "\n",
        "  x, y = process_np(normal_data, violence_data)\n",
        "  del normal_data\n",
        "  del violence_data\n",
        "\n",
        "  np.save(f'{save_path}/x_test',x)\n",
        "  np.save(f'{save_path}/y_test',y)\n",
        "\n",
        "  del x\n",
        "  del y"
      ],
      "metadata": {
        "id": "VbXIN_GBkWRc"
      },
      "execution_count": null,
      "outputs": []
    },
    {
      "cell_type": "code",
      "source": [
        "# save_datasets(OUT_PATH)"
      ],
      "metadata": {
        "cellView": "code",
        "id": "qGt3_SkxiEIV"
      },
      "execution_count": null,
      "outputs": []
    },
    {
      "cell_type": "markdown",
      "source": [
        "### Load pre-saved and pre-processed data"
      ],
      "metadata": {
        "id": "eGjHzNzpxrn7"
      }
    },
    {
      "cell_type": "code",
      "source": [
        "# Load Data\n",
        "\n",
        "def load_x_y(\n",
        "    load_which: str = 'train', \n",
        "  ):\n",
        "  violence_data = None\n",
        "  normal_data = None\n",
        "\n",
        "  if load_which == 'train':\n",
        "    x = np.load(f'{OUT_PATH}/x_train.npy')\n",
        "    y  = np.load(f'{OUT_PATH}/y_train.npy')\n",
        "\n",
        "  elif load_which == 'validation':\n",
        "    x = np.load(f'{OUT_PATH}/x_val.npy')\n",
        "    y  = np.load(f'{OUT_PATH}/y_val.npy')\n",
        "\n",
        "  elif load_which == 'test':\n",
        "    x = np.load(f'{OUT_PATH}/x_test.npy')\n",
        "    y  = np.load(f'{OUT_PATH}/y_test.npy')\n",
        "\n",
        "  print(f'y shape = {y.shape}')\n",
        "  print(f'x shape = {x.shape}')\n",
        "\n",
        "  return x, y"
      ],
      "metadata": {
        "cellView": "code",
        "id": "8tUXDs8iuVu5"
      },
      "execution_count": null,
      "outputs": []
    },
    {
      "cell_type": "code",
      "source": [
        "x_train, y_train = load_x_y('train')\n",
        "\n",
        "x_val, y_val = load_x_y('validation')\n",
        "\n",
        "x_test, y_test = load_x_y('test')\n",
        "\n"
      ],
      "metadata": {
        "colab": {
          "base_uri": "https://localhost:8080/"
        },
        "id": "VU-4d1OPvTJd",
        "outputId": "35a2146c-ee57-4dc0-949a-2464dad8befb"
      },
      "execution_count": null,
      "outputs": [
        {
          "output_type": "stream",
          "name": "stdout",
          "text": [
            "y shape = (1414, 1)\n",
            "x shape = (1414, 50, 50, 15)\n",
            "y shape = (284, 1)\n",
            "x shape = (284, 50, 50, 15)\n",
            "y shape = (288, 1)\n",
            "x shape = (288, 50, 50, 15)\n"
          ]
        }
      ]
    },
    {
      "cell_type": "markdown",
      "source": [
        "## Model Description"
      ],
      "metadata": {
        "id": "cWOBvYxchjif"
      }
    },
    {
      "cell_type": "code",
      "source": [
        "# del model"
      ],
      "metadata": {
        "id": "U4S-W3JZie7A"
      },
      "execution_count": null,
      "outputs": []
    },
    {
      "cell_type": "code",
      "source": [
        "def create_model():\n",
        "  model = keras.Sequential([\n",
        "    tfl.Conv2D(\n",
        "        128, \n",
        "        (3,3), \n",
        "        activation = 'relu',\n",
        "        input_shape = (50, 50, 15),\n",
        "        padding = 'same'\n",
        "      ),\n",
        "    tfl.Dropout(0.2),\n",
        "    tfl.MaxPooling2D(2,2),\n",
        "    tfl.BatchNormalization(),\n",
        "\n",
        "    tfl.Conv2D(256, (3,3), activation = 'relu'),\n",
        "    tfl.Conv2D(256, (3,3), activation = 'relu', padding = 'same'),\n",
        "    tfl.MaxPooling2D(2,2),\n",
        "    tfl.BatchNormalization(),\n",
        "\n",
        "    tfl.Conv2D(512, (3,3), activation = 'relu'),\n",
        "    tfl.Conv2D(512, (3,3), activation = 'relu', padding = 'same'),\n",
        "    tfl.MaxPooling2D(2,2),\n",
        "    tfl.BatchNormalization(),\n",
        "\n",
        "    tfl.Conv2D(1024, (3,3), activation = 'relu', padding = 'same'),\n",
        "    tfl.Conv2D(1024, (3,3), activation = 'relu', padding = 'same'),\n",
        "    tfl.MaxPooling2D(2,2),\n",
        "    tfl.BatchNormalization(),\n",
        "\n",
        "    # Flatten the results to feed into the densely connected laye.\n",
        "    tfl.Flatten(),\n",
        "    # 512 neuron hidden laye.\n",
        "    tfl.Dense(2048, activation = 'relu'),\n",
        "    tfl.Dropout(0.2),\n",
        "\n",
        "    tfl.Dense(512, activation = 'relu'),\n",
        "    tfl.Dropout(0.2),\n",
        "\n",
        "    tfl.Dense(128, activation = 'relu'),\n",
        "    tfl.Dropout(0.2),\n",
        "\n",
        "    # Only 1 output neuron for binary classification tas.\n",
        "    tfl.Dense(1, activation = 'sigmoid')\n",
        "\n",
        "  ])\n",
        "  model.compile(\n",
        "      loss = 'binary_crossentropy',\n",
        "      optimizer = keras.optimizers.Adam(learning_rate = 0.00003),\n",
        "      metrics = ['acc', keras.metrics.Recall(), keras.metrics.Precision()]\n",
        "    )\n",
        "  \n",
        "  return model\n",
        "\n",
        "# model = create_model()\n",
        "#model.summary()"
      ],
      "metadata": {
        "id": "1kH-GVkfhp38"
      },
      "execution_count": null,
      "outputs": []
    },
    {
      "cell_type": "code",
      "source": [
        "# Load the TensorBoard notebook extension\n",
        "# %load_ext tensorboard\n",
        "\n",
        "# Clear any logs from previous runs\n",
        "# !rm -rf ./logs/ "
      ],
      "metadata": {
        "colab": {
          "base_uri": "https://localhost:8080/"
        },
        "id": "tKjzSYEujKQO",
        "outputId": "8a51453f-c09b-4569-95f8-84043697a337"
      },
      "execution_count": null,
      "outputs": [
        {
          "output_type": "stream",
          "name": "stdout",
          "text": [
            "The tensorboard extension is already loaded. To reload it, use:\n",
            "  %reload_ext tensorboard\n"
          ]
        }
      ]
    },
    {
      "cell_type": "code",
      "source": [
        "early_stopping_cb = EarlyStopping(patience = 13, restore_best_weights= True)\n",
        "\n",
        "log_dir = OUT_PATH + \"/logs/fit/\" + datetime.datetime.now().strftime(\"%Y%m%d-%H%M%S\")\n",
        "tensorboard_callback = keras.callbacks.TensorBoard(log_dir=log_dir, histogram_freq=1)\n"
      ],
      "metadata": {
        "id": "pM3_CWQErao-"
      },
      "execution_count": null,
      "outputs": []
    },
    {
      "cell_type": "code",
      "source": [
        "'''\n",
        "history = model.fit(x = x_train,\n",
        "          y = y_train,\n",
        "          batch_size = 20,\n",
        "          epochs=100,\n",
        "          validation_data = (x_val, y_val),          \n",
        "          callbacks=early_stopping_cb,\n",
        "  )\n",
        "'''"
      ],
      "metadata": {
        "colab": {
          "base_uri": "https://localhost:8080/"
        },
        "id": "x8sL52emixS_",
        "outputId": "b7af91d5-7f34-4d5f-a169-2e43d5619157"
      },
      "execution_count": null,
      "outputs": [
        {
          "output_type": "stream",
          "name": "stdout",
          "text": [
            "Epoch 1/100\n",
            "71/71 [==============================] - 22s 92ms/step - loss: 0.1150 - acc: 0.9569 - recall: 0.9802 - precision: 0.9365 - val_loss: 0.6506 - val_acc: 0.5000 - val_recall: 1.0000 - val_precision: 0.5000\n",
            "Epoch 2/100\n",
            "71/71 [==============================] - 4s 56ms/step - loss: 0.0049 - acc: 1.0000 - recall: 1.0000 - precision: 1.0000 - val_loss: 1.3048 - val_acc: 0.5000 - val_recall: 1.0000 - val_precision: 0.5000\n",
            "Epoch 3/100\n",
            "71/71 [==============================] - 4s 56ms/step - loss: 0.0021 - acc: 1.0000 - recall: 1.0000 - precision: 1.0000 - val_loss: 2.2492 - val_acc: 0.5000 - val_recall: 1.0000 - val_precision: 0.5000\n",
            "Epoch 4/100\n",
            "71/71 [==============================] - 4s 56ms/step - loss: 8.5153e-04 - acc: 1.0000 - recall: 1.0000 - precision: 1.0000 - val_loss: 3.2275 - val_acc: 0.5000 - val_recall: 1.0000 - val_precision: 0.5000\n",
            "Epoch 5/100\n",
            "71/71 [==============================] - 4s 56ms/step - loss: 7.6213e-04 - acc: 1.0000 - recall: 1.0000 - precision: 1.0000 - val_loss: 3.5466 - val_acc: 0.5000 - val_recall: 1.0000 - val_precision: 0.5000\n",
            "Epoch 6/100\n",
            "71/71 [==============================] - 4s 57ms/step - loss: 5.5091e-04 - acc: 1.0000 - recall: 1.0000 - precision: 1.0000 - val_loss: 2.8791 - val_acc: 0.5000 - val_recall: 1.0000 - val_precision: 0.5000\n",
            "Epoch 7/100\n",
            "71/71 [==============================] - 4s 57ms/step - loss: 2.6679e-04 - acc: 1.0000 - recall: 1.0000 - precision: 1.0000 - val_loss: 1.4729 - val_acc: 0.5563 - val_recall: 1.0000 - val_precision: 0.5299\n",
            "Epoch 8/100\n",
            "71/71 [==============================] - 4s 59ms/step - loss: 2.2405e-04 - acc: 1.0000 - recall: 1.0000 - precision: 1.0000 - val_loss: 0.3128 - val_acc: 0.8134 - val_recall: 1.0000 - val_precision: 0.7282\n",
            "Epoch 9/100\n",
            "71/71 [==============================] - 4s 59ms/step - loss: 1.8531e-04 - acc: 1.0000 - recall: 1.0000 - precision: 1.0000 - val_loss: 0.0456 - val_acc: 0.9824 - val_recall: 1.0000 - val_precision: 0.9660\n",
            "Epoch 10/100\n",
            "71/71 [==============================] - 4s 59ms/step - loss: 1.0851e-04 - acc: 1.0000 - recall: 1.0000 - precision: 1.0000 - val_loss: 0.0101 - val_acc: 1.0000 - val_recall: 1.0000 - val_precision: 1.0000\n",
            "Epoch 11/100\n",
            "71/71 [==============================] - 4s 61ms/step - loss: 1.0795e-04 - acc: 1.0000 - recall: 1.0000 - precision: 1.0000 - val_loss: 0.0044 - val_acc: 1.0000 - val_recall: 1.0000 - val_precision: 1.0000\n",
            "Epoch 12/100\n",
            "71/71 [==============================] - 4s 59ms/step - loss: 1.3941e-04 - acc: 1.0000 - recall: 1.0000 - precision: 1.0000 - val_loss: 0.0031 - val_acc: 1.0000 - val_recall: 1.0000 - val_precision: 1.0000\n",
            "Epoch 13/100\n",
            "71/71 [==============================] - 4s 59ms/step - loss: 6.6831e-05 - acc: 1.0000 - recall: 1.0000 - precision: 1.0000 - val_loss: 0.0030 - val_acc: 1.0000 - val_recall: 1.0000 - val_precision: 1.0000\n",
            "Epoch 14/100\n",
            "71/71 [==============================] - 4s 61ms/step - loss: 5.4120e-05 - acc: 1.0000 - recall: 1.0000 - precision: 1.0000 - val_loss: 0.0023 - val_acc: 1.0000 - val_recall: 1.0000 - val_precision: 1.0000\n",
            "Epoch 15/100\n",
            "71/71 [==============================] - 4s 60ms/step - loss: 4.5500e-05 - acc: 1.0000 - recall: 1.0000 - precision: 1.0000 - val_loss: 0.0020 - val_acc: 1.0000 - val_recall: 1.0000 - val_precision: 1.0000\n",
            "Epoch 16/100\n",
            "71/71 [==============================] - 4s 60ms/step - loss: 4.0870e-05 - acc: 1.0000 - recall: 1.0000 - precision: 1.0000 - val_loss: 0.0019 - val_acc: 1.0000 - val_recall: 1.0000 - val_precision: 1.0000\n",
            "Epoch 17/100\n",
            "71/71 [==============================] - 4s 60ms/step - loss: 5.1936e-05 - acc: 1.0000 - recall: 1.0000 - precision: 1.0000 - val_loss: 0.0016 - val_acc: 1.0000 - val_recall: 1.0000 - val_precision: 1.0000\n",
            "Epoch 18/100\n",
            "71/71 [==============================] - 4s 63ms/step - loss: 4.0925e-05 - acc: 1.0000 - recall: 1.0000 - precision: 1.0000 - val_loss: 0.0015 - val_acc: 1.0000 - val_recall: 1.0000 - val_precision: 1.0000\n",
            "Epoch 19/100\n",
            "71/71 [==============================] - 4s 59ms/step - loss: 4.1744e-05 - acc: 1.0000 - recall: 1.0000 - precision: 1.0000 - val_loss: 0.0013 - val_acc: 1.0000 - val_recall: 1.0000 - val_precision: 1.0000\n",
            "Epoch 20/100\n",
            "71/71 [==============================] - 4s 60ms/step - loss: 2.8981e-05 - acc: 1.0000 - recall: 1.0000 - precision: 1.0000 - val_loss: 0.0010 - val_acc: 1.0000 - val_recall: 1.0000 - val_precision: 1.0000\n",
            "Epoch 21/100\n",
            "71/71 [==============================] - 4s 58ms/step - loss: 2.9304e-05 - acc: 1.0000 - recall: 1.0000 - precision: 1.0000 - val_loss: 0.0010 - val_acc: 1.0000 - val_recall: 1.0000 - val_precision: 1.0000\n",
            "Epoch 22/100\n",
            "71/71 [==============================] - 4s 59ms/step - loss: 3.7125e-05 - acc: 1.0000 - recall: 1.0000 - precision: 1.0000 - val_loss: 3.6464e-04 - val_acc: 1.0000 - val_recall: 1.0000 - val_precision: 1.0000\n",
            "Epoch 23/100\n",
            "71/71 [==============================] - 4s 60ms/step - loss: 2.3585e-05 - acc: 1.0000 - recall: 1.0000 - precision: 1.0000 - val_loss: 2.6370e-04 - val_acc: 1.0000 - val_recall: 1.0000 - val_precision: 1.0000\n",
            "Epoch 24/100\n",
            "71/71 [==============================] - 4s 58ms/step - loss: 1.7146e-05 - acc: 1.0000 - recall: 1.0000 - precision: 1.0000 - val_loss: 3.2206e-04 - val_acc: 1.0000 - val_recall: 1.0000 - val_precision: 1.0000\n",
            "Epoch 25/100\n",
            "71/71 [==============================] - 4s 58ms/step - loss: 5.0179e-05 - acc: 1.0000 - recall: 1.0000 - precision: 1.0000 - val_loss: 0.0012 - val_acc: 1.0000 - val_recall: 1.0000 - val_precision: 1.0000\n",
            "Epoch 26/100\n",
            "71/71 [==============================] - 4s 58ms/step - loss: 2.2290e-05 - acc: 1.0000 - recall: 1.0000 - precision: 1.0000 - val_loss: 7.5177e-04 - val_acc: 1.0000 - val_recall: 1.0000 - val_precision: 1.0000\n",
            "Epoch 27/100\n",
            "71/71 [==============================] - 4s 58ms/step - loss: 2.5470e-05 - acc: 1.0000 - recall: 1.0000 - precision: 1.0000 - val_loss: 5.9909e-04 - val_acc: 1.0000 - val_recall: 1.0000 - val_precision: 1.0000\n",
            "Epoch 28/100\n",
            "71/71 [==============================] - 4s 58ms/step - loss: 1.1445e-05 - acc: 1.0000 - recall: 1.0000 - precision: 1.0000 - val_loss: 5.3823e-04 - val_acc: 1.0000 - val_recall: 1.0000 - val_precision: 1.0000\n",
            "Epoch 29/100\n",
            "71/71 [==============================] - 4s 58ms/step - loss: 1.8734e-05 - acc: 1.0000 - recall: 1.0000 - precision: 1.0000 - val_loss: 4.4142e-04 - val_acc: 1.0000 - val_recall: 1.0000 - val_precision: 1.0000\n",
            "Epoch 30/100\n",
            "71/71 [==============================] - 4s 58ms/step - loss: 7.3052e-05 - acc: 1.0000 - recall: 1.0000 - precision: 1.0000 - val_loss: 4.1715e-04 - val_acc: 1.0000 - val_recall: 1.0000 - val_precision: 1.0000\n",
            "Epoch 31/100\n",
            "71/71 [==============================] - 4s 58ms/step - loss: 1.3570e-05 - acc: 1.0000 - recall: 1.0000 - precision: 1.0000 - val_loss: 0.0011 - val_acc: 1.0000 - val_recall: 1.0000 - val_precision: 1.0000\n",
            "Epoch 32/100\n",
            "71/71 [==============================] - 4s 60ms/step - loss: 7.4356e-05 - acc: 1.0000 - recall: 1.0000 - precision: 1.0000 - val_loss: 0.0028 - val_acc: 1.0000 - val_recall: 1.0000 - val_precision: 1.0000\n",
            "Epoch 33/100\n",
            "71/71 [==============================] - 4s 58ms/step - loss: 5.2282e-05 - acc: 1.0000 - recall: 1.0000 - precision: 1.0000 - val_loss: 0.0014 - val_acc: 1.0000 - val_recall: 1.0000 - val_precision: 1.0000\n",
            "Epoch 34/100\n",
            "71/71 [==============================] - 4s 58ms/step - loss: 2.5764e-05 - acc: 1.0000 - recall: 1.0000 - precision: 1.0000 - val_loss: 9.8783e-04 - val_acc: 1.0000 - val_recall: 1.0000 - val_precision: 1.0000\n",
            "Epoch 35/100\n",
            "71/71 [==============================] - 4s 58ms/step - loss: 2.2716e-05 - acc: 1.0000 - recall: 1.0000 - precision: 1.0000 - val_loss: 0.0108 - val_acc: 1.0000 - val_recall: 1.0000 - val_precision: 1.0000\n",
            "Epoch 36/100\n",
            "71/71 [==============================] - 4s 59ms/step - loss: 1.2857e-05 - acc: 1.0000 - recall: 1.0000 - precision: 1.0000 - val_loss: 0.0044 - val_acc: 1.0000 - val_recall: 1.0000 - val_precision: 1.0000\n"
          ]
        }
      ]
    },
    {
      "cell_type": "code",
      "source": [
        "model = create_model()\n",
        "model.load_weights(f'{OUT_PATH}/checkpoints/model-30-8-22-23-23')"
      ],
      "metadata": {
        "id": "_8K8VLrIoCqk",
        "colab": {
          "base_uri": "https://localhost:8080/"
        },
        "outputId": "7fb726af-9fcd-4748-e96b-81981fb123fc"
      },
      "execution_count": null,
      "outputs": [
        {
          "output_type": "execute_result",
          "data": {
            "text/plain": [
              "<tensorflow.python.training.tracking.util.CheckpointLoadStatus at 0x7f2a63606910>"
            ]
          },
          "metadata": {},
          "execution_count": 10
        }
      ]
    },
    {
      "cell_type": "code",
      "source": [
        "eval_history = model.evaluate(x_test, y_test)"
      ],
      "metadata": {
        "colab": {
          "base_uri": "https://localhost:8080/"
        },
        "id": "6o_-10qvjrAM",
        "outputId": "71a11bdb-6ccb-477b-81a1-dd44da1ef4e1"
      },
      "execution_count": null,
      "outputs": [
        {
          "output_type": "stream",
          "name": "stdout",
          "text": [
            "9/9 [==============================] - 12s 19ms/step - loss: 3.3979e-04 - acc: 1.0000 - recall: 1.0000 - precision: 1.0000\n"
          ]
        }
      ]
    },
    {
      "cell_type": "markdown",
      "source": [
        "## Metrics"
      ],
      "metadata": {
        "id": "kgeu_VGxqFKO"
      }
    },
    {
      "cell_type": "code",
      "source": [
        "y_pred = model.predict(x_test)"
      ],
      "metadata": {
        "id": "Z6X89WBuqHwL"
      },
      "execution_count": null,
      "outputs": []
    },
    {
      "cell_type": "markdown",
      "source": [
        "### Drawing ROC curve\n"
      ],
      "metadata": {
        "id": "Ymp8cMYSruTv"
      }
    },
    {
      "cell_type": "code",
      "source": [
        "# roc curve for logistic regression model with optimal threshold\n",
        "from numpy import sqrt\n",
        "from numpy import argmax\n",
        "from sklearn.metrics import roc_curve\n",
        "from sklearn.metrics import roc_auc_score\n",
        "from matplotlib import pyplot\n",
        "# keep probabilities for the positive outcome only\n",
        "y_pred = y_pred[:]\n",
        "# calculate scores\n",
        "ns_auc = roc_auc_score(y_test, y_pred)\n",
        "lr_auc = roc_auc_score(y_test, y_pred)\n",
        "# summarize scores\n",
        "print('Logistic: ROC AUC=%.3f' % (lr_auc))\n",
        "# calculate roc curves\n",
        "fpr, tpr, thresholds = roc_curve(y_test, y_pred)\n",
        "# calculate the g-mean for each threshold\n",
        "gmeans = sqrt(tpr * (1-fpr))\n",
        "# locate the index of the largest g-mean\n",
        "ix = argmax(gmeans)\n",
        "print('Best Threshold=%f, G-Mean=%.3f' % (thresholds[ix], gmeans[ix]))\n",
        "# plot the roc curve for the model\n",
        "pyplot.plot(fpr, tpr, marker='.', label='Logistic')\n",
        "pyplot.scatter(fpr[ix], tpr[ix], marker='o', color='black', label='Best')\n",
        "# axis labels\n",
        "pyplot.xlabel('False Positive Rate')\n",
        "pyplot.ylabel('True Positive Rate')\n",
        "pyplot.legend()\n",
        "# show the plot\n",
        "pyplot.show()\n"
      ],
      "metadata": {
        "colab": {
          "base_uri": "https://localhost:8080/",
          "height": 315
        },
        "id": "w5j3wcd7ryzg",
        "outputId": "71fadf88-8da5-4ac2-c02a-ba24250c6bcf"
      },
      "execution_count": null,
      "outputs": [
        {
          "output_type": "stream",
          "name": "stdout",
          "text": [
            "Logistic: ROC AUC=1.000\n",
            "Best Threshold=0.970337, G-Mean=1.000\n"
          ]
        },
        {
          "output_type": "display_data",
          "data": {
            "text/plain": [
              "<Figure size 432x288 with 1 Axes>"
            ],
            "image/png": "[encoded data removed]"
          },
          "metadata": {
            "needs_background": "light"
          }
        }
      ]
    },
    {
      "cell_type": "code",
      "source": [
        "fpr, tpr, threshold = roc_curve(y_test, y_pred, pos_label=1)\n",
        "fnr = 1 - tpr\n",
        "EER = fpr[np.nanargmin(np.absolute((fnr - fpr)))]\n",
        "print('EER: %f' % EER)"
      ],
      "metadata": {
        "colab": {
          "base_uri": "https://localhost:8080/"
        },
        "id": "dWyPfvqGr2-x",
        "outputId": "c03ce36d-3772-4d33-c573-28a958b3f02d"
      },
      "execution_count": null,
      "outputs": [
        {
          "output_type": "stream",
          "name": "stdout",
          "text": [
            "EER: 0.000000\n"
          ]
        }
      ]
    },
    {
      "cell_type": "markdown",
      "source": [
        "### Confusion Matrix"
      ],
      "metadata": {
        "id": "nTTndv0Zsipe"
      }
    },
    {
      "cell_type": "code",
      "source": [
        "y_pred = [1 * (x[0]>=thresholds[ix]) for x in y_pred]\n",
        "con_mat = tf.math.confusion_matrix(labels=y_test, predictions=y_pred).numpy()"
      ],
      "metadata": {
        "id": "MuFNV-gPskrA"
      },
      "execution_count": null,
      "outputs": []
    },
    {
      "cell_type": "code",
      "source": [
        "con_mat_norm = np.around(con_mat.astype('float') / con_mat.sum(axis=1)[:, np.newaxis], decimals=3)\n",
        " \n",
        "con_mat_df = pd.DataFrame(con_mat_norm,\n",
        "                     index = [0,1], \n",
        "                     columns = [0,1])"
      ],
      "metadata": {
        "id": "2dQAosDXsiKK"
      },
      "execution_count": null,
      "outputs": []
    },
    {
      "cell_type": "code",
      "source": [
        "figure = plt.figure(figsize=(8, 8))\n",
        "sns.heatmap(con_mat_df, annot=True,cmap=plt.cm.Blues)\n",
        "plt.tight_layout()\n",
        "plt.ylabel('True label')  \n",
        "plt.xlabel('Predicted label')\n",
        "plt.show()"
      ],
      "metadata": {
        "colab": {
          "base_uri": "https://localhost:8080/",
          "height": 599
        },
        "id": "5oE2u2rpsoYL",
        "outputId": "bff05d0a-2401-4b76-be7d-cbab051a1c60"
      },
      "execution_count": null,
      "outputs": [
        {
          "output_type": "display_data",
          "data": {
            "text/plain": [
              "<Figure size 576x576 with 2 Axes>"
            ],
            "image/png": "[encoded data removed]"
          },
          "metadata": {
            "needs_background": "light"
          }
        }
      ]
    },
    {
      "cell_type": "code",
      "source": [
        "acc = (con_mat[0][0] + con_mat[1][1]) / (con_mat[0][0] + con_mat[0][1] + con_mat[1][0] + con_mat[1][1]) \n",
        "print('Accuracy when predicting based on best threshold: %f' % acc)"
      ],
      "metadata": {
        "colab": {
          "base_uri": "https://localhost:8080/"
        },
        "id": "wDnd1PlAsuF7",
        "outputId": "8058ff5a-7d61-49b2-c930-52caa17f5273"
      },
      "execution_count": null,
      "outputs": [
        {
          "output_type": "stream",
          "name": "stdout",
          "text": [
            "Accuracy when predicting based on best threshold: 1.000000\n"
          ]
        }
      ]
    },
    {
      "cell_type": "markdown",
      "source": [
        "## Extract features from dense layer and use it to train an SVM classifier and a RF classifier"
      ],
      "metadata": {
        "id": "aKckwu9fs1As"
      }
    },
    {
      "cell_type": "code",
      "source": [
        "model_feat = keras.models.Model(inputs=model.input,outputs=model.layers[-7].output)"
      ],
      "metadata": {
        "id": "Z71Bh1BBs18V"
      },
      "execution_count": null,
      "outputs": []
    },
    {
      "cell_type": "code",
      "source": [
        "feat_train = model_feat.predict(x_train)\n",
        "print(feat_train.shape)\n",
        "\n",
        "feat_val = model_feat.predict(x_val)\n",
        "print(feat_val.shape)\n",
        "\n",
        "feat_test = model_feat.predict(x_test)\n",
        "print(feat_test.shape)"
      ],
      "metadata": {
        "colab": {
          "base_uri": "https://localhost:8080/"
        },
        "id": "8TWr7Lw9s5GR",
        "outputId": "b6b0568a-37b7-4dd6-fa2b-eee9ef1776b2"
      },
      "execution_count": null,
      "outputs": [
        {
          "output_type": "stream",
          "name": "stdout",
          "text": [
            "(1414, 2048)\n",
            "(284, 2048)\n",
            "(288, 2048)\n"
          ]
        }
      ]
    },
    {
      "cell_type": "code",
      "source": [
        "from sklearn.svm import SVC\n",
        "\n",
        "svm = SVC(kernel='rbf')\n",
        "\n",
        "svm.fit(feat_train,y_train)\n",
        "\n",
        "print('fitting done !!!')"
      ],
      "metadata": {
        "colab": {
          "base_uri": "https://localhost:8080/"
        },
        "id": "jXP1nBDytPaO",
        "outputId": "23affe7f-964d-4764-ed1c-599740f435d5"
      },
      "execution_count": null,
      "outputs": [
        {
          "output_type": "stream",
          "name": "stderr",
          "text": [
            "/usr/local/lib/python3.7/dist-packages/sklearn/utils/validation.py:993: DataConversionWarning: A column-vector y was passed when a 1d array was expected. Please change the shape of y to (n_samples, ), for example using ravel().\n",
            "  y = column_or_1d(y, warn=True)\n"
          ]
        },
        {
          "output_type": "stream",
          "name": "stdout",
          "text": [
            "fitting done !!!\n"
          ]
        }
      ]
    },
    {
      "cell_type": "code",
      "source": [
        "svm.score(feat_test,y_test)"
      ],
      "metadata": {
        "colab": {
          "base_uri": "https://localhost:8080/"
        },
        "id": "GuGN84CftReH",
        "outputId": "afcd2aec-024a-4968-928c-cac794ccaa48"
      },
      "execution_count": null,
      "outputs": [
        {
          "output_type": "execute_result",
          "data": {
            "text/plain": [
              "1.0"
            ]
          },
          "metadata": {},
          "execution_count": 30
        }
      ]
    },
    {
      "cell_type": "code",
      "source": [
        "with open('svm_model.pkl','wb') as f:\n",
        "    pickle.dump(svm,f)\n"
      ],
      "metadata": {
        "id": "_QG9NKtltVrA"
      },
      "execution_count": null,
      "outputs": []
    },
    {
      "cell_type": "markdown",
      "source": [
        "## Random Forest"
      ],
      "metadata": {
        "id": "zgwGq6M_uHuy"
      }
    },
    {
      "cell_type": "code",
      "source": [
        "from sklearn.ensemble import RandomForestClassifier\n",
        "clf = RandomForestClassifier(max_depth=5, random_state=0)\n",
        "clf.fit(feat_train, y_train)\n",
        "\n",
        "clf.score(feat_test,y_test)"
      ],
      "metadata": {
        "colab": {
          "base_uri": "https://localhost:8080/"
        },
        "id": "2dIIqltSuJ78",
        "outputId": "b7988e6e-ec64-44c5-e16b-b42306161fc6"
      },
      "execution_count": null,
      "outputs": [
        {
          "output_type": "stream",
          "name": "stderr",
          "text": [
            "/usr/local/lib/python3.7/dist-packages/ipykernel_launcher.py:3: DataConversionWarning: A column-vector y was passed when a 1d array was expected. Please change the shape of y to (n_samples,), for example using ravel().\n",
            "  This is separate from the ipykernel package so we can avoid doing imports until\n"
          ]
        },
        {
          "output_type": "execute_result",
          "data": {
            "text/plain": [
              "1.0"
            ]
          },
          "metadata": {},
          "execution_count": 38
        }
      ]
    },
    {
      "cell_type": "code",
      "source": [
        "with open('forest_model.pkl','wb') as f:\n",
        "    pickle.dump(clf,f)"
      ],
      "metadata": {
        "id": "fm7O2PzTuUF_"
      },
      "execution_count": null,
      "outputs": []
    }
  ]
}