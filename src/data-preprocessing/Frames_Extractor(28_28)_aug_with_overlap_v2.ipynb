{
  "cells": [
    {
      "cell_type": "markdown",
      "metadata": {
        "id": "view-in-github",
        "colab_type": "text"
      },
      "source": [
        "<a href=\"https://colab.research.google.com/github/moharamfatema/graduation-project/blob/main/src/data-preprocessing/Frames_Extractor(28_28)_aug_with_overlap_v2.ipynb\" target=\"_parent\"><img src=\"https://colab.research.google.com/assets/colab-badge.svg\" alt=\"Open In Colab\"/></a>"
      ]
    },
    {
      "cell_type": "code",
      "source": [
        "! pip install npy_append_array"
      ],
      "metadata": {
        "colab": {
          "base_uri": "https://localhost:8080/"
        },
        "id": "scHxfjr9DtoO",
        "outputId": "491ea73d-c29a-4e48-e33c-6e714ff2d733"
      },
      "execution_count": null,
      "outputs": [
        {
          "output_type": "stream",
          "name": "stdout",
          "text": [
            "Looking in indexes: https://pypi.org/simple, https://us-python.pkg.dev/colab-wheels/public/simple/\n",
            "Collecting npy_append_array\n",
            "  Downloading npy_append_array-0.9.16-py3-none-any.whl (9.0 kB)\n",
            "Installing collected packages: npy_append_array\n",
            "Successfully installed npy_append_array-0.9.16\n"
          ]
        }
      ]
    },
    {
      "cell_type": "code",
      "execution_count": null,
      "metadata": {
        "colab": {
          "base_uri": "https://localhost:8080/"
        },
        "id": "XGIGh-vKhjeL",
        "outputId": "f9809868-ad6d-4143-f33f-198d7fb6792a"
      },
      "outputs": [
        {
          "output_type": "stream",
          "name": "stdout",
          "text": [
            "Mounted at /content/drive\n"
          ]
        }
      ],
      "source": [
        "import os\n",
        "import cv2\n",
        "import numpy as np\n",
        "from npy_append_array import NpyAppendArray\n",
        "from google.colab import drive\n",
        "drive.mount('/content/drive')"
      ]
    },
    {
      "cell_type": "code",
      "execution_count": null,
      "metadata": {
        "id": "XqPo68IRhjeO"
      },
      "outputs": [],
      "source": [
        "INPUT_SHAPE = (28,28,28)\n",
        "ROOT = '/content/drive/MyDrive/Datasets/LAD-2000'\n",
        "out = '/content/drive/MyDrive/Datasets/LAD-2000/Extracted_Frames'"
      ]
    },
    {
      "cell_type": "code",
      "execution_count": null,
      "metadata": {
        "id": "4wP2HxDahjeQ"
      },
      "outputs": [],
      "source": [
        "def extract_frames(root,\n",
        "                   label,\n",
        "                   out,\n",
        "                   packet_shape=INPUT_SHAPE,\n",
        "                   n_class_packets_threshold=None,\n",
        "                   overlap=0):\n",
        "  '''\n",
        "    summary:\n",
        "    transform videos located at root into 2 numpy arrays [X, y] loacated at out\n",
        "  '''\n",
        "  # initiate packets counter\n",
        "  n_class_packets = 0\n",
        "\n",
        "  # initiate packet\n",
        "  packet = np.empty(packet_shape,\n",
        "                    dtype=np.uint8)\n",
        "\n",
        "  # unique packet frames count\n",
        "  n_unique_frames = packet_shape[0] - overlap\n",
        "\n",
        "  # intiate extracted frames X ndarray\n",
        "  with NpyAppendArray(out + 'X.npy') as npaa:\n",
        "\n",
        "    # loop on videos locations\n",
        "    for subdir, _, videos_paths in [*os.walk(root)]:\n",
        "      for video_path in videos_paths:\n",
        "        #print(video_path)\n",
        "        # initate capture\n",
        "        cap = cv2.VideoCapture(subdir + os.sep + video_path)\n",
        "\n",
        "        # print('full_path', subdir + os.sep +  video_path)\n",
        "\n",
        "        # TODO: Reformulate considering overlaps\n",
        "        # Calculate packets per video\n",
        "        n_video_packets = (int(cap.get(cv2.CAP_PROP_FRAME_COUNT)) - overlap) // n_unique_frames\n",
        "        # print(n_video_packets)\n",
        "        if n_video_packets <= 0:\n",
        "          continue\n",
        "\n",
        "        # accumulate class whole packets count\n",
        "        n_class_packets += n_video_packets\n",
        "\n",
        "\n",
        "        # initiate video packets array\n",
        "        video_packets = np.empty((n_video_packets,) + packet_shape,\n",
        "                                dtype=np.uint8)\n",
        "\n",
        "\n",
        "        for j in range(packet_shape[0]):\n",
        "\n",
        "          # read the frame\n",
        "          ret, frame = cap.read()\n",
        "\n",
        "          # NOTE: is it the best interpolation?\n",
        "          # resize frame shape\n",
        "          # if ret:\n",
        "\n",
        "          frame = cv2.resize(frame, packet_shape[1:], interpolation=cv2.INTER_AREA)\n",
        "\n",
        "          # assure grayscale\n",
        "          if len(frame.shape) > 2:\n",
        "              frame = cv2.cvtColor(frame, cv2.COLOR_BGR2GRAY)\n",
        "\n",
        "          # assign to packet\n",
        "          packet[j] = frame\n",
        "\n",
        "        # assign to video packets\n",
        "        video_packets[0] = packet\n",
        "\n",
        "        # loop on video frames\n",
        "        for i in range(1, n_video_packets):\n",
        "\n",
        "          if overlap > 0:\n",
        "            packet[:overlap] = packet[-overlap:]\n",
        "          # packet[:overlap] = packet[-overlap:] if overlap > 0 else packet[:overlap]\n",
        "          # loop on packet size\n",
        "          for j in range(overlap, packet_shape[0]):\n",
        "              # print(j)\n",
        "              # read the frame\n",
        "              ret, frame = cap.read()\n",
        "              #print(frame.dtype)\n",
        "              # NOTE: is it the best interpolation?\n",
        "              # resize frame shape\n",
        "              # if ret:\n",
        "              frame = cv2.resize(frame, packet_shape[1:], interpolation=cv2.INTER_AREA)\n",
        "\n",
        "              # assure grayscale\n",
        "              if len(frame.shape) > 2:\n",
        "                frame = cv2.cvtColor(frame, cv2.COLOR_BGR2GRAY)\n",
        "\n",
        "              # assign to packet\n",
        "              packet[j] = frame\n",
        "\n",
        "          # assign to video packets\n",
        "          video_packets[i] = packet\n",
        "\n",
        "        cv2.destroyAllWindows()\n",
        "\n",
        "        # print(video_packets.shape)\n",
        "        # save video packets\n",
        "        npaa.append(video_packets)\n",
        "\n",
        "        if n_class_packets_threshold and n_class_packets >= n_class_packets_threshold:\n",
        "          break\n",
        "      if n_class_packets_threshold and n_class_packets >= n_class_packets_threshold:\n",
        "        break\n",
        "\n",
        "  print('for', label, n_class_packets)\n",
        "  # save labels array\n",
        "  y = np.full((n_class_packets, 1), label, dtype=np.uint8)\n",
        "  with NpyAppendArray(out + 'y.npy') as npaa:\n",
        "    npaa.append(y)"
      ]
    },
    {
      "cell_type": "markdown",
      "source": [
        "# New Section"
      ],
      "metadata": {
        "id": "2p0YvuDQn0M5"
      }
    },
    {
      "cell_type": "code",
      "source": [
        "len([f for f in os.listdir(ROOT + '/Violent/train/Crash') if os.path.isfile(os.path.join(ROOT + '/Violent/train/Crash', f))])"
      ],
      "metadata": {
        "id": "HRfOSX33vADu",
        "outputId": "e2593fec-37ea-4585-d4ef-897cddaf1da6",
        "colab": {
          "base_uri": "https://localhost:8080/"
        }
      },
      "execution_count": null,
      "outputs": [
        {
          "output_type": "execute_result",
          "data": {
            "text/plain": [
              "44"
            ]
          },
          "metadata": {},
          "execution_count": 13
        }
      ]
    },
    {
      "cell_type": "code",
      "execution_count": null,
      "metadata": {
        "id": "U9LaPSsbhjeU"
      },
      "outputs": [],
      "source": [
        "def write_labels(out, label, n_class_packets):\n",
        "    y = np.full((n_class_packets, 1), label, dtype=np.uint8)\n",
        "    with NpyAppendArray(out + 'y.npy') as npaa:\n",
        "        npaa.append(y)"
      ]
    },
    {
      "cell_type": "code",
      "execution_count": null,
      "metadata": {
        "id": "1_aqBL7phjeU"
      },
      "outputs": [],
      "source": [
        "# train\n",
        "write_labels('/home/azureuser/Datasets/Extracted-Frames/Train/', 0, 156032 - 35744)\n",
        "write_labels('/home/azureuser/Datasets/Extracted-Frames/Train/', 1, 35744)"
      ]
    },
    {
      "cell_type": "code",
      "execution_count": null,
      "metadata": {
        "id": "yDqP6YWHhjeV"
      },
      "outputs": [],
      "source": [
        "# test\n",
        "write_labels('/home/azureuser/Datasets/Extracted-Frames/Test/', 0, 39187 - 7939)\n",
        "write_labels('/home/azureuser/Datasets/Extracted-Frames/Test/', 1, 7939)"
      ]
    },
    {
      "cell_type": "code",
      "execution_count": null,
      "metadata": {
        "id": "74UnnK2ShjeW"
      },
      "outputs": [],
      "source": [
        "# val\n",
        "write_labels('/home/azureuser/Datasets/Extracted-Frames/Val/', 0, 46486 - 8588)\n",
        "write_labels('/home/azureuser/Datasets/Extracted-Frames/Val/', 1, 8588)"
      ]
    },
    {
      "cell_type": "markdown",
      "source": [
        "# New Section"
      ],
      "metadata": {
        "id": "Z1dWeNYLn5gn"
      }
    },
    {
      "cell_type": "code",
      "source": [
        "#extract_frames(ROOT + 'Non-Violent/train/', 0, out + 'Train/')"
      ],
      "metadata": {
        "id": "rcS5Dvp_I98V"
      },
      "execution_count": null,
      "outputs": []
    },
    {
      "cell_type": "code",
      "execution_count": null,
      "metadata": {
        "id": "44bUy0hdhjeX",
        "outputId": "1624e400-9e5d-4893-b633-0fc3e446bf70",
        "colab": {
          "base_uri": "https://localhost:8080/"
        }
      },
      "outputs": [
        {
          "output_type": "stream",
          "name": "stdout",
          "text": [
            "for 0 64053\n"
          ]
        }
      ],
      "source": [
        "# train\n",
        "extract_frames(ROOT + 'Non-Violent/train/', 0, out + 'Train/')\n"
      ]
    },
    {
      "cell_type": "code",
      "source": [
        "extract_frames(ROOT + 'Violent/train/', 1, out + 'Train/', overlap=27)"
      ],
      "metadata": {
        "colab": {
          "base_uri": "https://localhost:8080/"
        },
        "id": "b7K3UzTYA4JB",
        "outputId": "96253215-8d96-44e2-c73c-102a5e1035cf"
      },
      "execution_count": null,
      "outputs": [
        {
          "output_type": "stream",
          "name": "stdout",
          "text": [
            "for 1 517609\n"
          ]
        }
      ]
    },
    {
      "cell_type": "code",
      "source": [
        "X = np.load('/content/drive/MyDrive/All extracted frames/UCF-crime 28/Train/X.npy')\n",
        "y = np.load('/content/drive/MyDrive/All extracted frames/UCF-crime 28/Train/y.npy')"
      ],
      "metadata": {
        "id": "ccm00rY_w6Kp"
      },
      "execution_count": null,
      "outputs": []
    },
    {
      "cell_type": "code",
      "source": [
        "X.shape"
      ],
      "metadata": {
        "colab": {
          "base_uri": "https://localhost:8080/"
        },
        "id": "pURFGYMWBqIM",
        "outputId": "f90a86c0-eac0-40ba-beaa-efe75cbff00f"
      },
      "execution_count": null,
      "outputs": [
        {
          "output_type": "execute_result",
          "data": {
            "text/plain": [
              "(46535, 28, 28, 28)"
            ]
          },
          "metadata": {},
          "execution_count": 14
        }
      ]
    },
    {
      "cell_type": "code",
      "execution_count": null,
      "metadata": {
        "id": "bQ-w8jwhhjeY",
        "outputId": "ec0d22c3-cf95-4186-ac43-b234c9866182",
        "colab": {
          "base_uri": "https://localhost:8080/",
          "height": 321
        }
      },
      "outputs": [
        {
          "output_type": "error",
          "ename": "KeyboardInterrupt",
          "evalue": "ignored",
          "traceback": [
            "\u001b[0;31m---------------------------------------------------------------------------\u001b[0m",
            "\u001b[0;31mKeyboardInterrupt\u001b[0m                         Traceback (most recent call last)",
            "\u001b[0;32m<ipython-input-7-9eb1e7a248f8>\u001b[0m in \u001b[0;36m<module>\u001b[0;34m\u001b[0m\n\u001b[1;32m      1\u001b[0m \u001b[0;31m# test\u001b[0m\u001b[0;34m\u001b[0m\u001b[0;34m\u001b[0m\u001b[0m\n\u001b[0;32m----> 2\u001b[0;31m \u001b[0mextract_frames\u001b[0m\u001b[0;34m(\u001b[0m\u001b[0mROOT\u001b[0m \u001b[0;34m+\u001b[0m \u001b[0;34m'Non-Violent/test/'\u001b[0m\u001b[0;34m,\u001b[0m \u001b[0;36m0\u001b[0m\u001b[0;34m,\u001b[0m \u001b[0mout\u001b[0m \u001b[0;34m+\u001b[0m \u001b[0;34m'Test/'\u001b[0m\u001b[0;34m)\u001b[0m\u001b[0;34m\u001b[0m\u001b[0;34m\u001b[0m\u001b[0m\n\u001b[0m\u001b[1;32m      3\u001b[0m \u001b[0mextract_frames\u001b[0m\u001b[0;34m(\u001b[0m\u001b[0mROOT\u001b[0m \u001b[0;34m+\u001b[0m \u001b[0;34m'Violent/test/'\u001b[0m\u001b[0;34m,\u001b[0m \u001b[0;36m1\u001b[0m\u001b[0;34m,\u001b[0m \u001b[0mout\u001b[0m \u001b[0;34m+\u001b[0m \u001b[0;34m'Test/'\u001b[0m\u001b[0;34m,\u001b[0m \u001b[0moverlap\u001b[0m\u001b[0;34m=\u001b[0m\u001b[0;36m21\u001b[0m\u001b[0;34m)\u001b[0m\u001b[0;34m\u001b[0m\u001b[0;34m\u001b[0m\u001b[0m\n",
            "\u001b[0;32m<ipython-input-5-4d82f01ba708>\u001b[0m in \u001b[0;36mextract_frames\u001b[0;34m(root, label, out, packet_shape, n_class_packets_threshold, overlap)\u001b[0m\n\u001b[1;32m     27\u001b[0m         \u001b[0;31m#print(video_path)\u001b[0m\u001b[0;34m\u001b[0m\u001b[0;34m\u001b[0m\u001b[0m\n\u001b[1;32m     28\u001b[0m         \u001b[0;31m# initate capture\u001b[0m\u001b[0;34m\u001b[0m\u001b[0;34m\u001b[0m\u001b[0m\n\u001b[0;32m---> 29\u001b[0;31m         \u001b[0mcap\u001b[0m \u001b[0;34m=\u001b[0m \u001b[0mcv2\u001b[0m\u001b[0;34m.\u001b[0m\u001b[0mVideoCapture\u001b[0m\u001b[0;34m(\u001b[0m\u001b[0msubdir\u001b[0m \u001b[0;34m+\u001b[0m \u001b[0mos\u001b[0m\u001b[0;34m.\u001b[0m\u001b[0msep\u001b[0m \u001b[0;34m+\u001b[0m \u001b[0mvideo_path\u001b[0m\u001b[0;34m)\u001b[0m\u001b[0;34m\u001b[0m\u001b[0;34m\u001b[0m\u001b[0m\n\u001b[0m\u001b[1;32m     30\u001b[0m \u001b[0;34m\u001b[0m\u001b[0m\n\u001b[1;32m     31\u001b[0m         \u001b[0;31m# print('full_path', subdir + os.sep +  video_path)\u001b[0m\u001b[0;34m\u001b[0m\u001b[0;34m\u001b[0m\u001b[0m\n",
            "\u001b[0;31mKeyboardInterrupt\u001b[0m: "
          ]
        }
      ],
      "source": [
        "# test\n",
        "extract_frames(ROOT + 'Non-Violent/test/', 0, out + 'Test/')\n",
        "extract_frames(ROOT + 'Violent/test/', 1, out + 'Test/', overlap=21)"
      ]
    },
    {
      "cell_type": "code",
      "source": [
        "X_test = np.load('/content/drive/MyDrive/All extracted frames/UCF-crime 28/Test/X.npy')\n",
        "y_test = np.load('/content/drive/MyDrive/All extracted frames/UCF-crime 28/Test/y.npy')\n",
        "\n"
      ],
      "metadata": {
        "id": "-1q4yjrmxXM_"
      },
      "execution_count": null,
      "outputs": []
    },
    {
      "cell_type": "code",
      "source": [
        "X_test.shape"
      ],
      "metadata": {
        "colab": {
          "base_uri": "https://localhost:8080/"
        },
        "id": "v6FKPGXUuTX1",
        "outputId": "034a827f-02d8-4482-8891-2099ea0f535b"
      },
      "execution_count": null,
      "outputs": [
        {
          "output_type": "execute_result",
          "data": {
            "text/plain": [
              "(12200, 28, 28, 28)"
            ]
          },
          "metadata": {},
          "execution_count": 16
        }
      ]
    },
    {
      "cell_type": "code",
      "source": [
        "del X_test, y_test"
      ],
      "metadata": {
        "id": "XZvyeueevVEW"
      },
      "execution_count": null,
      "outputs": []
    },
    {
      "cell_type": "code",
      "source": [
        "X = np.concatenate((X,X_test))\n",
        "y= np.concatenate((y,y_test))\n",
        "print(X.shape)\n",
        "print(y.shape)"
      ],
      "metadata": {
        "colab": {
          "base_uri": "https://localhost:8080/"
        },
        "id": "Db4t1Fd4urSX",
        "outputId": "b253c463-1149-483e-fce0-2977adb0ac6c"
      },
      "execution_count": null,
      "outputs": [
        {
          "output_type": "stream",
          "name": "stdout",
          "text": [
            "(58735, 28, 28, 28)\n",
            "(58735, 1)\n"
          ]
        }
      ]
    },
    {
      "cell_type": "code",
      "execution_count": null,
      "metadata": {
        "id": "Dudrme7ehjeZ",
        "colab": {
          "base_uri": "https://localhost:8080/"
        },
        "outputId": "1fe0adba-ded5-4151-c621-b8b56654e581"
      },
      "outputs": [
        {
          "output_type": "stream",
          "name": "stdout",
          "text": [
            "for 0 9643\n",
            "for 1 4175\n"
          ]
        }
      ],
      "source": [
        "# val\n",
        "#extract_frames(ROOT + 'Non-Violent/val/', 0, out + 'Val/')\n",
        "#extract_frames(ROOT + 'Violent/val/', 1, out + 'Val/')"
      ]
    },
    {
      "cell_type": "code",
      "source": [
        "X_val = np.load('/content/drive/MyDrive/All extracted frames/UCF-crime 28/Val/X.npy')\n",
        "y_val = np.load('/content/drive/MyDrive/All extracted frames/UCF-crime 28/Val/y.npy')\n"
      ],
      "metadata": {
        "id": "VfgXPtLcxc4y"
      },
      "execution_count": null,
      "outputs": []
    },
    {
      "cell_type": "code",
      "source": [
        "X = np.concatenate((X, X_val))\n",
        "y = np.concatenate((y,y_val))\n",
        "print(X.shape)\n",
        "print(y.shape)"
      ],
      "metadata": {
        "colab": {
          "base_uri": "https://localhost:8080/"
        },
        "id": "ZtbFfAq5vLFw",
        "outputId": "7113552a-1f74-4bdf-927b-bc6bed5755e0"
      },
      "execution_count": null,
      "outputs": [
        {
          "output_type": "stream",
          "name": "stdout",
          "text": [
            "(72553, 28, 28, 28)\n",
            "(72553, 1)\n"
          ]
        }
      ]
    },
    {
      "cell_type": "code",
      "source": [
        "from sklearn.utils import shuffle\n",
        "X, y = shuffle(X, y)"
      ],
      "metadata": {
        "id": "R53hY_T-vu1m"
      },
      "execution_count": null,
      "outputs": []
    },
    {
      "cell_type": "code",
      "source": [
        "from sklearn.model_selection import train_test_split"
      ],
      "metadata": {
        "id": "TzG-93MTyThw"
      },
      "execution_count": null,
      "outputs": []
    },
    {
      "cell_type": "code",
      "source": [
        "X_train, X_test, y_train, y_test = train_test_split(X, y, test_size=0.2, random_state=42)\n",
        "X_train, X_val, y_train, y_val = train_test_split(X_train, y_train, test_size=0.1, random_state=42)"
      ],
      "metadata": {
        "id": "L2lN6woiypGc"
      },
      "execution_count": null,
      "outputs": []
    },
    {
      "cell_type": "code",
      "source": [
        "np.save('/content/drive/MyDrive/All extracted frames/UCF-crime 28/Shuffled/Train/X', X_train)\n",
        "np.save('/content/drive/MyDrive/All extracted frames/UCF-crime 28/Shuffled/Train/y', y_train)"
      ],
      "metadata": {
        "id": "Hx6SG3clzHjx"
      },
      "execution_count": null,
      "outputs": []
    },
    {
      "cell_type": "code",
      "source": [
        "np.save('/content/drive/MyDrive/All extracted frames/UCF-crime 28/Shuffled/Test/X', X_test)\n",
        "np.save('/content/drive/MyDrive/All extracted frames/UCF-crime 28/Shuffled/Test/y', y_test)"
      ],
      "metadata": {
        "id": "EfuAPtp2zsOt"
      },
      "execution_count": null,
      "outputs": []
    },
    {
      "cell_type": "code",
      "source": [
        "np.save('/content/drive/MyDrive/All extracted frames/UCF-crime 28/Shuffled/Val/X', X_val)\n",
        "np.save('/content/drive/MyDrive/All extracted frames/UCF-crime 28/Shuffled/Val/y', y_val)"
      ],
      "metadata": {
        "id": "e4rmw0FlzsE6"
      },
      "execution_count": null,
      "outputs": []
    },
    {
      "cell_type": "code",
      "source": [
        "for x in range(1, 0):\n",
        "  print(x)"
      ],
      "metadata": {
        "id": "nWAiBd1jGsO6"
      },
      "execution_count": null,
      "outputs": []
    },
    {
      "cell_type": "code",
      "source": [
        "x = [1, 2, 3]\n",
        "x[:0]"
      ],
      "metadata": {
        "colab": {
          "base_uri": "https://localhost:8080/"
        },
        "id": "kgwiNsxXfsBd",
        "outputId": "e31c08eb-1232-428c-cb9d-784b584fab92"
      },
      "execution_count": null,
      "outputs": [
        {
          "output_type": "execute_result",
          "data": {
            "text/plain": [
              "[]"
            ]
          },
          "metadata": {},
          "execution_count": 53
        }
      ]
    }
  ],
  "metadata": {
    "kernelspec": {
      "display_name": "azureml_py310_sdkv2",
      "language": "python",
      "name": "python3"
    },
    "language_info": {
      "codemirror_mode": {
        "name": "ipython",
        "version": 3
      },
      "file_extension": ".py",
      "mimetype": "text/x-python",
      "name": "python",
      "nbconvert_exporter": "python",
      "pygments_lexer": "ipython3",
      "version": "3.10.9"
    },
    "orig_nbformat": 4,
    "vscode": {
      "interpreter": {
        "hash": "2139c70ac98f3202d028164a545621647e07f47fd6f5d8ac55cf952bf7c15ed1"
      }
    },
    "colab": {
      "provenance": [],
      "collapsed_sections": [
        "2p0YvuDQn0M5"
      ],
      "include_colab_link": true
    }
  },
  "nbformat": 4,
  "nbformat_minor": 0
}