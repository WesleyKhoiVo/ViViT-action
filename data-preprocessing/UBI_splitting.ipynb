{
  "nbformat": 4,
  "nbformat_minor": 0,
  "metadata": {
    "colab": {
      "provenance": [],
      "authorship_tag": "ABX9TyO7kxa77AS4DJP2/7g0XX+S",
      "include_colab_link": true
    },
    "kernelspec": {
      "name": "python3",
      "display_name": "Python 3"
    },
    "language_info": {
      "name": "python"
    }
  },
  "cells": [
    {
      "cell_type": "markdown",
      "metadata": {
        "id": "view-in-github",
        "colab_type": "text"
      },
      "source": [
        "<a href=\"https://colab.research.google.com/github/moharamfatema/graduation-project/blob/main/data-preprocessing/UBI_splitting.ipynb\" target=\"_parent\"><img src=\"https://colab.research.google.com/assets/colab-badge.svg\" alt=\"Open In Colab\"/></a>"
      ]
    },
    {
      "cell_type": "code",
      "source": [
        "! pip install npy_append_array"
      ],
      "metadata": {
        "colab": {
          "base_uri": "https://localhost:8080/"
        },
        "id": "8538CufWp81A",
        "outputId": "226e85ca-96a9-489d-c544-f8dfe7ca4772"
      },
      "execution_count": 1,
      "outputs": [
        {
          "output_type": "stream",
          "name": "stdout",
          "text": [
            "Looking in indexes: https://pypi.org/simple, https://us-python.pkg.dev/colab-wheels/public/simple/\n",
            "Collecting npy_append_array\n",
            "  Downloading npy_append_array-0.9.16-py3-none-any.whl (9.0 kB)\n",
            "Installing collected packages: npy_append_array\n",
            "Successfully installed npy_append_array-0.9.16\n"
          ]
        }
      ]
    },
    {
      "cell_type": "code",
      "source": [
        "from google.colab import drive\n",
        "drive.mount('/gdrive')"
      ],
      "metadata": {
        "colab": {
          "base_uri": "https://localhost:8080/"
        },
        "id": "AnmA1KcxadgV",
        "outputId": "2ed0027d-9ef8-4e34-b980-05588e0abbae"
      },
      "execution_count": 2,
      "outputs": [
        {
          "output_type": "stream",
          "name": "stdout",
          "text": [
            "Mounted at /gdrive\n"
          ]
        }
      ]
    },
    {
      "cell_type": "code",
      "source": [
        "from tqdm import tqdm\n",
        "import numpy as np\n",
        "from npy_append_array import NpyAppendArray as npaa\n",
        "import gc"
      ],
      "metadata": {
        "id": "3FWx_KLqcgug"
      },
      "execution_count": 3,
      "outputs": []
    },
    {
      "cell_type": "code",
      "execution_count": 4,
      "metadata": {
        "id": "3fRvoO-kaWHk"
      },
      "outputs": [],
      "source": [
        "ROOT = '/gdrive/MyDrive/Datasets/UBI_FIGHTS/extracted'\n",
        "shape_x, shape_y = (299354, 28, 28, 28), (299354, 1)"
      ]
    },
    {
      "cell_type": "code",
      "source": [
        "dtype = np.float32\n",
        "mode = 'r'\n",
        "xmap = np.memmap(ROOT+'/x.npy',dtype=dtype, shape=shape_x, mode=mode)"
      ],
      "metadata": {
        "id": "0VnhRUoVeY6P"
      },
      "execution_count": 5,
      "outputs": []
    },
    {
      "cell_type": "code",
      "source": [
        "def perm_to_file(arr, perm:np.ndarray, filename:str,batch_size=1e4):\n",
        "    with npaa(filename) as x:\n",
        "        start = 0\n",
        "        loop_end = int(max(len(perm),batch_size))\n",
        "        loop_start = int(min(len(perm),batch_size))\n",
        "        loop = [i for i in range(loop_start, loop_end,int(batch_size))]\n",
        "        loop.append(len(perm))\n",
        "        print(loop)\n",
        "        for i in tqdm(loop):\n",
        "            end = min(i, perm.shape[0])\n",
        "            x.append(arr[start:end])\n",
        "            # print(start,end)\n",
        "            start = end\n",
        "        "
      ],
      "metadata": {
        "id": "s0JBTK0kplYO"
      },
      "execution_count": 6,
      "outputs": []
    },
    {
      "cell_type": "markdown",
      "source": [
        "## Unbalanced data"
      ],
      "metadata": {
        "id": "WEJGOcTVLBzr"
      }
    },
    {
      "cell_type": "code",
      "source": [
        "# splitting 70 10 20\n",
        "np.random.seed(123)\n",
        "y = np.load(ROOT+'/y.npy')\n",
        "\n",
        "y_viol = np.argwhere(y == 1)\n",
        "y_norm = np.argwhere(y == 0)\n",
        "\n",
        "perm_viol  = np.random.permutation(y_viol.shape[0])\n",
        "train_ratio_viol = len(perm_viol) // 10 * 7\n",
        "val_ratio_viol   = train_ratio_viol + len(perm_viol) // 10 * 1\n",
        "\n",
        "print(train_ratio_viol, val_ratio_viol)\n",
        "\n",
        "perm_norm  = np.random.permutation(y_norm.shape[0])\n",
        "train_ratio_norm = len(perm_norm) // 10 * 7\n",
        "val_ratio_norm   = train_ratio_norm + len(perm_norm) // 10 \n",
        "\n",
        "print(train_ratio_norm, val_ratio_norm)\n",
        "\n"
      ],
      "metadata": {
        "colab": {
          "base_uri": "https://localhost:8080/"
        },
        "id": "hNqUyKuSeuVB",
        "outputId": "8474e5e8-b90f-4bc0-e122-e564cacd111f"
      },
      "execution_count": 7,
      "outputs": [
        {
          "output_type": "stream",
          "name": "stdout",
          "text": [
            "4774 5456\n",
            "204771 234024\n"
          ]
        }
      ]
    },
    {
      "cell_type": "code",
      "source": [
        "len(perm_norm)"
      ],
      "metadata": {
        "colab": {
          "base_uri": "https://localhost:8080/"
        },
        "id": "j-SZg8qfvYCe",
        "outputId": "652ecc15-1c00-4db5-fa0e-ea6bd259b8b0"
      },
      "execution_count": null,
      "outputs": [
        {
          "output_type": "execute_result",
          "data": {
            "text/plain": [
              "292531"
            ]
          },
          "metadata": {},
          "execution_count": 38
        }
      ]
    },
    {
      "cell_type": "code",
      "source": [
        "import matplotlib.pyplot as plt\n",
        "plt.imshow(xmap[8,5]*255.,cmap='gray')"
      ],
      "metadata": {
        "colab": {
          "base_uri": "https://localhost:8080/",
          "height": 320
        },
        "id": "KdqKSoqY_o2X",
        "outputId": "4227364d-e301-439c-c7ef-690ecc4b9014"
      },
      "execution_count": 14,
      "outputs": [
        {
          "output_type": "stream",
          "name": "stderr",
          "text": [
            "<ipython-input-14-220c8adb0cc7>:2: RuntimeWarning: overflow encountered in multiply\n",
            "  plt.imshow(xmap[8,5]*255.,cmap='gray')\n"
          ]
        },
        {
          "output_type": "execute_result",
          "data": {
            "text/plain": [
              "<matplotlib.image.AxesImage at 0x7fa609dd18e0>"
            ]
          },
          "metadata": {},
          "execution_count": 14
        },
        {
          "output_type": "display_data",
          "data": {
            "text/plain": [
              "<Figure size 432x288 with 1 Axes>"
            ],
            "image/png": "[encoded data removed]"
          },
          "metadata": {
            "needs_background": "light"
          }
        }
      ]
    },
    {
      "cell_type": "code",
      "source": [
        "train_perm = np.concatenate((perm_viol[:train_ratio_viol], perm_norm[:train_ratio_norm]))\n",
        "val_perm   = np.concatenate((perm_viol[train_ratio_viol:val_ratio_viol], perm_norm[train_ratio_norm:val_ratio_norm]))\n",
        "test_perm  = np.concatenate((perm_viol[val_ratio_viol:], perm_norm[val_ratio_norm:]))\n",
        "\n",
        "np.random.shuffle(train_perm)\n",
        "np.random.shuffle(val_perm)\n",
        "np.random.shuffle(test_perm)"
      ],
      "metadata": {
        "id": "FFEEIKbXlHQC"
      },
      "execution_count": 8,
      "outputs": []
    },
    {
      "cell_type": "code",
      "source": [
        "# perm_to_file(xmap, val_perm,ROOT+'/x_val.npy',batch_size=5e4)\n",
        "# perm_to_file(xmap, test_perm,ROOT+'/x_test.npy',batch_size=5e4)\n",
        "perm_to_file(xmap, train_perm,ROOT+'/x_train.npy',batch_size=5e4)"
      ],
      "metadata": {
        "colab": {
          "base_uri": "https://localhost:8080/"
        },
        "id": "OZtzwJbFr5ys",
        "outputId": "ea310e6c-b6db-4bf9-c311-5e1487e49d54"
      },
      "execution_count": 10,
      "outputs": [
        {
          "output_type": "stream",
          "name": "stdout",
          "text": [
            "[50000, 100000, 150000, 200000, 209545]\n"
          ]
        },
        {
          "output_type": "stream",
          "name": "stderr",
          "text": [
            "100%|██████████| 5/5 [04:47<00:00, 57.57s/it]\n"
          ]
        }
      ]
    },
    {
      "cell_type": "code",
      "source": [
        "np.save(ROOT+'/y_val'   ,y[val_perm])\n",
        "np.save(ROOT+'/y_test'  ,y[test_perm])\n",
        "np.save(ROOT+'/y_train' ,y[train_perm])"
      ],
      "metadata": {
        "id": "gEYojiS0r_rf"
      },
      "execution_count": null,
      "outputs": []
    },
    {
      "cell_type": "code",
      "source": [
        "!ls {ROOT} -l "
      ],
      "metadata": {
        "colab": {
          "base_uri": "https://localhost:8080/"
        },
        "id": "Y7c0U9vZuepH",
        "outputId": "c8097190-2ef9-42f1-ab17-541c1a1cf11f"
      },
      "execution_count": 26,
      "outputs": [
        {
          "output_type": "stream",
          "name": "stdout",
          "text": [
            "total 77013501\n",
            "drwx------ 2 root root        4096 Mar 12 16:44 balanced\n",
            "-rw------- 1 root root 52571352192 Mar 11 02:29 x.npy\n",
            "-rw------- 1 root root  5257416320 Mar 12 16:33 x_test.npy\n",
            "-rw------- 1 root root 18399727488 Mar 12 18:04 x_train.npy\n",
            "-rw------- 1 root root  2628532608 Mar 12 16:32 x_val.npy\n",
            "-rw------- 1 root root     2394960 Mar 11 02:09 y.npy\n",
            "-rw------- 1 root root      479120 Mar 11 22:16 y_test.npy\n",
            "-rw------- 1 root root     1676488 Mar 11 22:16 y_train.npy\n",
            "-rw------- 1 root root      239608 Mar 11 22:16 y_val.npy\n"
          ]
        }
      ]
    },
    {
      "cell_type": "markdown",
      "source": [
        "## Balanced data\n"
      ],
      "metadata": {
        "id": "jrEi-Aa1K9is"
      }
    },
    {
      "cell_type": "code",
      "source": [
        "# ! rm -rf {ROOT}/balanced\n",
        "# ! mkdir {ROOT}/balanced"
      ],
      "metadata": {
        "id": "w9ZylKboUswK"
      },
      "execution_count": null,
      "outputs": []
    },
    {
      "cell_type": "code",
      "source": [
        "OUT = '/gdrive/MyDrive/Datasets/UBI_FIGHTS/extracted/balanced'\n",
        "shape_x, shape_y = (299354, 28, 28, 28), (299354, 1)\n",
        "\n",
        "# splitting 70 10 20\n",
        "np.random.seed(123)\n",
        "y = np.load(ROOT+'/y.npy')\n",
        "\n",
        "y_viol = np.argwhere(y == 1)\n",
        "y_norm = np.argwhere(y == 0)\n",
        "\n",
        "size = min(y_viol.shape[0], y_norm.shape[0])\n",
        "\n",
        "perm_viol  = np.random.permutation(y_viol.shape[0])\n",
        "perm_viol  = perm_viol[:size]\n",
        "train_ratio_viol = len(perm_viol) // 10 * 7\n",
        "val_ratio_viol   = train_ratio_viol + len(perm_viol) // 10 * 1\n",
        "\n",
        "print(train_ratio_viol, val_ratio_viol)\n",
        "\n",
        "perm_norm  = np.random.permutation(y_norm.shape[0])\n",
        "perm_norm  = perm_norm[:size]\n",
        "train_ratio_norm = len(perm_norm) // 10 * 7\n",
        "val_ratio_norm   = train_ratio_norm + len(perm_norm) // 10 \n",
        "\n",
        "print(train_ratio_norm, val_ratio_norm)\n",
        "\n",
        "train_perm = np.concatenate((perm_viol[:train_ratio_viol], perm_norm[:train_ratio_norm]))\n",
        "val_perm   = np.concatenate((perm_viol[train_ratio_viol:val_ratio_viol], perm_norm[train_ratio_norm:val_ratio_norm]))\n",
        "test_perm  = np.concatenate((perm_viol[val_ratio_viol:], perm_norm[val_ratio_norm:]))\n",
        "\n",
        "np.random.shuffle(train_perm)\n",
        "np.random.shuffle(val_perm)\n",
        "np.random.shuffle(test_perm)"
      ],
      "metadata": {
        "colab": {
          "base_uri": "https://localhost:8080/"
        },
        "id": "bdGCrxb_LAcC",
        "outputId": "331ae415-b5ef-4d1e-d889-514807ab8083"
      },
      "execution_count": null,
      "outputs": [
        {
          "output_type": "stream",
          "name": "stdout",
          "text": [
            "4774 5456\n",
            "4774 5456\n"
          ]
        }
      ]
    },
    {
      "cell_type": "code",
      "source": [
        "# perm_to_file(xmap, val_perm     ,OUT+'/x_val.npy'  ,batch_size=5e3)\n",
        "# perm_to_file(xmap, test_perm    ,OUT+'/x_test.npy' ,batch_size=5e3)\n",
        "perm_to_file(xmap, train_perm   ,OUT+'/x_train.npy',batch_size=5e3)"
      ],
      "metadata": {
        "colab": {
          "base_uri": "https://localhost:8080/"
        },
        "id": "snjk8-moNvL0",
        "outputId": "7cbcc239-988b-481b-bbe9-d6c14eea16ce"
      },
      "execution_count": null,
      "outputs": [
        {
          "output_type": "stream",
          "name": "stdout",
          "text": [
            "[5000, 9548]\n"
          ]
        },
        {
          "output_type": "stream",
          "name": "stderr",
          "text": [
            "100%|██████████| 2/2 [00:10<00:00,  5.42s/it]\n"
          ]
        }
      ]
    },
    {
      "cell_type": "code",
      "source": [
        "np.save(OUT+'/y_val'   ,y[val_perm])\n",
        "np.save(OUT+'/y_test'  ,y[test_perm])\n",
        "np.save(OUT+'/y_train' ,y[train_perm])"
      ],
      "metadata": {
        "id": "PF7P_ETKNw5q"
      },
      "execution_count": null,
      "outputs": []
    },
    {
      "cell_type": "code",
      "source": [
        "print(train_perm.shape,val_perm.shape,test_perm.shape)"
      ],
      "metadata": {
        "colab": {
          "base_uri": "https://localhost:8080/"
        },
        "id": "tbsw6OzhPKQY",
        "outputId": "e6302a0a-b0e9-42c9-e866-29626aeaca4a"
      },
      "execution_count": null,
      "outputs": [
        {
          "output_type": "stream",
          "name": "stdout",
          "text": [
            "(9548,) (1364,) (2734,)\n"
          ]
        }
      ]
    }
  ]
}