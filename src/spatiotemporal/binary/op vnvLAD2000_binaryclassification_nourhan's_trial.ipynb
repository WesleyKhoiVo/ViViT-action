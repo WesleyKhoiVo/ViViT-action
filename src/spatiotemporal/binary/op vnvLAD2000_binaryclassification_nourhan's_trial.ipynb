{
  "cells": [
    {
      "cell_type": "code",
      "execution_count": 1,
      "metadata": {
        "execution": {
          "iopub.execute_input": "2022-12-30T14:25:34.347538Z",
          "iopub.status.busy": "2022-12-30T14:25:34.347046Z",
          "iopub.status.idle": "2022-12-30T14:25:40.603017Z",
          "shell.execute_reply": "2022-12-30T14:25:40.601868Z",
          "shell.execute_reply.started": "2022-12-30T14:25:34.347442Z"
        },
        "id": "-E6FptesbZi7",
        "trusted": true
      },
      "outputs": [],
      "source": [
        "import tensorflow as tf\n",
        "from tensorflow import keras\n",
        "import ipywidgets"
      ]
    },
    {
      "cell_type": "code",
      "execution_count": 2,
      "metadata": {
        "colab": {
          "base_uri": "https://localhost:8080/",
          "height": 71
        },
        "execution": {
          "iopub.execute_input": "2022-12-30T14:08:21.337991Z",
          "iopub.status.busy": "2022-12-30T14:08:21.337244Z",
          "iopub.status.idle": "2022-12-30T14:08:21.354381Z",
          "shell.execute_reply": "2022-12-30T14:08:21.353001Z",
          "shell.execute_reply.started": "2022-12-30T14:08:21.337949Z"
        },
        "id": "itk9H3ytMIq3",
        "outputId": "99521ff5-8120-4381-c0fc-59d16151c021",
        "trusted": true
      },
      "outputs": [
        {
          "name": "stdout",
          "output_type": "stream",
          "text": [
            "Num GPUs Available:  1\n",
            "2.12.0\n"
          ]
        },
        {
          "data": {
            "application/vnd.google.colaboratory.intrinsic+json": {
              "type": "string"
            },
            "text/plain": [
              "'3.9.16 (main, Dec  7 2022, 01:11:51) \\n[GCC 9.4.0]'"
            ]
          },
          "execution_count": 2,
          "metadata": {},
          "output_type": "execute_result"
        }
      ],
      "source": [
        "tf.compat.v1.logging.set_verbosity(tf.compat.v1.logging.ERROR)\n",
        "print(\"Num GPUs Available: \", len(tf.config.experimental.list_physical_devices('GPU')))\n",
        "tf.test.is_built_with_cuda()\n",
        "print(tf.version.VERSION)\n",
        "import sys\n",
        "sys.version"
      ]
    },
    {
      "cell_type": "code",
      "execution_count": null,
      "metadata": {
        "execution": {
          "iopub.execute_input": "2022-12-30T14:15:42.127108Z",
          "iopub.status.busy": "2022-12-30T14:15:42.126682Z",
          "iopub.status.idle": "2022-12-30T14:15:52.144490Z",
          "shell.execute_reply": "2022-12-30T14:15:52.143617Z",
          "shell.execute_reply.started": "2022-12-30T14:15:42.127072Z"
        },
        "id": "drVuKOApbZjB",
        "trusted": true
      },
      "outputs": [],
      "source": [
        "# ! pip install opencv-python"
      ]
    },
    {
      "cell_type": "code",
      "execution_count": 3,
      "metadata": {
        "colab": {
          "base_uri": "https://localhost:8080/"
        },
        "id": "OY2d5EwIbq4Q",
        "outputId": "db14e579-69b1-4fcd-f203-267257e3423e"
      },
      "outputs": [
        {
          "name": "stdout",
          "output_type": "stream",
          "text": [
            "Mounted at /content/gdrive\n"
          ]
        }
      ],
      "source": [
        "from google.colab import drive\n",
        "drive.mount('/content/gdrive')"
      ]
    },
    {
      "attachments": {},
      "cell_type": "markdown",
      "metadata": {
        "id": "3IQLjkXIMIq4"
      },
      "source": [
        "## Imports"
      ]
    },
    {
      "cell_type": "code",
      "execution_count": 4,
      "metadata": {
        "execution": {
          "iopub.execute_input": "2022-12-30T14:25:40.605904Z",
          "iopub.status.busy": "2022-12-30T14:25:40.605115Z",
          "iopub.status.idle": "2022-12-30T14:25:41.379407Z",
          "shell.execute_reply": "2022-12-30T14:25:41.377784Z",
          "shell.execute_reply.started": "2022-12-30T14:25:40.605859Z"
        },
        "id": "LhaEi9ToMIq5",
        "trusted": true
      },
      "outputs": [],
      "source": [
        "import os\n",
        "import io\n",
        "import matplotlib.pyplot as plt\n",
        "import cv2\n",
        "import imageio\n",
        "#import medmnist\n",
        "#import ipywidgets\n",
        "import numpy as np\n",
        "import tensorflow as tf\n",
        "from tensorflow import keras\n",
        "from tensorflow.keras import layers\n",
        "from tensorflow.keras.callbacks import ModelCheckpoint\n",
        "import cv2 as cv\n",
        "import numpy as np\n",
        "import tensorflow as tf\n",
        "from tensorflow import keras\n",
        "from tensorflow.keras import layers\n",
        "from keras.layers import Dense\n",
        "from keras.regularizers import l2\n",
        "from tensorflow.keras.layers import BatchNormalization\n",
        "from tensorflow.keras.regularizers import l2\n",
        "\n",
        "# Setting seed for reproducibility\n",
        "SEED = 42\n",
        "os.environ[\"TF_CUDNN_DETERMINISTIC\"] = \"1\"\n",
        "np.random.seed(SEED)"
      ]
    },
    {
      "attachments": {},
      "cell_type": "markdown",
      "metadata": {
        "id": "WhnaMHXmMIq6"
      },
      "source": [
        "## Hyperparameters\n",
        "\n",
        "The hyperparameters are chosen via hyperparameter\n",
        "search. You can learn more about the process in the \"conclusion\" section."
      ]
    },
    {
      "cell_type": "code",
      "execution_count": 5,
      "metadata": {
        "id": "xn2VF0EY0vf3"
      },
      "outputs": [],
      "source": [
        "#Binray\n",
        "\n",
        "# DATA\n",
        "DATASET_NAME = \"LAD2000\"\n",
        "BATCH_SIZE = 32\n",
        "PATH = '/content/gdrive/MyDrive/Datasets/LAD-2000'\n",
        "# AUTO = tf.data.AUTOTUNE\n",
        "INPUT_SHAPE = (75, 75,14, 2)\n",
        "NUM_CLASSES = 2\n",
        "\n",
        "# OPTIMIZER\n",
        "LEARNING_RATE = 1e-2\n",
        "WEIGHT_DECAY = 1e-5\n",
        "\n",
        "# TRAINING\n",
        "EPOCHS = 100\n",
        "\n",
        "# TUBELET EMBEDDING\n",
        "PATCH_SIZE = (8, 8, 8)\n",
        "NUM_PATCHES = (INPUT_SHAPE[0] // PATCH_SIZE[0]) ** 2\n",
        "\n",
        "# ViViT ARCHITECTURE\n",
        "LAYER_NORM_EPS = 1e-6\n",
        "PROJECTION_DIM = 128\n",
        "NUM_HEADS = 8\n",
        "NUM_LAYERS = 8"
      ]
    },
    {
      "cell_type": "code",
      "execution_count": null,
      "metadata": {
        "id": "6x7RQO1arxzV"
      },
      "outputs": [],
      "source": [
        "#binary_data_path = '/content/gdrive/MyDrive/Datasets/UCF-original/Binary_Classification/Final_Binary_Data/'\n",
        "#X_train = np.concatenate((np.load(binary_data_path + 'Train/Non_violence/non_X_train.npy'), np.load(binary_data_path + 'Train/Violence/V_X_train.npy')))"
      ]
    },
    {
      "attachments": {},
      "cell_type": "markdown",
      "metadata": {
        "id": "HG1QM3I7JP9u"
      },
      "source": [
        "#Load optical flow data"
      ]
    },
    {
      "cell_type": "code",
      "execution_count": 6,
      "metadata": {
        "id": "yo9AVA2PJTc-"
      },
      "outputs": [],
      "source": [
        "X_train_opt = np.load('/content/gdrive/MyDrive/All extracted frames/LAD2000-opticalflow/Train/X_flow.npy',allow_pickle=True)\n",
        "y_train_opt = np.load('/content/gdrive/MyDrive/All extracted frames/LAD2000-opticalflow/Train/y_flow.npy', allow_pickle=True)"
      ]
    },
    {
      "cell_type": "code",
      "execution_count": 7,
      "metadata": {
        "id": "SKXyX383Jj52"
      },
      "outputs": [],
      "source": [
        "X_val_opt = np.load('/content/gdrive/MyDrive/All extracted frames/LAD2000-opticalflow/Val/X_flow.npy',allow_pickle=True)\n",
        "y_val_opt = np.load('/content/gdrive/MyDrive/All extracted frames/LAD2000-opticalflow/Val/y_flow.npy', allow_pickle=True)"
      ]
    },
    {
      "cell_type": "code",
      "execution_count": 8,
      "metadata": {
        "id": "5jKk-kzlJ6C1"
      },
      "outputs": [],
      "source": [
        "X_test_opt = np.load('/content/gdrive/MyDrive/All extracted frames/LAD2000-opticalflow/Test/X_flow.npy',allow_pickle=True)\n",
        "y_test_opt = np.load('/content/gdrive/MyDrive/All extracted frames/LAD2000-opticalflow/Test/y_flow.npy', allow_pickle=True)"
      ]
    },
    {
      "attachments": {},
      "cell_type": "markdown",
      "metadata": {
        "id": "BncIF9wDj_np"
      },
      "source": [
        "#Optical-flow calculation\n"
      ]
    },
    {
      "cell_type": "code",
      "execution_count": null,
      "metadata": {
        "id": "7iKzmSBqj-Xp"
      },
      "outputs": [],
      "source": [
        "import cv2\n",
        "from google.colab.patches import cv2_imshow\n",
        "def opticalflow(X_data, y_data):\n",
        "    \n",
        "    optical_flow = []\n",
        "    flow_labels = []\n",
        "    for i in range (X_data.shape[0]):\n",
        "        packet = []\n",
        "        if i == 1487:\n",
        "            print(i)\n",
        "        for j in range(1, X_data.shape[1]):\n",
        "            frame1 = X_data[i][j-1]\n",
        "            frame2 = X_data[i][j]\n",
        "            gray1 = cv2.cvtColor((255*frame1).astype(np.uint8), cv2.COLOR_BGR2GRAY)\n",
        "            gray2 = cv2.cvtColor((255*frame2).astype(np.uint8), cv2.COLOR_BGR2GRAY)\n",
        "            flow = cv2.calcOpticalFlowFarneback(gray1, gray2, None, 0.5, 3, 15, 3, 5, 1.2, 0)\n",
        "            packet.append(flow)\n",
        "        optical_flow.append(np.asarray(packet))\n",
        "        flow_labels.append(y_data[i])\n",
        "\n",
        "            # # display the optical flow field\n",
        "            # h, w = gray1.shape\n",
        "            # y, x = np.mgrid[0:h:5, 0:w:5].reshape(2, -1)\n",
        "            # fx, fy = flow[y, x].T\n",
        "            # lines = np.vstack([x, y, x + fx, y + fy]).T.reshape(-1, 2, 2)\n",
        "            # lines = np.int32(lines + 0.5)\n",
        "            # vis = cv2.cvtColor(gray2, cv2.COLOR_GRAY2BGR)\n",
        "            # cv2.polylines(vis, lines, 0, (0, 255, 0))\n",
        "            # for (x1, y1), (_x2, _y2) in lines:\n",
        "            #     cv2.circle(vis, (x1, y1), 1, (0, 255, 0), -1)\n",
        "            # cv2_imshow(vis)\n",
        "            # cv2.waitKey(0)\n",
        "            # cv2.destroyAllWindows()\n",
        "\n",
        "    return np.asarray(optical_flow), np.asarray(flow_labels)"
      ]
    },
    {
      "cell_type": "code",
      "execution_count": 9,
      "metadata": {
        "colab": {
          "base_uri": "https://localhost:8080/"
        },
        "id": "xZLlbal6oY5t",
        "outputId": "fd746338-ad41-4b88-b63d-a8d44d815080"
      },
      "outputs": [
        {
          "data": {
            "text/plain": [
              "(4476, 14, 75, 75, 2)"
            ]
          },
          "execution_count": 9,
          "metadata": {},
          "output_type": "execute_result"
        }
      ],
      "source": [
        "X_train_opt.shape"
      ]
    },
    {
      "cell_type": "code",
      "execution_count": 10,
      "metadata": {
        "id": "kuQX-eEV1xHQ"
      },
      "outputs": [],
      "source": [
        "X_train_opt = np.moveaxis(X_train_opt, 1, 3)\n",
        "X_val_opt = np.moveaxis(X_val_opt, 1, 3)\n",
        "X_test_opt = np.moveaxis(X_test_opt, 1, 3)"
      ]
    },
    {
      "cell_type": "code",
      "execution_count": 11,
      "metadata": {
        "colab": {
          "base_uri": "https://localhost:8080/"
        },
        "id": "x8SvF88914qM",
        "outputId": "c5cee80a-10ae-4856-e9f9-a0004fba5b1c"
      },
      "outputs": [
        {
          "name": "stdout",
          "output_type": "stream",
          "text": [
            "(4476, 75, 75, 14, 2) (1002, 75, 75, 14, 2) (651, 75, 75, 14, 2)\n"
          ]
        }
      ],
      "source": [
        "print(X_train_opt.shape, X_val_opt.shape, X_test_opt.shape)"
      ]
    },
    {
      "cell_type": "code",
      "execution_count": 12,
      "metadata": {
        "colab": {
          "base_uri": "https://localhost:8080/"
        },
        "id": "zaBmAxiV2Evs",
        "outputId": "c504927d-e499-477a-af31-8c3d22a810ef"
      },
      "outputs": [
        {
          "name": "stdout",
          "output_type": "stream",
          "text": [
            "(75, 75, 14, 2)\n"
          ]
        }
      ],
      "source": [
        "dim = X_train_opt.shape\n",
        "dim = dim[1:]\n",
        "print(dim)"
      ]
    },
    {
      "cell_type": "code",
      "execution_count": 13,
      "metadata": {
        "colab": {
          "base_uri": "https://localhost:8080/"
        },
        "id": "ihczNRoLWj6-",
        "outputId": "f3391f36-c795-4eaa-b672-842b8ec82267"
      },
      "outputs": [
        {
          "data": {
            "text/plain": [
              "0.0"
            ]
          },
          "execution_count": 13,
          "metadata": {},
          "output_type": "execute_result"
        }
      ],
      "source": [
        "y_train_opt[7]"
      ]
    },
    {
      "cell_type": "code",
      "execution_count": 14,
      "metadata": {
        "id": "IIlm9nzcWchP"
      },
      "outputs": [],
      "source": [
        "X_train_opt = np.asarray(X_train_opt).astype(np.float32)\n",
        "X_val_opt = np.asarray(X_val_opt).astype(np.float32)\n",
        "X_test_opt = np.asarray(X_test_opt).astype(np.float32)"
      ]
    },
    {
      "cell_type": "code",
      "execution_count": 15,
      "metadata": {
        "id": "sTZP2WPYWwoC"
      },
      "outputs": [],
      "source": [
        "y_train_opt = np.asarray(y_train_opt).astype(np.float32)\n",
        "y_val_opt = np.asarray(y_val_opt).astype(np.float32)\n",
        "y_test_opt = np.asarray(y_test_opt).astype(np.float32)"
      ]
    },
    {
      "cell_type": "code",
      "execution_count": 15,
      "metadata": {
        "execution": {
          "iopub.execute_input": "2022-12-30T14:25:44.094568Z",
          "iopub.status.busy": "2022-12-30T14:25:44.094020Z",
          "iopub.status.idle": "2022-12-30T14:25:44.101903Z",
          "shell.execute_reply": "2022-12-30T14:25:44.101032Z",
          "shell.execute_reply.started": "2022-12-30T14:25:44.094516Z"
        },
        "id": "ebygdrVVMIq7",
        "trusted": true
      },
      "outputs": [],
      "source": [
        "# DATA\n",
        "#DATASET_NAME = \"UCF-Crime\"\n",
        "BATCH_SIZE = 32\n",
        "#PATH = '/content/gdrive/MyDrive/Datasets/UCF-original/Action-Recognition/labelled_frames/'\n",
        "#PATH = '/content/gdrive/MyDrive/Datasets/UCF-original/Binary_Classification/Final_Binary_Data/'\n",
        "# AUTO = tf.data.AUTOTUNE\n",
        "INPUT_SHAPE = (75, 75, 15, 3)\n",
        "NUM_CLASSES = 2\n",
        "# NUM_CLASSES = 2\n",
        "\n",
        "# OPTIMIZER\n",
        "LEARNING_RATE = 1e-2\n",
        "WEIGHT_DECAY = 1e-5\n",
        "\n",
        "# TRAINING\n",
        "EPOCHS = 100\n",
        "\n",
        "# TUBELET EMBEDDING\n",
        "PATCH_SIZE = (8, 8, 8)\n",
        "NUM_PATCHES = (INPUT_SHAPE[0] // PATCH_SIZE[0]) ** 2\n",
        "\n",
        "# ViViT ARCHITECTURE\n",
        "LAYER_NORM_EPS = 1e-6\n",
        "PROJECTION_DIM = 128\n",
        "NUM_HEADS = 8\n",
        "NUM_LAYERS = 8"
      ]
    },
    {
      "cell_type": "code",
      "execution_count": null,
      "metadata": {
        "execution": {
          "iopub.execute_input": "2022-12-30T14:25:54.726291Z",
          "iopub.status.busy": "2022-12-30T14:25:54.725830Z",
          "iopub.status.idle": "2022-12-30T14:25:54.732505Z",
          "shell.execute_reply": "2022-12-30T14:25:54.731539Z",
          "shell.execute_reply.started": "2022-12-30T14:25:54.726255Z"
        },
        "id": "cx6KHZpYbZjI",
        "trusted": true
      },
      "outputs": [],
      "source": [
        "# train_videos, train_labels = np.load(PATH + 'Train/X.npy'), np.load(PATH + 'Train/y.npy')\n",
        "# val_videos, val_labels = np.load(PATH + 'Val/X.npy'), np.load(PATH + 'Val/y.npy')\n",
        "# test_videos, test_labels = np.load(PATH + 'Test/X.npy'), np.load(PATH + 'Test/y.npy')"
      ]
    },
    {
      "cell_type": "code",
      "execution_count": null,
      "metadata": {
        "id": "iP7PX7qvevgN"
      },
      "outputs": [],
      "source": [
        "# train_labels -= 1\n",
        "# val_labels -= 1\n",
        "# test_labels -= 1"
      ]
    },
    {
      "cell_type": "code",
      "execution_count": null,
      "metadata": {
        "colab": {
          "base_uri": "https://localhost:8080/"
        },
        "id": "IgOuEKxVJJqW",
        "outputId": "8762a24a-f53a-41e9-d2bf-31b032b50adb"
      },
      "outputs": [
        {
          "name": "stdout",
          "output_type": "stream",
          "text": [
            "(4873, 15, 75, 75, 3)\n",
            "(4873,)\n"
          ]
        }
      ],
      "source": [
        "# print(train_videos.shape)\n",
        "# print(train_labels.shape)"
      ]
    },
    {
      "cell_type": "code",
      "execution_count": null,
      "metadata": {
        "colab": {
          "base_uri": "https://localhost:8080/"
        },
        "id": "ptyosAyXe4qh",
        "outputId": "8f9eebba-eddf-4b07-eaea-1887a90e61d1"
      },
      "outputs": [
        {
          "data": {
            "text/plain": [
              "array([0, 1])"
            ]
          },
          "execution_count": 11,
          "metadata": {},
          "output_type": "execute_result"
        }
      ],
      "source": [
        "# np.unique(train_labels)"
      ]
    },
    {
      "attachments": {},
      "cell_type": "markdown",
      "metadata": {
        "id": "aRQzU1JUrDBD"
      },
      "source": [
        "#Binary with MM model\n"
      ]
    },
    {
      "cell_type": "code",
      "execution_count": 16,
      "metadata": {
        "id": "izhwK8SErRVu"
      },
      "outputs": [],
      "source": [
        "import os\n",
        "import sys\n",
        "import cv2\n",
        "import zipfile\n",
        "import numpy as np\n",
        "import imageio\n",
        "import matplotlib.pyplot as plt\n",
        "import tensorflow as tf\n",
        "from sklearn import svm\n",
        "from sklearn.model_selection import train_test_split\n",
        "# from tensorflow_docs.vis import embed\n",
        "from tensorflow import keras\n",
        "from imutils import paths\n",
        "from tensorflow.keras import layers, models"
      ]
    },
    {
      "cell_type": "code",
      "execution_count": 17,
      "metadata": {
        "id": "75zN_f__rJ5Z"
      },
      "outputs": [],
      "source": [
        "\n",
        "\n",
        "model = models.Sequential()\n",
        "# model.add(layers.BatchNormalization())\n",
        "model.add(layers.Conv3D(32, kernel_size=(3, 3, 1), activation='relu', kernel_initializer='he_uniform', data_format='channels_last', input_shape=dim))\n",
        "model.add(layers.MaxPooling3D((2, 2, 1)))\n",
        "# model.add(layers.BatchNormalization())\n",
        "model.add(layers.Conv3D(32, kernel_size=(3, 3, 2), activation='relu', kernel_initializer='he_uniform'))\n",
        "model.add(layers.MaxPooling3D((3, 3, 1)))\n",
        "# model.add(layers.BatchNormalization())\n",
        "model.add(layers.Conv3D(32, kernel_size=(3, 3, 1), activation='relu', kernel_initializer='he_uniform'))\n",
        "model.add(layers.MaxPooling3D((2, 2, 1)))\n",
        "# model.add(layers.BatchNormalization())\n",
        "model.add(layers.Flatten())\n",
        "# model.add(layers.Dropout(0.5))\n",
        "model.add(layers.Dense(4096, activation='relu'))\n",
        "model.add(layers.Dense(1024, activation='relu'))\n",
        "# model.add(layers.BatchNormalization())\n",
        "model.add(layers.Dropout(0.5))\n",
        "model.add(layers.Dense(256, activation='relu'))\n",
        "model.add(layers.Dense(16, activation='relu'))\n",
        "# model.add(layers.BatchNormalization())\n",
        "model.add(layers.Dense(1, activation='sigmoid'))\n",
        "\n"
      ]
    },
    {
      "cell_type": "code",
      "execution_count": 18,
      "metadata": {
        "id": "EhgH9rmfrNaQ"
      },
      "outputs": [],
      "source": [
        "\n",
        "\n",
        "model.compile(loss=tf.keras.losses.BinaryCrossentropy(from_logits=False),\n",
        "              optimizer=tf.keras.optimizers.Adam(learning_rate=0.00025),\n",
        "              metrics=['accuracy'])\n",
        "\n"
      ]
    },
    {
      "cell_type": "code",
      "execution_count": 19,
      "metadata": {
        "colab": {
          "base_uri": "https://localhost:8080/"
        },
        "id": "CMxbZaWYLWm5",
        "outputId": "34be196e-334b-437f-fd97-c7e0012232ef"
      },
      "outputs": [
        {
          "name": "stdout",
          "output_type": "stream",
          "text": [
            "Epoch 1/50\n",
            "4476/4476 [==============================] - 75s 13ms/step - loss: 0.7132 - accuracy: 0.4969 - val_loss: 0.6934 - val_accuracy: 0.4960\n",
            "Epoch 2/50\n",
            "4476/4476 [==============================] - 58s 13ms/step - loss: 0.7227 - accuracy: 0.5273 - val_loss: 0.6892 - val_accuracy: 0.5699\n",
            "Epoch 3/50\n",
            "4476/4476 [==============================] - 59s 13ms/step - loss: 0.6943 - accuracy: 0.5496 - val_loss: 0.6842 - val_accuracy: 0.5928\n",
            "Epoch 4/50\n",
            "4476/4476 [==============================] - 58s 13ms/step - loss: 0.7022 - accuracy: 0.5060 - val_loss: 0.6923 - val_accuracy: 0.5828\n",
            "Epoch 5/50\n",
            "4476/4476 [==============================] - 58s 13ms/step - loss: 0.6929 - accuracy: 0.5369 - val_loss: 0.6889 - val_accuracy: 0.5309\n",
            "Epoch 6/50\n",
            "4476/4476 [==============================] - 61s 14ms/step - loss: 0.6775 - accuracy: 0.5717 - val_loss: 0.6919 - val_accuracy: 0.5349\n",
            "Epoch 7/50\n",
            "4476/4476 [==============================] - 58s 13ms/step - loss: 0.6818 - accuracy: 0.5943 - val_loss: 0.6709 - val_accuracy: 0.5529\n",
            "Epoch 8/50\n",
            "4476/4476 [==============================] - 58s 13ms/step - loss: 0.6478 - accuracy: 0.6323 - val_loss: 0.6928 - val_accuracy: 0.5559\n",
            "Epoch 9/50\n",
            "4476/4476 [==============================] - 59s 13ms/step - loss: 0.6486 - accuracy: 0.6332 - val_loss: 0.7718 - val_accuracy: 0.5150\n",
            "Epoch 10/50\n",
            "4476/4476 [==============================] - 58s 13ms/step - loss: 0.6647 - accuracy: 0.6414 - val_loss: 0.7149 - val_accuracy: 0.5539\n",
            "Epoch 11/50\n",
            "4476/4476 [==============================] - 58s 13ms/step - loss: 0.6184 - accuracy: 0.6533 - val_loss: 0.9840 - val_accuracy: 0.5140\n",
            "Epoch 12/50\n",
            "4476/4476 [==============================] - 58s 13ms/step - loss: 0.6006 - accuracy: 0.6709 - val_loss: 0.6897 - val_accuracy: 0.5609\n",
            "Epoch 13/50\n",
            "4476/4476 [==============================] - 58s 13ms/step - loss: 0.6133 - accuracy: 0.6912 - val_loss: 0.8011 - val_accuracy: 0.6267\n",
            "Epoch 14/50\n",
            "4476/4476 [==============================] - 58s 13ms/step - loss: 0.5636 - accuracy: 0.7033 - val_loss: 0.7708 - val_accuracy: 0.5689\n",
            "Epoch 15/50\n",
            "4476/4476 [==============================] - 61s 14ms/step - loss: 0.5803 - accuracy: 0.6937 - val_loss: 0.7148 - val_accuracy: 0.5758\n",
            "Epoch 16/50\n",
            "4476/4476 [==============================] - 58s 13ms/step - loss: 0.5931 - accuracy: 0.6993 - val_loss: 0.7404 - val_accuracy: 0.5888\n",
            "Epoch 17/50\n",
            "4476/4476 [==============================] - 58s 13ms/step - loss: 0.5622 - accuracy: 0.7165 - val_loss: 0.7568 - val_accuracy: 0.5768\n",
            "Epoch 18/50\n",
            "4476/4476 [==============================] - 58s 13ms/step - loss: 0.5808 - accuracy: 0.7163 - val_loss: 0.9596 - val_accuracy: 0.5749\n",
            "Epoch 19/50\n",
            "4476/4476 [==============================] - 58s 13ms/step - loss: 0.5361 - accuracy: 0.7348 - val_loss: 0.8759 - val_accuracy: 0.5659\n",
            "Epoch 20/50\n",
            "4476/4476 [==============================] - 58s 13ms/step - loss: 0.6138 - accuracy: 0.7060 - val_loss: 0.9119 - val_accuracy: 0.5599\n",
            "Epoch 21/50\n",
            "4476/4476 [==============================] - 58s 13ms/step - loss: 0.5386 - accuracy: 0.7218 - val_loss: 0.9044 - val_accuracy: 0.5619\n",
            "Epoch 22/50\n",
            "4476/4476 [==============================] - 58s 13ms/step - loss: 0.5457 - accuracy: 0.7332 - val_loss: 0.7934 - val_accuracy: 0.5768\n",
            "Epoch 23/50\n",
            "4476/4476 [==============================] - 58s 13ms/step - loss: 0.5378 - accuracy: 0.7437 - val_loss: 0.8412 - val_accuracy: 0.6248\n",
            "Epoch 24/50\n",
            "4476/4476 [==============================] - 58s 13ms/step - loss: 0.6034 - accuracy: 0.7435 - val_loss: 1.1083 - val_accuracy: 0.5868\n",
            "Epoch 25/50\n",
            "4476/4476 [==============================] - 61s 14ms/step - loss: 0.5118 - accuracy: 0.7516 - val_loss: 0.8227 - val_accuracy: 0.6307\n",
            "Epoch 26/50\n",
            "4476/4476 [==============================] - 58s 13ms/step - loss: 0.5280 - accuracy: 0.7332 - val_loss: 3.1175 - val_accuracy: 0.5768\n",
            "Epoch 27/50\n",
            "4476/4476 [==============================] - 58s 13ms/step - loss: 0.6267 - accuracy: 0.6950 - val_loss: 0.7482 - val_accuracy: 0.5549\n",
            "Epoch 28/50\n",
            "4476/4476 [==============================] - 60s 13ms/step - loss: 0.5733 - accuracy: 0.7203 - val_loss: 1.1255 - val_accuracy: 0.5828\n",
            "Epoch 29/50\n",
            "4476/4476 [==============================] - 58s 13ms/step - loss: 0.4844 - accuracy: 0.7576 - val_loss: 1.3624 - val_accuracy: 0.5968\n",
            "Epoch 30/50\n",
            "4476/4476 [==============================] - 58s 13ms/step - loss: 0.5341 - accuracy: 0.7348 - val_loss: 0.7197 - val_accuracy: 0.6128\n",
            "Epoch 31/50\n",
            "4476/4476 [==============================] - 58s 13ms/step - loss: 0.5220 - accuracy: 0.7525 - val_loss: 1.3808 - val_accuracy: 0.6277\n",
            "Epoch 32/50\n",
            "4476/4476 [==============================] - 58s 13ms/step - loss: 0.5389 - accuracy: 0.7344 - val_loss: 1.0867 - val_accuracy: 0.5679\n",
            "Epoch 33/50\n",
            "4476/4476 [==============================] - 58s 13ms/step - loss: 0.5213 - accuracy: 0.7587 - val_loss: 1.6567 - val_accuracy: 0.5908\n",
            "Epoch 34/50\n",
            "4476/4476 [==============================] - 61s 14ms/step - loss: 0.5188 - accuracy: 0.7379 - val_loss: 0.7187 - val_accuracy: 0.5988\n",
            "Epoch 35/50\n",
            "4476/4476 [==============================] - 58s 13ms/step - loss: 0.5190 - accuracy: 0.7545 - val_loss: 1.4759 - val_accuracy: 0.6218\n",
            "Epoch 36/50\n",
            "4476/4476 [==============================] - 58s 13ms/step - loss: 0.5037 - accuracy: 0.7442 - val_loss: 0.7257 - val_accuracy: 0.5808\n",
            "Epoch 37/50\n",
            "4476/4476 [==============================] - 58s 13ms/step - loss: 0.6377 - accuracy: 0.7480 - val_loss: 2.5885 - val_accuracy: 0.5729\n",
            "Epoch 38/50\n",
            "4476/4476 [==============================] - 58s 13ms/step - loss: 0.5343 - accuracy: 0.7413 - val_loss: 0.9320 - val_accuracy: 0.6267\n",
            "Epoch 39/50\n",
            "4476/4476 [==============================] - 58s 13ms/step - loss: 0.6088 - accuracy: 0.6821 - val_loss: 1.8157 - val_accuracy: 0.5938\n",
            "Epoch 40/50\n",
            "4476/4476 [==============================] - 61s 14ms/step - loss: 0.4854 - accuracy: 0.7527 - val_loss: 1.0956 - val_accuracy: 0.5958\n",
            "Epoch 41/50\n",
            "4476/4476 [==============================] - 58s 13ms/step - loss: 0.4530 - accuracy: 0.7817 - val_loss: 1.4953 - val_accuracy: 0.6058\n",
            "Epoch 42/50\n",
            "4476/4476 [==============================] - 58s 13ms/step - loss: 0.4926 - accuracy: 0.7842 - val_loss: 0.9730 - val_accuracy: 0.6257\n",
            "Epoch 43/50\n",
            "4476/4476 [==============================] - 59s 13ms/step - loss: 0.4843 - accuracy: 0.7661 - val_loss: 1.8633 - val_accuracy: 0.5838\n",
            "Epoch 44/50\n",
            "4476/4476 [==============================] - 58s 13ms/step - loss: 0.5394 - accuracy: 0.7471 - val_loss: 0.9645 - val_accuracy: 0.5639\n",
            "Epoch 45/50\n",
            "4476/4476 [==============================] - 58s 13ms/step - loss: 0.4741 - accuracy: 0.7654 - val_loss: 0.7760 - val_accuracy: 0.5639\n",
            "Epoch 46/50\n",
            "4476/4476 [==============================] - 58s 13ms/step - loss: 0.5402 - accuracy: 0.7551 - val_loss: 1.0839 - val_accuracy: 0.6048\n",
            "Epoch 47/50\n",
            "4476/4476 [==============================] - 58s 13ms/step - loss: 0.5827 - accuracy: 0.7712 - val_loss: 1.2110 - val_accuracy: 0.6347\n",
            "Epoch 48/50\n",
            "4476/4476 [==============================] - 58s 13ms/step - loss: 0.4790 - accuracy: 0.7748 - val_loss: 2.1308 - val_accuracy: 0.5988\n",
            "Epoch 49/50\n",
            "4476/4476 [==============================] - 58s 13ms/step - loss: 0.5029 - accuracy: 0.7708 - val_loss: 1.4353 - val_accuracy: 0.6397\n",
            "Epoch 50/50\n",
            "4476/4476 [==============================] - 59s 13ms/step - loss: 0.5058 - accuracy: 0.7884 - val_loss: 1.3394 - val_accuracy: 0.6068\n"
          ]
        }
      ],
      "source": [
        "\n",
        "history = model.fit(X_train_opt, y_train_opt,\n",
        "                    batch_size=1,\n",
        "                    epochs=50,\n",
        "                    validation_data=(X_val_opt, y_val_opt),\n",
        "                    shuffle=True)\n"
      ]
    }
  ],
  "metadata": {
    "accelerator": "GPU",
    "colab": {
      "machine_shape": "hm",
      "provenance": []
    },
    "gpuClass": "standard",
    "kernelspec": {
      "display_name": "azureml_py38",
      "language": "python",
      "name": "python3"
    },
    "language_info": {
      "codemirror_mode": {
        "name": "ipython",
        "version": 3
      },
      "file_extension": ".py",
      "mimetype": "text/x-python",
      "name": "python",
      "nbconvert_exporter": "python",
      "pygments_lexer": "ipython3",
      "version": "3.8.5"
    },
    "vscode": {
      "interpreter": {
        "hash": "6d65a8c07f5b6469e0fc613f182488c0dccce05038bbda39e5ac9075c0454d11"
      }
    }
  },
  "nbformat": 4,
  "nbformat_minor": 0
}
