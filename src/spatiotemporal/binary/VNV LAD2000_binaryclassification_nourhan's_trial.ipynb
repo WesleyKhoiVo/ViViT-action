{
  "cells": [
    {
      "cell_type": "code",
      "execution_count": 1,
      "metadata": {
        "execution": {
          "iopub.execute_input": "2022-12-30T14:25:34.347538Z",
          "iopub.status.busy": "2022-12-30T14:25:34.347046Z",
          "iopub.status.idle": "2022-12-30T14:25:40.603017Z",
          "shell.execute_reply": "2022-12-30T14:25:40.601868Z",
          "shell.execute_reply.started": "2022-12-30T14:25:34.347442Z"
        },
        "id": "-E6FptesbZi7",
        "trusted": true
      },
      "outputs": [],
      "source": [
        "import tensorflow as tf\n",
        "from tensorflow import keras\n",
        "import ipywidgets"
      ]
    },
    {
      "cell_type": "code",
      "execution_count": 2,
      "metadata": {
        "colab": {
          "base_uri": "https://localhost:8080/",
          "height": 71
        },
        "execution": {
          "iopub.execute_input": "2022-12-30T14:08:21.337991Z",
          "iopub.status.busy": "2022-12-30T14:08:21.337244Z",
          "iopub.status.idle": "2022-12-30T14:08:21.354381Z",
          "shell.execute_reply": "2022-12-30T14:08:21.353001Z",
          "shell.execute_reply.started": "2022-12-30T14:08:21.337949Z"
        },
        "id": "itk9H3ytMIq3",
        "outputId": "829773d0-bfe3-4406-c642-7192455457e5",
        "trusted": true
      },
      "outputs": [
        {
          "name": "stdout",
          "output_type": "stream",
          "text": [
            "Num GPUs Available:  1\n",
            "2.12.0\n"
          ]
        },
        {
          "data": {
            "application/vnd.google.colaboratory.intrinsic+json": {
              "type": "string"
            },
            "text/plain": [
              "'3.9.16 (main, Dec  7 2022, 01:11:51) \\n[GCC 9.4.0]'"
            ]
          },
          "execution_count": 2,
          "metadata": {},
          "output_type": "execute_result"
        }
      ],
      "source": [
        "tf.compat.v1.logging.set_verbosity(tf.compat.v1.logging.ERROR)\n",
        "print(\"Num GPUs Available: \", len(tf.config.experimental.list_physical_devices('GPU')))\n",
        "tf.test.is_built_with_cuda()\n",
        "print(tf.version.VERSION)\n",
        "import sys\n",
        "sys.version"
      ]
    },
    {
      "cell_type": "code",
      "execution_count": null,
      "metadata": {
        "execution": {
          "iopub.execute_input": "2022-12-30T14:15:42.127108Z",
          "iopub.status.busy": "2022-12-30T14:15:42.126682Z",
          "iopub.status.idle": "2022-12-30T14:15:52.144490Z",
          "shell.execute_reply": "2022-12-30T14:15:52.143617Z",
          "shell.execute_reply.started": "2022-12-30T14:15:42.127072Z"
        },
        "id": "drVuKOApbZjB",
        "trusted": true
      },
      "outputs": [],
      "source": [
        "# ! pip install opencv-python"
      ]
    },
    {
      "cell_type": "code",
      "execution_count": 3,
      "metadata": {
        "colab": {
          "base_uri": "https://localhost:8080/"
        },
        "id": "OY2d5EwIbq4Q",
        "outputId": "2f554216-4c9b-43f8-d046-f1ec6552b472"
      },
      "outputs": [
        {
          "name": "stdout",
          "output_type": "stream",
          "text": [
            "Mounted at /content/gdrive\n"
          ]
        }
      ],
      "source": [
        "from google.colab import drive\n",
        "drive.mount('/content/gdrive')"
      ]
    },
    {
      "attachments": {},
      "cell_type": "markdown",
      "metadata": {
        "id": "3IQLjkXIMIq4"
      },
      "source": [
        "## Imports"
      ]
    },
    {
      "cell_type": "code",
      "execution_count": 3,
      "metadata": {
        "execution": {
          "iopub.execute_input": "2022-12-30T14:25:40.605904Z",
          "iopub.status.busy": "2022-12-30T14:25:40.605115Z",
          "iopub.status.idle": "2022-12-30T14:25:41.379407Z",
          "shell.execute_reply": "2022-12-30T14:25:41.377784Z",
          "shell.execute_reply.started": "2022-12-30T14:25:40.605859Z"
        },
        "id": "LhaEi9ToMIq5",
        "trusted": true
      },
      "outputs": [],
      "source": [
        "import os\n",
        "import io\n",
        "import matplotlib.pyplot as plt\n",
        "import cv2\n",
        "import imageio\n",
        "#import medmnist\n",
        "#import ipywidgets\n",
        "import numpy as np\n",
        "import tensorflow as tf\n",
        "from tensorflow import keras\n",
        "from tensorflow.keras import layers\n",
        "from tensorflow.keras.callbacks import ModelCheckpoint\n",
        "import cv2 as cv\n",
        "import numpy as np\n",
        "import tensorflow as tf\n",
        "from tensorflow import keras\n",
        "from tensorflow.keras import layers\n",
        "from keras.layers import Dense\n",
        "from keras.regularizers import l2\n",
        "from tensorflow.keras.layers import BatchNormalization\n",
        "from tensorflow.keras.regularizers import l2\n",
        "\n",
        "# Setting seed for reproducibility\n",
        "SEED = 42\n",
        "os.environ[\"TF_CUDNN_DETERMINISTIC\"] = \"1\"\n",
        "np.random.seed(SEED)"
      ]
    },
    {
      "attachments": {},
      "cell_type": "markdown",
      "metadata": {
        "id": "WhnaMHXmMIq6"
      },
      "source": [
        "## Hyperparameters\n",
        "\n",
        "The hyperparameters are chosen via hyperparameter\n",
        "search. You can learn more about the process in the \"conclusion\" section."
      ]
    },
    {
      "cell_type": "code",
      "execution_count": 4,
      "metadata": {
        "id": "xn2VF0EY0vf3"
      },
      "outputs": [],
      "source": [
        "#Binray\n",
        "\n",
        "# DATA\n",
        "DATASET_NAME = \"LAD2000\"\n",
        "BATCH_SIZE = 32\n",
        "PATH = '/content/gdrive/MyDrive/Datasets/LAD-2000-correct'\n",
        "# AUTO = tf.data.AUTOTUNE\n",
        "INPUT_SHAPE = (75, 75,15, 3)\n",
        "NUM_CLASSES = 2\n",
        "\n",
        "# OPTIMIZER\n",
        "LEARNING_RATE = 1e-2\n",
        "WEIGHT_DECAY = 1e-5\n",
        "\n",
        "# TRAINING\n",
        "EPOCHS = 100\n",
        "\n",
        "# TUBELET EMBEDDING\n",
        "PATCH_SIZE = (8, 8, 8)\n",
        "NUM_PATCHES = (INPUT_SHAPE[0] // PATCH_SIZE[0]) ** 2\n",
        "\n",
        "# ViViT ARCHITECTURE\n",
        "LAYER_NORM_EPS = 1e-6\n",
        "PROJECTION_DIM = 128\n",
        "NUM_HEADS = 8\n",
        "NUM_LAYERS = 8"
      ]
    },
    {
      "cell_type": "code",
      "execution_count": null,
      "metadata": {
        "id": "6x7RQO1arxzV"
      },
      "outputs": [],
      "source": [
        "#binary_data_path = '/content/gdrive/MyDrive/Datasets/UCF-original/Binary_Classification/Final_Binary_Data/'\n",
        "#X_train = np.concatenate((np.load(binary_data_path + 'Train/Non_violence/non_X_train.npy'), np.load(binary_data_path + 'Train/Violence/V_X_train.npy')))"
      ]
    },
    {
      "attachments": {},
      "cell_type": "markdown",
      "metadata": {
        "id": "HG1QM3I7JP9u"
      },
      "source": [
        "#Load data"
      ]
    },
    {
      "cell_type": "code",
      "execution_count": 5,
      "metadata": {
        "id": "yo9AVA2PJTc-"
      },
      "outputs": [],
      "source": [
        "X_train= np.load('/content/gdrive/MyDrive/All extracted frames/LAD-2000-correct/Train/X.npy',allow_pickle=True, mmap_mode=\"r\")\n",
        "y_train = np.load('/content/gdrive/MyDrive/All extracted frames/LAD-2000-correct/Train/y.npy', allow_pickle=True,mmap_mode = \"r\")"
      ]
    },
    {
      "cell_type": "code",
      "execution_count": 6,
      "metadata": {
        "id": "SKXyX383Jj52"
      },
      "outputs": [],
      "source": [
        "X_val = np.load('/content/gdrive/MyDrive/All extracted frames/LAD-2000-correct/Val/X.npy',allow_pickle=True, mmap_mode = \"r\")\n",
        "y_val = np.load('/content/gdrive/MyDrive/All extracted frames/LAD-2000-correct/Val/y.npy', allow_pickle=True, mmap_mode = \"r\")"
      ]
    },
    {
      "cell_type": "code",
      "execution_count": null,
      "metadata": {
        "id": "5jKk-kzlJ6C1"
      },
      "outputs": [],
      "source": [
        "X_test = np.load('/content/gdrive/MyDrive/All extracted frames/LAD-2000-correct/Test/X.npy',allow_pickle=True, mmap_mode = \"r\")\n"
      ]
    },
    {
      "cell_type": "code",
      "execution_count": 16,
      "metadata": {
        "id": "MwjXFnUQrLsm"
      },
      "outputs": [],
      "source": [
        "y_test = np.load('/content/gdrive/MyDrive/All extracted frames/LAD-2000-correct/Test/y.npy', allow_pickle=True, mmap_mode = \"r\")"
      ]
    },
    {
      "attachments": {},
      "cell_type": "markdown",
      "metadata": {
        "id": "BncIF9wDj_np"
      },
      "source": [
        "#Optical-flow calculation\n"
      ]
    },
    {
      "cell_type": "code",
      "execution_count": 7,
      "metadata": {
        "id": "7iKzmSBqj-Xp"
      },
      "outputs": [],
      "source": [
        "import cv2\n",
        "from google.colab.patches import cv2_imshow\n",
        "def opticalflow(X_data, y_data):\n",
        "    \n",
        "    optical_flow = []\n",
        "    flow_labels = []\n",
        "    for i in range (X_data.shape[0]):\n",
        "        packet = []\n",
        "        if i == 1487:\n",
        "            print(i)\n",
        "        for j in range(1, X_data.shape[1]):\n",
        "            frame1 = X_data[i][j-1]\n",
        "            frame2 = X_data[i][j]\n",
        "            gray1 = cv2.cvtColor((255*frame1).astype(np.uint8), cv2.COLOR_BGR2GRAY)\n",
        "            gray2 = cv2.cvtColor((255*frame2).astype(np.uint8), cv2.COLOR_BGR2GRAY)\n",
        "            flow = cv2.calcOpticalFlowFarneback(gray1, gray2, None, 0.5, 3, 15, 3, 5, 1.2, 0)\n",
        "            packet.append(flow)\n",
        "        optical_flow.append(np.asarray(packet))\n",
        "        flow_labels.append(y_data[i])\n",
        "\n",
        "            # # display the optical flow field\n",
        "            # h, w = gray1.shape\n",
        "            # y, x = np.mgrid[0:h:5, 0:w:5].reshape(2, -1)\n",
        "            # fx, fy = flow[y, x].T\n",
        "            # lines = np.vstack([x, y, x + fx, y + fy]).T.reshape(-1, 2, 2)\n",
        "            # lines = np.int32(lines + 0.5)\n",
        "            # vis = cv2.cvtColor(gray2, cv2.COLOR_GRAY2BGR)\n",
        "            # cv2.polylines(vis, lines, 0, (0, 255, 0))\n",
        "            # for (x1, y1), (_x2, _y2) in lines:\n",
        "            #     cv2.circle(vis, (x1, y1), 1, (0, 255, 0), -1)\n",
        "            # cv2_imshow(vis)\n",
        "            # cv2.waitKey(0)\n",
        "            # cv2.destroyAllWindows()\n",
        "\n",
        "    return np.asarray(optical_flow), np.asarray(flow_labels)"
      ]
    },
    {
      "cell_type": "code",
      "execution_count": null,
      "metadata": {
        "colab": {
          "base_uri": "https://localhost:8080/"
        },
        "id": "xZLlbal6oY5t",
        "outputId": "fd746338-ad41-4b88-b63d-a8d44d815080"
      },
      "outputs": [
        {
          "data": {
            "text/plain": [
              "(4476, 14, 75, 75, 2)"
            ]
          },
          "execution_count": 9,
          "metadata": {},
          "output_type": "execute_result"
        }
      ],
      "source": [
        "X_train_opt.shape"
      ]
    },
    {
      "cell_type": "code",
      "execution_count": 7,
      "metadata": {
        "id": "kuQX-eEV1xHQ"
      },
      "outputs": [],
      "source": [
        "X_train = np.moveaxis(X_train, 1, 3)\n",
        "X_val = np.moveaxis(X_val, 1, 3)\n",
        "#X_test = np.moveaxis(X_test, 1, 3)"
      ]
    },
    {
      "cell_type": "code",
      "execution_count": 10,
      "metadata": {
        "colab": {
          "base_uri": "https://localhost:8080/"
        },
        "id": "x8SvF88914qM",
        "outputId": "05517e1b-197b-4ba1-f130-1c4411f4b5ca"
      },
      "outputs": [
        {
          "name": "stdout",
          "output_type": "stream",
          "text": [
            "(4476, 75, 75, 15, 3) (1002, 75, 75, 15, 3)\n"
          ]
        }
      ],
      "source": [
        "print(X_train.shape, X_val.shape)"
      ]
    },
    {
      "cell_type": "code",
      "execution_count": 11,
      "metadata": {
        "colab": {
          "base_uri": "https://localhost:8080/"
        },
        "id": "zaBmAxiV2Evs",
        "outputId": "f5537d2c-2d6f-4232-d5bd-0c2ef23b0fbd"
      },
      "outputs": [
        {
          "name": "stdout",
          "output_type": "stream",
          "text": [
            "(75, 75, 15, 3)\n"
          ]
        }
      ],
      "source": [
        "dim = X_train.shape\n",
        "dim = dim[1:]\n",
        "print(dim)"
      ]
    },
    {
      "cell_type": "code",
      "execution_count": 13,
      "metadata": {
        "colab": {
          "base_uri": "https://localhost:8080/"
        },
        "id": "ihczNRoLWj6-",
        "outputId": "c81016ba-5012-45dc-b726-5693aa50d844"
      },
      "outputs": [
        {
          "data": {
            "text/plain": [
              "0.0"
            ]
          },
          "execution_count": 13,
          "metadata": {},
          "output_type": "execute_result"
        }
      ],
      "source": [
        "y_train[7]"
      ]
    },
    {
      "cell_type": "code",
      "execution_count": null,
      "metadata": {
        "id": "IIlm9nzcWchP"
      },
      "outputs": [],
      "source": [
        "X_train = np.asarray(X_train).astype(np.float32)\n",
        "X_val = np.asarray(X_val).astype(np.float32)\n",
        "#X_test = np.asarray(X_test).astype(np.float32)"
      ]
    },
    {
      "cell_type": "code",
      "execution_count": null,
      "metadata": {
        "id": "sTZP2WPYWwoC"
      },
      "outputs": [],
      "source": [
        "y_train = np.asarray(y_train).astype(np.float32)\n",
        "y_val = np.asarray(y_val).astype(np.float32)\n"
      ]
    },
    {
      "cell_type": "code",
      "execution_count": 17,
      "metadata": {
        "id": "OYcg99RTrOBW"
      },
      "outputs": [],
      "source": [
        "y_test = np.asarray(y_test).astype(np.float32)"
      ]
    },
    {
      "attachments": {},
      "cell_type": "markdown",
      "metadata": {
        "id": "aRQzU1JUrDBD"
      },
      "source": [
        "#Binary with MM model\n"
      ]
    },
    {
      "cell_type": "code",
      "execution_count": 12,
      "metadata": {
        "id": "izhwK8SErRVu"
      },
      "outputs": [],
      "source": [
        "import os\n",
        "import sys\n",
        "import cv2\n",
        "import zipfile\n",
        "import numpy as np\n",
        "import imageio\n",
        "import matplotlib.pyplot as plt\n",
        "import tensorflow as tf\n",
        "from sklearn import svm\n",
        "from sklearn.model_selection import train_test_split\n",
        "# from tensorflow_docs.vis import embed\n",
        "from tensorflow import keras\n",
        "from imutils import paths\n",
        "from tensorflow.keras import layers, models"
      ]
    },
    {
      "cell_type": "code",
      "execution_count": 13,
      "metadata": {
        "id": "75zN_f__rJ5Z"
      },
      "outputs": [],
      "source": [
        "\n",
        "\n",
        "model = models.Sequential()\n",
        "# model.add(layers.BatchNormalization())\n",
        "model.add(layers.Conv3D(32, kernel_size=(3, 3, 1), activation='relu', kernel_initializer='he_uniform', data_format='channels_last', input_shape=dim))\n",
        "model.add(layers.MaxPooling3D((2, 2, 1)))\n",
        "# model.add(layers.BatchNormalization())\n",
        "model.add(layers.Conv3D(32, kernel_size=(3, 3, 2), activation='relu', kernel_initializer='he_uniform'))\n",
        "model.add(layers.MaxPooling3D((3, 3, 1)))\n",
        "# model.add(layers.BatchNormalization())\n",
        "model.add(layers.Conv3D(32, kernel_size=(3, 3, 1), activation='relu', kernel_initializer='he_uniform'))\n",
        "model.add(layers.MaxPooling3D((2, 2, 1)))\n",
        "# model.add(layers.BatchNormalization())\n",
        "model.add(layers.Flatten())\n",
        "# model.add(layers.Dropout(0.5))\n",
        "model.add(layers.Dense(4096, activation='relu'))\n",
        "model.add(layers.Dense(1024, activation='relu'))\n",
        "# model.add(layers.BatchNormalization())\n",
        "model.add(layers.Dropout(0.5))\n",
        "model.add(layers.Dense(256, activation='relu'))\n",
        "model.add(layers.Dense(16, activation='relu'))\n",
        "# model.add(layers.BatchNormalization())\n",
        "model.add(layers.Dense(1, activation='sigmoid'))\n",
        "\n"
      ]
    },
    {
      "cell_type": "code",
      "execution_count": 14,
      "metadata": {
        "id": "EhgH9rmfrNaQ"
      },
      "outputs": [],
      "source": [
        "\n",
        "\n",
        "model.compile(loss=tf.keras.losses.BinaryCrossentropy(from_logits=False),\n",
        "              optimizer=tf.keras.optimizers.Adam(learning_rate=0.00025),\n",
        "              metrics=['accuracy'])\n",
        "\n"
      ]
    },
    {
      "attachments": {},
      "cell_type": "markdown",
      "metadata": {
        "id": "P_XGA2IZMIq-"
      },
      "source": [
        "### `tf.data` pipeline"
      ]
    },
    {
      "cell_type": "code",
      "execution_count": 7,
      "metadata": {
        "id": "DGUqwLtKEGnR"
      },
      "outputs": [],
      "source": [
        "class DataGenerator(keras.utils.Sequence):\n",
        "\n",
        "    def __init__(self, x_in, y_in, batch_size=BATCH_SIZE, shuffle=True):\n",
        "        # Initialization\n",
        "        self.batch_size = batch_size\n",
        "        self.shuffle = shuffle\n",
        "        self.x = x_in\n",
        "        self.y = y_in\n",
        "        self.datalen = len(y_in)\n",
        "        self.indexes = np.arange(self.datalen)\n",
        "        if self.shuffle:\n",
        "            np.random.shuffle(self.indexes)\n",
        "\n",
        "    def __getitem__(self, index):\n",
        "        # get batch indexes from shuffled indexes\n",
        "        batch_indexes = self.indexes[index*self.batch_size:(index+1)*self.batch_size]\n",
        "        x_batch = self.x[batch_indexes]\n",
        "        y_batch = self.y[batch_indexes]\n",
        "        return x_batch, y_batch\n",
        "    \n",
        "    def __len__(self):\n",
        "        # Denotes the number of batches per epoch\n",
        "        return self.datalen // self.batch_size\n",
        "\n",
        "    def on_epoch_end(self):\n",
        "        # Updates indexes after each epoch\n",
        "        self.indexes = np.arange(self.datalen)\n",
        "        if self.shuffle:\n",
        "            np.random.shuffle(self.indexes)\n",
        "\n",
        "training_generator = DataGenerator(np.load('/content/gdrive/MyDrive/All extracted frames/LAD-2000-correct/Train/X.npy',allow_pickle=True, mmap_mode=\"r\"), np.load('/content/gdrive/MyDrive/All extracted frames/LAD-2000-correct/Train/y.npy',allow_pickle=True, mmap_mode=\"r\"))\n",
        "validation_generator = DataGenerator(np.load('/content/gdrive/MyDrive/All extracted frames/LAD-2000-correct/Val/X.npy',allow_pickle=True, mmap_mode=\"r\"), np.load('/content/gdrive/MyDrive/All extracted frames/LAD-2000-correct/Val/y.npy',allow_pickle=True, mmap_mode=\"r\"))"
      ]
    },
    {
      "attachments": {},
      "cell_type": "markdown",
      "metadata": {
        "id": "bUsYPdTjyK9S"
      },
      "source": [
        "#Vivit\n"
      ]
    },
    {
      "cell_type": "code",
      "execution_count": 8,
      "metadata": {
        "id": "igqdpz27MIq_"
      },
      "outputs": [],
      "source": [
        "\n",
        "class TubeletEmbedding(layers.Layer):\n",
        "    def __init__(self, embed_dim, patch_size, **kwargs):\n",
        "        super().__init__(**kwargs)\n",
        "        self.projection = layers.Conv3D(\n",
        "            filters=embed_dim,\n",
        "            kernel_size=patch_size,\n",
        "            strides=patch_size,\n",
        "            padding=\"VALID\",\n",
        "        )\n",
        "        self.flatten = layers.Reshape(target_shape=(-1, embed_dim))\n",
        "\n",
        "    def call(self, videos):\n",
        "        projected_patches = self.projection(videos)\n",
        "        flattened_patches = self.flatten(projected_patches)\n",
        "        return flattened_patches\n"
      ]
    },
    {
      "cell_type": "code",
      "execution_count": 9,
      "metadata": {
        "id": "9P4kswaIMIrA"
      },
      "outputs": [],
      "source": [
        "\n",
        "class PositionalEncoder(layers.Layer):\n",
        "    def __init__(self, embed_dim, **kwargs):\n",
        "        super().__init__(**kwargs)\n",
        "        self.embed_dim = embed_dim\n",
        "\n",
        "    def build(self, input_shape):\n",
        "        _, num_tokens, _ = input_shape\n",
        "        self.position_embedding = layers.Embedding(\n",
        "            input_dim=num_tokens, output_dim=self.embed_dim\n",
        "        )\n",
        "        self.positions = tf.range(start=0, limit=num_tokens, delta=1)\n",
        "\n",
        "    def call(self, encoded_tokens):\n",
        "        # Encode the positions and add it to the encoded tokens\n",
        "        encoded_positions = self.position_embedding(self.positions)\n",
        "        encoded_tokens = encoded_tokens + encoded_positions\n",
        "        return encoded_tokens\n"
      ]
    },
    {
      "cell_type": "code",
      "execution_count": null,
      "metadata": {
        "id": "Efc6Nk_AbZjb"
      },
      "outputs": [],
      "source": [
        "# model_checkpoint = ModelCheckpoint(\"../checkpoints/vivit-mini-ucf/weights.{epoch:02d}.hdf5\",\n",
        "#                 monitor='val_loss',\n",
        "#                 save_weights_only=True,\n",
        "#                 save_best_only=True)"
      ]
    },
    {
      "cell_type": "code",
      "execution_count": 10,
      "metadata": {
        "id": "rgJvyE09cpw7"
      },
      "outputs": [],
      "source": [
        "checkpoint_filepath = '/content/gdrive/MyDrive/Checkpoints/run_lad/checkpoint/'\n",
        "model_checkpoint = model_checkpoint_callback = tf.keras.callbacks.ModelCheckpoint(\n",
        "                                filepath=checkpoint_filepath,\n",
        "                                save_weights_only=True,\n",
        "                                monitor='val_loss',\n",
        "                                mode='min',\n",
        "                                save_best_only=True\n",
        "                                )"
      ]
    },
    {
      "cell_type": "code",
      "execution_count": 11,
      "metadata": {
        "id": "fRPd8rH5kmjz"
      },
      "outputs": [],
      "source": [
        "from keras.callbacks import ReduceLROnPlateau\n",
        "checkpoint_filepath = '/content/gdrive/MyDrive/Checkpoints/run_lad/checkpoint/'\n",
        "checkpoint = model_checkpoint_callback = tf.keras.callbacks.ModelCheckpoint(\n",
        "                                filepath=checkpoint_filepath,\n",
        "                                save_weights_only=True,\n",
        "                                monitor='val_loss',\n",
        "                                mode='min',\n",
        "                                save_best_only=True\n",
        "                                )\n",
        "\n",
        "earlystopping = tf.keras.callbacks.EarlyStopping(\n",
        "                     monitor=\"val_loss\",\n",
        "                     min_delta=0.025,\n",
        "                     patience=10,\n",
        "                     verbose=0,\n",
        "                     mode=\"min\",\n",
        "                     baseline=None,\n",
        "                     restore_best_weights=False\n",
        "                 )\n",
        "\n",
        "values = np.linspace(0.00001,LEARNING_RATE,14)[::-1].astype(np.float32)\n",
        "boundaries = np.linspace(5, 45,13)[:values.shape[0]-1].astype(np.int32)\n",
        "\n",
        "scheduler = keras.optimizers.schedules.PiecewiseConstantDecay(\n",
        "    list(boundaries), list(values))\n",
        "\n",
        "lr_scheduler = tf.keras.callbacks.LearningRateScheduler(scheduler,verbose=1)\n",
        "\n",
        "reduce_lr = ReduceLROnPlateau(monitor='val_loss', factor=0.5,\n",
        "                              patience=3, min_lr=0.000001)\n",
        "\n",
        "callbacks = [checkpoint]"
      ]
    },
    {
      "cell_type": "code",
      "execution_count": 12,
      "metadata": {
        "colab": {
          "base_uri": "https://localhost:8080/"
        },
        "id": "CQYws4wRobJt",
        "outputId": "dc0533cf-d3f6-47ef-d72a-894fa0299201"
      },
      "outputs": [
        {
          "data": {
            "text/plain": [
              "(4476, 2)"
            ]
          },
          "execution_count": 12,
          "metadata": {},
          "output_type": "execute_result"
        }
      ],
      "source": [
        "from tensorflow.keras.utils import to_categorical\n",
        "y_train = to_categorical(y_train, 2)\n",
        "y_val = to_categorical(y_val, 2)\n",
        "#y_test_opt = to_categorical(y_test_opt,2)\n",
        "y_train.shape"
      ]
    },
    {
      "cell_type": "code",
      "execution_count": 13,
      "metadata": {
        "id": "tIWQUMvdMIrB"
      },
      "outputs": [],
      "source": [
        "def create_vivit_classifier(\n",
        "    tubelet_embedder,\n",
        "    positional_encoder,\n",
        "    input_shape=INPUT_SHAPE,\n",
        "    transformer_layers=NUM_LAYERS,\n",
        "    num_heads=NUM_HEADS,\n",
        "    embed_dim=PROJECTION_DIM,\n",
        "    layer_norm_eps=LAYER_NORM_EPS,\n",
        "    num_classes=NUM_CLASSES,\n",
        "):\n",
        "    # Get the input layer\n",
        "    inputs = layers.Input(shape=input_shape)\n",
        "    # Create patches.\n",
        "    patches = tubelet_embedder(inputs)\n",
        "    # Encode patches.\n",
        "    encoded_patches = positional_encoder(patches)\n",
        "\n",
        "    # Create multiple layers of the Transformer block.\n",
        "    for _ in range(transformer_layers):\n",
        "        # Layer normalization and MHSA\n",
        "        x1 = layers.LayerNormalization(epsilon=1e-6)(encoded_patches)\n",
        "        attention_output = layers.MultiHeadAttention(\n",
        "            num_heads=num_heads, key_dim=embed_dim // num_heads, dropout=0.1\n",
        "        )(x1, x1)\n",
        "\n",
        "        # Skip connection\n",
        "        x2 = layers.Add()([attention_output, encoded_patches])\n",
        "\n",
        "        # Layer Normalization and MLP\n",
        "        x3 = layers.LayerNormalization(epsilon=1e-6)(x2)\n",
        "        x3 = keras.Sequential(\n",
        "            [\n",
        "                layers.Dense(units=embed_dim * 4, activation=tf.nn.gelu),\n",
        "                layers.Dense(units=embed_dim, activation=tf.nn.gelu),\n",
        "            ]\n",
        "        )(x3)\n",
        "\n",
        "        # Skip connection\n",
        "        encoded_patches = layers.Add()([x3, x2])\n",
        "\n",
        "    # Layer normalization and Global average pooling.\n",
        "    representation = layers.LayerNormalization(epsilon=layer_norm_eps)(encoded_patches)\n",
        "    representation = layers.GlobalAvgPool1D()(representation)\n",
        "\n",
        "    # Classify outputs.\n",
        "    outputs = layers.Dense(units=num_classes, activation=\"softmax\")(representation)\n",
        "\n",
        "    # Create the Keras model.\n",
        "    model = keras.Model(inputs=inputs, outputs=outputs)\n",
        "    return model\n"
      ]
    },
    {
      "cell_type": "code",
      "execution_count": 14,
      "metadata": {
        "colab": {
          "base_uri": "https://localhost:8080/"
        },
        "id": "eaZx8Cu4rD4i",
        "outputId": "0ba73165-4d45-4014-f3ad-f295ad91db60"
      },
      "outputs": [
        {
          "name": "stdout",
          "output_type": "stream",
          "text": [
            "Epoch 1/100\n",
            "140/140 [==============================] - 70s 208ms/step - loss: 0.7469 - accuracy: 0.4989 - val_loss: 0.7337 - val_accuracy: 0.5000\n",
            "Epoch 2/100\n",
            "140/140 [==============================] - 12s 89ms/step - loss: 0.7009 - accuracy: 0.4993 - val_loss: 0.6949 - val_accuracy: 0.5000\n",
            "Epoch 3/100\n",
            "140/140 [==============================] - 12s 84ms/step - loss: 0.6961 - accuracy: 0.4973 - val_loss: 0.7005 - val_accuracy: 0.5000\n",
            "Epoch 4/100\n",
            "140/140 [==============================] - 12s 88ms/step - loss: 0.6953 - accuracy: 0.5047 - val_loss: 0.6935 - val_accuracy: 0.5000\n",
            "Epoch 5/100\n",
            "140/140 [==============================] - 10s 73ms/step - loss: 0.6942 - accuracy: 0.4942 - val_loss: 0.6935 - val_accuracy: 0.5000\n",
            "Epoch 6/100\n",
            "140/140 [==============================] - 11s 77ms/step - loss: 0.6942 - accuracy: 0.4908 - val_loss: 0.6935 - val_accuracy: 0.5000\n",
            "Epoch 7/100\n",
            "140/140 [==============================] - 12s 87ms/step - loss: 0.6940 - accuracy: 0.4989 - val_loss: 0.6932 - val_accuracy: 0.4980\n",
            "Epoch 8/100\n",
            "140/140 [==============================] - 11s 78ms/step - loss: 0.6927 - accuracy: 0.5197 - val_loss: 0.6934 - val_accuracy: 0.5000\n",
            "Epoch 9/100\n",
            "140/140 [==============================] - 11s 78ms/step - loss: 0.6938 - accuracy: 0.4958 - val_loss: 0.6932 - val_accuracy: 0.5120\n",
            "Epoch 10/100\n",
            "140/140 [==============================] - 12s 87ms/step - loss: 0.6944 - accuracy: 0.5121 - val_loss: 0.6930 - val_accuracy: 0.5000\n",
            "Epoch 11/100\n",
            "140/140 [==============================] - 12s 86ms/step - loss: 0.6938 - accuracy: 0.4873 - val_loss: 0.6929 - val_accuracy: 0.4890\n",
            "Epoch 12/100\n",
            "140/140 [==============================] - 10s 75ms/step - loss: 0.6940 - accuracy: 0.4964 - val_loss: 0.6932 - val_accuracy: 0.5000\n",
            "Epoch 13/100\n",
            "140/140 [==============================] - 11s 77ms/step - loss: 0.6935 - accuracy: 0.4993 - val_loss: 0.6934 - val_accuracy: 0.5010\n",
            "Epoch 14/100\n",
            "140/140 [==============================] - 11s 78ms/step - loss: 0.6928 - accuracy: 0.5007 - val_loss: 0.6935 - val_accuracy: 0.4820\n",
            "Epoch 15/100\n",
            "140/140 [==============================] - 11s 78ms/step - loss: 0.6952 - accuracy: 0.5036 - val_loss: 0.6931 - val_accuracy: 0.4910\n",
            "Epoch 16/100\n",
            "140/140 [==============================] - 10s 74ms/step - loss: 0.6940 - accuracy: 0.4969 - val_loss: 0.6930 - val_accuracy: 0.5000\n",
            "Epoch 17/100\n",
            "140/140 [==============================] - 11s 76ms/step - loss: 0.6940 - accuracy: 0.5011 - val_loss: 0.6939 - val_accuracy: 0.5000\n",
            "Epoch 18/100\n",
            "140/140 [==============================] - 11s 79ms/step - loss: 0.6936 - accuracy: 0.4987 - val_loss: 0.6933 - val_accuracy: 0.5000\n",
            "Epoch 19/100\n",
            "140/140 [==============================] - 11s 77ms/step - loss: 0.6935 - accuracy: 0.4993 - val_loss: 0.6937 - val_accuracy: 0.5000\n",
            "Epoch 20/100\n",
            "140/140 [==============================] - 11s 77ms/step - loss: 0.6946 - accuracy: 0.4926 - val_loss: 0.6954 - val_accuracy: 0.5000\n",
            "Epoch 21/100\n",
            "140/140 [==============================] - 10s 72ms/step - loss: 0.6938 - accuracy: 0.4993 - val_loss: 0.6947 - val_accuracy: 0.5000\n",
            "Epoch 22/100\n",
            "140/140 [==============================] - 11s 76ms/step - loss: 0.6936 - accuracy: 0.4982 - val_loss: 0.6944 - val_accuracy: 0.5000\n",
            "Epoch 23/100\n",
            "140/140 [==============================] - 11s 77ms/step - loss: 0.6935 - accuracy: 0.5009 - val_loss: 0.6931 - val_accuracy: 0.5000\n",
            "Epoch 24/100\n",
            "140/140 [==============================] - 11s 77ms/step - loss: 0.6936 - accuracy: 0.4899 - val_loss: 0.6931 - val_accuracy: 0.5000\n",
            "Epoch 25/100\n",
            "140/140 [==============================] - 12s 84ms/step - loss: 0.6937 - accuracy: 0.5031 - val_loss: 0.6935 - val_accuracy: 0.4970\n",
            "Epoch 26/100\n",
            "140/140 [==============================] - 10s 73ms/step - loss: 0.6931 - accuracy: 0.5152 - val_loss: 0.6952 - val_accuracy: 0.5010\n",
            "Epoch 27/100\n",
            "140/140 [==============================] - 10s 75ms/step - loss: 0.6942 - accuracy: 0.5096 - val_loss: 0.6935 - val_accuracy: 0.5000\n",
            "Epoch 28/100\n",
            "140/140 [==============================] - 11s 77ms/step - loss: 0.6942 - accuracy: 0.4969 - val_loss: 0.6940 - val_accuracy: 0.5000\n",
            "Epoch 29/100\n",
            "140/140 [==============================] - 11s 77ms/step - loss: 0.6937 - accuracy: 0.4884 - val_loss: 0.6931 - val_accuracy: 0.5000\n",
            "Epoch 30/100\n",
            "140/140 [==============================] - 11s 78ms/step - loss: 0.6942 - accuracy: 0.4966 - val_loss: 0.6940 - val_accuracy: 0.5000\n",
            "Epoch 31/100\n",
            "140/140 [==============================] - 10s 71ms/step - loss: 0.6944 - accuracy: 0.5056 - val_loss: 0.6934 - val_accuracy: 0.5000\n",
            "Epoch 32/100\n",
            "140/140 [==============================] - 11s 78ms/step - loss: 0.6938 - accuracy: 0.4929 - val_loss: 0.6931 - val_accuracy: 0.5230\n",
            "Epoch 33/100\n",
            "140/140 [==============================] - 11s 79ms/step - loss: 0.6935 - accuracy: 0.4915 - val_loss: 0.6932 - val_accuracy: 0.5279\n",
            "Epoch 34/100\n",
            "140/140 [==============================] - 11s 78ms/step - loss: 0.6939 - accuracy: 0.4996 - val_loss: 0.6931 - val_accuracy: 0.4850\n",
            "Epoch 35/100\n",
            "140/140 [==============================] - 11s 78ms/step - loss: 0.6935 - accuracy: 0.5087 - val_loss: 0.6939 - val_accuracy: 0.5000\n",
            "Epoch 36/100\n",
            "140/140 [==============================] - 12s 87ms/step - loss: 0.6936 - accuracy: 0.4996 - val_loss: 0.6925 - val_accuracy: 0.5190\n",
            "Epoch 37/100\n",
            "140/140 [==============================] - 10s 74ms/step - loss: 0.6931 - accuracy: 0.5168 - val_loss: 0.6959 - val_accuracy: 0.5000\n",
            "Epoch 38/100\n",
            "140/140 [==============================] - 11s 78ms/step - loss: 0.6942 - accuracy: 0.5141 - val_loss: 0.6934 - val_accuracy: 0.5000\n",
            "Epoch 39/100\n",
            "140/140 [==============================] - 11s 78ms/step - loss: 0.6934 - accuracy: 0.5114 - val_loss: 0.6932 - val_accuracy: 0.5020\n",
            "Epoch 40/100\n",
            "140/140 [==============================] - 11s 78ms/step - loss: 0.6934 - accuracy: 0.5127 - val_loss: 0.6951 - val_accuracy: 0.4960\n",
            "Epoch 41/100\n",
            "140/140 [==============================] - 12s 83ms/step - loss: 0.6954 - accuracy: 0.5085 - val_loss: 0.6931 - val_accuracy: 0.5010\n",
            "Epoch 42/100\n",
            "140/140 [==============================] - 12s 86ms/step - loss: 0.6934 - accuracy: 0.4980 - val_loss: 0.6924 - val_accuracy: 0.5339\n",
            "Epoch 43/100\n",
            "140/140 [==============================] - 12s 87ms/step - loss: 0.6934 - accuracy: 0.5022 - val_loss: 0.6919 - val_accuracy: 0.5529\n",
            "Epoch 44/100\n",
            "140/140 [==============================] - 12s 88ms/step - loss: 0.6903 - accuracy: 0.5295 - val_loss: 0.6918 - val_accuracy: 0.5689\n",
            "Epoch 45/100\n",
            "140/140 [==============================] - 11s 78ms/step - loss: 0.6921 - accuracy: 0.5264 - val_loss: 0.7082 - val_accuracy: 0.5000\n",
            "Epoch 46/100\n",
            "140/140 [==============================] - 11s 78ms/step - loss: 0.6939 - accuracy: 0.5226 - val_loss: 0.7008 - val_accuracy: 0.5020\n",
            "Epoch 47/100\n",
            "140/140 [==============================] - 11s 78ms/step - loss: 0.6952 - accuracy: 0.5150 - val_loss: 0.6933 - val_accuracy: 0.5010\n",
            "Epoch 48/100\n",
            "140/140 [==============================] - 11s 76ms/step - loss: 0.6902 - accuracy: 0.5273 - val_loss: 0.6995 - val_accuracy: 0.4850\n",
            "Epoch 49/100\n",
            "140/140 [==============================] - 10s 73ms/step - loss: 0.6886 - accuracy: 0.5409 - val_loss: 0.6948 - val_accuracy: 0.4970\n",
            "Epoch 50/100\n",
            "140/140 [==============================] - 11s 78ms/step - loss: 0.6928 - accuracy: 0.5168 - val_loss: 0.6925 - val_accuracy: 0.5110\n",
            "Epoch 51/100\n",
            "140/140 [==============================] - 11s 78ms/step - loss: 0.6896 - accuracy: 0.5313 - val_loss: 0.7049 - val_accuracy: 0.5090\n",
            "Epoch 52/100\n",
            "140/140 [==============================] - 11s 78ms/step - loss: 0.6912 - accuracy: 0.5290 - val_loss: 0.6925 - val_accuracy: 0.5080\n",
            "Epoch 53/100\n",
            "140/140 [==============================] - 10s 75ms/step - loss: 0.6885 - accuracy: 0.5480 - val_loss: 0.6992 - val_accuracy: 0.5080\n",
            "Epoch 54/100\n",
            "140/140 [==============================] - 10s 74ms/step - loss: 0.6870 - accuracy: 0.5433 - val_loss: 0.7029 - val_accuracy: 0.4970\n",
            "Epoch 55/100\n",
            "140/140 [==============================] - 11s 78ms/step - loss: 0.6847 - accuracy: 0.5500 - val_loss: 0.7095 - val_accuracy: 0.5000\n",
            "Epoch 56/100\n",
            "140/140 [==============================] - 11s 78ms/step - loss: 0.6839 - accuracy: 0.5492 - val_loss: 0.6959 - val_accuracy: 0.5150\n",
            "Epoch 57/100\n",
            "140/140 [==============================] - 11s 78ms/step - loss: 0.6811 - accuracy: 0.5547 - val_loss: 0.6982 - val_accuracy: 0.4890\n",
            "Epoch 58/100\n",
            "140/140 [==============================] - 11s 82ms/step - loss: 0.6850 - accuracy: 0.5418 - val_loss: 0.6980 - val_accuracy: 0.4890\n",
            "Epoch 59/100\n",
            "140/140 [==============================] - 10s 72ms/step - loss: 0.6801 - accuracy: 0.5583 - val_loss: 0.6960 - val_accuracy: 0.5269\n",
            "Epoch 60/100\n",
            "140/140 [==============================] - 11s 78ms/step - loss: 0.6782 - accuracy: 0.5632 - val_loss: 0.7149 - val_accuracy: 0.4701\n",
            "Epoch 61/100\n",
            "140/140 [==============================] - 11s 79ms/step - loss: 0.6779 - accuracy: 0.5666 - val_loss: 0.7236 - val_accuracy: 0.4870\n",
            "Epoch 62/100\n",
            "140/140 [==============================] - 11s 79ms/step - loss: 0.6785 - accuracy: 0.5614 - val_loss: 0.7069 - val_accuracy: 0.4711\n",
            "Epoch 63/100\n",
            "140/140 [==============================] - 12s 86ms/step - loss: 0.6739 - accuracy: 0.5731 - val_loss: 0.7265 - val_accuracy: 0.4850\n",
            "Epoch 64/100\n",
            "140/140 [==============================] - 10s 75ms/step - loss: 0.6768 - accuracy: 0.5684 - val_loss: 0.7139 - val_accuracy: 0.5190\n",
            "Epoch 65/100\n",
            "140/140 [==============================] - 10s 75ms/step - loss: 0.6729 - accuracy: 0.5733 - val_loss: 0.7132 - val_accuracy: 0.5130\n",
            "Epoch 66/100\n",
            "140/140 [==============================] - 11s 78ms/step - loss: 0.6732 - accuracy: 0.5668 - val_loss: 0.7141 - val_accuracy: 0.5010\n",
            "Epoch 67/100\n",
            "140/140 [==============================] - 11s 78ms/step - loss: 0.6705 - accuracy: 0.5757 - val_loss: 0.7071 - val_accuracy: 0.4940\n",
            "Epoch 68/100\n",
            "140/140 [==============================] - 11s 78ms/step - loss: 0.6650 - accuracy: 0.5809 - val_loss: 0.7705 - val_accuracy: 0.5080\n",
            "Epoch 69/100\n",
            "140/140 [==============================] - 10s 74ms/step - loss: 0.6722 - accuracy: 0.5679 - val_loss: 0.7138 - val_accuracy: 0.4930\n",
            "Epoch 70/100\n",
            "140/140 [==============================] - 11s 77ms/step - loss: 0.6731 - accuracy: 0.5603 - val_loss: 0.7026 - val_accuracy: 0.5040\n",
            "Epoch 71/100\n",
            "140/140 [==============================] - 11s 80ms/step - loss: 0.6675 - accuracy: 0.5784 - val_loss: 0.7138 - val_accuracy: 0.5090\n",
            "Epoch 72/100\n",
            "140/140 [==============================] - 11s 79ms/step - loss: 0.6689 - accuracy: 0.5764 - val_loss: 0.7483 - val_accuracy: 0.5030\n",
            "Epoch 73/100\n",
            "140/140 [==============================] - 11s 78ms/step - loss: 0.6680 - accuracy: 0.5795 - val_loss: 0.7186 - val_accuracy: 0.5130\n",
            "Epoch 74/100\n",
            "140/140 [==============================] - 12s 83ms/step - loss: 0.6600 - accuracy: 0.5845 - val_loss: 0.7339 - val_accuracy: 0.5050\n",
            "Epoch 75/100\n",
            "140/140 [==============================] - 10s 72ms/step - loss: 0.6535 - accuracy: 0.5914 - val_loss: 0.7669 - val_accuracy: 0.5100\n",
            "Epoch 76/100\n",
            "140/140 [==============================] - 11s 79ms/step - loss: 0.6471 - accuracy: 0.6019 - val_loss: 0.7275 - val_accuracy: 0.5140\n",
            "Epoch 77/100\n",
            "140/140 [==============================] - 11s 79ms/step - loss: 0.6445 - accuracy: 0.6037 - val_loss: 0.7540 - val_accuracy: 0.4990\n",
            "Epoch 78/100\n",
            "140/140 [==============================] - 11s 79ms/step - loss: 0.6350 - accuracy: 0.6171 - val_loss: 0.7238 - val_accuracy: 0.4860\n",
            "Epoch 79/100\n",
            "140/140 [==============================] - 12s 87ms/step - loss: 0.6305 - accuracy: 0.6171 - val_loss: 0.7620 - val_accuracy: 0.5110\n",
            "Epoch 80/100\n",
            "140/140 [==============================] - 12s 84ms/step - loss: 0.6257 - accuracy: 0.6244 - val_loss: 0.7772 - val_accuracy: 0.4920\n",
            "Epoch 81/100\n",
            "140/140 [==============================] - 10s 74ms/step - loss: 0.6348 - accuracy: 0.6182 - val_loss: 0.7230 - val_accuracy: 0.5329\n",
            "Epoch 82/100\n",
            "140/140 [==============================] - 11s 78ms/step - loss: 0.6289 - accuracy: 0.6229 - val_loss: 0.7218 - val_accuracy: 0.5279\n",
            "Epoch 83/100\n",
            "140/140 [==============================] - 11s 80ms/step - loss: 0.6174 - accuracy: 0.6374 - val_loss: 0.8037 - val_accuracy: 0.5250\n",
            "Epoch 84/100\n",
            "140/140 [==============================] - 11s 80ms/step - loss: 0.6050 - accuracy: 0.6434 - val_loss: 0.8824 - val_accuracy: 0.5190\n",
            "Epoch 85/100\n",
            "140/140 [==============================] - 11s 79ms/step - loss: 0.6060 - accuracy: 0.6506 - val_loss: 0.7658 - val_accuracy: 0.5369\n",
            "Epoch 86/100\n",
            "140/140 [==============================] - 10s 75ms/step - loss: 0.6138 - accuracy: 0.6461 - val_loss: 0.7451 - val_accuracy: 0.5150\n",
            "Epoch 87/100\n",
            "140/140 [==============================] - 11s 77ms/step - loss: 0.6048 - accuracy: 0.6501 - val_loss: 0.8630 - val_accuracy: 0.5210\n",
            "Epoch 88/100\n",
            "140/140 [==============================] - 11s 79ms/step - loss: 0.6018 - accuracy: 0.6526 - val_loss: 0.8161 - val_accuracy: 0.4980\n",
            "Epoch 89/100\n",
            "140/140 [==============================] - 11s 79ms/step - loss: 0.5902 - accuracy: 0.6613 - val_loss: 0.7890 - val_accuracy: 0.5120\n",
            "Epoch 90/100\n",
            "140/140 [==============================] - 11s 79ms/step - loss: 0.5954 - accuracy: 0.6530 - val_loss: 0.8142 - val_accuracy: 0.5000\n",
            "Epoch 91/100\n",
            "140/140 [==============================] - 10s 74ms/step - loss: 0.5959 - accuracy: 0.6515 - val_loss: 0.8357 - val_accuracy: 0.5329\n",
            "Epoch 92/100\n",
            "140/140 [==============================] - 11s 76ms/step - loss: 0.5965 - accuracy: 0.6559 - val_loss: 0.7847 - val_accuracy: 0.5130\n",
            "Epoch 93/100\n",
            "140/140 [==============================] - 11s 79ms/step - loss: 0.5926 - accuracy: 0.6573 - val_loss: 0.8377 - val_accuracy: 0.5210\n",
            "Epoch 94/100\n",
            "140/140 [==============================] - 11s 80ms/step - loss: 0.5873 - accuracy: 0.6680 - val_loss: 0.8251 - val_accuracy: 0.5289\n",
            "Epoch 95/100\n",
            "140/140 [==============================] - 11s 80ms/step - loss: 0.5824 - accuracy: 0.6680 - val_loss: 0.7830 - val_accuracy: 0.5259\n",
            "Epoch 96/100\n",
            "140/140 [==============================] - 11s 76ms/step - loss: 0.5863 - accuracy: 0.6669 - val_loss: 0.8269 - val_accuracy: 0.5010\n",
            "Epoch 97/100\n",
            "140/140 [==============================] - 11s 76ms/step - loss: 0.5832 - accuracy: 0.6731 - val_loss: 0.8470 - val_accuracy: 0.5230\n",
            "Epoch 98/100\n",
            "140/140 [==============================] - 11s 80ms/step - loss: 0.5659 - accuracy: 0.6832 - val_loss: 0.8579 - val_accuracy: 0.5070\n",
            "Epoch 99/100\n",
            "140/140 [==============================] - 11s 79ms/step - loss: 0.5666 - accuracy: 0.6796 - val_loss: 0.8557 - val_accuracy: 0.5210\n",
            "Epoch 100/100\n",
            "140/140 [==============================] - 11s 79ms/step - loss: 0.5723 - accuracy: 0.6774 - val_loss: 0.8345 - val_accuracy: 0.5230\n"
          ]
        }
      ],
      "source": [
        "def run_experiment():\n",
        "    mirrored_strategy = tf.distribute.MirroredStrategy(devices= [\"/gpu:0\"],cross_device_ops=tf.distribute.HierarchicalCopyAllReduce())\n",
        "    with mirrored_strategy.scope():\n",
        "    # Initialize model\n",
        "        model = create_vivit_classifier(\n",
        "            tubelet_embedder=TubeletEmbedding(\n",
        "                embed_dim=PROJECTION_DIM, patch_size=PATCH_SIZE\n",
        "            ),\n",
        "            positional_encoder=PositionalEncoder(embed_dim=PROJECTION_DIM),\n",
        "        )\n",
        "\n",
        "        # Compile the model with the optimizer, loss function\n",
        "        # and the metrics.\n",
        "        optimizer = keras.optimizers.Adam(learning_rate=LEARNING_RATE)\n",
        "        model.compile(\n",
        "            optimizer=optimizer,\n",
        "            loss=\"binary_crossentropy\",\n",
        "            metrics=[\n",
        "                keras.metrics.BinaryAccuracy(name=\"accuracy\")\n",
        "            ],\n",
        "        )\n",
        "\n",
        "        # early_stopping = keras.callbacks.EarlyStopping(monitor='val_loss', patience = 3, mode='min')\n",
        "\n",
        "        # Train the model.\n",
        "        history = model.fit(X_train, y_train, epochs=EPOCHS, validation_data=(X_val, y_val), callbacks=[model_checkpoint, callbacks])\n",
        "\n",
        "        # _, accuracy, top_5_accuracy = model.evaluate(testloader)\n",
        "        # print(f\"Test accuracy: {round(accuracy * 100, 2)}%\")\n",
        "        # print(f\"Test top 5 accuracy: {round(top_5_accuracy * 100, 2)}%\")\n",
        "\n",
        "    return model, history\n",
        "\n",
        "\n",
        "model, history = run_experiment()"
      ]
    },
    {
      "attachments": {},
      "cell_type": "markdown",
      "metadata": {
        "id": "Wejt6dSbYOEK"
      },
      "source": [
        "#another cnn model\n"
      ]
    },
    {
      "cell_type": "code",
      "execution_count": null,
      "metadata": {
        "id": "8kDgZXpT0Qaz"
      },
      "outputs": [],
      "source": [
        "import os\n",
        "import sys\n",
        "import cv2\n",
        "import zipfile\n",
        "import numpy as np\n",
        "import imageio\n",
        "import matplotlib.pyplot as plt\n",
        "import tensorflow as tf\n",
        "from sklearn import svm\n",
        "from sklearn.model_selection import train_test_split\n",
        "# from tensorflow_docs.vis import embed\n",
        "from tensorflow import keras\n",
        "from imutils import paths\n",
        "from tensorflow.keras import layers, models"
      ]
    },
    {
      "cell_type": "code",
      "execution_count": null,
      "metadata": {
        "id": "26x4E-LZ0OOK"
      },
      "outputs": [],
      "source": [
        "def create_model(dim):\n",
        "  model = models.Sequential()\n",
        "  # model.add(layers.BatchNormalization())\n",
        "  model.add(layers.Conv3D(32, kernel_size=(3, 3, 1), activation='relu', kernel_initializer='he_uniform', data_format='channels_last', input_shape=dim))\n",
        "  model.add(layers.MaxPooling3D((2, 2, 1)))\n",
        "  # model.add(layers.BatchNormalization())\n",
        "  model.add(layers.Conv3D(32, kernel_size=(3, 3, 2), activation='relu', kernel_initializer='he_uniform'))\n",
        "  model.add(layers.MaxPooling3D((3, 3, 1)))\n",
        "  # model.add(layers.BatchNormalization())\n",
        "  model.add(layers.Conv3D(32, kernel_size=(3, 3, 1), activation='relu', kernel_initializer='he_uniform'))\n",
        "  model.add(layers.MaxPooling3D((2, 2, 1)))\n",
        "  # model.add(layers.BatchNormalization())\n",
        "  model.add(layers.Flatten())\n",
        "  # model.add(layers.Dropout(0.5))\n",
        "  model.add(layers.Dense(4096, activation='relu'))\n",
        "  model.add(layers.Dense(1024, activation='relu'))\n",
        "  # model.add(layers.BatchNormalization())\n",
        "  model.add(layers.Dropout(0.5))\n",
        "  model.add(layers.Dense(256, activation='relu'))\n",
        "  model.add(layers.Dense(16, activation='relu'))\n",
        "  # model.add(layers.BatchNormalization())\n",
        "  model.add(layers.Dense(1, activation='sigmoid'))\n",
        "  return model"
      ]
    },
    {
      "cell_type": "code",
      "execution_count": null,
      "metadata": {
        "id": "4pEyLQty-1cR"
      },
      "outputs": [],
      "source": [
        "model2 = model = create_vivit_classifier(\n",
        "            tubelet_embedder=TubeletEmbedding(\n",
        "                embed_dim=PROJECTION_DIM, patch_size=PATCH_SIZE\n",
        "            ),\n",
        "            positional_encoder=PositionalEncoder(embed_dim=PROJECTION_DIM),\n",
        "        )"
      ]
    },
    {
      "cell_type": "code",
      "execution_count": null,
      "metadata": {
        "colab": {
          "base_uri": "https://localhost:8080/"
        },
        "id": "llnN3SNU8Nlw",
        "outputId": "b72524da-68fc-457f-9b39-908a328e64d3"
      },
      "outputs": [
        {
          "name": "stdout",
          "output_type": "stream",
          "text": [
            "Model: \"sequential_8\"\n",
            "_________________________________________________________________\n",
            " Layer (type)                Output Shape              Param #   \n",
            "=================================================================\n",
            " conv3d_1 (Conv3D)           (None, 73, 73, 14, 32)    608       \n",
            "                                                                 \n",
            " max_pooling3d (MaxPooling3D  (None, 36, 36, 14, 32)   0         \n",
            " )                                                               \n",
            "                                                                 \n",
            " conv3d_2 (Conv3D)           (None, 34, 34, 13, 32)    18464     \n",
            "                                                                 \n",
            " max_pooling3d_1 (MaxPooling  (None, 11, 11, 13, 32)   0         \n",
            " 3D)                                                             \n",
            "                                                                 \n",
            " conv3d_3 (Conv3D)           (None, 9, 9, 13, 32)      9248      \n",
            "                                                                 \n",
            " max_pooling3d_2 (MaxPooling  (None, 4, 4, 13, 32)     0         \n",
            " 3D)                                                             \n",
            "                                                                 \n",
            " flatten (Flatten)           (None, 6656)              0         \n",
            "                                                                 \n",
            " dense_17 (Dense)            (None, 4096)              27267072  \n",
            "                                                                 \n",
            " dense_18 (Dense)            (None, 1024)              4195328   \n",
            "                                                                 \n",
            " dropout (Dropout)           (None, 1024)              0         \n",
            "                                                                 \n",
            " dense_19 (Dense)            (None, 256)               262400    \n",
            "                                                                 \n",
            " dense_20 (Dense)            (None, 16)                4112      \n",
            "                                                                 \n",
            " dense_21 (Dense)            (None, 1)                 17        \n",
            "                                                                 \n",
            "=================================================================\n",
            "Total params: 31,757,249\n",
            "Trainable params: 31,757,249\n",
            "Non-trainable params: 0\n",
            "_________________________________________________________________\n",
            "None\n"
          ]
        }
      ],
      "source": [
        "model = create_model(dim)\n",
        "print(model.summary())"
      ]
    },
    {
      "cell_type": "code",
      "execution_count": null,
      "metadata": {
        "id": "FjDvLgUx7LUU"
      },
      "outputs": [],
      "source": [
        "checkpoint_filepath = '/content/gdrive/MyDrive/Checkpoints/run_flow3/checkpoint/'\n",
        "model_checkpoint = model_checkpoint_callback = tf.keras.callbacks.ModelCheckpoint(\n",
        "                                filepath=checkpoint_filepath,\n",
        "                                save_weights_only=True,\n",
        "                                monitor='val_loss',\n",
        "                                mode='min',\n",
        "                                save_best_only=True\n",
        "                                )"
      ]
    },
    {
      "cell_type": "code",
      "execution_count": null,
      "metadata": {
        "id": "KwUausF060uj"
      },
      "outputs": [],
      "source": [
        "from keras.callbacks import ReduceLROnPlateau\n",
        "checkpoint_filepath = '/content/gdrive/MyDrive/Checkpoints/run_flow3/checkpoint/'\n",
        "model_checkpoint = model_checkpoint_callback = tf.keras.callbacks.ModelCheckpoint(\n",
        "                                filepath=checkpoint_filepath,\n",
        "                                save_weights_only=True,\n",
        "                                monitor='val_loss',\n",
        "                                mode='min',\n",
        "                                save_best_only=True\n",
        "                                )\n",
        "\n",
        "earlystopping = tf.keras.callbacks.EarlyStopping(\n",
        "                     monitor=\"val_loss\",\n",
        "                     min_delta=0.025,\n",
        "                     patience=10,\n",
        "                     verbose=0,\n",
        "                     mode=\"min\",\n",
        "                     baseline=None,\n",
        "                     restore_best_weights=False\n",
        "                 )\n",
        "\n",
        "values = np.linspace(0.00001,LEARNING_RATE,14)[::-1].astype(np.float32)\n",
        "boundaries = np.linspace(5, 45,13)[:values.shape[0]-1].astype(np.int32)\n",
        "\n",
        "scheduler = keras.optimizers.schedules.PiecewiseConstantDecay(\n",
        "    list(boundaries), list(values))\n",
        "\n",
        "lr_scheduler = tf.keras.callbacks.LearningRateScheduler(scheduler,verbose=1)\n",
        "\n",
        "reduce_lr = ReduceLROnPlateau(monitor='val_loss', factor=0.5,\n",
        "                              patience=3, min_lr=0.000001)\n",
        "\n",
        "callbacks = [checkpoint]"
      ]
    },
    {
      "cell_type": "code",
      "execution_count": null,
      "metadata": {
        "colab": {
          "base_uri": "https://localhost:8080/"
        },
        "id": "U64_ut4I_Yp9",
        "outputId": "f9dea191-85f6-42b4-dbc0-f0dc0b77da98"
      },
      "outputs": [
        {
          "data": {
            "text/plain": [
              "1626"
            ]
          },
          "execution_count": 25,
          "metadata": {},
          "output_type": "execute_result"
        }
      ],
      "source": [
        "import gc\n",
        "gc.collect()"
      ]
    },
    {
      "cell_type": "code",
      "execution_count": null,
      "metadata": {
        "colab": {
          "base_uri": "https://localhost:8080/"
        },
        "id": "LwX2dFfKdOco",
        "outputId": "9726ea1a-c69e-4917-bedb-8e74329449d7"
      },
      "outputs": [
        {
          "data": {
            "text/plain": [
              "<__main__.DataGenerator at 0x7fa55c2bdd90>"
            ]
          },
          "execution_count": 16,
          "metadata": {},
          "output_type": "execute_result"
        }
      ],
      "source": [
        "training_generator"
      ]
    },
    {
      "attachments": {},
      "cell_type": "markdown",
      "metadata": {
        "id": "qmGYIJZaMIrC"
      },
      "source": [
        "## Train"
      ]
    },
    {
      "cell_type": "code",
      "execution_count": null,
      "metadata": {
        "colab": {
          "base_uri": "https://localhost:8080/"
        },
        "id": "0uJC4GjiJUDA",
        "outputId": "e38f1786-aac3-434c-cc3e-54c8e4a03ddd"
      },
      "outputs": [
        {
          "name": "stdout",
          "output_type": "stream",
          "text": [
            "Epoch 1/100\n",
            "139/139 [==============================] - 68s 224ms/step - loss: 0.7918 - accuracy: 0.5153 - top-5-accuracy: 1.0000 - val_loss: 0.7033 - val_accuracy: 0.5161 - val_top-5-accuracy: 1.0000\n",
            "Epoch 2/100\n",
            "139/139 [==============================] - 14s 98ms/step - loss: 0.6934 - accuracy: 0.5382 - top-5-accuracy: 1.0000 - val_loss: 0.6985 - val_accuracy: 0.5111 - val_top-5-accuracy: 1.0000\n",
            "Epoch 3/100\n",
            "139/139 [==============================] - 13s 92ms/step - loss: 0.6897 - accuracy: 0.5486 - top-5-accuracy: 1.0000 - val_loss: 0.7014 - val_accuracy: 0.5171 - val_top-5-accuracy: 1.0000\n",
            "Epoch 4/100\n",
            "139/139 [==============================] - 12s 90ms/step - loss: 0.6907 - accuracy: 0.5364 - top-5-accuracy: 1.0000 - val_loss: 0.6966 - val_accuracy: 0.5222 - val_top-5-accuracy: 1.0000\n",
            "Epoch 5/100\n",
            "139/139 [==============================] - 12s 89ms/step - loss: 0.6878 - accuracy: 0.5445 - top-5-accuracy: 1.0000 - val_loss: 0.6889 - val_accuracy: 0.5665 - val_top-5-accuracy: 1.0000\n",
            "Epoch 6/100\n",
            "139/139 [==============================] - 11s 80ms/step - loss: 0.6934 - accuracy: 0.5326 - top-5-accuracy: 1.0000 - val_loss: 0.6947 - val_accuracy: 0.4980 - val_top-5-accuracy: 1.0000\n",
            "Epoch 7/100\n",
            "139/139 [==============================] - 14s 97ms/step - loss: 0.6905 - accuracy: 0.5355 - top-5-accuracy: 1.0000 - val_loss: 0.6868 - val_accuracy: 0.5212 - val_top-5-accuracy: 1.0000\n",
            "Epoch 8/100\n",
            "139/139 [==============================] - 11s 80ms/step - loss: 0.6878 - accuracy: 0.5380 - top-5-accuracy: 1.0000 - val_loss: 0.6902 - val_accuracy: 0.5292 - val_top-5-accuracy: 1.0000\n",
            "Epoch 9/100\n",
            "139/139 [==============================] - 10s 73ms/step - loss: 0.6889 - accuracy: 0.5337 - top-5-accuracy: 1.0000 - val_loss: 0.6979 - val_accuracy: 0.4919 - val_top-5-accuracy: 1.0000\n",
            "Epoch 10/100\n",
            "139/139 [==============================] - 11s 76ms/step - loss: 0.6923 - accuracy: 0.5223 - top-5-accuracy: 1.0000 - val_loss: 0.6904 - val_accuracy: 0.5282 - val_top-5-accuracy: 1.0000\n",
            "Epoch 11/100\n",
            "139/139 [==============================] - 11s 78ms/step - loss: 0.6897 - accuracy: 0.5317 - top-5-accuracy: 1.0000 - val_loss: 0.6991 - val_accuracy: 0.5050 - val_top-5-accuracy: 1.0000\n",
            "Epoch 12/100\n",
            "139/139 [==============================] - 11s 78ms/step - loss: 0.6899 - accuracy: 0.5387 - top-5-accuracy: 1.0000 - val_loss: 0.6925 - val_accuracy: 0.5504 - val_top-5-accuracy: 1.0000\n",
            "Epoch 13/100\n",
            "139/139 [==============================] - 11s 78ms/step - loss: 0.6924 - accuracy: 0.5182 - top-5-accuracy: 1.0000 - val_loss: 0.6906 - val_accuracy: 0.5171 - val_top-5-accuracy: 1.0000\n",
            "Epoch 14/100\n",
            "139/139 [==============================] - 12s 87ms/step - loss: 0.6932 - accuracy: 0.5261 - top-5-accuracy: 1.0000 - val_loss: 0.6861 - val_accuracy: 0.5454 - val_top-5-accuracy: 1.0000\n",
            "Epoch 15/100\n",
            "139/139 [==============================] - 10s 74ms/step - loss: 0.6918 - accuracy: 0.5124 - top-5-accuracy: 1.0000 - val_loss: 0.6898 - val_accuracy: 0.5212 - val_top-5-accuracy: 1.0000\n",
            "Epoch 16/100\n",
            "139/139 [==============================] - 11s 79ms/step - loss: 0.6898 - accuracy: 0.5270 - top-5-accuracy: 1.0000 - val_loss: 0.6912 - val_accuracy: 0.5413 - val_top-5-accuracy: 1.0000\n",
            "Epoch 17/100\n",
            "139/139 [==============================] - 11s 79ms/step - loss: 0.6923 - accuracy: 0.5175 - top-5-accuracy: 1.0000 - val_loss: 0.6882 - val_accuracy: 0.5363 - val_top-5-accuracy: 1.0000\n",
            "Epoch 18/100\n",
            "139/139 [==============================] - 11s 80ms/step - loss: 0.6897 - accuracy: 0.5346 - top-5-accuracy: 1.0000 - val_loss: 0.6901 - val_accuracy: 0.5242 - val_top-5-accuracy: 1.0000\n",
            "Epoch 19/100\n",
            "139/139 [==============================] - 12s 87ms/step - loss: 0.6900 - accuracy: 0.5432 - top-5-accuracy: 1.0000 - val_loss: 0.6869 - val_accuracy: 0.5544 - val_top-5-accuracy: 1.0000\n",
            "Epoch 20/100\n",
            "139/139 [==============================] - 12s 83ms/step - loss: 0.6872 - accuracy: 0.5396 - top-5-accuracy: 1.0000 - val_loss: 0.6907 - val_accuracy: 0.5161 - val_top-5-accuracy: 1.0000\n",
            "Epoch 21/100\n",
            "139/139 [==============================] - 10s 73ms/step - loss: 0.6881 - accuracy: 0.5461 - top-5-accuracy: 1.0000 - val_loss: 0.6886 - val_accuracy: 0.5484 - val_top-5-accuracy: 1.0000\n",
            "Epoch 22/100\n",
            "139/139 [==============================] - 11s 77ms/step - loss: 0.6880 - accuracy: 0.5459 - top-5-accuracy: 1.0000 - val_loss: 0.6872 - val_accuracy: 0.5312 - val_top-5-accuracy: 1.0000\n",
            "Epoch 23/100\n",
            "139/139 [==============================] - 11s 78ms/step - loss: 0.6890 - accuracy: 0.5387 - top-5-accuracy: 1.0000 - val_loss: 0.6868 - val_accuracy: 0.5615 - val_top-5-accuracy: 1.0000\n",
            "Epoch 24/100\n",
            "139/139 [==============================] - 11s 78ms/step - loss: 0.6890 - accuracy: 0.5344 - top-5-accuracy: 1.0000 - val_loss: 0.6888 - val_accuracy: 0.5524 - val_top-5-accuracy: 1.0000\n",
            "Epoch 25/100\n",
            "139/139 [==============================] - 11s 79ms/step - loss: 0.6898 - accuracy: 0.5344 - top-5-accuracy: 1.0000 - val_loss: 0.6886 - val_accuracy: 0.5484 - val_top-5-accuracy: 1.0000\n",
            "Epoch 26/100\n",
            "139/139 [==============================] - 11s 79ms/step - loss: 0.6904 - accuracy: 0.5261 - top-5-accuracy: 1.0000 - val_loss: 0.6894 - val_accuracy: 0.5363 - val_top-5-accuracy: 1.0000\n",
            "Epoch 27/100\n",
            "139/139 [==============================] - 10s 74ms/step - loss: 0.6910 - accuracy: 0.5297 - top-5-accuracy: 1.0000 - val_loss: 0.6899 - val_accuracy: 0.5393 - val_top-5-accuracy: 1.0000\n",
            "Epoch 28/100\n",
            "139/139 [==============================] - 11s 78ms/step - loss: 0.6876 - accuracy: 0.5360 - top-5-accuracy: 1.0000 - val_loss: 0.6931 - val_accuracy: 0.4990 - val_top-5-accuracy: 1.0000\n",
            "Epoch 29/100\n",
            "139/139 [==============================] - 11s 79ms/step - loss: 0.6916 - accuracy: 0.5245 - top-5-accuracy: 1.0000 - val_loss: 0.6869 - val_accuracy: 0.5444 - val_top-5-accuracy: 1.0000\n",
            "Epoch 30/100\n",
            "139/139 [==============================] - 11s 78ms/step - loss: 0.6912 - accuracy: 0.5290 - top-5-accuracy: 1.0000 - val_loss: 0.6961 - val_accuracy: 0.5000 - val_top-5-accuracy: 1.0000\n",
            "Epoch 31/100\n",
            "139/139 [==============================] - 11s 78ms/step - loss: 0.6911 - accuracy: 0.5272 - top-5-accuracy: 1.0000 - val_loss: 0.6882 - val_accuracy: 0.5312 - val_top-5-accuracy: 1.0000\n",
            "Epoch 32/100\n",
            "139/139 [==============================] - 11s 78ms/step - loss: 0.6910 - accuracy: 0.5223 - top-5-accuracy: 1.0000 - val_loss: 0.6872 - val_accuracy: 0.5605 - val_top-5-accuracy: 1.0000\n",
            "Epoch 33/100\n",
            "139/139 [==============================] - 11s 78ms/step - loss: 0.6905 - accuracy: 0.5328 - top-5-accuracy: 1.0000 - val_loss: 0.6999 - val_accuracy: 0.4970 - val_top-5-accuracy: 1.0000\n",
            "Epoch 34/100\n",
            "139/139 [==============================] - 11s 78ms/step - loss: 0.6929 - accuracy: 0.5189 - top-5-accuracy: 1.0000 - val_loss: 0.6869 - val_accuracy: 0.5353 - val_top-5-accuracy: 1.0000\n",
            "Epoch 35/100\n",
            "139/139 [==============================] - 11s 78ms/step - loss: 0.6895 - accuracy: 0.5400 - top-5-accuracy: 1.0000 - val_loss: 0.6877 - val_accuracy: 0.5232 - val_top-5-accuracy: 1.0000\n",
            "Epoch 36/100\n",
            "139/139 [==============================] - 11s 78ms/step - loss: 0.6893 - accuracy: 0.5369 - top-5-accuracy: 1.0000 - val_loss: 0.6907 - val_accuracy: 0.5242 - val_top-5-accuracy: 1.0000\n",
            "Epoch 37/100\n",
            "139/139 [==============================] - 12s 86ms/step - loss: 0.6913 - accuracy: 0.5184 - top-5-accuracy: 1.0000 - val_loss: 0.6919 - val_accuracy: 0.5312 - val_top-5-accuracy: 1.0000\n",
            "Epoch 38/100\n",
            "139/139 [==============================] - 11s 76ms/step - loss: 0.6926 - accuracy: 0.5220 - top-5-accuracy: 1.0000 - val_loss: 0.6938 - val_accuracy: 0.5121 - val_top-5-accuracy: 1.0000\n",
            "Epoch 39/100\n",
            "139/139 [==============================] - 10s 73ms/step - loss: 0.6894 - accuracy: 0.5301 - top-5-accuracy: 1.0000 - val_loss: 0.6931 - val_accuracy: 0.4960 - val_top-5-accuracy: 1.0000\n",
            "Epoch 40/100\n",
            "139/139 [==============================] - 11s 78ms/step - loss: 0.6930 - accuracy: 0.5250 - top-5-accuracy: 1.0000 - val_loss: 0.7028 - val_accuracy: 0.4929 - val_top-5-accuracy: 1.0000\n",
            "Epoch 41/100\n",
            "139/139 [==============================] - 11s 79ms/step - loss: 0.6907 - accuracy: 0.5263 - top-5-accuracy: 1.0000 - val_loss: 0.6988 - val_accuracy: 0.5131 - val_top-5-accuracy: 1.0000\n",
            "Epoch 42/100\n",
            "139/139 [==============================] - 11s 77ms/step - loss: 0.6917 - accuracy: 0.5225 - top-5-accuracy: 1.0000 - val_loss: 0.6900 - val_accuracy: 0.5151 - val_top-5-accuracy: 1.0000\n",
            "Epoch 43/100\n",
            "139/139 [==============================] - 11s 77ms/step - loss: 0.6900 - accuracy: 0.5270 - top-5-accuracy: 1.0000 - val_loss: 0.6980 - val_accuracy: 0.5091 - val_top-5-accuracy: 1.0000\n",
            "Epoch 44/100\n",
            "139/139 [==============================] - 11s 76ms/step - loss: 0.6887 - accuracy: 0.5279 - top-5-accuracy: 1.0000 - val_loss: 0.6926 - val_accuracy: 0.5020 - val_top-5-accuracy: 1.0000\n",
            "Epoch 45/100\n",
            "139/139 [==============================] - 11s 79ms/step - loss: 0.6904 - accuracy: 0.5348 - top-5-accuracy: 1.0000 - val_loss: 0.6933 - val_accuracy: 0.5323 - val_top-5-accuracy: 1.0000\n",
            "Epoch 46/100\n",
            "139/139 [==============================] - 11s 78ms/step - loss: 0.6912 - accuracy: 0.5279 - top-5-accuracy: 1.0000 - val_loss: 0.6909 - val_accuracy: 0.5333 - val_top-5-accuracy: 1.0000\n",
            "Epoch 47/100\n",
            "139/139 [==============================] - 11s 78ms/step - loss: 0.6920 - accuracy: 0.5263 - top-5-accuracy: 1.0000 - val_loss: 0.6949 - val_accuracy: 0.5101 - val_top-5-accuracy: 1.0000\n",
            "Epoch 48/100\n",
            "139/139 [==============================] - 11s 78ms/step - loss: 0.6931 - accuracy: 0.5148 - top-5-accuracy: 1.0000 - val_loss: 0.6922 - val_accuracy: 0.5202 - val_top-5-accuracy: 1.0000\n",
            "Epoch 49/100\n",
            "139/139 [==============================] - 12s 85ms/step - loss: 0.6908 - accuracy: 0.5232 - top-5-accuracy: 1.0000 - val_loss: 0.6987 - val_accuracy: 0.5081 - val_top-5-accuracy: 1.0000\n",
            "Epoch 50/100\n",
            "139/139 [==============================] - 12s 85ms/step - loss: 0.6920 - accuracy: 0.5209 - top-5-accuracy: 1.0000 - val_loss: 0.6985 - val_accuracy: 0.4980 - val_top-5-accuracy: 1.0000\n",
            "Epoch 51/100\n",
            "139/139 [==============================] - 10s 75ms/step - loss: 0.6922 - accuracy: 0.5259 - top-5-accuracy: 1.0000 - val_loss: 0.6928 - val_accuracy: 0.5202 - val_top-5-accuracy: 1.0000\n",
            "Epoch 52/100\n",
            "139/139 [==============================] - 11s 75ms/step - loss: 0.6895 - accuracy: 0.5411 - top-5-accuracy: 1.0000 - val_loss: 0.6945 - val_accuracy: 0.5181 - val_top-5-accuracy: 1.0000\n",
            "Epoch 53/100\n",
            "139/139 [==============================] - 11s 79ms/step - loss: 0.6910 - accuracy: 0.5330 - top-5-accuracy: 1.0000 - val_loss: 0.6968 - val_accuracy: 0.5060 - val_top-5-accuracy: 1.0000\n",
            "Epoch 54/100\n",
            "139/139 [==============================] - 11s 78ms/step - loss: 0.6908 - accuracy: 0.5373 - top-5-accuracy: 1.0000 - val_loss: 0.7158 - val_accuracy: 0.5010 - val_top-5-accuracy: 1.0000\n",
            "Epoch 55/100\n",
            "139/139 [==============================] - 11s 78ms/step - loss: 0.6926 - accuracy: 0.5202 - top-5-accuracy: 1.0000 - val_loss: 0.6964 - val_accuracy: 0.5121 - val_top-5-accuracy: 1.0000\n",
            "Epoch 56/100\n",
            "139/139 [==============================] - 11s 78ms/step - loss: 0.6921 - accuracy: 0.5342 - top-5-accuracy: 1.0000 - val_loss: 0.7001 - val_accuracy: 0.5141 - val_top-5-accuracy: 1.0000\n",
            "Epoch 57/100\n",
            "139/139 [==============================] - 12s 84ms/step - loss: 0.6926 - accuracy: 0.5283 - top-5-accuracy: 1.0000 - val_loss: 0.7009 - val_accuracy: 0.5030 - val_top-5-accuracy: 1.0000\n",
            "Epoch 58/100\n",
            "139/139 [==============================] - 11s 76ms/step - loss: 0.6910 - accuracy: 0.5277 - top-5-accuracy: 1.0000 - val_loss: 0.6984 - val_accuracy: 0.4960 - val_top-5-accuracy: 1.0000\n",
            "Epoch 59/100\n",
            "139/139 [==============================] - 11s 78ms/step - loss: 0.6910 - accuracy: 0.5297 - top-5-accuracy: 1.0000 - val_loss: 0.6992 - val_accuracy: 0.4768 - val_top-5-accuracy: 1.0000\n",
            "Epoch 60/100\n",
            "139/139 [==============================] - 11s 78ms/step - loss: 0.6934 - accuracy: 0.5191 - top-5-accuracy: 1.0000 - val_loss: 0.7064 - val_accuracy: 0.5010 - val_top-5-accuracy: 1.0000\n",
            "Epoch 61/100\n",
            "139/139 [==============================] - 11s 78ms/step - loss: 0.6917 - accuracy: 0.5304 - top-5-accuracy: 1.0000 - val_loss: 0.7012 - val_accuracy: 0.4849 - val_top-5-accuracy: 1.0000\n",
            "Epoch 62/100\n",
            "139/139 [==============================] - 11s 78ms/step - loss: 0.6936 - accuracy: 0.5173 - top-5-accuracy: 1.0000 - val_loss: 0.7022 - val_accuracy: 0.4899 - val_top-5-accuracy: 1.0000\n",
            "Epoch 63/100\n",
            "139/139 [==============================] - 12s 85ms/step - loss: 0.6924 - accuracy: 0.5137 - top-5-accuracy: 1.0000 - val_loss: 0.7106 - val_accuracy: 0.5010 - val_top-5-accuracy: 1.0000\n",
            "Epoch 64/100\n",
            "139/139 [==============================] - 10s 74ms/step - loss: 0.6927 - accuracy: 0.5229 - top-5-accuracy: 1.0000 - val_loss: 0.6978 - val_accuracy: 0.5071 - val_top-5-accuracy: 1.0000\n",
            "Epoch 65/100\n",
            "139/139 [==============================] - 11s 78ms/step - loss: 0.6926 - accuracy: 0.5200 - top-5-accuracy: 1.0000 - val_loss: 0.6953 - val_accuracy: 0.5242 - val_top-5-accuracy: 1.0000\n",
            "Epoch 66/100\n",
            "139/139 [==============================] - 11s 79ms/step - loss: 0.6919 - accuracy: 0.5250 - top-5-accuracy: 1.0000 - val_loss: 0.6910 - val_accuracy: 0.5272 - val_top-5-accuracy: 1.0000\n",
            "Epoch 67/100\n",
            "139/139 [==============================] - 11s 78ms/step - loss: 0.6919 - accuracy: 0.5169 - top-5-accuracy: 1.0000 - val_loss: 0.6984 - val_accuracy: 0.5010 - val_top-5-accuracy: 1.0000\n",
            "Epoch 68/100\n",
            "139/139 [==============================] - 12s 84ms/step - loss: 0.6916 - accuracy: 0.5245 - top-5-accuracy: 1.0000 - val_loss: 0.6915 - val_accuracy: 0.5101 - val_top-5-accuracy: 1.0000\n",
            "Epoch 69/100\n",
            "139/139 [==============================] - 12s 84ms/step - loss: 0.6935 - accuracy: 0.5184 - top-5-accuracy: 1.0000 - val_loss: 0.6907 - val_accuracy: 0.5514 - val_top-5-accuracy: 1.0000\n",
            "Epoch 70/100\n",
            "139/139 [==============================] - 10s 75ms/step - loss: 0.6923 - accuracy: 0.5310 - top-5-accuracy: 1.0000 - val_loss: 0.6926 - val_accuracy: 0.5413 - val_top-5-accuracy: 1.0000\n",
            "Epoch 71/100\n",
            "139/139 [==============================] - 11s 79ms/step - loss: 0.6927 - accuracy: 0.5153 - top-5-accuracy: 1.0000 - val_loss: 0.7034 - val_accuracy: 0.4950 - val_top-5-accuracy: 1.0000\n",
            "Epoch 72/100\n",
            "139/139 [==============================] - 11s 78ms/step - loss: 0.6950 - accuracy: 0.5182 - top-5-accuracy: 1.0000 - val_loss: 0.6947 - val_accuracy: 0.5192 - val_top-5-accuracy: 1.0000\n",
            "Epoch 73/100\n",
            "139/139 [==============================] - 11s 78ms/step - loss: 0.6949 - accuracy: 0.5252 - top-5-accuracy: 1.0000 - val_loss: 0.6934 - val_accuracy: 0.5151 - val_top-5-accuracy: 1.0000\n",
            "Epoch 74/100\n",
            "139/139 [==============================] - 11s 77ms/step - loss: 0.6919 - accuracy: 0.5198 - top-5-accuracy: 1.0000 - val_loss: 0.6921 - val_accuracy: 0.5192 - val_top-5-accuracy: 1.0000\n",
            "Epoch 75/100\n",
            "139/139 [==============================] - 12s 83ms/step - loss: 0.6938 - accuracy: 0.5191 - top-5-accuracy: 1.0000 - val_loss: 0.6957 - val_accuracy: 0.4960 - val_top-5-accuracy: 1.0000\n",
            "Epoch 76/100\n",
            "139/139 [==============================] - 10s 75ms/step - loss: 0.6934 - accuracy: 0.5137 - top-5-accuracy: 1.0000 - val_loss: 0.6958 - val_accuracy: 0.4869 - val_top-5-accuracy: 1.0000\n",
            "Epoch 77/100\n",
            "139/139 [==============================] - 11s 77ms/step - loss: 0.6933 - accuracy: 0.5108 - top-5-accuracy: 1.0000 - val_loss: 0.6942 - val_accuracy: 0.4960 - val_top-5-accuracy: 1.0000\n",
            "Epoch 78/100\n",
            "139/139 [==============================] - 11s 79ms/step - loss: 0.6923 - accuracy: 0.5142 - top-5-accuracy: 1.0000 - val_loss: 0.6948 - val_accuracy: 0.5030 - val_top-5-accuracy: 1.0000\n",
            "Epoch 79/100\n",
            "139/139 [==============================] - 11s 79ms/step - loss: 0.6928 - accuracy: 0.5126 - top-5-accuracy: 1.0000 - val_loss: 0.6925 - val_accuracy: 0.5171 - val_top-5-accuracy: 1.0000\n",
            "Epoch 80/100\n",
            "139/139 [==============================] - 11s 78ms/step - loss: 0.6928 - accuracy: 0.5169 - top-5-accuracy: 1.0000 - val_loss: 0.6911 - val_accuracy: 0.5010 - val_top-5-accuracy: 1.0000\n",
            "Epoch 81/100\n",
            "139/139 [==============================] - 11s 78ms/step - loss: 0.6927 - accuracy: 0.5151 - top-5-accuracy: 1.0000 - val_loss: 0.6969 - val_accuracy: 0.4960 - val_top-5-accuracy: 1.0000\n",
            "Epoch 82/100\n",
            "139/139 [==============================] - 11s 76ms/step - loss: 0.6933 - accuracy: 0.5106 - top-5-accuracy: 1.0000 - val_loss: 0.6937 - val_accuracy: 0.4929 - val_top-5-accuracy: 1.0000\n",
            "Epoch 83/100\n",
            "139/139 [==============================] - 11s 78ms/step - loss: 0.6950 - accuracy: 0.5040 - top-5-accuracy: 1.0000 - val_loss: 0.6945 - val_accuracy: 0.4960 - val_top-5-accuracy: 1.0000\n",
            "Epoch 84/100\n",
            "139/139 [==============================] - 11s 78ms/step - loss: 0.6941 - accuracy: 0.5101 - top-5-accuracy: 1.0000 - val_loss: 0.6937 - val_accuracy: 0.5071 - val_top-5-accuracy: 1.0000\n",
            "Epoch 85/100\n",
            "139/139 [==============================] - 11s 79ms/step - loss: 0.6932 - accuracy: 0.5153 - top-5-accuracy: 1.0000 - val_loss: 0.6917 - val_accuracy: 0.5575 - val_top-5-accuracy: 1.0000\n",
            "Epoch 86/100\n",
            "139/139 [==============================] - 11s 78ms/step - loss: 0.6938 - accuracy: 0.5162 - top-5-accuracy: 1.0000 - val_loss: 0.6938 - val_accuracy: 0.5010 - val_top-5-accuracy: 1.0000\n",
            "Epoch 87/100\n",
            "139/139 [==============================] - 12s 85ms/step - loss: 0.6928 - accuracy: 0.5038 - top-5-accuracy: 1.0000 - val_loss: 0.6928 - val_accuracy: 0.5040 - val_top-5-accuracy: 1.0000\n",
            "Epoch 88/100\n",
            "139/139 [==============================] - 11s 77ms/step - loss: 0.6934 - accuracy: 0.5085 - top-5-accuracy: 1.0000 - val_loss: 0.6927 - val_accuracy: 0.5030 - val_top-5-accuracy: 1.0000\n",
            "Epoch 89/100\n",
            "139/139 [==============================] - 10s 75ms/step - loss: 0.6950 - accuracy: 0.5211 - top-5-accuracy: 1.0000 - val_loss: 0.6919 - val_accuracy: 0.5363 - val_top-5-accuracy: 1.0000\n",
            "Epoch 90/100\n",
            "139/139 [==============================] - 11s 78ms/step - loss: 0.6941 - accuracy: 0.5092 - top-5-accuracy: 1.0000 - val_loss: 0.6924 - val_accuracy: 0.5353 - val_top-5-accuracy: 1.0000\n",
            "Epoch 91/100\n",
            "139/139 [==============================] - 11s 78ms/step - loss: 0.6925 - accuracy: 0.5191 - top-5-accuracy: 1.0000 - val_loss: 0.6919 - val_accuracy: 0.5454 - val_top-5-accuracy: 1.0000\n",
            "Epoch 92/100\n",
            "139/139 [==============================] - 11s 81ms/step - loss: 0.6936 - accuracy: 0.5184 - top-5-accuracy: 1.0000 - val_loss: 0.6944 - val_accuracy: 0.5181 - val_top-5-accuracy: 1.0000\n",
            "Epoch 93/100\n",
            "139/139 [==============================] - 11s 78ms/step - loss: 0.6928 - accuracy: 0.5189 - top-5-accuracy: 1.0000 - val_loss: 0.6939 - val_accuracy: 0.4929 - val_top-5-accuracy: 1.0000\n",
            "Epoch 94/100\n",
            "139/139 [==============================] - 11s 78ms/step - loss: 0.6926 - accuracy: 0.5171 - top-5-accuracy: 1.0000 - val_loss: 0.6942 - val_accuracy: 0.4990 - val_top-5-accuracy: 1.0000\n",
            "Epoch 95/100\n",
            "139/139 [==============================] - 11s 79ms/step - loss: 0.6926 - accuracy: 0.5202 - top-5-accuracy: 1.0000 - val_loss: 0.6936 - val_accuracy: 0.5000 - val_top-5-accuracy: 1.0000\n",
            "Epoch 96/100\n",
            "139/139 [==============================] - 11s 78ms/step - loss: 0.6934 - accuracy: 0.5034 - top-5-accuracy: 1.0000 - val_loss: 0.6953 - val_accuracy: 0.5101 - val_top-5-accuracy: 1.0000\n",
            "Epoch 97/100\n",
            "139/139 [==============================] - 11s 79ms/step - loss: 0.6945 - accuracy: 0.5106 - top-5-accuracy: 1.0000 - val_loss: 0.6946 - val_accuracy: 0.4899 - val_top-5-accuracy: 1.0000\n",
            "Epoch 98/100\n",
            "139/139 [==============================] - 11s 79ms/step - loss: 0.6928 - accuracy: 0.5193 - top-5-accuracy: 1.0000 - val_loss: 0.6963 - val_accuracy: 0.5000 - val_top-5-accuracy: 1.0000\n",
            "Epoch 99/100\n",
            "139/139 [==============================] - 11s 76ms/step - loss: 0.6936 - accuracy: 0.5061 - top-5-accuracy: 1.0000 - val_loss: 0.6949 - val_accuracy: 0.5030 - val_top-5-accuracy: 1.0000\n",
            "Epoch 100/100\n",
            "139/139 [==============================] - 11s 78ms/step - loss: 0.6928 - accuracy: 0.5119 - top-5-accuracy: 1.0000 - val_loss: 0.6968 - val_accuracy: 0.4859 - val_top-5-accuracy: 1.0000\n"
          ]
        }
      ],
      "source": [
        "\n",
        "def run_experiment():\n",
        "    mirrored_strategy = tf.distribute.MirroredStrategy(devices= [\"/gpu:0\"],cross_device_ops=tf.distribute.HierarchicalCopyAllReduce())\n",
        "    with mirrored_strategy.scope():\n",
        "    # Initialize model\n",
        "        model = create_vivit_classifier(\n",
        "            tubelet_embedder=TubeletEmbedding(\n",
        "                embed_dim=PROJECTION_DIM, patch_size=PATCH_SIZE\n",
        "            ),\n",
        "            positional_encoder=PositionalEncoder(embed_dim=PROJECTION_DIM),\n",
        "        )\n",
        "\n",
        "        # Compile the model with the optimizer, loss function\n",
        "        # and the metrics.\n",
        "        optimizer = keras.optimizers.Adam(learning_rate=LEARNING_RATE)\n",
        "        model.compile(\n",
        "            optimizer=optimizer,\n",
        "            loss=\"sparse_categorical_crossentropy\",\n",
        "            metrics=[\n",
        "                keras.metrics.SparseCategoricalAccuracy(name=\"accuracy\"),\n",
        "                keras.metrics.SparseTopKCategoricalAccuracy(5, name=\"top-5-accuracy\"),\n",
        "            ],\n",
        "        )\n",
        "\n",
        "        # early_stopping = keras.callbacks.EarlyStopping(monitor='val_loss', patience = 3, mode='min')\n",
        "\n",
        "        # Train the model.\n",
        "        history = model.fit(training_generator, epochs=EPOCHS, validation_data=validation_generator, callbacks=[model_checkpoint, callbacks])\n",
        "\n",
        "        # _, accuracy, top_5_accuracy = model.evaluate(testloader)\n",
        "        # print(f\"Test accuracy: {round(accuracy * 100, 2)}%\")\n",
        "        # print(f\"Test top 5 accuracy: {round(top_5_accuracy * 100, 2)}%\")\n",
        "\n",
        "    return model, history\n",
        "\n",
        "\n",
        "model, history = run_experiment()"
      ]
    }
  ],
  "metadata": {
    "accelerator": "GPU",
    "colab": {
      "machine_shape": "hm",
      "provenance": []
    },
    "gpuClass": "standard",
    "kernelspec": {
      "display_name": "azureml_py38",
      "language": "python",
      "name": "python3"
    },
    "language_info": {
      "codemirror_mode": {
        "name": "ipython",
        "version": 3
      },
      "file_extension": ".py",
      "mimetype": "text/x-python",
      "name": "python",
      "nbconvert_exporter": "python",
      "pygments_lexer": "ipython3",
      "version": "3.8.5"
    },
    "vscode": {
      "interpreter": {
        "hash": "6d65a8c07f5b6469e0fc613f182488c0dccce05038bbda39e5ac9075c0454d11"
      }
    }
  },
  "nbformat": 4,
  "nbformat_minor": 0
}
