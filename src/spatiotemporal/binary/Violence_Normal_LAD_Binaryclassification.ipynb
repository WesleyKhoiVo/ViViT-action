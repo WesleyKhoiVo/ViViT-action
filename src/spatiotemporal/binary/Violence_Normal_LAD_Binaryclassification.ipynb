{
  "cells": [
    {
      "cell_type": "code",
      "execution_count": 1,
      "metadata": {
        "execution": {
          "iopub.execute_input": "2022-12-30T14:25:34.347538Z",
          "iopub.status.busy": "2022-12-30T14:25:34.347046Z",
          "iopub.status.idle": "2022-12-30T14:25:40.603017Z",
          "shell.execute_reply": "2022-12-30T14:25:40.601868Z",
          "shell.execute_reply.started": "2022-12-30T14:25:34.347442Z"
        },
        "id": "-E6FptesbZi7",
        "trusted": true
      },
      "outputs": [],
      "source": [
        "import tensorflow as tf\n",
        "from tensorflow import keras\n",
        "import ipywidgets"
      ]
    },
    {
      "cell_type": "code",
      "execution_count": 2,
      "metadata": {
        "colab": {
          "base_uri": "https://localhost:8080/",
          "height": 71
        },
        "execution": {
          "iopub.execute_input": "2022-12-30T14:08:21.337991Z",
          "iopub.status.busy": "2022-12-30T14:08:21.337244Z",
          "iopub.status.idle": "2022-12-30T14:08:21.354381Z",
          "shell.execute_reply": "2022-12-30T14:08:21.353001Z",
          "shell.execute_reply.started": "2022-12-30T14:08:21.337949Z"
        },
        "id": "itk9H3ytMIq3",
        "outputId": "d6d170d2-a04a-42d3-e1fd-d385fab778ac",
        "trusted": true
      },
      "outputs": [
        {
          "name": "stdout",
          "output_type": "stream",
          "text": [
            "Num GPUs Available:  1\n",
            "2.12.0\n"
          ]
        },
        {
          "data": {
            "application/vnd.google.colaboratory.intrinsic+json": {
              "type": "string"
            },
            "text/plain": [
              "'3.10.11 (main, Apr  5 2023, 14:15:10) [GCC 9.4.0]'"
            ]
          },
          "execution_count": 2,
          "metadata": {},
          "output_type": "execute_result"
        }
      ],
      "source": [
        "tf.compat.v1.logging.set_verbosity(tf.compat.v1.logging.ERROR)\n",
        "print(\"Num GPUs Available: \", len(tf.config.experimental.list_physical_devices('GPU')))\n",
        "tf.test.is_built_with_cuda()\n",
        "print(tf.version.VERSION)\n",
        "import sys\n",
        "sys.version"
      ]
    },
    {
      "cell_type": "code",
      "execution_count": null,
      "metadata": {
        "execution": {
          "iopub.execute_input": "2022-12-30T14:15:42.127108Z",
          "iopub.status.busy": "2022-12-30T14:15:42.126682Z",
          "iopub.status.idle": "2022-12-30T14:15:52.144490Z",
          "shell.execute_reply": "2022-12-30T14:15:52.143617Z",
          "shell.execute_reply.started": "2022-12-30T14:15:42.127072Z"
        },
        "id": "drVuKOApbZjB",
        "trusted": true
      },
      "outputs": [],
      "source": [
        "# ! pip install opencv-python"
      ]
    },
    {
      "cell_type": "code",
      "execution_count": 3,
      "metadata": {
        "colab": {
          "base_uri": "https://localhost:8080/"
        },
        "id": "OY2d5EwIbq4Q",
        "outputId": "2d42e859-79a5-4d4f-a36d-86c54ba0581c"
      },
      "outputs": [
        {
          "name": "stdout",
          "output_type": "stream",
          "text": [
            "Drive already mounted at /content/gdrive; to attempt to forcibly remount, call drive.mount(\"/content/gdrive\", force_remount=True).\n"
          ]
        }
      ],
      "source": [
        "from google.colab import drive\n",
        "drive.mount('/content/gdrive')"
      ]
    },
    {
      "attachments": {},
      "cell_type": "markdown",
      "metadata": {
        "id": "3IQLjkXIMIq4"
      },
      "source": [
        "## Imports"
      ]
    },
    {
      "cell_type": "code",
      "execution_count": 4,
      "metadata": {
        "execution": {
          "iopub.execute_input": "2022-12-30T14:25:40.605904Z",
          "iopub.status.busy": "2022-12-30T14:25:40.605115Z",
          "iopub.status.idle": "2022-12-30T14:25:41.379407Z",
          "shell.execute_reply": "2022-12-30T14:25:41.377784Z",
          "shell.execute_reply.started": "2022-12-30T14:25:40.605859Z"
        },
        "id": "LhaEi9ToMIq5",
        "trusted": true
      },
      "outputs": [],
      "source": [
        "import os\n",
        "import io\n",
        "import matplotlib.pyplot as plt\n",
        "import cv2\n",
        "import imageio\n",
        "#import medmnist\n",
        "#import ipywidgets\n",
        "import numpy as np\n",
        "import tensorflow as tf\n",
        "from tensorflow import keras\n",
        "from tensorflow.keras import layers\n",
        "from tensorflow.keras.callbacks import ModelCheckpoint\n",
        "import cv2 as cv\n",
        "import numpy as np\n",
        "import tensorflow as tf\n",
        "from tensorflow import keras\n",
        "from tensorflow.keras import layers\n",
        "from keras.layers import Dense\n",
        "from keras.regularizers import l2\n",
        "from tensorflow.keras.layers import BatchNormalization\n",
        "from tensorflow.keras.regularizers import l2\n",
        "\n",
        "# Setting seed for reproducibility\n",
        "SEED = 42\n",
        "os.environ[\"TF_CUDNN_DETERMINISTIC\"] = \"1\"\n",
        "np.random.seed(SEED)"
      ]
    },
    {
      "attachments": {},
      "cell_type": "markdown",
      "metadata": {
        "id": "WhnaMHXmMIq6"
      },
      "source": [
        "## Hyperparameters\n",
        "\n",
        "The hyperparameters are chosen via hyperparameter\n",
        "search. You can learn more about the process in the \"conclusion\" section."
      ]
    },
    {
      "cell_type": "code",
      "execution_count": 5,
      "metadata": {
        "id": "xn2VF0EY0vf3"
      },
      "outputs": [],
      "source": [
        "#Binray\n",
        "\n",
        "# DATA\n",
        "DATASET_NAME = \"LAD2000\"\n",
        "BATCH_SIZE = 8\n",
        "PATH = '/content/gdrive/MyDrive/All extracted frames/LAD2000_Vio_Nor/Vio_nor/'\n",
        "Extraction_Name = ''\n",
        "# AUTO = tf.data.AUTOTUNE\n",
        "INPUT_SHAPE = (75, 75, 15, 3)\n",
        "NUM_CLASSES = 2\n",
        "\n",
        "# OPTIMIZER\n",
        "LEARNING_RATE = 1e-2\n",
        "WEIGHT_DECAY = 1e-5\n",
        "\n",
        "# TRAINING\n",
        "EPOCHS = 50\n",
        "\n",
        "# TUBELET EMBEDDING\n",
        "PATCH_SIZE = (8, 8, 8)\n",
        "NUM_PATCHES = (INPUT_SHAPE[0] // PATCH_SIZE[0]) ** 2\n",
        "\n",
        "# ViViT ARCHITECTURE\n",
        "LAYER_NORM_EPS = 1e-6\n",
        "PROJECTION_DIM = 128\n",
        "NUM_HEADS = 8\n",
        "NUM_LAYERS = 8"
      ]
    },
    {
      "attachments": {},
      "cell_type": "markdown",
      "metadata": {
        "id": "5XIkxzaDmIaH"
      },
      "source": [
        "# Loading original frames"
      ]
    },
    {
      "cell_type": "code",
      "execution_count": 6,
      "metadata": {
        "colab": {
          "base_uri": "https://localhost:8080/"
        },
        "id": "C4N3JoYIvbBy",
        "outputId": "21070c81-b216-4a7e-df93-3158d1ea089b"
      },
      "outputs": [
        {
          "name": "stdout",
          "output_type": "stream",
          "text": [
            "X_test_dense_flow.npy  X_Test.npy  y_test_dense_flow.npy  y_test.npy\n"
          ]
        }
      ],
      "source": [
        "! ls '/content/gdrive/MyDrive/All extracted frames/LAD2000_Vio_Nor/Vio_nor/Test'"
      ]
    },
    {
      "cell_type": "code",
      "execution_count": 6,
      "metadata": {
        "id": "vFSFdH0E1E-W"
      },
      "outputs": [],
      "source": [
        "X_train, y_train = np.load(PATH + 'Train/X_train.npy', mmap_mode = 'r'), np.load(PATH + 'Train/y_train.npy', mmap_mode = 'r')\n",
        "X_val, y_val = np.load(PATH + 'Val/X_val.npy', mmap_mode = 'r'), np.load(PATH + 'Val/y_val.npy', mmap_mode = 'r')\n",
        "X_test, y_test = np.load(PATH + 'Test/X_Test.npy', mmap_mode = 'r'), np.load(PATH + 'Test/y_test.npy', mmap_mode = 'r')"
      ]
    },
    {
      "cell_type": "code",
      "execution_count": 7,
      "metadata": {
        "colab": {
          "base_uri": "https://localhost:8080/"
        },
        "id": "PnE3OckBobuU",
        "outputId": "8748e57b-9233-4087-f24f-2101920088e8"
      },
      "outputs": [
        {
          "data": {
            "text/plain": [
              "(4778, 15, 75, 75, 3)"
            ]
          },
          "execution_count": 7,
          "metadata": {},
          "output_type": "execute_result"
        }
      ],
      "source": [
        "X_train.shape"
      ]
    },
    {
      "cell_type": "code",
      "execution_count": 8,
      "metadata": {
        "colab": {
          "base_uri": "https://localhost:8080/"
        },
        "id": "7iT8twYDoi3j",
        "outputId": "de341add-4b96-4feb-b71c-aa8e391aa2e4"
      },
      "outputs": [
        {
          "data": {
            "text/plain": [
              "(4778,)"
            ]
          },
          "execution_count": 8,
          "metadata": {},
          "output_type": "execute_result"
        }
      ],
      "source": [
        "y_train.shape"
      ]
    },
    {
      "cell_type": "code",
      "execution_count": 10,
      "metadata": {
        "colab": {
          "base_uri": "https://localhost:8080/"
        },
        "id": "xZLlbal6oY5t",
        "outputId": "22c4fd63-0359-466c-f313-b3d9efc2f8c7"
      },
      "outputs": [
        {
          "data": {
            "text/plain": [
              "(1186, 15, 75, 75, 3)"
            ]
          },
          "execution_count": 10,
          "metadata": {},
          "output_type": "execute_result"
        }
      ],
      "source": [
        "X_test.shape"
      ]
    },
    {
      "cell_type": "code",
      "execution_count": 11,
      "metadata": {
        "colab": {
          "base_uri": "https://localhost:8080/"
        },
        "id": "wERnhDkLr1CN",
        "outputId": "357954da-9b77-4738-9bcb-8ec3859d1db5"
      },
      "outputs": [
        {
          "data": {
            "text/plain": [
              "(1186,)"
            ]
          },
          "execution_count": 11,
          "metadata": {},
          "output_type": "execute_result"
        }
      ],
      "source": [
        "y_test.shape"
      ]
    },
    {
      "cell_type": "code",
      "execution_count": 12,
      "metadata": {
        "colab": {
          "base_uri": "https://localhost:8080/"
        },
        "id": "v8fx1cO9sjyE",
        "outputId": "c3124adc-4a8f-40c5-c6f6-389a07b7485f"
      },
      "outputs": [
        {
          "data": {
            "text/plain": [
              "(1149, 15, 75, 75, 3)"
            ]
          },
          "execution_count": 12,
          "metadata": {},
          "output_type": "execute_result"
        }
      ],
      "source": [
        "X_val.shape"
      ]
    },
    {
      "cell_type": "code",
      "execution_count": 13,
      "metadata": {
        "colab": {
          "base_uri": "https://localhost:8080/"
        },
        "id": "eobz6lXRr4OL",
        "outputId": "649d3a97-22c3-407c-e397-a5e839a970c9"
      },
      "outputs": [
        {
          "data": {
            "text/plain": [
              "(1149,)"
            ]
          },
          "execution_count": 13,
          "metadata": {},
          "output_type": "execute_result"
        }
      ],
      "source": [
        "y_val.shape"
      ]
    },
    {
      "cell_type": "code",
      "execution_count": 15,
      "metadata": {
        "id": "kuQX-eEV1xHQ"
      },
      "outputs": [],
      "source": [
        "X_train = np.moveaxis(X_train, 1, 3)\n",
        "X_val = np.moveaxis(X_val, 1, 3)\n",
        "X_test = np.moveaxis(X_test, 1, 3)"
      ]
    },
    {
      "attachments": {},
      "cell_type": "markdown",
      "metadata": {
        "id": "sCpdhvtdmR46"
      },
      "source": [
        "#Loading optical flow"
      ]
    },
    {
      "attachments": {},
      "cell_type": "markdown",
      "metadata": {
        "id": "KqZcjfvOKnMi"
      },
      "source": [
        "#Loading sparse optical flow"
      ]
    },
    {
      "cell_type": "code",
      "execution_count": null,
      "metadata": {
        "id": "f6UVU1UU6t3O"
      },
      "outputs": [],
      "source": [
        "# X_train_flow, y_train_flow = np.load(PATH + 'Train/X_train_flow.npy'), np.load(PATH + 'Train/y_train_flow.npy')"
      ]
    },
    {
      "cell_type": "code",
      "execution_count": null,
      "metadata": {
        "colab": {
          "base_uri": "https://localhost:8080/"
        },
        "id": "be_rhn8st6f4",
        "outputId": "cd3cffca-108d-4205-eb61-4ed43dcaa0be"
      },
      "outputs": [
        {
          "data": {
            "text/plain": [
              "(4573, 75, 75, 14, 2)"
            ]
          },
          "execution_count": 7,
          "metadata": {},
          "output_type": "execute_result"
        }
      ],
      "source": [
        "# X_train_flow.shape"
      ]
    },
    {
      "cell_type": "code",
      "execution_count": null,
      "metadata": {
        "colab": {
          "base_uri": "https://localhost:8080/"
        },
        "id": "wxjpzsI_uAXu",
        "outputId": "658f13ff-e204-475c-eb0c-5cfb9c2a83b3"
      },
      "outputs": [
        {
          "data": {
            "text/plain": [
              "(4573,)"
            ]
          },
          "execution_count": 8,
          "metadata": {},
          "output_type": "execute_result"
        }
      ],
      "source": [
        "# y_train_flow.shape"
      ]
    },
    {
      "cell_type": "code",
      "execution_count": null,
      "metadata": {
        "id": "9QtTohO4UMmT"
      },
      "outputs": [],
      "source": [
        "# X_test_flow, y_test_flow = np.load(PATH + 'Test/X_test_flow.npy'), np.load(PATH + 'Test/y_test_flow.npy')"
      ]
    },
    {
      "cell_type": "code",
      "execution_count": null,
      "metadata": {
        "colab": {
          "base_uri": "https://localhost:8080/"
        },
        "id": "oIDiYwaJnSSe",
        "outputId": "daeefc0d-c4ac-43c9-e3e8-137e935f3d12"
      },
      "outputs": [
        {
          "data": {
            "text/plain": [
              "(1345, 75, 75, 14, 2)"
            ]
          },
          "execution_count": 10,
          "metadata": {},
          "output_type": "execute_result"
        }
      ],
      "source": [
        "# X_test_flow.shape"
      ]
    },
    {
      "cell_type": "code",
      "execution_count": null,
      "metadata": {
        "colab": {
          "base_uri": "https://localhost:8080/"
        },
        "id": "O0zCVlD1qOzg",
        "outputId": "e63963e7-9025-4b82-f110-a2708e681363"
      },
      "outputs": [
        {
          "data": {
            "text/plain": [
              "(1345,)"
            ]
          },
          "execution_count": 11,
          "metadata": {},
          "output_type": "execute_result"
        }
      ],
      "source": [
        "# y_test_flow.shape"
      ]
    },
    {
      "cell_type": "code",
      "execution_count": null,
      "metadata": {
        "id": "jeaCeP6fUU7r"
      },
      "outputs": [],
      "source": [
        "# X_val_flow, y_val_flow = np.load(PATH + 'Val/X_val_flow.npy'), np.load(PATH + 'Val/y_val_flow.npy')"
      ]
    },
    {
      "cell_type": "code",
      "execution_count": null,
      "metadata": {
        "colab": {
          "base_uri": "https://localhost:8080/"
        },
        "id": "lCJKUVbcsnJZ",
        "outputId": "dff0f206-9c09-4806-beac-7182bab46ddd"
      },
      "outputs": [
        {
          "data": {
            "text/plain": [
              "(655, 75, 75, 14, 2)"
            ]
          },
          "execution_count": 13,
          "metadata": {},
          "output_type": "execute_result"
        }
      ],
      "source": [
        "# X_val_flow.shape"
      ]
    },
    {
      "cell_type": "code",
      "execution_count": null,
      "metadata": {
        "colab": {
          "base_uri": "https://localhost:8080/"
        },
        "id": "zvdPNUDzl1A-",
        "outputId": "dea823d5-645d-4ce7-e528-af0e70951d33"
      },
      "outputs": [
        {
          "data": {
            "text/plain": [
              "(655,)"
            ]
          },
          "execution_count": 14,
          "metadata": {},
          "output_type": "execute_result"
        }
      ],
      "source": [
        "# y_val_flow.shape"
      ]
    },
    {
      "cell_type": "code",
      "execution_count": null,
      "metadata": {
        "id": "b6y0ZxOGDgom"
      },
      "outputs": [],
      "source": [
        "# dim = X_val_flow.shape[1:]"
      ]
    },
    {
      "cell_type": "code",
      "execution_count": null,
      "metadata": {
        "colab": {
          "base_uri": "https://localhost:8080/"
        },
        "id": "urJUVSEwRFiL",
        "outputId": "b876eff0-f12f-426b-98f1-bf0f1f04d03d"
      },
      "outputs": [
        {
          "data": {
            "text/plain": [
              "(4573, 75, 75, 14, 2)"
            ]
          },
          "execution_count": 16,
          "metadata": {},
          "output_type": "execute_result"
        }
      ],
      "source": [
        "# X_train_flow.shape"
      ]
    },
    {
      "cell_type": "code",
      "execution_count": null,
      "metadata": {
        "colab": {
          "base_uri": "https://localhost:8080/"
        },
        "id": "5XtdlWg2DLFx",
        "outputId": "2d72fb94-6e14-4206-a8f6-c5b98d89deba"
      },
      "outputs": [
        {
          "data": {
            "text/plain": [
              "(655, 75, 75, 14, 2)"
            ]
          },
          "execution_count": 17,
          "metadata": {},
          "output_type": "execute_result"
        }
      ],
      "source": [
        "# X_val_flow.shape"
      ]
    },
    {
      "cell_type": "code",
      "execution_count": null,
      "metadata": {
        "colab": {
          "base_uri": "https://localhost:8080/"
        },
        "id": "VbFq-0GrT-XZ",
        "outputId": "49a07dfb-a55c-415f-ba1c-431b1281208a"
      },
      "outputs": [
        {
          "data": {
            "text/plain": [
              "(1345, 75, 75, 14, 2)"
            ]
          },
          "execution_count": 18,
          "metadata": {},
          "output_type": "execute_result"
        }
      ],
      "source": [
        "# X_test_flow.shape"
      ]
    },
    {
      "cell_type": "code",
      "execution_count": null,
      "metadata": {
        "colab": {
          "base_uri": "https://localhost:8080/"
        },
        "id": "GwoRDuTAb9ao",
        "outputId": "36af6877-0b88-48a0-b85e-1ba95440400d"
      },
      "outputs": [
        {
          "data": {
            "text/plain": [
              "(75, 75, 14, 2)"
            ]
          },
          "execution_count": 19,
          "metadata": {},
          "output_type": "execute_result"
        }
      ],
      "source": [
        "# dim"
      ]
    },
    {
      "attachments": {},
      "cell_type": "markdown",
      "metadata": {
        "id": "nNjDX4STKjbZ"
      },
      "source": [
        "#Loading dense optical flow"
      ]
    },
    {
      "cell_type": "code",
      "execution_count": null,
      "metadata": {
        "id": "d72eg5XmKKDU"
      },
      "outputs": [],
      "source": [
        "X_train_flow, y_train_flow = np.load(PATH + 'Train/X_train_dense_flow.npy', mmap_mode='r'), np.load(PATH + 'Train/y_train_dense_flow.npy', mmap_mode = 'r')"
      ]
    },
    {
      "cell_type": "code",
      "execution_count": null,
      "metadata": {
        "colab": {
          "base_uri": "https://localhost:8080/"
        },
        "id": "-olwe0iYK6cy",
        "outputId": "69fad58d-bf4b-4ae3-bd3f-e33d3cf703fa"
      },
      "outputs": [
        {
          "name": "stdout",
          "output_type": "stream",
          "text": [
            "(4573, 75, 75, 14, 2) (4573,)\n"
          ]
        }
      ],
      "source": [
        "print(X_train_flow.shape, y_train_flow.shape)"
      ]
    },
    {
      "cell_type": "code",
      "execution_count": null,
      "metadata": {
        "id": "ZaKRim3iLXS6"
      },
      "outputs": [],
      "source": [
        "X_test_flow, y_test_flow = np.load(PATH + 'Test/X_test_dense_flow.npy', mmap_mode='r'), np.load(PATH + 'Test/y_test_dense_flow.npy', mmap_mode = 'r')"
      ]
    },
    {
      "cell_type": "code",
      "execution_count": null,
      "metadata": {
        "colab": {
          "base_uri": "https://localhost:8080/"
        },
        "id": "1orNuYsELeDG",
        "outputId": "65971b04-a75a-445b-bd84-119ab3c27380"
      },
      "outputs": [
        {
          "name": "stdout",
          "output_type": "stream",
          "text": [
            "(1345, 75, 75, 14, 2) (1345,)\n"
          ]
        }
      ],
      "source": [
        "print(X_test_flow.shape, y_test_flow.shape)"
      ]
    },
    {
      "cell_type": "code",
      "execution_count": null,
      "metadata": {
        "id": "JxJe9P9BLg-M"
      },
      "outputs": [],
      "source": [
        "X_val_flow, y_val_flow = np.load(PATH + 'Val/X_val_dense_flow.npy', mmap_mode='r'), np.load(PATH + 'Val/y_val_dense_flow.npy', mmap_mode = 'r')"
      ]
    },
    {
      "cell_type": "code",
      "execution_count": null,
      "metadata": {
        "colab": {
          "base_uri": "https://localhost:8080/"
        },
        "id": "vg_ByOyPhk1G",
        "outputId": "59ec9c5f-c54e-4d01-b85c-42d168f691be"
      },
      "outputs": [
        {
          "name": "stdout",
          "output_type": "stream",
          "text": [
            "(655, 75, 75, 14, 2) (655,)\n"
          ]
        }
      ],
      "source": [
        "print(X_val_flow.shape, y_val_flow.shape)"
      ]
    },
    {
      "cell_type": "code",
      "execution_count": 10,
      "metadata": {
        "id": "hJJ4Ju2zK2e7"
      },
      "outputs": [],
      "source": [
        "dim = X_val.shape[1:]"
      ]
    },
    {
      "cell_type": "code",
      "execution_count": 37,
      "metadata": {
        "colab": {
          "base_uri": "https://localhost:8080/"
        },
        "id": "1DAe3pZyLsl2",
        "outputId": "9d6656fa-15e7-4250-cef5-6970cd3b55dc"
      },
      "outputs": [
        {
          "data": {
            "text/plain": [
              "(75, 75, 15, 3)"
            ]
          },
          "execution_count": 37,
          "metadata": {},
          "output_type": "execute_result"
        }
      ],
      "source": [
        "dim"
      ]
    },
    {
      "attachments": {},
      "cell_type": "markdown",
      "metadata": {
        "id": "aRQzU1JUrDBD"
      },
      "source": [
        "#Binary with MM model\n"
      ]
    },
    {
      "cell_type": "code",
      "execution_count": 8,
      "metadata": {
        "id": "izhwK8SErRVu"
      },
      "outputs": [],
      "source": [
        "import os\n",
        "import sys\n",
        "import cv2\n",
        "import zipfile\n",
        "import numpy as np\n",
        "import imageio\n",
        "import matplotlib.pyplot as plt\n",
        "import tensorflow as tf\n",
        "from sklearn import svm\n",
        "from sklearn.model_selection import train_test_split\n",
        "# from tensorflow_docs.vis import embed\n",
        "from tensorflow import keras\n",
        "from imutils import paths\n",
        "from tensorflow.keras import layers, models"
      ]
    },
    {
      "cell_type": "code",
      "execution_count": 11,
      "metadata": {
        "id": "wZzo7zQEwPwl"
      },
      "outputs": [],
      "source": [
        "model = models.Sequential()\n",
        "model.add(layers.BatchNormalization())\n",
        "model.add(layers.Conv3D(32, kernel_size=(3, 3, 1), activation='relu', kernel_initializer='he_uniform', data_format='channels_last', input_shape=dim))\n",
        "model.add(layers.MaxPooling3D((2, 2, 1)))\n",
        "model.add(layers.BatchNormalization())\n",
        "model.add(layers.Conv3D(32, kernel_size=(3, 3, 2), activation='relu', kernel_initializer='he_uniform'))\n",
        "model.add(layers.MaxPooling3D((3, 3, 1)))\n",
        "model.add(layers.BatchNormalization())\n",
        "model.add(layers.Conv3D(32, kernel_size=(3, 3, 1), activation='relu', kernel_initializer='he_uniform'))\n",
        "model.add(layers.MaxPooling3D((2, 2, 1)))\n",
        "model.add(layers.BatchNormalization())\n",
        "model.add(layers.Flatten())\n",
        "model.add(layers.Dropout(0.5))\n",
        "model.add(layers.Dense(4096, activation='relu'))\n",
        "model.add(layers.Dense(1024, activation='relu'))\n",
        "model.add(layers.BatchNormalization())\n",
        "model.add(layers.Dropout(0.5))\n",
        "model.add(layers.Dense(256, activation='relu'))\n",
        "model.add(layers.Dense(16, activation='relu'))\n",
        "model.add(layers.BatchNormalization())\n",
        "model.add(layers.Dense(1, activation='sigmoid'))"
      ]
    },
    {
      "cell_type": "code",
      "execution_count": 12,
      "metadata": {
        "colab": {
          "base_uri": "https://localhost:8080/"
        },
        "id": "MYVmrrfHwSfn",
        "outputId": "d90cee64-a9c5-487e-a569-c6e10cbf8f9b"
      },
      "outputs": [
        {
          "name": "stdout",
          "output_type": "stream",
          "text": [
            "Epoch 1/50\n",
            "598/598 [==============================] - 39s 50ms/step - loss: 0.6593 - accuracy: 0.6302 - val_loss: 0.6738 - val_accuracy: 0.6205\n",
            "Epoch 2/50\n",
            "598/598 [==============================] - 26s 44ms/step - loss: 0.5260 - accuracy: 0.7415 - val_loss: 0.7373 - val_accuracy: 0.6188\n",
            "Epoch 3/50\n",
            "598/598 [==============================] - 27s 45ms/step - loss: 0.4129 - accuracy: 0.8194 - val_loss: 0.8433 - val_accuracy: 0.6223\n",
            "Epoch 4/50\n",
            "598/598 [==============================] - 28s 47ms/step - loss: 0.3396 - accuracy: 0.8518 - val_loss: 0.9055 - val_accuracy: 0.6423\n",
            "Epoch 5/50\n",
            "598/598 [==============================] - 27s 45ms/step - loss: 0.2505 - accuracy: 0.9004 - val_loss: 0.9419 - val_accuracy: 0.6501\n",
            "Epoch 6/50\n",
            "598/598 [==============================] - 27s 45ms/step - loss: 0.2189 - accuracy: 0.9148 - val_loss: 0.8916 - val_accuracy: 0.6336\n",
            "Epoch 7/50\n",
            "598/598 [==============================] - 28s 47ms/step - loss: 0.1973 - accuracy: 0.9293 - val_loss: 0.9070 - val_accuracy: 0.6440\n",
            "Epoch 8/50\n",
            "598/598 [==============================] - 28s 46ms/step - loss: 0.1691 - accuracy: 0.9437 - val_loss: 1.2222 - val_accuracy: 0.5936\n",
            "Epoch 9/50\n",
            "598/598 [==============================] - 27s 45ms/step - loss: 0.1508 - accuracy: 0.9479 - val_loss: 1.1168 - val_accuracy: 0.5997\n",
            "Epoch 10/50\n",
            "598/598 [==============================] - 27s 45ms/step - loss: 0.1529 - accuracy: 0.9458 - val_loss: 1.1038 - val_accuracy: 0.6319\n",
            "Epoch 11/50\n",
            "598/598 [==============================] - 27s 45ms/step - loss: 0.1321 - accuracy: 0.9542 - val_loss: 1.1567 - val_accuracy: 0.6501\n",
            "Epoch 12/50\n",
            "598/598 [==============================] - 28s 47ms/step - loss: 0.1160 - accuracy: 0.9638 - val_loss: 1.2075 - val_accuracy: 0.6484\n",
            "Epoch 13/50\n",
            "598/598 [==============================] - 28s 46ms/step - loss: 0.1311 - accuracy: 0.9573 - val_loss: 1.3273 - val_accuracy: 0.5944\n",
            "Epoch 14/50\n",
            "598/598 [==============================] - 27s 45ms/step - loss: 0.1313 - accuracy: 0.9586 - val_loss: 1.0380 - val_accuracy: 0.6275\n",
            "Epoch 15/50\n",
            "598/598 [==============================] - 27s 45ms/step - loss: 0.1253 - accuracy: 0.9577 - val_loss: 1.1807 - val_accuracy: 0.6371\n",
            "Epoch 16/50\n",
            "598/598 [==============================] - 28s 47ms/step - loss: 0.0952 - accuracy: 0.9715 - val_loss: 1.1786 - val_accuracy: 0.6075\n",
            "Epoch 17/50\n",
            "598/598 [==============================] - 27s 45ms/step - loss: 0.0996 - accuracy: 0.9699 - val_loss: 1.3907 - val_accuracy: 0.6336\n",
            "Epoch 18/50\n",
            "598/598 [==============================] - 27s 45ms/step - loss: 0.0845 - accuracy: 0.9774 - val_loss: 1.3512 - val_accuracy: 0.5866\n",
            "Epoch 19/50\n",
            "598/598 [==============================] - 28s 47ms/step - loss: 0.0657 - accuracy: 0.9824 - val_loss: 1.4159 - val_accuracy: 0.6084\n",
            "Epoch 20/50\n",
            "598/598 [==============================] - 28s 47ms/step - loss: 0.0635 - accuracy: 0.9801 - val_loss: 1.4722 - val_accuracy: 0.5953\n",
            "Epoch 21/50\n",
            "598/598 [==============================] - 28s 47ms/step - loss: 0.0840 - accuracy: 0.9789 - val_loss: 1.4478 - val_accuracy: 0.5970\n",
            "Epoch 22/50\n",
            "598/598 [==============================] - 28s 47ms/step - loss: 0.0764 - accuracy: 0.9814 - val_loss: 1.2935 - val_accuracy: 0.6458\n",
            "Epoch 23/50\n",
            "598/598 [==============================] - 28s 47ms/step - loss: 0.0414 - accuracy: 0.9902 - val_loss: 1.4953 - val_accuracy: 0.6275\n",
            "Epoch 24/50\n",
            "598/598 [==============================] - 27s 45ms/step - loss: 0.0615 - accuracy: 0.9847 - val_loss: 1.4954 - val_accuracy: 0.6327\n",
            "Epoch 25/50\n",
            "598/598 [==============================] - 28s 47ms/step - loss: 0.0507 - accuracy: 0.9868 - val_loss: 1.7000 - val_accuracy: 0.6144\n",
            "Epoch 26/50\n",
            "598/598 [==============================] - 27s 45ms/step - loss: 0.0570 - accuracy: 0.9835 - val_loss: 1.5366 - val_accuracy: 0.5883\n",
            "Epoch 27/50\n",
            "598/598 [==============================] - 28s 47ms/step - loss: 0.0452 - accuracy: 0.9891 - val_loss: 1.6348 - val_accuracy: 0.6031\n",
            "Epoch 28/50\n",
            "598/598 [==============================] - 27s 45ms/step - loss: 0.0289 - accuracy: 0.9933 - val_loss: 1.8622 - val_accuracy: 0.6075\n",
            "Epoch 29/50\n",
            "598/598 [==============================] - 28s 47ms/step - loss: 0.0639 - accuracy: 0.9810 - val_loss: 1.7939 - val_accuracy: 0.5822\n",
            "Epoch 30/50\n",
            "598/598 [==============================] - 28s 47ms/step - loss: 0.0291 - accuracy: 0.9931 - val_loss: 1.7065 - val_accuracy: 0.5735\n",
            "Epoch 31/50\n",
            "598/598 [==============================] - 28s 47ms/step - loss: 0.0448 - accuracy: 0.9910 - val_loss: 1.8894 - val_accuracy: 0.5648\n",
            "Epoch 32/50\n",
            "598/598 [==============================] - 28s 47ms/step - loss: 0.0556 - accuracy: 0.9845 - val_loss: 1.5206 - val_accuracy: 0.5953\n",
            "Epoch 33/50\n",
            "598/598 [==============================] - 27s 45ms/step - loss: 0.0406 - accuracy: 0.9887 - val_loss: 1.7862 - val_accuracy: 0.6040\n",
            "Epoch 34/50\n",
            "598/598 [==============================] - 28s 47ms/step - loss: 0.0400 - accuracy: 0.9920 - val_loss: 1.7584 - val_accuracy: 0.6110\n",
            "Epoch 35/50\n",
            "598/598 [==============================] - 28s 47ms/step - loss: 0.0256 - accuracy: 0.9931 - val_loss: 1.7545 - val_accuracy: 0.6092\n",
            "Epoch 36/50\n",
            "598/598 [==============================] - 28s 47ms/step - loss: 0.0225 - accuracy: 0.9939 - val_loss: 1.7913 - val_accuracy: 0.6136\n",
            "Epoch 37/50\n",
            "598/598 [==============================] - 28s 47ms/step - loss: 0.0607 - accuracy: 0.9837 - val_loss: 1.7923 - val_accuracy: 0.5892\n",
            "Epoch 38/50\n",
            "598/598 [==============================] - 27s 45ms/step - loss: 0.0408 - accuracy: 0.9904 - val_loss: 1.7361 - val_accuracy: 0.6023\n",
            "Epoch 39/50\n",
            "598/598 [==============================] - 27s 45ms/step - loss: 0.0262 - accuracy: 0.9929 - val_loss: 1.8506 - val_accuracy: 0.6075\n",
            "Epoch 40/50\n",
            "598/598 [==============================] - 27s 45ms/step - loss: 0.0405 - accuracy: 0.9866 - val_loss: 1.6190 - val_accuracy: 0.6214\n",
            "Epoch 41/50\n",
            "598/598 [==============================] - 27s 45ms/step - loss: 0.0412 - accuracy: 0.9872 - val_loss: 1.7866 - val_accuracy: 0.6171\n",
            "Epoch 42/50\n",
            "598/598 [==============================] - 28s 47ms/step - loss: 0.0205 - accuracy: 0.9956 - val_loss: 1.6759 - val_accuracy: 0.6179\n",
            "Epoch 43/50\n",
            "598/598 [==============================] - 27s 45ms/step - loss: 0.0239 - accuracy: 0.9939 - val_loss: 1.8200 - val_accuracy: 0.6379\n",
            "Epoch 44/50\n",
            "598/598 [==============================] - 27s 45ms/step - loss: 0.0272 - accuracy: 0.9941 - val_loss: 1.9936 - val_accuracy: 0.5840\n",
            "Epoch 45/50\n",
            "598/598 [==============================] - 28s 47ms/step - loss: 0.0473 - accuracy: 0.9904 - val_loss: 1.5876 - val_accuracy: 0.6188\n",
            "Epoch 46/50\n",
            "598/598 [==============================] - 27s 45ms/step - loss: 0.0390 - accuracy: 0.9902 - val_loss: 1.7144 - val_accuracy: 0.6075\n",
            "Epoch 47/50\n",
            "598/598 [==============================] - 27s 45ms/step - loss: 0.0264 - accuracy: 0.9929 - val_loss: 1.8089 - val_accuracy: 0.6188\n",
            "Epoch 48/50\n",
            "598/598 [==============================] - 28s 47ms/step - loss: 0.0394 - accuracy: 0.9902 - val_loss: 1.7698 - val_accuracy: 0.5962\n",
            "Epoch 49/50\n",
            "598/598 [==============================] - 27s 45ms/step - loss: 0.0284 - accuracy: 0.9939 - val_loss: 1.8425 - val_accuracy: 0.5997\n",
            "Epoch 50/50\n",
            "598/598 [==============================] - 28s 47ms/step - loss: 0.0196 - accuracy: 0.9956 - val_loss: 2.1289 - val_accuracy: 0.6014\n"
          ]
        }
      ],
      "source": [
        "model.compile(loss=tf.keras.losses.BinaryCrossentropy(from_logits=False),\n",
        "              optimizer=tf.keras.optimizers.Adam(learning_rate=0.00025),\n",
        "              metrics=['accuracy'])\n",
        "\n",
        "history = model.fit(X_train, y_train,\n",
        "                    batch_size=8,\n",
        "                    epochs=50,\n",
        "                    validation_data=(X_val,y_val),\n",
        "                    shuffle=True)\n",
        "\n"
      ]
    },
    {
      "cell_type": "code",
      "execution_count": null,
      "metadata": {
        "id": "zXN3I9C_6vYx"
      },
      "outputs": [],
      "source": [
        "#testing_generator = DataGenerator(X_test, y_test)"
      ]
    },
    {
      "cell_type": "code",
      "execution_count": 13,
      "metadata": {
        "colab": {
          "base_uri": "https://localhost:8080/"
        },
        "id": "WwJchwlm6vTx",
        "outputId": "9cc8fddc-f84f-4737-af6b-b9e44247f455"
      },
      "outputs": [
        {
          "name": "stdout",
          "output_type": "stream",
          "text": [
            "38/38 [==============================] - 2s 39ms/step - loss: 2.0808 - accuracy: 0.6046\n"
          ]
        },
        {
          "data": {
            "text/plain": [
              "[2.0808112621307373, 0.6045531034469604]"
            ]
          },
          "execution_count": 13,
          "metadata": {},
          "output_type": "execute_result"
        }
      ],
      "source": [
        "model.evaluate(X_test, y_test)"
      ]
    },
    {
      "cell_type": "code",
      "execution_count": 16,
      "metadata": {
        "colab": {
          "base_uri": "https://localhost:8080/",
          "height": 466
        },
        "id": "nKDE6Aup6zhx",
        "outputId": "28055805-00a3-4a9c-ab47-f4f61e8de78c"
      },
      "outputs": [
        {
          "name": "stdout",
          "output_type": "stream",
          "text": [
            "38/38 [==============================] - 1s 38ms/step\n"
          ]
        },
        {
          "data": {
            "image/png": "[encoded data removed]",
            "text/plain": [
              "<Figure size 640x480 with 2 Axes>"
            ]
          },
          "metadata": {},
          "output_type": "display_data"
        }
      ],
      "source": [
        "from sklearn.metrics import confusion_matrix\n",
        "import matplotlib.pyplot as plt\n",
        "import numpy as np\n",
        "\n",
        "classes = [0, 1]\n",
        "# assuming you have already made predictions and have ground truth labels\n",
        "y_pred = model.predict(X_test)\n",
        "y_pred_classes = np.argmax(y_pred,axis = 1) \n",
        "y_true = np.argmax(y_test,axis = 1)\n",
        "\n",
        "# compute the confusion matrix\n",
        "confusion_mtx = confusion_matrix(y_true, y_pred_classes) \n",
        "\n",
        "# plot the confusion matrix\n",
        "plt.imshow(confusion_mtx, interpolation='nearest', cmap=plt.cm.Blues)\n",
        "plt.colorbar()\n",
        "tick_marks = np.arange(len(classes))\n",
        "plt.xticks(tick_marks, classes)\n",
        "plt.yticks(tick_marks, classes)\n",
        "plt.xlabel('Predicted label')\n",
        "plt.ylabel('True label')\n",
        "plt.show()"
      ]
    },
    {
      "attachments": {},
      "cell_type": "markdown",
      "metadata": {
        "id": "jmxEmSWdE1Pc"
      },
      "source": [
        "#VIVIT Model"
      ]
    },
    {
      "cell_type": "code",
      "execution_count": 7,
      "metadata": {
        "id": "qNd5V_5GtB4u"
      },
      "outputs": [],
      "source": [
        "from tensorflow.keras.utils import to_categorical\n",
        "\n",
        "y_train = to_categorical(y_train, 2)\n",
        "y_val = to_categorical(y_val, 2)\n",
        "y_test = to_categorical(y_test, 2)"
      ]
    },
    {
      "cell_type": "code",
      "execution_count": 8,
      "metadata": {
        "id": "DGUqwLtKEGnR"
      },
      "outputs": [],
      "source": [
        "class DataGenerator(keras.utils.Sequence):\n",
        "\n",
        "    def __init__(self, x_in, y_in, batch_size=BATCH_SIZE, shuffle=True):\n",
        "        # Initialization\n",
        "        self.batch_size = batch_size\n",
        "        self.shuffle = shuffle\n",
        "        self.x = x_in\n",
        "        self.y = y_in\n",
        "        self.datalen = len(y_in)\n",
        "        self.indexes = np.arange(self.datalen)\n",
        "        if self.shuffle:\n",
        "            np.random.shuffle(self.indexes)\n",
        "\n",
        "    def __getitem__(self, index):\n",
        "        # get batch indexes from shuffled indexes\n",
        "        batch_indexes = self.indexes[index*self.batch_size:(index+1)*self.batch_size]\n",
        "        x_batch = self.x[batch_indexes]\n",
        "        y_batch = self.y[batch_indexes]\n",
        "        return x_batch, y_batch\n",
        "    \n",
        "    def __len__(self):\n",
        "        # Denotes the number of batches per epoch\n",
        "        return self.datalen // self.batch_size\n",
        "\n",
        "    def on_epoch_end(self):\n",
        "        # Updates indexes after each epoch\n",
        "        self.indexes = np.arange(self.datalen)\n",
        "        if self.shuffle:\n",
        "            np.random.shuffle(self.indexes)\n",
        "\n",
        "#training_generator = DataGenerator(X_train, y_train)\n",
        "#validation_generator = DataGenerator(X_val, y_val)"
      ]
    },
    {
      "cell_type": "code",
      "execution_count": 9,
      "metadata": {
        "id": "igqdpz27MIq_"
      },
      "outputs": [],
      "source": [
        "\n",
        "class TubeletEmbedding(layers.Layer):\n",
        "    def __init__(self, embed_dim, patch_size, **kwargs):\n",
        "        super().__init__(**kwargs)\n",
        "        self.projection = layers.Conv3D(\n",
        "            filters=embed_dim,\n",
        "            kernel_size=patch_size,\n",
        "            strides=patch_size,\n",
        "            padding=\"VALID\",\n",
        "        )\n",
        "        self.flatten = layers.Reshape(target_shape=(-1, embed_dim))\n",
        "\n",
        "    def call(self, videos):\n",
        "        projected_patches = self.projection(videos)\n",
        "        flattened_patches = self.flatten(projected_patches)\n",
        "        return flattened_patches\n"
      ]
    },
    {
      "cell_type": "code",
      "execution_count": 10,
      "metadata": {
        "id": "9P4kswaIMIrA"
      },
      "outputs": [],
      "source": [
        "\n",
        "class PositionalEncoder(layers.Layer):\n",
        "    def __init__(self, embed_dim, **kwargs):\n",
        "        super().__init__(**kwargs)\n",
        "        self.embed_dim = embed_dim\n",
        "\n",
        "    def build(self, input_shape):\n",
        "        _, num_tokens, _ = input_shape\n",
        "        self.position_embedding = layers.Embedding(\n",
        "            input_dim=num_tokens, output_dim=self.embed_dim\n",
        "        )\n",
        "        self.positions = tf.range(start=0, limit=num_tokens, delta=1)\n",
        "\n",
        "    def call(self, encoded_tokens):\n",
        "        # Encode the positions and add it to the encoded tokens\n",
        "        encoded_positions = self.position_embedding(self.positions)\n",
        "        encoded_tokens = encoded_tokens + encoded_positions\n",
        "        return encoded_tokens\n"
      ]
    },
    {
      "cell_type": "code",
      "execution_count": 11,
      "metadata": {
        "id": "rgJvyE09cpw7"
      },
      "outputs": [],
      "source": [
        "checkpoint_filepath = '/content/gdrive/MyDrive/Checkpoints/run_lad/checkpoint/'\n",
        "model_checkpoint = model_checkpoint_callback = tf.keras.callbacks.ModelCheckpoint(\n",
        "                                filepath=checkpoint_filepath,\n",
        "                                save_weights_only=True,\n",
        "                                monitor='val_loss',\n",
        "                                mode='min',\n",
        "                                save_best_only=True\n",
        "                                )"
      ]
    },
    {
      "cell_type": "code",
      "execution_count": 12,
      "metadata": {
        "id": "fRPd8rH5kmjz"
      },
      "outputs": [],
      "source": [
        "from keras.callbacks import ReduceLROnPlateau\n",
        "checkpoint_filepath = '/content/gdrive/MyDrive/Checkpoints/run_lad/checkpoint/'\n",
        "checkpoint = model_checkpoint_callback = tf.keras.callbacks.ModelCheckpoint(\n",
        "                                filepath=checkpoint_filepath,\n",
        "                                save_weights_only=True,\n",
        "                                monitor='val_loss',\n",
        "                                mode='min',\n",
        "                                save_best_only=True\n",
        "                                )\n",
        "\n",
        "earlystopping = tf.keras.callbacks.EarlyStopping(\n",
        "                     monitor=\"val_loss\",\n",
        "                     min_delta=0.025,\n",
        "                     patience=5,\n",
        "                     verbose=0,\n",
        "                     mode=\"min\",\n",
        "                     baseline=None,\n",
        "                     restore_best_weights=False\n",
        "                 )\n",
        "\n",
        "values = np.linspace(0.00001,LEARNING_RATE,14)[::-1].astype(np.float32)\n",
        "boundaries = np.linspace(5, 45,13)[:values.shape[0]-1].astype(np.int32)\n",
        "\n",
        "scheduler = keras.optimizers.schedules.PiecewiseConstantDecay(\n",
        "    list(boundaries), list(values))\n",
        "\n",
        "lr_scheduler = tf.keras.callbacks.LearningRateScheduler(scheduler,verbose=1)\n",
        "\n",
        "reduce_lr = ReduceLROnPlateau(monitor='val_loss', factor=0.5,\n",
        "                              patience=3, min_lr=0.000001)\n",
        "\n",
        "callbacks = [checkpoint, lr_scheduler, reduce_lr]"
      ]
    },
    {
      "cell_type": "code",
      "execution_count": 13,
      "metadata": {
        "id": "tIWQUMvdMIrB"
      },
      "outputs": [],
      "source": [
        "def create_vivit_classifier(\n",
        "    tubelet_embedder,\n",
        "    positional_encoder,\n",
        "    input_shape=INPUT_SHAPE,\n",
        "    transformer_layers=NUM_LAYERS,\n",
        "    num_heads=NUM_HEADS,\n",
        "    embed_dim=PROJECTION_DIM,\n",
        "    layer_norm_eps=LAYER_NORM_EPS,\n",
        "    num_classes=2,\n",
        "):\n",
        "    input_shape = (75, 75, 15, 3)\n",
        "    # Get the input layer\n",
        "    inputs = layers.Input(shape=input_shape)\n",
        "    # Create patches.\n",
        "    patches = tubelet_embedder(inputs)\n",
        "    # Encode patches.\n",
        "    encoded_patches = positional_encoder(patches)\n",
        "\n",
        "    # Create multiple layers of the Transformer block.\n",
        "    for _ in range(transformer_layers):\n",
        "        # Layer normalization and MHSA\n",
        "        x1 = layers.LayerNormalization(epsilon=1e-6)(encoded_patches)\n",
        "        attention_output = layers.MultiHeadAttention(\n",
        "            num_heads=num_heads, key_dim=embed_dim // num_heads, dropout=0.1\n",
        "        )(x1, x1)\n",
        "\n",
        "        # Skip connection\n",
        "        x2 = layers.Add()([attention_output, encoded_patches])\n",
        "\n",
        "        # Layer Normalization and MLP\n",
        "        x3 = layers.LayerNormalization(epsilon=1e-6)(x2)\n",
        "        x3 = keras.Sequential(\n",
        "            [\n",
        "                layers.Dense(units=embed_dim * 4, activation=tf.nn.gelu),\n",
        "                layers.Dense(units=embed_dim, activation=tf.nn.gelu),\n",
        "            ]\n",
        "        )(x3)\n",
        "\n",
        "        # Skip connection\n",
        "        encoded_patches = layers.Add()([x3, x2])\n",
        "\n",
        "    # Layer normalization and Global average pooling.\n",
        "    representation = layers.LayerNormalization(epsilon=layer_norm_eps)(encoded_patches)\n",
        "    representation = layers.GlobalAvgPool1D()(representation)\n",
        "\n",
        "    # Classify outputs.\n",
        "    outputs = layers.Dense(units=num_classes, activation=\"softmax\")(representation)\n",
        "\n",
        "    # Create the Keras model.\n",
        "    model = keras.Model(inputs=inputs, outputs=outputs)\n",
        "    return model\n"
      ]
    },
    {
      "attachments": {},
      "cell_type": "markdown",
      "metadata": {
        "id": "VergBBi6E9Om"
      },
      "source": [
        "#Using learning rate scheduler and learning rate reduce on plateau"
      ]
    },
    {
      "cell_type": "code",
      "execution_count": 16,
      "metadata": {
        "colab": {
          "base_uri": "https://localhost:8080/"
        },
        "id": "_1LwPvm0vroL",
        "outputId": "67f5f402-fe48-4753-d985-c9e37cc9e9d3"
      },
      "outputs": [
        {
          "name": "stdout",
          "output_type": "stream",
          "text": [
            "\n",
            "Epoch 1: LearningRateScheduler setting learning rate to 0.009999999776482582.\n",
            "Epoch 1/50\n",
            "150/150 [==============================] - 52s 107ms/step - loss: 0.8110 - accuracy: 0.5157 - val_loss: 0.7588 - val_accuracy: 0.4935 - lr: 0.0100\n",
            "\n",
            "Epoch 2: LearningRateScheduler setting learning rate to 0.009999999776482582.\n",
            "Epoch 2/50\n",
            "150/150 [==============================] - 14s 91ms/step - loss: 0.7020 - accuracy: 0.5213 - val_loss: 0.7015 - val_accuracy: 0.5074 - lr: 0.0100\n",
            "\n",
            "Epoch 3: LearningRateScheduler setting learning rate to 0.009999999776482582.\n",
            "Epoch 3/50\n",
            "150/150 [==============================] - 10s 67ms/step - loss: 0.6960 - accuracy: 0.5341 - val_loss: 0.7097 - val_accuracy: 0.5074 - lr: 0.0100\n",
            "\n",
            "Epoch 4: LearningRateScheduler setting learning rate to 0.009999999776482582.\n",
            "Epoch 4/50\n",
            "150/150 [==============================] - 11s 75ms/step - loss: 0.6953 - accuracy: 0.5199 - val_loss: 0.7002 - val_accuracy: 0.4935 - lr: 0.0100\n",
            "\n",
            "Epoch 5: LearningRateScheduler setting learning rate to 0.009999999776482582.\n",
            "Epoch 5/50\n",
            "150/150 [==============================] - 10s 69ms/step - loss: 0.6916 - accuracy: 0.5339 - val_loss: 0.7084 - val_accuracy: 0.4822 - lr: 0.0100\n",
            "\n",
            "Epoch 6: LearningRateScheduler setting learning rate to 0.009999999776482582.\n",
            "Epoch 6/50\n",
            "150/150 [==============================] - 11s 70ms/step - loss: 0.6938 - accuracy: 0.5312 - val_loss: 0.7238 - val_accuracy: 0.4935 - lr: 0.0100\n",
            "\n",
            "Epoch 7: LearningRateScheduler setting learning rate to 0.009231538511812687.\n",
            "Epoch 7/50\n",
            "150/150 [==============================] - 10s 66ms/step - loss: 0.6915 - accuracy: 0.5412 - val_loss: 0.7040 - val_accuracy: 0.4795 - lr: 0.0092\n",
            "\n",
            "Epoch 8: LearningRateScheduler setting learning rate to 0.009231538511812687.\n",
            "Epoch 8/50\n",
            "150/150 [==============================] - 10s 67ms/step - loss: 0.6889 - accuracy: 0.5404 - val_loss: 0.7017 - val_accuracy: 0.4587 - lr: 0.0092\n",
            "\n",
            "Epoch 9: LearningRateScheduler setting learning rate to 0.009231538511812687.\n",
            "Epoch 9/50\n",
            "150/150 [==============================] - 12s 79ms/step - loss: 0.6892 - accuracy: 0.5360 - val_loss: 0.6951 - val_accuracy: 0.5274 - lr: 0.0092\n",
            "\n",
            "Epoch 10: LearningRateScheduler setting learning rate to 0.008463077247142792.\n",
            "Epoch 10/50\n",
            "150/150 [==============================] - 12s 79ms/step - loss: 0.6890 - accuracy: 0.5444 - val_loss: 0.6944 - val_accuracy: 0.4743 - lr: 0.0085\n",
            "\n",
            "Epoch 11: LearningRateScheduler setting learning rate to 0.008463077247142792.\n",
            "Epoch 11/50\n",
            "150/150 [==============================] - 10s 65ms/step - loss: 0.6895 - accuracy: 0.5398 - val_loss: 0.6998 - val_accuracy: 0.4569 - lr: 0.0085\n",
            "\n",
            "Epoch 12: LearningRateScheduler setting learning rate to 0.008463077247142792.\n",
            "Epoch 12/50\n",
            "150/150 [==============================] - 10s 65ms/step - loss: 0.6886 - accuracy: 0.5465 - val_loss: 0.6974 - val_accuracy: 0.4874 - lr: 0.0085\n",
            "\n",
            "Epoch 13: LearningRateScheduler setting learning rate to 0.007694615516811609.\n",
            "Epoch 13/50\n",
            "150/150 [==============================] - 10s 69ms/step - loss: 0.6878 - accuracy: 0.5410 - val_loss: 0.6965 - val_accuracy: 0.5083 - lr: 0.0077\n",
            "\n",
            "Epoch 14: LearningRateScheduler setting learning rate to 0.007694615516811609.\n",
            "Epoch 14/50\n",
            "150/150 [==============================] - 10s 67ms/step - loss: 0.6883 - accuracy: 0.5425 - val_loss: 0.6975 - val_accuracy: 0.4587 - lr: 0.0077\n",
            "\n",
            "Epoch 15: LearningRateScheduler setting learning rate to 0.007694615516811609.\n",
            "Epoch 15/50\n",
            "150/150 [==============================] - 9s 62ms/step - loss: 0.6882 - accuracy: 0.5488 - val_loss: 0.7034 - val_accuracy: 0.4787 - lr: 0.0077\n",
            "\n",
            "Epoch 16: LearningRateScheduler setting learning rate to 0.007694615516811609.\n",
            "Epoch 16/50\n",
            "150/150 [==============================] - 10s 69ms/step - loss: 0.6891 - accuracy: 0.5408 - val_loss: 0.7030 - val_accuracy: 0.4708 - lr: 0.0077\n",
            "\n",
            "Epoch 17: LearningRateScheduler setting learning rate to 0.006926153786480427.\n",
            "Epoch 17/50\n",
            "150/150 [==============================] - 10s 68ms/step - loss: 0.6875 - accuracy: 0.5385 - val_loss: 0.6989 - val_accuracy: 0.4961 - lr: 0.0069\n",
            "\n",
            "Epoch 18: LearningRateScheduler setting learning rate to 0.006926153786480427.\n",
            "Epoch 18/50\n",
            "150/150 [==============================] - 9s 62ms/step - loss: 0.6872 - accuracy: 0.5454 - val_loss: 0.6970 - val_accuracy: 0.4700 - lr: 0.0069\n",
            "\n",
            "Epoch 19: LearningRateScheduler setting learning rate to 0.006926153786480427.\n",
            "Epoch 19/50\n",
            "150/150 [==============================] - 10s 69ms/step - loss: 0.6869 - accuracy: 0.5465 - val_loss: 0.6977 - val_accuracy: 0.4769 - lr: 0.0069\n",
            "\n",
            "Epoch 20: LearningRateScheduler setting learning rate to 0.006157692521810532.\n",
            "Epoch 20/50\n",
            "150/150 [==============================] - 10s 69ms/step - loss: 0.6881 - accuracy: 0.5370 - val_loss: 0.6960 - val_accuracy: 0.5239 - lr: 0.0062\n",
            "\n",
            "Epoch 21: LearningRateScheduler setting learning rate to 0.006157692521810532.\n",
            "Epoch 21/50\n",
            "150/150 [==============================] - 9s 63ms/step - loss: 0.6866 - accuracy: 0.5427 - val_loss: 0.7007 - val_accuracy: 0.4761 - lr: 0.0062\n",
            "\n",
            "Epoch 22: LearningRateScheduler setting learning rate to 0.006157692521810532.\n",
            "Epoch 22/50\n",
            "150/150 [==============================] - 12s 77ms/step - loss: 0.6845 - accuracy: 0.5565 - val_loss: 0.6873 - val_accuracy: 0.5100 - lr: 0.0062\n",
            "\n",
            "Epoch 23: LearningRateScheduler setting learning rate to 0.005389230791479349.\n",
            "Epoch 23/50\n",
            "150/150 [==============================] - 12s 81ms/step - loss: 0.6840 - accuracy: 0.5544 - val_loss: 0.6837 - val_accuracy: 0.5440 - lr: 0.0054\n",
            "\n",
            "Epoch 24: LearningRateScheduler setting learning rate to 0.005389230791479349.\n",
            "Epoch 24/50\n",
            "150/150 [==============================] - 10s 69ms/step - loss: 0.6798 - accuracy: 0.5668 - val_loss: 0.6920 - val_accuracy: 0.4970 - lr: 0.0054\n",
            "\n",
            "Epoch 25: LearningRateScheduler setting learning rate to 0.005389230791479349.\n",
            "Epoch 25/50\n",
            "150/150 [==============================] - 12s 77ms/step - loss: 0.6819 - accuracy: 0.5624 - val_loss: 0.6819 - val_accuracy: 0.5405 - lr: 0.0054\n",
            "\n",
            "Epoch 26: LearningRateScheduler setting learning rate to 0.005389230791479349.\n",
            "Epoch 26/50\n",
            "150/150 [==============================] - 9s 62ms/step - loss: 0.6819 - accuracy: 0.5622 - val_loss: 0.7150 - val_accuracy: 0.4761 - lr: 0.0054\n",
            "\n",
            "Epoch 27: LearningRateScheduler setting learning rate to 0.004620769061148167.\n",
            "Epoch 27/50\n",
            "150/150 [==============================] - 10s 69ms/step - loss: 0.6853 - accuracy: 0.5427 - val_loss: 0.6983 - val_accuracy: 0.4978 - lr: 0.0046\n",
            "\n",
            "Epoch 28: LearningRateScheduler setting learning rate to 0.004620769061148167.\n",
            "Epoch 28/50\n",
            "150/150 [==============================] - 10s 68ms/step - loss: 0.6808 - accuracy: 0.5624 - val_loss: 0.6891 - val_accuracy: 0.5065 - lr: 0.0046\n",
            "\n",
            "Epoch 29: LearningRateScheduler setting learning rate to 0.004620769061148167.\n",
            "Epoch 29/50\n",
            "150/150 [==============================] - 9s 60ms/step - loss: 0.6778 - accuracy: 0.5638 - val_loss: 0.6969 - val_accuracy: 0.5030 - lr: 0.0046\n",
            "\n",
            "Epoch 30: LearningRateScheduler setting learning rate to 0.0038523077964782715.\n",
            "Epoch 30/50\n",
            "150/150 [==============================] - 12s 78ms/step - loss: 0.6745 - accuracy: 0.5764 - val_loss: 0.6633 - val_accuracy: 0.5849 - lr: 0.0039\n",
            "\n",
            "Epoch 31: LearningRateScheduler setting learning rate to 0.0038523077964782715.\n",
            "Epoch 31/50\n",
            "150/150 [==============================] - 10s 69ms/step - loss: 0.6790 - accuracy: 0.5741 - val_loss: 0.6943 - val_accuracy: 0.5178 - lr: 0.0039\n",
            "\n",
            "Epoch 32: LearningRateScheduler setting learning rate to 0.0038523077964782715.\n",
            "Epoch 32/50\n",
            "150/150 [==============================] - 10s 65ms/step - loss: 0.6712 - accuracy: 0.5923 - val_loss: 0.6800 - val_accuracy: 0.5457 - lr: 0.0039\n",
            "\n",
            "Epoch 33: LearningRateScheduler setting learning rate to 0.003083846066147089.\n",
            "Epoch 33/50\n",
            "150/150 [==============================] - 10s 64ms/step - loss: 0.6681 - accuracy: 0.5892 - val_loss: 0.6842 - val_accuracy: 0.5927 - lr: 0.0031\n",
            "\n",
            "Epoch 34: LearningRateScheduler setting learning rate to 0.003083846066147089.\n",
            "Epoch 34/50\n",
            "150/150 [==============================] - 10s 68ms/step - loss: 0.6700 - accuracy: 0.5936 - val_loss: 0.6837 - val_accuracy: 0.5257 - lr: 0.0031\n",
            "\n",
            "Epoch 35: LearningRateScheduler setting learning rate to 0.003083846066147089.\n",
            "Epoch 35/50\n",
            "150/150 [==============================] - 10s 68ms/step - loss: 0.6640 - accuracy: 0.5936 - val_loss: 0.6825 - val_accuracy: 0.5892 - lr: 0.0031\n",
            "\n",
            "Epoch 36: LearningRateScheduler setting learning rate to 0.003083846066147089.\n",
            "Epoch 36/50\n",
            "150/150 [==============================] - 9s 62ms/step - loss: 0.6604 - accuracy: 0.6023 - val_loss: 0.6932 - val_accuracy: 0.5326 - lr: 0.0031\n",
            "\n",
            "Epoch 37: LearningRateScheduler setting learning rate to 0.00231538456864655.\n",
            "Epoch 37/50\n",
            "150/150 [==============================] - 10s 69ms/step - loss: 0.6522 - accuracy: 0.6078 - val_loss: 0.6782 - val_accuracy: 0.5570 - lr: 0.0023\n",
            "\n",
            "Epoch 38: LearningRateScheduler setting learning rate to 0.00231538456864655.\n",
            "Epoch 38/50\n",
            "150/150 [==============================] - 10s 68ms/step - loss: 0.6514 - accuracy: 0.6166 - val_loss: 0.6777 - val_accuracy: 0.5544 - lr: 0.0023\n",
            "\n",
            "Epoch 39: LearningRateScheduler setting learning rate to 0.00231538456864655.\n",
            "Epoch 39/50\n",
            "150/150 [==============================] - 9s 61ms/step - loss: 0.6522 - accuracy: 0.6197 - val_loss: 0.6833 - val_accuracy: 0.5614 - lr: 0.0023\n",
            "\n",
            "Epoch 40: LearningRateScheduler setting learning rate to 0.0015469230711460114.\n",
            "Epoch 40/50\n",
            "150/150 [==============================] - 10s 69ms/step - loss: 0.6457 - accuracy: 0.6226 - val_loss: 0.6811 - val_accuracy: 0.5518 - lr: 0.0015\n",
            "\n",
            "Epoch 41: LearningRateScheduler setting learning rate to 0.0015469230711460114.\n",
            "Epoch 41/50\n",
            "150/150 [==============================] - 10s 69ms/step - loss: 0.6448 - accuracy: 0.6277 - val_loss: 0.6872 - val_accuracy: 0.5805 - lr: 0.0015\n",
            "\n",
            "Epoch 42: LearningRateScheduler setting learning rate to 0.0015469230711460114.\n",
            "Epoch 42/50\n",
            "150/150 [==============================] - 9s 61ms/step - loss: 0.6464 - accuracy: 0.6272 - val_loss: 0.6866 - val_accuracy: 0.5561 - lr: 0.0015\n",
            "\n",
            "Epoch 43: LearningRateScheduler setting learning rate to 0.0007784615154378116.\n",
            "Epoch 43/50\n",
            "150/150 [==============================] - 10s 69ms/step - loss: 0.6438 - accuracy: 0.6266 - val_loss: 0.6814 - val_accuracy: 0.5840 - lr: 7.7846e-04\n",
            "\n",
            "Epoch 44: LearningRateScheduler setting learning rate to 0.0007784615154378116.\n",
            "Epoch 44/50\n",
            "150/150 [==============================] - 10s 68ms/step - loss: 0.6446 - accuracy: 0.6262 - val_loss: 0.6822 - val_accuracy: 0.5805 - lr: 7.7846e-04\n",
            "\n",
            "Epoch 45: LearningRateScheduler setting learning rate to 0.0007784615154378116.\n",
            "Epoch 45/50\n",
            "150/150 [==============================] - 10s 64ms/step - loss: 0.6427 - accuracy: 0.6264 - val_loss: 0.6883 - val_accuracy: 0.5527 - lr: 7.7846e-04\n",
            "\n",
            "Epoch 46: LearningRateScheduler setting learning rate to 0.0007784615154378116.\n",
            "Epoch 46/50\n",
            "150/150 [==============================] - 10s 66ms/step - loss: 0.6396 - accuracy: 0.6362 - val_loss: 0.6820 - val_accuracy: 0.5788 - lr: 7.7846e-04\n",
            "\n",
            "Epoch 47: LearningRateScheduler setting learning rate to 9.999999747378752e-06.\n",
            "Epoch 47/50\n",
            "150/150 [==============================] - 10s 69ms/step - loss: 0.6387 - accuracy: 0.6342 - val_loss: 0.6823 - val_accuracy: 0.5770 - lr: 1.0000e-05\n",
            "\n",
            "Epoch 48: LearningRateScheduler setting learning rate to 9.999999747378752e-06.\n",
            "Epoch 48/50\n",
            "150/150 [==============================] - 10s 67ms/step - loss: 0.6378 - accuracy: 0.6344 - val_loss: 0.6825 - val_accuracy: 0.5727 - lr: 1.0000e-05\n",
            "\n",
            "Epoch 49: LearningRateScheduler setting learning rate to 9.999999747378752e-06.\n",
            "Epoch 49/50\n",
            "150/150 [==============================] - 10s 64ms/step - loss: 0.6388 - accuracy: 0.6362 - val_loss: 0.6827 - val_accuracy: 0.5692 - lr: 1.0000e-05\n",
            "\n",
            "Epoch 50: LearningRateScheduler setting learning rate to 9.999999747378752e-06.\n",
            "Epoch 50/50\n",
            "150/150 [==============================] - 10s 69ms/step - loss: 0.6371 - accuracy: 0.6377 - val_loss: 0.6830 - val_accuracy: 0.5701 - lr: 1.0000e-05\n"
          ]
        }
      ],
      "source": [
        "#new dense optical flow\n",
        "def run_experiment():\n",
        "    mirrored_strategy = tf.distribute.MirroredStrategy(devices= [\"/gpu:0\"],cross_device_ops=tf.distribute.HierarchicalCopyAllReduce())\n",
        "    with mirrored_strategy.scope():\n",
        "    # Initialize model\n",
        "        model = create_vivit_classifier(\n",
        "            tubelet_embedder=TubeletEmbedding(\n",
        "                embed_dim=PROJECTION_DIM, patch_size=PATCH_SIZE\n",
        "            ),\n",
        "            positional_encoder=PositionalEncoder(embed_dim=PROJECTION_DIM),\n",
        "        )\n",
        "\n",
        "        # Compile the model with the optimizer, loss function\n",
        "        # and the metrics.\n",
        "        optimizer = keras.optimizers.Adam(learning_rate=LEARNING_RATE)\n",
        "\n",
        "        model.compile(loss=tf.keras.losses.BinaryCrossentropy(from_logits=False),\n",
        "              optimizer=tf.keras.optimizers.Adam(learning_rate=LEARNING_RATE),\n",
        "              metrics=['accuracy'])\n",
        "\n",
        "        # Train the model.\n",
        "        history = model.fit(X_train,y_train, epochs=EPOCHS, validation_data=(X_val,y_val), callbacks=[model_checkpoint, callbacks])\n",
        "\n",
        "    return model, history\n",
        "\n",
        "\n",
        "model, history = run_experiment()\n"
      ]
    },
    {
      "cell_type": "code",
      "execution_count": 17,
      "metadata": {
        "id": "Z16l4lCY72xA"
      },
      "outputs": [],
      "source": [
        "testing_generator = DataGenerator(X_test, y_test)"
      ]
    },
    {
      "cell_type": "code",
      "execution_count": 18,
      "metadata": {
        "colab": {
          "base_uri": "https://localhost:8080/"
        },
        "id": "OI5YDb7h72xD",
        "outputId": "b1c4fdb6-7247-49cf-9ebb-ad4d235bf3ec"
      },
      "outputs": [
        {
          "name": "stdout",
          "output_type": "stream",
          "text": [
            "148/148 [==============================] - 5s 24ms/step - loss: 0.6789 - accuracy: 0.6014\n"
          ]
        },
        {
          "data": {
            "text/plain": [
              "[0.6788521409034729, 0.6013513803482056]"
            ]
          },
          "execution_count": 18,
          "metadata": {},
          "output_type": "execute_result"
        }
      ],
      "source": [
        "model.evaluate(testing_generator)"
      ]
    },
    {
      "cell_type": "code",
      "execution_count": 19,
      "metadata": {
        "colab": {
          "base_uri": "https://localhost:8080/",
          "height": 466
        },
        "id": "3pPNwvjlMfmG",
        "outputId": "04dd7dcf-9780-47e9-cb7f-85d35620d8d2"
      },
      "outputs": [
        {
          "name": "stdout",
          "output_type": "stream",
          "text": [
            "38/38 [==============================] - 3s 37ms/step\n"
          ]
        },
        {
          "data": {
            "image/png": "[encoded data removed]",
            "text/plain": [
              "<Figure size 640x480 with 2 Axes>"
            ]
          },
          "metadata": {},
          "output_type": "display_data"
        }
      ],
      "source": [
        "from sklearn.metrics import confusion_matrix\n",
        "import matplotlib.pyplot as plt\n",
        "import numpy as np\n",
        "\n",
        "classes = [0, 1]\n",
        "# assuming you have already made predictions and have ground truth labels\n",
        "y_pred = model.predict(X_test)\n",
        "y_pred_classes = np.argmax(y_pred,axis = 1) \n",
        "y_true = np.argmax(y_test,axis = 1)\n",
        "\n",
        "# compute the confusion matrix\n",
        "confusion_mtx = confusion_matrix(y_true, y_pred_classes) \n",
        "\n",
        "# plot the confusion matrix\n",
        "plt.imshow(confusion_mtx, interpolation='nearest', cmap=plt.cm.Blues)\n",
        "plt.colorbar()\n",
        "tick_marks = np.arange(len(classes))\n",
        "plt.xticks(tick_marks, classes)\n",
        "plt.yticks(tick_marks, classes)\n",
        "plt.xlabel('Predicted label')\n",
        "plt.ylabel('True label')\n",
        "plt.show()\n"
      ]
    },
    {
      "cell_type": "code",
      "execution_count": null,
      "metadata": {
        "id": "Kg8DQj4yNuOL"
      },
      "outputs": [],
      "source": [
        "model.save('/content/gdrive/MyDrive/All extracted frames/LAD2000_Vio_Nor/Model')"
      ]
    }
  ],
  "metadata": {
    "accelerator": "GPU",
    "colab": {
      "collapsed_sections": [
        "KqZcjfvOKnMi",
        "nNjDX4STKjbZ",
        "aRQzU1JUrDBD",
        "ITWTUCAJEpGY"
      ],
      "machine_shape": "hm",
      "provenance": []
    },
    "gpuClass": "standard",
    "kernelspec": {
      "display_name": "azureml_py38",
      "language": "python",
      "name": "python3"
    },
    "language_info": {
      "codemirror_mode": {
        "name": "ipython",
        "version": 3
      },
      "file_extension": ".py",
      "mimetype": "text/x-python",
      "name": "python",
      "nbconvert_exporter": "python",
      "pygments_lexer": "ipython3",
      "version": "3.8.5"
    },
    "vscode": {
      "interpreter": {
        "hash": "6d65a8c07f5b6469e0fc613f182488c0dccce05038bbda39e5ac9075c0454d11"
      }
    }
  },
  "nbformat": 4,
  "nbformat_minor": 0
}
