{
  "nbformat": 4,
  "nbformat_minor": 0,
  "metadata": {
    "colab": {
      "provenance": [],
      "include_colab_link": true
    },
    "kernelspec": {
      "name": "python3",
      "display_name": "Python 3"
    },
    "language_info": {
      "name": "python"
    }
  },
  "cells": [
    {
      "cell_type": "markdown",
      "metadata": {
        "id": "view-in-github",
        "colab_type": "text"
      },
      "source": [
        "<a href=\"https://colab.research.google.com/github/WesleyKhoiVo/ViViT-action/blob/main/src/data-preprocessing/UBI_splitting.ipynb\" target=\"_parent\"><img src=\"https://colab.research.google.com/assets/colab-badge.svg\" alt=\"Open In Colab\"/></a>"
      ]
    },
    {
      "cell_type": "code",
      "source": [
        "! pip install npy_append_array"
      ],
      "metadata": {
        "colab": {
          "base_uri": "https://localhost:8080/"
        },
        "id": "8538CufWp81A",
        "outputId": "fdb65532-18f7-4c93-f1cf-19f033514102"
      },
      "execution_count": 1,
      "outputs": [
        {
          "output_type": "stream",
          "name": "stdout",
          "text": [
            "Collecting npy_append_array\n",
            "  Downloading npy_append_array-0.9.16-py3-none-any.whl (9.0 kB)\n",
            "Installing collected packages: npy_append_array\n",
            "Successfully installed npy_append_array-0.9.16\n"
          ]
        }
      ]
    },
    {
      "cell_type": "code",
      "source": [
        "from google.colab import drive\n",
        "drive.mount('/content/drive')"
      ],
      "metadata": {
        "colab": {
          "base_uri": "https://localhost:8080/"
        },
        "id": "AnmA1KcxadgV",
        "outputId": "3661cd56-5a9a-4f55-e17f-6ccc0bc3de5d"
      },
      "execution_count": 2,
      "outputs": [
        {
          "output_type": "stream",
          "name": "stdout",
          "text": [
            "Mounted at /content/drive\n"
          ]
        }
      ]
    },
    {
      "cell_type": "code",
      "source": [
        "from tqdm import tqdm\n",
        "import numpy as np\n",
        "from npy_append_array import NpyAppendArray as npaa\n",
        "import gc"
      ],
      "metadata": {
        "id": "3FWx_KLqcgug"
      },
      "execution_count": 3,
      "outputs": []
    },
    {
      "cell_type": "code",
      "execution_count": 4,
      "metadata": {
        "id": "3fRvoO-kaWHk"
      },
      "outputs": [],
      "source": [
        "ROOT = '/content/drive/My Drive/Datasets/UBI_FIGHTS/extracted'\n",
        "shape_x, shape_y = (299354, 28, 28, 28), (299354, 1)"
      ]
    },
    {
      "cell_type": "code",
      "source": [
        "dtype = np.float32\n",
        "mode = 'r+'\n",
        "xmap = np.memmap(ROOT+'/x.npy',dtype=dtype, shape=shape_x, mode=mode)"
      ],
      "metadata": {
        "id": "0VnhRUoVeY6P"
      },
      "execution_count": 5,
      "outputs": []
    },
    {
      "cell_type": "code",
      "source": [
        "def perm_to_file(arr, perm:np.ndarray, filename:str,batch_size=1e4):\n",
        "    with npaa(filename) as x:\n",
        "        start = 0\n",
        "        loop_end = int(max(len(perm),batch_size))\n",
        "        loop_start = int(min(len(perm),batch_size))\n",
        "        loop = [i for i in range(loop_start, loop_end,int(batch_size))]\n",
        "        loop.append(len(perm))\n",
        "        print(loop)\n",
        "        for i in tqdm(loop):\n",
        "            end = min(i, perm.shape[0])\n",
        "            x.append(arr[start:end])\n",
        "            # print(start,end)\n",
        "            start = end\n",
        ""
      ],
      "metadata": {
        "id": "s0JBTK0kplYO"
      },
      "execution_count": 6,
      "outputs": []
    },
    {
      "cell_type": "markdown",
      "source": [
        "## Unbalanced data"
      ],
      "metadata": {
        "id": "WEJGOcTVLBzr"
      }
    },
    {
      "cell_type": "code",
      "source": [
        "# splitting 70 10 20\n",
        "np.random.seed(123)\n",
        "y = np.load(ROOT+'/y.npy')\n",
        "\n",
        "y_viol = np.argwhere(y == 1)\n",
        "y_norm = np.argwhere(y == 0)\n",
        "\n",
        "perm_viol  = np.random.permutation(y_viol.shape[0])\n",
        "train_ratio_viol = len(perm_viol) // 10 * 7\n",
        "val_ratio_viol   = train_ratio_viol + len(perm_viol) // 10 * 1\n",
        "\n",
        "print(train_ratio_viol, val_ratio_viol)\n",
        "\n",
        "perm_norm  = np.random.permutation(y_norm.shape[0])\n",
        "train_ratio_norm = len(perm_norm) // 10 * 7\n",
        "val_ratio_norm   = train_ratio_norm + len(perm_norm) // 10\n",
        "\n",
        "print(train_ratio_norm, val_ratio_norm)\n",
        "\n"
      ],
      "metadata": {
        "colab": {
          "base_uri": "https://localhost:8080/"
        },
        "id": "hNqUyKuSeuVB",
        "outputId": "94e73ad2-0644-48a1-a986-586093e849f6"
      },
      "execution_count": 7,
      "outputs": [
        {
          "output_type": "stream",
          "name": "stdout",
          "text": [
            "6090 6960\n",
            "207599 237256\n"
          ]
        }
      ]
    },
    {
      "cell_type": "code",
      "source": [
        "len(perm_norm)"
      ],
      "metadata": {
        "colab": {
          "base_uri": "https://localhost:8080/"
        },
        "id": "j-SZg8qfvYCe",
        "outputId": "f5dda012-770b-405d-b440-5badbd66ded3"
      },
      "execution_count": 8,
      "outputs": [
        {
          "output_type": "execute_result",
          "data": {
            "text/plain": [
              "296570"
            ]
          },
          "metadata": {},
          "execution_count": 8
        }
      ]
    },
    {
      "cell_type": "code",
      "source": [
        "import matplotlib.pyplot as plt\n",
        "plt.imshow(xmap[8,5]*255.,cmap='gray')"
      ],
      "metadata": {
        "colab": {
          "base_uri": "https://localhost:8080/",
          "height": 448
        },
        "id": "KdqKSoqY_o2X",
        "outputId": "15aa07b5-4bc5-40bd-80ad-84ce12756db4"
      },
      "execution_count": 9,
      "outputs": [
        {
          "output_type": "execute_result",
          "data": {
            "text/plain": [
              "<matplotlib.image.AxesImage at 0x7f23b03b7bb0>"
            ]
          },
          "metadata": {},
          "execution_count": 9
        },
        {
          "output_type": "display_data",
          "data": {
            "text/plain": [
              "<Figure size 640x480 with 1 Axes>"
            ],
            "image/png": "[encoded data removed]"
          },
          "metadata": {}
        }
      ]
    },
    {
      "cell_type": "code",
      "source": [
        "train_perm = np.concatenate((perm_viol[:train_ratio_viol], perm_norm[:train_ratio_norm]))\n",
        "val_perm   = np.concatenate((perm_viol[train_ratio_viol:val_ratio_viol], perm_norm[train_ratio_norm:val_ratio_norm]))\n",
        "test_perm  = np.concatenate((perm_viol[val_ratio_viol:], perm_norm[val_ratio_norm:]))\n",
        "\n",
        "np.random.shuffle(train_perm)\n",
        "np.random.shuffle(val_perm)\n",
        "np.random.shuffle(test_perm)"
      ],
      "metadata": {
        "id": "FFEEIKbXlHQC"
      },
      "execution_count": 10,
      "outputs": []
    },
    {
      "cell_type": "code",
      "source": [
        "# perm_to_file(xmap, val_perm,ROOT+'/x_val.npy',batch_size=5e4)\n",
        "# perm_to_file(xmap, test_perm,ROOT+'/x_test.npy',batch_size=5e4)\n",
        "perm_to_file(xmap, train_perm,ROOT+'/x_train.npy',batch_size=5e4)"
      ],
      "metadata": {
        "colab": {
          "base_uri": "https://localhost:8080/"
        },
        "id": "OZtzwJbFr5ys",
        "outputId": "1992a9d5-88d9-4943-f2f8-186c8e1395e2"
      },
      "execution_count": 11,
      "outputs": [
        {
          "output_type": "stream",
          "name": "stdout",
          "text": [
            "[50000, 100000, 150000, 200000, 213689]\n"
          ]
        },
        {
          "output_type": "stream",
          "name": "stderr",
          "text": [
            "100%|██████████| 5/5 [06:49<00:00, 81.89s/it]\n"
          ]
        }
      ]
    },
    {
      "cell_type": "code",
      "source": [
        "np.save(ROOT+'/y_val'   ,y[val_perm])\n",
        "np.save(ROOT+'/y_test'  ,y[test_perm])\n",
        "np.save(ROOT+'/y_train' ,y[train_perm])"
      ],
      "metadata": {
        "id": "gEYojiS0r_rf"
      },
      "execution_count": 12,
      "outputs": []
    },
    {
      "cell_type": "code",
      "source": [
        "!ls {ROOT} -l"
      ],
      "metadata": {
        "colab": {
          "base_uri": "https://localhost:8080/"
        },
        "id": "Y7c0U9vZuepH",
        "outputId": "54e88e7d-688b-4bc6-c0f8-7d906bce983b"
      },
      "execution_count": 13,
      "outputs": [
        {
          "output_type": "stream",
          "name": "stdout",
          "text": [
            "ls: cannot access '/content/drive/My': No such file or directory\n",
            "ls: cannot access 'Drive/Datasets/UBI_FIGHTS/extracted': No such file or directory\n"
          ]
        }
      ]
    },
    {
      "cell_type": "markdown",
      "source": [
        "## Balanced data\n"
      ],
      "metadata": {
        "id": "jrEi-Aa1K9is"
      }
    },
    {
      "cell_type": "code",
      "source": [
        "# ! rm -rf {ROOT}/balanced\n",
        "! mkdir {ROOT}/balanced"
      ],
      "metadata": {
        "id": "w9ZylKboUswK",
        "colab": {
          "base_uri": "https://localhost:8080/"
        },
        "outputId": "a6741662-b7c0-48b1-ac8f-3c3751a37929"
      },
      "execution_count": 14,
      "outputs": [
        {
          "output_type": "stream",
          "name": "stdout",
          "text": [
            "mkdir: cannot create directory ‘/content/drive/My’: Operation not supported\n",
            "mkdir: cannot create directory ‘Drive/Datasets/UBI_FIGHTS/extracted/balanced’: No such file or directory\n"
          ]
        }
      ]
    },
    {
      "cell_type": "code",
      "source": [
        "OUT = '/content/drive/My Drive/Datasets/UBI_FIGHTS/extracted/balanced'\n",
        "shape_x, shape_y = (299354, 28, 28, 28), (299354, 1)\n",
        "\n",
        "# splitting 70 10 20\n",
        "np.random.seed(123)\n",
        "y = np.load(ROOT+'/y.npy')\n",
        "\n",
        "y_viol = np.argwhere(y == 1)\n",
        "y_norm = np.argwhere(y == 0)\n",
        "\n",
        "size = min(y_viol.shape[0], y_norm.shape[0])\n",
        "\n",
        "perm_viol  = np.random.permutation(y_viol.shape[0])\n",
        "perm_viol  = perm_viol[:size]\n",
        "train_ratio_viol = len(perm_viol) // 10 * 7\n",
        "val_ratio_viol   = train_ratio_viol + len(perm_viol) // 10 * 1\n",
        "\n",
        "print(train_ratio_viol, val_ratio_viol)\n",
        "\n",
        "perm_norm  = np.random.permutation(y_norm.shape[0])\n",
        "perm_norm  = perm_norm[:size]\n",
        "train_ratio_norm = len(perm_norm) // 10 * 7\n",
        "val_ratio_norm   = train_ratio_norm + len(perm_norm) // 10\n",
        "\n",
        "print(train_ratio_norm, val_ratio_norm)\n",
        "\n",
        "train_perm = np.concatenate((perm_viol[:train_ratio_viol], perm_norm[:train_ratio_norm]))\n",
        "val_perm   = np.concatenate((perm_viol[train_ratio_viol:val_ratio_viol], perm_norm[train_ratio_norm:val_ratio_norm]))\n",
        "test_perm  = np.concatenate((perm_viol[val_ratio_viol:], perm_norm[val_ratio_norm:]))\n",
        "\n",
        "np.random.shuffle(train_perm)\n",
        "np.random.shuffle(val_perm)\n",
        "np.random.shuffle(test_perm)"
      ],
      "metadata": {
        "colab": {
          "base_uri": "https://localhost:8080/"
        },
        "id": "bdGCrxb_LAcC",
        "outputId": "8c52b30f-0c8d-4404-ad72-7d14d2346ea1"
      },
      "execution_count": 15,
      "outputs": [
        {
          "output_type": "stream",
          "name": "stdout",
          "text": [
            "6090 6960\n",
            "6090 6960\n"
          ]
        }
      ]
    },
    {
      "cell_type": "code",
      "source": [
        "# perm_to_file(xmap, val_perm     ,OUT+'/x_val.npy'  ,batch_size=5e3)\n",
        "# perm_to_file(xmap, test_perm    ,OUT+'/x_test.npy' ,batch_size=5e3)\n",
        "perm_to_file(xmap, train_perm   ,OUT+'/x_train.npy',batch_size=5e3)"
      ],
      "metadata": {
        "colab": {
          "base_uri": "https://localhost:8080/"
        },
        "id": "snjk8-moNvL0",
        "outputId": "15a87423-d022-4c39-86fb-95f03e6e21d5"
      },
      "execution_count": 16,
      "outputs": [
        {
          "output_type": "stream",
          "name": "stdout",
          "text": [
            "[5000, 10000, 12180]\n"
          ]
        },
        {
          "output_type": "stream",
          "name": "stderr",
          "text": [
            "100%|██████████| 3/3 [00:19<00:00,  6.40s/it]\n"
          ]
        }
      ]
    },
    {
      "cell_type": "code",
      "source": [
        "np.save(OUT+'/y_val'   ,y[val_perm])\n",
        "np.save(OUT+'/y_test'  ,y[test_perm])\n",
        "np.save(OUT+'/y_train' ,y[train_perm])"
      ],
      "metadata": {
        "id": "PF7P_ETKNw5q"
      },
      "execution_count": 17,
      "outputs": []
    },
    {
      "cell_type": "code",
      "source": [
        "print(train_perm.shape,val_perm.shape,test_perm.shape)"
      ],
      "metadata": {
        "colab": {
          "base_uri": "https://localhost:8080/"
        },
        "id": "tbsw6OzhPKQY",
        "outputId": "b85441a9-4991-4930-c036-40716db54f9d"
      },
      "execution_count": 18,
      "outputs": [
        {
          "output_type": "stream",
          "name": "stdout",
          "text": [
            "(12180,) (1740,) (3484,)\n"
          ]
        }
      ]
    }
  ]
}