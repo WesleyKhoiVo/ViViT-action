{
  "cells": [
    {
      "attachments": {},
      "cell_type": "markdown",
      "metadata": {
        "colab_type": "text",
        "id": "view-in-github"
      },
      "source": [
        "<a href=\"https://colab.research.google.com/github/WesleyKhoiVo/ViViT-action/blob/main/src/spatiotemporal/muticlass/vivit-mini-ucf.ipynb\" target=\"_parent\"><img src=\"https://colab.research.google.com/assets/colab-badge.svg\" alt=\"Open In Colab\"/></a>"
      ]
    },
    {
      "cell_type": "code",
      "execution_count": 2,
      "metadata": {
        "colab": {
          "base_uri": "https://localhost:8080/"
        },
        "id": "rG0CZHdcimcv",
        "outputId": "16f70c28-93a7-434b-c3e8-7284c18a3a07"
      },
      "outputs": [
        {
          "name": "stdout",
          "output_type": "stream",
          "text": [
            "Mounted at /content/drive\n"
          ]
        }
      ],
      "source": [
        "from google.colab import drive\n",
        "drive.mount('/content/drive')"
      ]
    },
    {
      "cell_type": "code",
      "execution_count": 3,
      "metadata": {
        "colab": {
          "base_uri": "https://localhost:8080/",
          "height": 71
        },
        "execution": {
          "iopub.execute_input": "2022-12-30T14:08:21.337991Z",
          "iopub.status.busy": "2022-12-30T14:08:21.337244Z",
          "iopub.status.idle": "2022-12-30T14:08:21.354381Z",
          "shell.execute_reply": "2022-12-30T14:08:21.353001Z",
          "shell.execute_reply.started": "2022-12-30T14:08:21.337949Z"
        },
        "id": "itk9H3ytMIq3",
        "outputId": "a219f4d5-d90c-45fa-ca72-d046576b6343",
        "trusted": true
      },
      "outputs": [
        {
          "name": "stdout",
          "output_type": "stream",
          "text": [
            "Num GPUs Available:  1\n",
            "2.12.0\n"
          ]
        },
        {
          "data": {
            "application/vnd.google.colaboratory.intrinsic+json": {
              "type": "string"
            },
            "text/plain": [
              "'3.10.12 (main, Jun  7 2023, 12:45:35) [GCC 9.4.0]'"
            ]
          },
          "execution_count": 3,
          "metadata": {},
          "output_type": "execute_result"
        }
      ],
      "source": [
        "import tensorflow as tf\n",
        "from tensorflow import keras\n",
        "tf.compat.v1.logging.set_verbosity(tf.compat.v1.logging.ERROR)\n",
        "print(\"Num GPUs Available: \", len(tf.config.experimental.list_physical_devices('GPU')))\n",
        "tf.test.is_built_with_cuda()\n",
        "print(tf.version.VERSION)\n",
        "import sys\n",
        "sys.version"
      ]
    },
    {
      "cell_type": "code",
      "execution_count": 4,
      "metadata": {
        "execution": {
          "iopub.execute_input": "2022-12-30T14:15:42.127108Z",
          "iopub.status.busy": "2022-12-30T14:15:42.126682Z",
          "iopub.status.idle": "2022-12-30T14:15:52.144490Z",
          "shell.execute_reply": "2022-12-30T14:15:52.143617Z",
          "shell.execute_reply.started": "2022-12-30T14:15:42.127072Z"
        },
        "id": "959N32bNIjsA",
        "trusted": true
      },
      "outputs": [],
      "source": [
        "# ! pip install opencv-python"
      ]
    },
    {
      "cell_type": "code",
      "execution_count": 5,
      "metadata": {
        "execution": {
          "iopub.execute_input": "2022-12-30T14:25:40.605904Z",
          "iopub.status.busy": "2022-12-30T14:25:40.605115Z",
          "iopub.status.idle": "2022-12-30T14:25:41.379407Z",
          "shell.execute_reply": "2022-12-30T14:25:41.377784Z",
          "shell.execute_reply.started": "2022-12-30T14:25:40.605859Z"
        },
        "id": "LhaEi9ToMIq5",
        "trusted": true
      },
      "outputs": [],
      "source": [
        "import ipywidgets\n",
        "import os\n",
        "import io\n",
        "import matplotlib.pyplot as plt\n",
        "import cv2\n",
        "import imageio\n",
        "import numpy as np\n",
        "import tensorflow as tf\n",
        "from tensorflow import keras\n",
        "from tensorflow.keras import layers\n",
        "from tensorflow.keras.callbacks import ModelCheckpoint\n",
        "import cv2 as cv\n",
        "import seaborn as sns\n",
        "import numpy as np\n",
        "import matplotlib.pyplot as plt\n",
        "from sklearn.metrics import confusion_matrix as cm\n",
        "\n",
        "# Setting seed for reproducibility\n",
        "SEED = 42\n",
        "os.environ[\"TF_CUDNN_DETERMINISTIC\"] = \"1\"\n",
        "np.random.seed(SEED)"
      ]
    },
    {
      "cell_type": "code",
      "execution_count": 6,
      "metadata": {
        "execution": {
          "iopub.execute_input": "2022-12-30T14:25:44.094568Z",
          "iopub.status.busy": "2022-12-30T14:25:44.094020Z",
          "iopub.status.idle": "2022-12-30T14:25:44.101903Z",
          "shell.execute_reply": "2022-12-30T14:25:44.101032Z",
          "shell.execute_reply.started": "2022-12-30T14:25:44.094516Z"
        },
        "id": "ebygdrVVMIq7",
        "trusted": true
      },
      "outputs": [],
      "source": [
        "# DATA\n",
        "DATASET_NAME = \"UCF-Crime-mini\"\n",
        "BATCH_SIZE = 128\n",
        "AUTO = tf.data.AUTOTUNE\n",
        "INPUT_SHAPE = (15, 100, 100, 1)\n",
        "NUM_CLASSES = 13\n",
        "TRAIN_RATIO = 0.7\n",
        "TEST_RATIO = 0.25\n",
        "VALIDATION_RATIO = 0.05\n",
        "\n",
        "# OPTIMIZER\n",
        "LEARNING_RATE = 1e-4\n",
        "WEIGHT_DECAY = 1e-5\n",
        "\n",
        "# TRAINING\n",
        "EPOCHS = 60\n",
        "\n",
        "# TUBELET EMBEDDING\n",
        "PATCH_SIZE = (8, 8, 8)\n",
        "NUM_PATCHES = (INPUT_SHAPE[0] // PATCH_SIZE[0]) ** 2\n",
        "\n",
        "# ViViT ARCHITECTURE\n",
        "LAYER_NORM_EPS = 1e-6\n",
        "PROJECTION_DIM = 128\n",
        "NUM_HEADS = 8\n",
        "NUM_LAYERS = 8"
      ]
    },
    {
      "cell_type": "code",
      "execution_count": 7,
      "metadata": {
        "execution": {
          "iopub.execute_input": "2022-12-30T14:25:54.726291Z",
          "iopub.status.busy": "2022-12-30T14:25:54.725830Z",
          "iopub.status.idle": "2022-12-30T14:25:54.732505Z",
          "shell.execute_reply": "2022-12-30T14:25:54.731539Z",
          "shell.execute_reply.started": "2022-12-30T14:25:54.726255Z"
        },
        "id": "m5tHMymKIjsK",
        "trusted": true
      },
      "outputs": [],
      "source": [
        "ROOT_PATH = \"/content/drive/My Drive/ucf-crime-mini/dataset\"\n",
        "\n",
        "Abuse_PATH = ROOT_PATH + '/Abuse'\n",
        "Arrest_PATH = ROOT_PATH + '/Arrest'\n",
        "Assault_PATH = ROOT_PATH + '/Assault'\n",
        "Burglary_PATH = ROOT_PATH + '/Burglary'\n",
        "Fighting_PATH = ROOT_PATH + '/Fighting'\n",
        "Normal_PATH = ROOT_PATH + '/normal'\n",
        "\n",
        "OUT_PATH = \"/content/drive/My Drive/out/vivit-ucf-mini/\""
      ]
    },
    {
      "cell_type": "code",
      "execution_count": 8,
      "metadata": {
        "execution": {
          "iopub.execute_input": "2022-12-30T14:26:05.062889Z",
          "iopub.status.busy": "2022-12-30T14:26:05.062472Z",
          "iopub.status.idle": "2022-12-30T14:26:05.075388Z",
          "shell.execute_reply": "2022-12-30T14:26:05.073199Z",
          "shell.execute_reply.started": "2022-12-30T14:26:05.062854Z"
        },
        "id": "UwbvENFBIjsM",
        "trusted": true
      },
      "outputs": [],
      "source": [
        "def extract_frames(directory, dimensions=(INPUT_SHAPE[1], INPUT_SHAPE[2]), packet_length = INPUT_SHAPE[0], save_dir_path = None):\n",
        "    data = []\n",
        "\n",
        "    for video_name in os.listdir(directory):\n",
        "        video = cv2.VideoCapture(directory + '/' + video_name)\n",
        "        packet = np.zeros((packet_length,)+dimensions)\n",
        "        count = 0\n",
        "        while video.isOpened():\n",
        "            ret, frame = video.read()\n",
        "\n",
        "            if not ret: # no more frames\n",
        "                break\n",
        "\n",
        "            del ret\n",
        "\n",
        "            # capturing the frame\n",
        "\n",
        "            frame = cv2.resize(frame, dimensions, interpolation = cv2.INTER_AREA)\n",
        "            frame = cv2.cvtColor(frame, cv2.COLOR_BGR2GRAY)\n",
        "            packet[count] = frame\n",
        "            count = count + 1\n",
        "            del frame\n",
        "\n",
        "            if count == packet_length:\n",
        "                '''\n",
        "                consecutive packets share 14 of the 15 frames to generate more data\n",
        "                '''\n",
        "                # packet itself is not normalized\n",
        "                stacked = np.array(packet) # convert to numpy and normalize packet\n",
        "                data.append(stacked.copy()) # this .copy() is not in the original code\n",
        "                # del packet\n",
        "                half_packet = packet[int(packet_length / 2 + 1):]\n",
        "                packet = np.zeros((packet_length,)+dimensions)\n",
        "                packet[:int(packet_length / 2)] = half_packet\n",
        "                count = 7\n",
        "\n",
        "\n",
        "        video.release()\n",
        "        cv2.destroyAllWindows()\n",
        "\n",
        "    del packet\n",
        "    data = np.stack(data, axis= 0)\n",
        "\n",
        "    # save to disk\n",
        "    if(save_dir_path is not None):\n",
        "        np.save(f'{save_dir_path}/data', data)\n",
        "\n",
        "    return data"
      ]
    },
    {
      "cell_type": "code",
      "execution_count": 9,
      "metadata": {
        "colab": {
          "base_uri": "https://localhost:8080/"
        },
        "execution": {
          "iopub.execute_input": "2022-12-30T14:26:10.725385Z",
          "iopub.status.busy": "2022-12-30T14:26:10.724913Z",
          "iopub.status.idle": "2022-12-30T14:26:32.547495Z",
          "shell.execute_reply": "2022-12-30T14:26:32.545926Z",
          "shell.execute_reply.started": "2022-12-30T14:26:10.725349Z"
        },
        "id": "CiPrFGsWIjsO",
        "outputId": "a012d25d-b007-4577-d548-15cfd870e529",
        "trusted": true
      },
      "outputs": [
        {
          "name": "stdout",
          "output_type": "stream",
          "text": [
            "(2400, 15, 100, 100)\n"
          ]
        }
      ],
      "source": [
        "normal_frames   = extract_frames(Normal_PATH)\n",
        "fighting_frames = extract_frames(Fighting_PATH)\n",
        "print(normal_frames.shape)"
      ]
    },
    {
      "cell_type": "code",
      "execution_count": 10,
      "metadata": {
        "colab": {
          "base_uri": "https://localhost:8080/"
        },
        "id": "S8kaxo_nIjsP",
        "outputId": "8c9fb8ca-b97a-4387-a7c2-db979b6b6668"
      },
      "outputs": [
        {
          "name": "stdout",
          "output_type": "stream",
          "text": [
            "2400\n"
          ]
        }
      ],
      "source": [
        "all_frames = {\n",
        "    'normal'  :normal_frames,\n",
        "    'fighting':fighting_frames,\n",
        "}\n",
        "min_frames = np.inf\n",
        "\n",
        "for _ ,v in all_frames.items():\n",
        "    if v.shape[0] < min_frames:\n",
        "        min_frames = v.shape[0]\n",
        "\n",
        "print(min_frames)\n",
        "\n",
        "for k, _ in all_frames.items():\n",
        "    all_frames[k] = all_frames[k][:min_frames]"
      ]
    },
    {
      "cell_type": "code",
      "execution_count": 11,
      "metadata": {
        "id": "ulFke-mfIjsV"
      },
      "outputs": [],
      "source": [
        "all_labels = {}\n",
        "count = 0\n",
        "for k,v in all_frames.items():\n",
        "    all_labels[k] = np.full((v.shape[0]),count)\n",
        "    count = count + 1"
      ]
    },
    {
      "cell_type": "code",
      "execution_count": 12,
      "metadata": {
        "id": "L_tGla4OIjsV"
      },
      "outputs": [],
      "source": [
        "train_size = int(min_frames * 0.7)\n",
        "val_size   = int(min_frames * 0.75)\n",
        "# test_size  = int(min_frames * 0.25)\n",
        "\n",
        "train_frames = {}\n",
        "train_labels = {}\n",
        "val_frames   = {}\n",
        "val_labels   = {}\n",
        "test_frames  = {}\n",
        "test_labels  = {}\n",
        "\n",
        "for k, v in all_frames.items():\n",
        "    train_frames[k] = v[:train_size]\n",
        "    train_labels[k] = all_labels[k][:train_size]\n",
        "\n",
        "    val_frames[k]   = v[train_size:val_size]\n",
        "    val_labels[k]   = all_labels[k][train_size:val_size]\n",
        "\n",
        "    test_frames[k]  = v[val_size:]\n",
        "    test_labels[k]  = all_labels[k][val_size:]\n",
        "\n",
        "X_train = train_frames['normal']\n",
        "y_train = train_labels['normal']\n",
        "X_val   = val_frames['normal']\n",
        "y_val   = val_labels['normal']\n",
        "X_test  = test_frames['normal']\n",
        "y_test  = test_labels['normal']\n",
        "\n",
        "for k, v in all_frames.items():\n",
        "    if k == 'normal':\n",
        "        continue\n",
        "    X_train = np.concatenate((X_train,train_frames[k]))\n",
        "    y_train = np.concatenate((y_train,train_labels[k]))\n",
        "\n",
        "    X_test  = np.concatenate((X_test, test_frames[k]))\n",
        "    y_test  = np.concatenate((y_test, test_labels[k]))\n",
        "\n",
        "    X_val   = np.concatenate((X_val, val_frames[k]))\n",
        "    y_val   = np.concatenate((y_val, val_labels[k]))"
      ]
    },
    {
      "cell_type": "code",
      "execution_count": 13,
      "metadata": {
        "id": "XGOJcCAZIjsW"
      },
      "outputs": [],
      "source": [
        "del all_frames, all_labels, train_frames, train_labels, test_frames, test_labels, val_frames, val_labels"
      ]
    },
    {
      "cell_type": "code",
      "execution_count": 14,
      "metadata": {
        "colab": {
          "base_uri": "https://localhost:8080/"
        },
        "id": "4iRksL2UIjsX",
        "outputId": "abe1ee2f-a3b1-436e-889f-179755094580"
      },
      "outputs": [
        {
          "name": "stdout",
          "output_type": "stream",
          "text": [
            "(array([0, 1]), array([1680, 1680]))\n",
            "(array([0, 1]), array([120, 120]))\n",
            "(array([0, 1]), array([600, 600]))\n"
          ]
        }
      ],
      "source": [
        "print(np.unique(y_train,return_counts=True))\n",
        "print(np.unique(y_val  ,return_counts=True))\n",
        "print(np.unique(y_test ,return_counts=True))"
      ]
    },
    {
      "cell_type": "code",
      "execution_count": 15,
      "metadata": {
        "colab": {
          "base_uri": "https://localhost:8080/",
          "height": 424
        },
        "execution": {
          "iopub.execute_input": "2022-12-30T14:26:32.549927Z",
          "iopub.status.busy": "2022-12-30T14:26:32.549556Z",
          "iopub.status.idle": "2022-12-30T14:26:32.895569Z",
          "shell.execute_reply": "2022-12-30T14:26:32.893531Z",
          "shell.execute_reply.started": "2022-12-30T14:26:32.549895Z"
        },
        "id": "6mlLZ9exIjsY",
        "outputId": "f41090c2-1233-442f-81ff-951d1489729f",
        "trusted": true
      },
      "outputs": [
        {
          "data": {
            "text/plain": [
              "(-0.5, 99.5, 99.5, -0.5)"
            ]
          },
          "execution_count": 15,
          "metadata": {},
          "output_type": "execute_result"
        },
        {
          "data": {
            "image/png": "[encoded data removed]",
            "text/plain": [
              "<Figure size 640x480 with 1 Axes>"
            ]
          },
          "metadata": {},
          "output_type": "display_data"
        }
      ],
      "source": [
        "plt.imshow(normal_frames[0][1])\n",
        "plt.axis('off')"
      ]
    },
    {
      "attachments": {},
      "cell_type": "markdown",
      "metadata": {
        "id": "iKVoqPX6Ijsc"
      },
      "source": [
        "# Data split"
      ]
    },
    {
      "cell_type": "code",
      "execution_count": 24,
      "metadata": {
        "id": "5njRNodkIjsd"
      },
      "outputs": [],
      "source": [
        "import gc\n",
        "for i in range(5):\n",
        "    gc.collect()"
      ]
    },
    {
      "cell_type": "code",
      "execution_count": 25,
      "metadata": {
        "colab": {
          "base_uri": "https://localhost:8080/"
        },
        "id": "qfeWH2LWIjse",
        "outputId": "7e3f553f-021c-4b68-842d-a0f1ee6a1a83"
      },
      "outputs": [
        {
          "name": "stdout",
          "output_type": "stream",
          "text": [
            "(3360, 15, 100, 100) (1200, 15, 100, 100) (240, 15, 100, 100) (3360,) (1200,) (240,)\n"
          ]
        }
      ],
      "source": [
        "print( X_train.shape, X_test.shape, X_val.shape, y_train.shape, y_test.shape, y_val.shape)"
      ]
    },
    {
      "cell_type": "code",
      "execution_count": 26,
      "metadata": {
        "colab": {
          "base_uri": "https://localhost:8080/",
          "height": 451
        },
        "id": "oLTjY4qZIjse",
        "outputId": "3f870c31-06e3-4531-faef-af0f498b8cc9"
      },
      "outputs": [
        {
          "name": "stdout",
          "output_type": "stream",
          "text": [
            "0 (3360, 15, 100, 100)\n"
          ]
        },
        {
          "data": {
            "image/png": "[encoded data removed]",
            "text/plain": [
              "<Figure size 640x480 with 1 Axes>"
            ]
          },
          "metadata": {},
          "output_type": "display_data"
        }
      ],
      "source": [
        "print(y_train[3], X_train.shape)\n",
        "plt.imshow(X_train[3][0])\n",
        "plt.show()"
      ]
    },
    {
      "cell_type": "code",
      "execution_count": 27,
      "metadata": {
        "colab": {
          "base_uri": "https://localhost:8080/"
        },
        "id": "gYjuNvuZIjsf",
        "outputId": "b78ab651-aac1-47d1-e5a2-83ad5d5e3bcc"
      },
      "outputs": [
        {
          "data": {
            "text/plain": [
              "[PhysicalDevice(name='/physical_device:CPU:0', device_type='CPU')]"
            ]
          },
          "execution_count": 27,
          "metadata": {},
          "output_type": "execute_result"
        }
      ],
      "source": [
        "tf.config.list_physical_devices('CPU')"
      ]
    },
    {
      "cell_type": "code",
      "execution_count": 28,
      "metadata": {
        "id": "f6U2wSfqIjsg"
      },
      "outputs": [],
      "source": [
        "import numpy as np\n",
        "import cv2\n",
        "from tensorflow.keras.utils import Sequence\n",
        "\n",
        "class DataGenerator(Sequence):\n",
        "    def __init__(self, list_IDs, labels,\n",
        "                 to_fit=True, batch_size=128, dim=(15, 100, 100),\n",
        "                 n_channels=1, n_classes=13, shuffle=True):\n",
        "        self.list_IDs = list_IDs\n",
        "        self.labels = labels\n",
        "        self.to_fit = to_fit\n",
        "        self.batch_size = batch_size\n",
        "        self.dim = dim\n",
        "        self.n_channels = n_channels\n",
        "        self.n_classes = n_classes\n",
        "        self.shuffle = shuffle\n",
        "        self.on_epoch_end()\n",
        "\n",
        "    def __len__(self):\n",
        "        \"\"\"Denotes the number of batches per epoch\n",
        "        :return: number of batches per epoch\n",
        "        \"\"\"\n",
        "        return int(np.floor(len(self.list_IDs) / self.batch_size))\n",
        "\n",
        "    def __getitem__(self, index):\n",
        "        \"\"\"Generate one batch of data\n",
        "        :param index: index of the batch\n",
        "        :return: X and y when fitting. X only when predicting\n",
        "        \"\"\"\n",
        "        # Generate indexes of the batch\n",
        "        indexes = self.indexes[index * self.batch_size:(index + 1) * self.batch_size]\n",
        "\n",
        "        # Find list of IDs\n",
        "        list_IDs_temp = [self.list_IDs[k] for k in indexes]\n",
        "\n",
        "        # Generate data\n",
        "        X = self._generate_X(list_IDs_temp)\n",
        "\n",
        "        if self.to_fit:\n",
        "            y = self._generate_y(list_IDs_temp)\n",
        "            return X, y\n",
        "        else:\n",
        "            return X\n",
        "\n",
        "    def on_epoch_end(self):\n",
        "        \"\"\"Updates indexes after each epoch\n",
        "        \"\"\"\n",
        "        self.indexes = np.arange(len(self.list_IDs))\n",
        "        if self.shuffle == True:\n",
        "            np.random.shuffle(self.indexes)\n",
        "\n",
        "    def _generate_X(self, list_IDs_temp):\n",
        "        \"\"\"Generates data containing batch_size images\n",
        "        :param list_IDs_temp: list of label ids to load\n",
        "        :return: batch of images\n",
        "        \"\"\"\n",
        "        # Initialization\n",
        "        X = np.empty((self.batch_size, *self.dim, self.n_channels))\n",
        "\n",
        "        # Generate data\n",
        "        for i, ID in enumerate(list_IDs_temp):\n",
        "            # Store sample\n",
        "            X[i,] = self._load_grayscale_image(self.image_path + self.labels[ID])\n",
        "\n",
        "        return X\n",
        "\n",
        "    def _generate_y(self, list_IDs_temp):\n",
        "        \"\"\"Generates data containing batch_size masks\n",
        "        :param list_IDs_temp: list of label ids to load\n",
        "        :return: batch if masks\n",
        "        \"\"\"\n",
        "        y = np.empty((self.batch_size, *self.dim), dtype=int)\n",
        "\n",
        "        # Generate data\n",
        "        for i, ID in enumerate(list_IDs_temp):\n",
        "            # Store sample\n",
        "            y[i,] = self._load_grayscale_image(self.mask_path + self.labels[ID])\n",
        "\n",
        "        return y\n",
        "training_generator = DataGenerator(X_train, y_train)\n",
        "validation_generator = DataGenerator(X_val, y_val)"
      ]
    },
    {
      "cell_type": "code",
      "execution_count": 29,
      "metadata": {
        "colab": {
          "base_uri": "https://localhost:8080/"
        },
        "id": "ljMRXk3XIjsi",
        "outputId": "23e09495-f82e-45cd-d794-cd2b4bf1a735"
      },
      "outputs": [
        {
          "data": {
            "text/plain": [
              "26"
            ]
          },
          "execution_count": 29,
          "metadata": {},
          "output_type": "execute_result"
        }
      ],
      "source": [
        "len(training_generator)"
      ]
    },
    {
      "cell_type": "code",
      "execution_count": 30,
      "metadata": {
        "colab": {
          "base_uri": "https://localhost:8080/"
        },
        "id": "oV9EagpSIjsj",
        "outputId": "4471a6db-97de-432c-d16d-3a4672510f8a"
      },
      "outputs": [
        {
          "data": {
            "text/plain": [
              "((240, 15, 100, 100), (3360,))"
            ]
          },
          "execution_count": 30,
          "metadata": {},
          "output_type": "execute_result"
        }
      ],
      "source": [
        "X_val.shape, y_train.shape"
      ]
    },
    {
      "cell_type": "code",
      "execution_count": 31,
      "metadata": {
        "id": "igqdpz27MIq_"
      },
      "outputs": [],
      "source": [
        "class TubeletEmbedding(layers.Layer):\n",
        "    def __init__(self, embed_dim, patch_size, **kwargs):\n",
        "        super().__init__(**kwargs)\n",
        "        self.projection = layers.Conv3D(\n",
        "            filters=embed_dim,\n",
        "            kernel_size=patch_size,\n",
        "            strides=patch_size,\n",
        "            padding=\"VALID\",\n",
        "        )\n",
        "        self.flatten = layers.Reshape(target_shape=(-1, embed_dim))\n",
        "\n",
        "    def call(self, videos):\n",
        "        projected_patches = self.projection(videos)\n",
        "        flattened_patches = self.flatten(projected_patches)\n",
        "        return flattened_patches\n"
      ]
    },
    {
      "cell_type": "code",
      "execution_count": 32,
      "metadata": {
        "id": "9P4kswaIMIrA"
      },
      "outputs": [],
      "source": [
        "class PositionalEncoder(layers.Layer):\n",
        "    def __init__(self, embed_dim, **kwargs):\n",
        "        super().__init__(**kwargs)\n",
        "        self.embed_dim = embed_dim\n",
        "\n",
        "    def build(self, input_shape):\n",
        "        _, num_tokens, _ = input_shape\n",
        "        self.position_embedding = layers.Embedding(\n",
        "            input_dim=num_tokens, output_dim=self.embed_dim\n",
        "        )\n",
        "        self.positions = tf.range(start=0, limit=num_tokens, delta=1)\n",
        "\n",
        "    def call(self, encoded_tokens):\n",
        "        # Encode the positions and add it to the encoded tokens\n",
        "        encoded_positions = self.position_embedding(self.positions)\n",
        "        encoded_tokens = encoded_tokens + encoded_positions\n",
        "        return encoded_tokens\n"
      ]
    },
    {
      "cell_type": "code",
      "execution_count": 33,
      "metadata": {
        "id": "tIWQUMvdMIrB"
      },
      "outputs": [],
      "source": [
        "def create_vivit_classifier(\n",
        "    tubelet_embedder,\n",
        "    positional_encoder,\n",
        "    input_shape=INPUT_SHAPE,\n",
        "    transformer_layers=NUM_LAYERS,\n",
        "    num_heads=NUM_HEADS,\n",
        "    embed_dim=PROJECTION_DIM,\n",
        "    layer_norm_eps=LAYER_NORM_EPS,\n",
        "    num_classes=NUM_CLASSES,\n",
        "):\n",
        "    # Get the input layer\n",
        "    inputs = layers.Input(shape=input_shape)\n",
        "    # Create patches.\n",
        "    patches = tubelet_embedder(inputs)\n",
        "    # Encode patches.\n",
        "    encoded_patches = positional_encoder(patches)\n",
        "\n",
        "    # Create multiple layers of the Transformer block.\n",
        "    for _ in range(transformer_layers):\n",
        "        # Layer normalization and MHSA\n",
        "        x1 = layers.LayerNormalization(epsilon=1e-6)(encoded_patches)\n",
        "        attention_output = layers.MultiHeadAttention(\n",
        "            num_heads=num_heads, key_dim=embed_dim // num_heads, dropout=0.1\n",
        "        )(x1, x1)\n",
        "\n",
        "        # Skip connection\n",
        "        x2 = layers.Add()([attention_output, encoded_patches])\n",
        "\n",
        "        # Layer Normalization and MLP\n",
        "        x3 = layers.LayerNormalization(epsilon=1e-6)(x2)\n",
        "        x3 = keras.Sequential(\n",
        "            [\n",
        "                layers.Dense(units=embed_dim * 4, activation=tf.nn.gelu),\n",
        "                layers.Dense(units=embed_dim, activation=tf.nn.gelu),\n",
        "            ]\n",
        "        )(x3)\n",
        "\n",
        "        # Skip connection\n",
        "        encoded_patches = layers.Add()([x3, x2])\n",
        "\n",
        "    # Layer normalization and Global average pooling.\n",
        "    representation = layers.LayerNormalization(epsilon=layer_norm_eps)(encoded_patches)\n",
        "    representation = layers.GlobalAvgPool1D()(representation)\n",
        "\n",
        "    # Classify outputs.\n",
        "    outputs = layers.Dense(units=num_classes, activation=\"softmax\")(representation)\n",
        "\n",
        "    # Create the Keras model.\n",
        "    model = keras.Model(inputs=inputs, outputs=outputs)\n",
        "    return model\n"
      ]
    },
    {
      "cell_type": "code",
      "execution_count": 34,
      "metadata": {
        "id": "Yf8FzFPmIjsl"
      },
      "outputs": [],
      "source": [
        "model_checkpoint = ModelCheckpoint(\"/content/drive/My Drive/checkpoints/vivit-mini-ucf/weights.{epoch:02d}.hdf5\",\n",
        "                monitor='val_loss',\n",
        "                save_weights_only=True,\n",
        "                save_best_only=True)"
      ]
    },
    {
      "cell_type": "code",
      "execution_count": 35,
      "metadata": {
        "colab": {
          "base_uri": "https://localhost:8080/"
        },
        "id": "-b8YTHTHIjsl",
        "outputId": "a1a401ff-5cc4-43bc-8309-8d412e9ddc50"
      },
      "outputs": [
        {
          "data": {
            "text/plain": [
              "3130"
            ]
          },
          "execution_count": 35,
          "metadata": {},
          "output_type": "execute_result"
        }
      ],
      "source": [
        "gc.collect()"
      ]
    },
    {
      "cell_type": "code",
      "execution_count": 36,
      "metadata": {
        "colab": {
          "base_uri": "https://localhost:8080/"
        },
        "id": "L2mQonRkMIrC",
        "outputId": "5a48d3bd-6625-44c1-ca40-f580c36a133d"
      },
      "outputs": [
        {
          "name": "stdout",
          "output_type": "stream",
          "text": [
            "Epoch 1/60\n",
            "105/105 [==============================] - 179s 2s/step - loss: 0.4502 - accuracy: 0.7810 - top-5-accuracy: 0.9982 - val_loss: 0.3632 - val_accuracy: 1.0000 - val_top-5-accuracy: 1.0000\n",
            "Epoch 2/60\n",
            "105/105 [==============================] - 154s 1s/step - loss: 0.3092 - accuracy: 0.8795 - top-5-accuracy: 1.0000 - val_loss: 0.7370 - val_accuracy: 0.5542 - val_top-5-accuracy: 1.0000\n",
            "Epoch 3/60\n",
            "105/105 [==============================] - 155s 1s/step - loss: 0.1919 - accuracy: 0.9432 - top-5-accuracy: 1.0000 - val_loss: 0.5759 - val_accuracy: 0.5542 - val_top-5-accuracy: 1.0000\n",
            "Epoch 4/60\n",
            "105/105 [==============================] - 155s 1s/step - loss: 0.0362 - accuracy: 0.9964 - top-5-accuracy: 1.0000 - val_loss: 1.7678 - val_accuracy: 0.5542 - val_top-5-accuracy: 1.0000\n"
          ]
        }
      ],
      "source": [
        "def run_experiment():\n",
        "    mirrored_strategy = tf.distribute.MirroredStrategy(devices= [\"/cpu:0\"],cross_device_ops=tf.distribute.HierarchicalCopyAllReduce())\n",
        "    with mirrored_strategy.scope():\n",
        "    # Initialize model\n",
        "        model = create_vivit_classifier(\n",
        "            tubelet_embedder=TubeletEmbedding(\n",
        "                embed_dim=PROJECTION_DIM, patch_size=PATCH_SIZE\n",
        "            ),\n",
        "            positional_encoder=PositionalEncoder(embed_dim=PROJECTION_DIM),\n",
        "        )\n",
        "\n",
        "        # Compile the model with the optimizer, loss function\n",
        "        # and the metrics.\n",
        "        optimizer = keras.optimizers.Adam(learning_rate=LEARNING_RATE)\n",
        "        model.compile(\n",
        "            optimizer=optimizer,\n",
        "            loss=\"sparse_categorical_crossentropy\",\n",
        "            metrics=[\n",
        "                keras.metrics.SparseCategoricalAccuracy(name=\"accuracy\"),\n",
        "                keras.metrics.SparseTopKCategoricalAccuracy(5, name=\"top-5-accuracy\"),\n",
        "            ],\n",
        "        )\n",
        "\n",
        "        early_stopping = keras.callbacks.EarlyStopping(monitor='val_loss', patience = 3, mode='min')\n",
        "\n",
        "        # Train the model.\n",
        "        history = model.fit(X_train,y_train, epochs=EPOCHS, validation_data=(X_val,y_val), callbacks=[model_checkpoint,early_stopping])\n",
        "\n",
        "        # _, accuracy, top_5_accuracy = model.evaluate(testloader)\n",
        "        # print(f\"Test accuracy: {round(accuracy * 100, 2)}%\")\n",
        "        # print(f\"Test top 5 accuracy: {round(top_5_accuracy * 100, 2)}%\")\n",
        "\n",
        "    return model, history\n",
        "\n",
        "\n",
        "model, history = run_experiment()"
      ]
    },
    {
      "cell_type": "code",
      "execution_count": 39,
      "metadata": {
        "id": "i05EGS-MIjso"
      },
      "outputs": [],
      "source": [
        "model = create_vivit_classifier(\n",
        "    tubelet_embedder=TubeletEmbedding(\n",
        "        embed_dim=PROJECTION_DIM, patch_size=PATCH_SIZE\n",
        "    ),\n",
        "    positional_encoder=PositionalEncoder(embed_dim=PROJECTION_DIM),\n",
        ")\n",
        "\n",
        "# Compile the model with the optimizer, loss function\n",
        "# and the metrics.\n",
        "optimizer = keras.optimizers.Adam(learning_rate=LEARNING_RATE)\n",
        "model.compile(\n",
        "    optimizer=optimizer,\n",
        "    loss=\"sparse_categorical_crossentropy\",\n",
        "    metrics=[\n",
        "        keras.metrics.SparseCategoricalAccuracy(name=\"accuracy\"),\n",
        "        keras.metrics.SparseTopKCategoricalAccuracy(5, name=\"top-5-accuracy\"),\n",
        "    ],\n",
        ")\n",
        "\n",
        "model.load_weights(\"/content/drive/My Drive/checkpoints/vivit-mini-ucf/weights.01.hdf5\")"
      ]
    },
    {
      "cell_type": "code",
      "execution_count": 40,
      "metadata": {
        "colab": {
          "base_uri": "https://localhost:8080/",
          "height": 899
        },
        "id": "an0bPjXiIjso",
        "outputId": "b10676e1-62a6-46af-cda9-7fbd484e0c49"
      },
      "outputs": [
        {
          "data": {
            "text/plain": [
              "Text(0.5, 0, 'Epochs ')"
            ]
          },
          "execution_count": 40,
          "metadata": {},
          "output_type": "execute_result"
        },
        {
          "data": {
            "image/png": "[encoded data removed]",
            "text/plain": [
              "<Figure size 640x480 with 1 Axes>"
            ]
          },
          "metadata": {},
          "output_type": "display_data"
        },
        {
          "data": {
            "image/png": "[encoded data removed]",
            "text/plain": [
              "<Figure size 640x480 with 1 Axes>"
            ]
          },
          "metadata": {},
          "output_type": "display_data"
        }
      ],
      "source": [
        "num=len(history.history['loss'])\n",
        "\n",
        "plt.plot(range(num),history.history['loss'],label = 'training loss')\n",
        "plt.plot(range(num),history.history['val_loss'],label = 'validation loss')\n",
        "\n",
        "plt.legend()\n",
        "\n",
        "plt.xlabel(\"Epochs \")\n",
        "plt.ylabel('Loss')\n",
        "\n",
        "plt.figure()\n",
        "\n",
        "plt.plot(range(num),history.history['accuracy'],label = 'training accuracy')\n",
        "plt.plot(range(num),history.history['val_accuracy'],label = 'validation accuracy')\n",
        "\n",
        "plt.legend()\n",
        "plt.xlabel(\"Epochs \")"
      ]
    },
    {
      "cell_type": "code",
      "execution_count": 41,
      "metadata": {
        "colab": {
          "base_uri": "https://localhost:8080/"
        },
        "id": "-kuaLPJfIjsq",
        "outputId": "5cfa5b9d-f0b1-4a21-bc45-96e95c883317"
      },
      "outputs": [
        {
          "name": "stdout",
          "output_type": "stream",
          "text": [
            "8/8 [==============================] - 23s 47ms/step - loss: 0.3632 - accuracy: 1.0000 - top-5-accuracy: 1.0000\n"
          ]
        },
        {
          "data": {
            "text/plain": [
              "[0.3631703555583954, 1.0, 1.0]"
            ]
          },
          "execution_count": 41,
          "metadata": {},
          "output_type": "execute_result"
        }
      ],
      "source": [
        "model.evaluate(X_val,y_val)"
      ]
    },
    {
      "cell_type": "code",
      "execution_count": 42,
      "metadata": {
        "colab": {
          "base_uri": "https://localhost:8080/"
        },
        "id": "WKXjBAT9Ijsq",
        "outputId": "918eea86-f8b7-4cca-98bf-28665a378786"
      },
      "outputs": [
        {
          "name": "stdout",
          "output_type": "stream",
          "text": [
            "38/38 [==============================] - 1s 38ms/step - loss: 0.8115 - accuracy: 0.7908 - top-5-accuracy: 1.0000\n"
          ]
        },
        {
          "data": {
            "text/plain": [
              "[0.8114561438560486, 0.7908333539962769, 1.0]"
            ]
          },
          "execution_count": 42,
          "metadata": {},
          "output_type": "execute_result"
        }
      ],
      "source": [
        "model.evaluate(X_test,y_test)\n"
      ]
    },
    {
      "cell_type": "code",
      "execution_count": 43,
      "metadata": {
        "colab": {
          "base_uri": "https://localhost:8080/"
        },
        "id": "tUwys4F3Ijsr",
        "outputId": "e40316dc-9b44-4a6e-9d96-0c182967042f"
      },
      "outputs": [
        {
          "name": "stdout",
          "output_type": "stream",
          "text": [
            "38/38 [==============================] - 3s 40ms/step\n",
            "              precision    recall  f1-score   support\n",
            "\n",
            "      normal       1.00      0.58      0.74       600\n",
            "    fighting       0.71      1.00      0.83       600\n",
            "\n",
            "    accuracy                           0.79      1200\n",
            "   macro avg       0.85      0.79      0.78      1200\n",
            "weighted avg       0.85      0.79      0.78      1200\n",
            "\n"
          ]
        }
      ],
      "source": [
        "from sklearn.metrics import f1_score, classification_report\n",
        "\n",
        "y_pred = np.argmax(model.predict(X_test),axis=-1)\n",
        "f1_score(y_test, y_pred, average='micro')\n",
        "\n",
        "target_names = [\n",
        "    \"normal\",\n",
        "    #\"abuse\",\n",
        "    #\"arrest\",\n",
        "    #\"assault\",\n",
        "    #\"burglary\",\n",
        "    \"fighting\",\n",
        "]\n",
        "\n",
        "\n",
        "print(classification_report(y_test, y_pred, target_names=target_names))"
      ]
    },
    {
      "cell_type": "code",
      "execution_count": 44,
      "metadata": {
        "colab": {
          "base_uri": "https://localhost:8080/"
        },
        "id": "DIv_QyLNIjsr",
        "outputId": "770e7af9-c5d4-420f-fb52-def601277ae3"
      },
      "outputs": [
        {
          "name": "stdout",
          "output_type": "stream",
          "text": [
            "Requirement already satisfied: seaborn in /usr/local/lib/python3.10/dist-packages (0.12.2)\n",
            "Requirement already satisfied: numpy!=1.24.0,>=1.17 in /usr/local/lib/python3.10/dist-packages (from seaborn) (1.22.4)\n",
            "Requirement already satisfied: pandas>=0.25 in /usr/local/lib/python3.10/dist-packages (from seaborn) (1.5.3)\n",
            "Requirement already satisfied: matplotlib!=3.6.1,>=3.1 in /usr/local/lib/python3.10/dist-packages (from seaborn) (3.7.1)\n",
            "Requirement already satisfied: contourpy>=1.0.1 in /usr/local/lib/python3.10/dist-packages (from matplotlib!=3.6.1,>=3.1->seaborn) (1.1.0)\n",
            "Requirement already satisfied: cycler>=0.10 in /usr/local/lib/python3.10/dist-packages (from matplotlib!=3.6.1,>=3.1->seaborn) (0.11.0)\n",
            "Requirement already satisfied: fonttools>=4.22.0 in /usr/local/lib/python3.10/dist-packages (from matplotlib!=3.6.1,>=3.1->seaborn) (4.40.0)\n",
            "Requirement already satisfied: kiwisolver>=1.0.1 in /usr/local/lib/python3.10/dist-packages (from matplotlib!=3.6.1,>=3.1->seaborn) (1.4.4)\n",
            "Requirement already satisfied: packaging>=20.0 in /usr/local/lib/python3.10/dist-packages (from matplotlib!=3.6.1,>=3.1->seaborn) (23.1)\n",
            "Requirement already satisfied: pillow>=6.2.0 in /usr/local/lib/python3.10/dist-packages (from matplotlib!=3.6.1,>=3.1->seaborn) (8.4.0)\n",
            "Requirement already satisfied: pyparsing>=2.3.1 in /usr/local/lib/python3.10/dist-packages (from matplotlib!=3.6.1,>=3.1->seaborn) (3.1.0)\n",
            "Requirement already satisfied: python-dateutil>=2.7 in /usr/local/lib/python3.10/dist-packages (from matplotlib!=3.6.1,>=3.1->seaborn) (2.8.2)\n",
            "Requirement already satisfied: pytz>=2020.1 in /usr/local/lib/python3.10/dist-packages (from pandas>=0.25->seaborn) (2022.7.1)\n",
            "Requirement already satisfied: six>=1.5 in /usr/local/lib/python3.10/dist-packages (from python-dateutil>=2.7->matplotlib!=3.6.1,>=3.1->seaborn) (1.16.0)\n"
          ]
        }
      ],
      "source": [
        "! pip install seaborn"
      ]
    },
    {
      "cell_type": "code",
      "execution_count": 47,
      "metadata": {
        "id": "QFbolVVIIjss"
      },
      "outputs": [],
      "source": [
        "np.save(\"/content/drive/My Drive/out/vivit-ucf-mini/y_train\",y_train)\n",
        "np.save(\"/content/drive/My Drive/out/vivit-ucf-mini/y_test\",y_test)\n",
        "np.save(\"/content/drive/My Drive/out/vivit-ucf-mini/y_val\",y_val)\n",
        "np.save(\"/content/drive/My Drive/out/vivit-ucf-mini/y_pred\",y_pred)\n",
        "\n",
        "np.save(\"/content/drive/My Drive/out/vivit-ucf-mini/X_train\",X_train)\n",
        "np.save(\"/content/drive/My Drive/out/vivit-ucf-mini/X_test\",X_test)\n",
        "np.save(\"/content/drive/My Drive/out/vivit-ucf-mini/X_val\",X_val)\n"
      ]
    },
    {
      "cell_type": "code",
      "execution_count": 53,
      "metadata": {
        "colab": {
          "base_uri": "https://localhost:8080/",
          "height": 486
        },
        "id": "Js1k_ru9Ijss",
        "outputId": "96e73769-af0e-4bee-8f74-b53e74010149"
      },
      "outputs": [
        {
          "data": {
            "image/png": "[encoded data removed]",
            "text/plain": [
              "<Figure size 640x480 with 2 Axes>"
            ]
          },
          "metadata": {},
          "output_type": "display_data"
        }
      ],
      "source": [
        "y_pred = np.load(\"/content/drive/My Drive/out/vivit-ucf-mini/y_pred.npy\")\n",
        "y_test = np.load(\"/content/drive/My Drive/out/vivit-ucf-mini/y_test.npy\")\n",
        "classes = ['normal','fighting']\n",
        "conf = cm(y_test,y_pred)\n",
        "\n",
        "\n",
        "sns.heatmap(conf,annot=True)\n",
        "plt.xticks(np.arange(2),classes,rotation=45)\n",
        "plt.yticks(np.arange(2),classes,rotation=45)\n",
        "plt.show()"
      ]
    }
  ],
  "metadata": {
    "accelerator": "GPU",
    "colab": {
      "gpuType": "T4",
      "include_colab_link": true,
      "machine_shape": "hm",
      "name": "vivit",
      "provenance": [],
      "toc_visible": true
    },
    "kernelspec": {
      "display_name": "Python 3",
      "name": "python3"
    },
    "language_info": {
      "codemirror_mode": {
        "name": "ipython",
        "version": 3
      },
      "file_extension": ".py",
      "mimetype": "text/x-python",
      "name": "python",
      "nbconvert_exporter": "python",
      "pygments_lexer": "ipython3",
      "version": "3.8.5"
    },
    "vscode": {
      "interpreter": {
        "hash": "6d65a8c07f5b6469e0fc613f182488c0dccce05038bbda39e5ac9075c0454d11"
      }
    }
  },
  "nbformat": 4,
  "nbformat_minor": 0
}
