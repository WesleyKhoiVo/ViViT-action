{
  "nbformat": 4,
  "nbformat_minor": 0,
  "metadata": {
    "colab": {
      "provenance": [],
      "authorship_tag": "ABX9TyM7v2cpS8vEhCVMbP6Vru/u",
      "include_colab_link": true
    },
    "kernelspec": {
      "name": "python3",
      "display_name": "Python 3"
    },
    "language_info": {
      "name": "python"
    }
  },
  "cells": [
    {
      "cell_type": "markdown",
      "metadata": {
        "id": "view-in-github",
        "colab_type": "text"
      },
      "source": [
        "<a href=\"https://colab.research.google.com/github/moharamfatema/graduation-project/blob/main/preprocessing/UBI_splitting.ipynb\" target=\"_parent\"><img src=\"https://colab.research.google.com/assets/colab-badge.svg\" alt=\"Open In Colab\"/></a>"
      ]
    },
    {
      "cell_type": "code",
      "source": [
        "! pip install npy_append_array"
      ],
      "metadata": {
        "colab": {
          "base_uri": "https://localhost:8080/"
        },
        "id": "8538CufWp81A",
        "outputId": "771f172f-9f1e-4a71-be80-a671d05a9bd7"
      },
      "execution_count": null,
      "outputs": [
        {
          "output_type": "stream",
          "name": "stdout",
          "text": [
            "Looking in indexes: https://pypi.org/simple, https://us-python.pkg.dev/colab-wheels/public/simple/\n",
            "Collecting npy_append_array\n",
            "  Downloading npy_append_array-0.9.16-py3-none-any.whl (9.0 kB)\n",
            "Installing collected packages: npy_append_array\n",
            "Successfully installed npy_append_array-0.9.16\n"
          ]
        }
      ]
    },
    {
      "cell_type": "code",
      "source": [
        "from google.colab import drive\n",
        "drive.mount('/gdrive')"
      ],
      "metadata": {
        "colab": {
          "base_uri": "https://localhost:8080/"
        },
        "id": "AnmA1KcxadgV",
        "outputId": "328bfb3c-5906-423d-da9f-5faf1a4f0c02"
      },
      "execution_count": null,
      "outputs": [
        {
          "output_type": "stream",
          "name": "stdout",
          "text": [
            "Mounted at /gdrive\n"
          ]
        }
      ]
    },
    {
      "cell_type": "code",
      "source": [
        "from tqdm import tqdm\n",
        "import numpy as np\n",
        "from npy_append_array import NpyAppendArray as npaa\n",
        "import gc"
      ],
      "metadata": {
        "id": "3FWx_KLqcgug"
      },
      "execution_count": null,
      "outputs": []
    },
    {
      "cell_type": "code",
      "execution_count": null,
      "metadata": {
        "id": "3fRvoO-kaWHk"
      },
      "outputs": [],
      "source": [
        "ROOT = '/gdrive/MyDrive/Datasets/UBI_FIGHTS/extracted'\n",
        "shape_x, shape_y = (299354, 28, 28, 28), (299354, 1)"
      ]
    },
    {
      "cell_type": "code",
      "source": [
        "dtype = np.float32\n",
        "mode = 'r'\n",
        "xmap = np.memmap(ROOT+'/x.npy',dtype=dtype, shape=shape_x, mode=mode)"
      ],
      "metadata": {
        "id": "0VnhRUoVeY6P"
      },
      "execution_count": null,
      "outputs": []
    },
    {
      "cell_type": "code",
      "source": [
        "def perm_to_file(arr, perm:np.ndarray, filename:str,batch_size=1e4):\n",
        "    with npaa(filename) as x:\n",
        "        start = 0\n",
        "        for i in tqdm(range(0, len(perm),int(batch_size))):\n",
        "            end = min(i, perm.shape[0])\n",
        "            x.append(arr[start:end])\n",
        "            start = end"
      ],
      "metadata": {
        "id": "s0JBTK0kplYO"
      },
      "execution_count": null,
      "outputs": []
    },
    {
      "cell_type": "markdown",
      "source": [
        "## Unbalanced data"
      ],
      "metadata": {
        "id": "WEJGOcTVLBzr"
      }
    },
    {
      "cell_type": "code",
      "source": [
        "# splitting 70 10 20\n",
        "np.random.seed(123)\n",
        "y = np.load(ROOT+'/y.npy')\n",
        "\n",
        "y_viol = np.argwhere(y == 1)\n",
        "y_norm = np.argwhere(y == 0)\n",
        "\n",
        "perm_viol  = np.random.permutation(y_viol.shape[0])\n",
        "train_ratio_viol = len(perm_viol) // 10 * 7\n",
        "val_ratio_viol   = train_ratio_viol + len(perm_viol) // 10 * 1\n",
        "\n",
        "print(train_ratio_viol, val_ratio_viol)\n",
        "\n",
        "perm_norm  = np.random.permutation(y_norm.shape[0])\n",
        "train_ratio_norm = len(perm_norm) // 10 * 7\n",
        "val_ratio_norm   = train_ratio_norm + len(perm_norm) // 10 \n",
        "\n",
        "print(train_ratio_norm, val_ratio_norm)\n",
        "\n"
      ],
      "metadata": {
        "colab": {
          "base_uri": "https://localhost:8080/"
        },
        "id": "hNqUyKuSeuVB",
        "outputId": "852370ad-62ee-4b4b-b690-ee357acd8ea0"
      },
      "execution_count": null,
      "outputs": [
        {
          "output_type": "stream",
          "name": "stdout",
          "text": [
            "4774 5456\n",
            "204771 234024\n"
          ]
        }
      ]
    },
    {
      "cell_type": "code",
      "source": [
        "len(perm_norm)"
      ],
      "metadata": {
        "colab": {
          "base_uri": "https://localhost:8080/"
        },
        "id": "j-SZg8qfvYCe",
        "outputId": "2bf260dd-f822-4481-90a6-ced854cda24b"
      },
      "execution_count": null,
      "outputs": [
        {
          "output_type": "execute_result",
          "data": {
            "text/plain": [
              "292531"
            ]
          },
          "metadata": {},
          "execution_count": 9
        }
      ]
    },
    {
      "cell_type": "code",
      "source": [
        "train_perm = np.concatenate((perm_viol[:train_ratio_viol], perm_norm[:train_ratio_norm]))\n",
        "val_perm   = np.concatenate((perm_viol[train_ratio_viol:val_ratio_viol], perm_norm[train_ratio_norm:val_ratio_norm]))\n",
        "test_perm  = np.concatenate((perm_viol[val_ratio_viol:], perm_norm[val_ratio_norm:]))\n",
        "\n",
        "np.random.shuffle(train_perm)\n",
        "np.random.shuffle(val_perm)\n",
        "np.random.shuffle(test_perm)"
      ],
      "metadata": {
        "id": "FFEEIKbXlHQC"
      },
      "execution_count": null,
      "outputs": []
    },
    {
      "cell_type": "code",
      "source": [
        "perm_to_file(xmap, val_perm,ROOT+'/x_val.npy')\n",
        "perm_to_file(xmap, test_perm,ROOT+'/x_test.npy',batch_size=5e4)\n",
        "perm_to_file(xmap, train_perm,ROOT+'/x_train.npy',batch_size=5e4)"
      ],
      "metadata": {
        "colab": {
          "base_uri": "https://localhost:8080/"
        },
        "id": "OZtzwJbFr5ys",
        "outputId": "5aa0c940-6ba1-4ab9-87d3-1ad6f876d2af"
      },
      "execution_count": null,
      "outputs": [
        {
          "output_type": "stream",
          "name": "stderr",
          "text": [
            "100%|██████████| 3/3 [00:24<00:00,  8.32s/it]\n",
            "100%|██████████| 2/2 [01:17<00:00, 38.83s/it]\n",
            "100%|██████████| 5/5 [05:28<00:00, 65.68s/it]\n"
          ]
        }
      ]
    },
    {
      "cell_type": "code",
      "source": [
        "np.save(ROOT+'/y_val'   ,y[val_perm])\n",
        "np.save(ROOT+'/y_test'  ,y[test_perm])\n",
        "np.save(ROOT+'/y_train' ,y[train_perm])"
      ],
      "metadata": {
        "id": "gEYojiS0r_rf"
      },
      "execution_count": null,
      "outputs": []
    },
    {
      "cell_type": "code",
      "source": [
        "!ls {ROOT} -l -h"
      ],
      "metadata": {
        "colab": {
          "base_uri": "https://localhost:8080/"
        },
        "id": "Y7c0U9vZuepH",
        "outputId": "79e35cca-0fb3-4f52-d7b2-d48e56ca3797"
      },
      "execution_count": null,
      "outputs": [
        {
          "output_type": "stream",
          "name": "stdout",
          "text": [
            "total 72G\n",
            "-rw------- 1 root root  49G Mar 11 02:29 x.npy\n",
            "-rw------- 1 root root 4.1G Mar 11 22:18 x_test.npy\n",
            "-rw------- 1 root root  17G Mar 11 22:24 x_train.npy\n",
            "-rw------- 1 root root 1.7G Mar 11 22:17 x_val.npy\n",
            "-rw------- 1 root root 2.3M Mar 11 02:09 y.npy\n",
            "-rw------- 1 root root 468K Mar 11 22:16 y_test.npy\n",
            "-rw------- 1 root root 1.6M Mar 11 22:16 y_train.npy\n",
            "-rw------- 1 root root 234K Mar 11 22:16 y_val.npy\n"
          ]
        }
      ]
    },
    {
      "cell_type": "markdown",
      "source": [
        "## Balanced data\n"
      ],
      "metadata": {
        "id": "jrEi-Aa1K9is"
      }
    },
    {
      "cell_type": "code",
      "source": [
        "! mkdir {ROOT}/balanced"
      ],
      "metadata": {
        "id": "DQZcyk51LNkC"
      },
      "execution_count": null,
      "outputs": []
    },
    {
      "cell_type": "code",
      "source": [
        "OUT = '/gdrive/MyDrive/Datasets/UBI_FIGHTS/extracted/balanced'\n",
        "shape_x, shape_y = (299354, 28, 28, 28), (299354, 1)\n",
        "\n",
        "# splitting 70 10 20\n",
        "np.random.seed(123)\n",
        "y = np.load(ROOT+'/y.npy')\n",
        "\n",
        "y_viol = np.argwhere(y == 1)\n",
        "y_norm = np.argwhere(y == 0)\n",
        "\n",
        "size = min(y_viol.shape[0], y_norm.shape[0])\n",
        "\n",
        "perm_viol  = np.random.permutation(y_viol.shape[0])\n",
        "perm_viol  = perm_viol[:size]\n",
        "train_ratio_viol = len(perm_viol) // 10 * 7\n",
        "val_ratio_viol   = train_ratio_viol + len(perm_viol) // 10 * 1\n",
        "\n",
        "print(train_ratio_viol, val_ratio_viol)\n",
        "\n",
        "perm_norm  = np.random.permutation(y_norm.shape[0])\n",
        "perm_norm  = perm_norm[:size]\n",
        "train_ratio_norm = len(perm_norm) // 10 * 7\n",
        "val_ratio_norm   = train_ratio_norm + len(perm_norm) // 10 \n",
        "\n",
        "print(train_ratio_norm, val_ratio_norm)\n",
        "\n",
        "train_perm = np.concatenate((perm_viol[:train_ratio_viol], perm_norm[:train_ratio_norm]))\n",
        "val_perm   = np.concatenate((perm_viol[train_ratio_viol:val_ratio_viol], perm_norm[train_ratio_norm:val_ratio_norm]))\n",
        "test_perm  = np.concatenate((perm_viol[val_ratio_viol:], perm_norm[val_ratio_norm:]))\n",
        "\n",
        "np.random.shuffle(train_perm)\n",
        "np.random.shuffle(val_perm)\n",
        "np.random.shuffle(test_perm)"
      ],
      "metadata": {
        "colab": {
          "base_uri": "https://localhost:8080/"
        },
        "id": "bdGCrxb_LAcC",
        "outputId": "ca9442b8-ac5f-4151-8be0-0c6419a851d5"
      },
      "execution_count": null,
      "outputs": [
        {
          "output_type": "stream",
          "name": "stdout",
          "text": [
            "4774 5456\n",
            "4774 5456\n"
          ]
        }
      ]
    },
    {
      "cell_type": "code",
      "source": [
        "perm_to_file(xmap, val_perm     ,OUT+'/x_val.npy'  ,batch_size=5e2)\n",
        "perm_to_file(xmap, test_perm    ,OUT+'/x_test.npy' ,batch_size=5e2)\n",
        "perm_to_file(xmap, train_perm   ,OUT+'/x_train.npy',batch_size=5e2)"
      ],
      "metadata": {
        "colab": {
          "base_uri": "https://localhost:8080/"
        },
        "id": "snjk8-moNvL0",
        "outputId": "ae764bfb-db24-4ff8-cf76-0dcb17209dd8"
      },
      "execution_count": null,
      "outputs": [
        {
          "output_type": "stream",
          "name": "stderr",
          "text": [
            "100%|██████████| 3/3 [00:02<00:00,  1.16it/s]\n",
            "100%|██████████| 6/6 [00:02<00:00,  2.87it/s]\n",
            "100%|██████████| 20/20 [00:06<00:00,  3.09it/s]\n"
          ]
        }
      ]
    },
    {
      "cell_type": "code",
      "source": [
        "np.save(OUT+'/y_val'   ,y[val_perm])\n",
        "np.save(OUT+'/y_test'  ,y[test_perm])\n",
        "np.save(OUT+'/y_train' ,y[train_perm])"
      ],
      "metadata": {
        "id": "PF7P_ETKNw5q"
      },
      "execution_count": null,
      "outputs": []
    },
    {
      "cell_type": "code",
      "source": [
        "print(train_perm.shape,val_perm.shape,test_perm.shape)"
      ],
      "metadata": {
        "colab": {
          "base_uri": "https://localhost:8080/"
        },
        "id": "tbsw6OzhPKQY",
        "outputId": "c537d41a-0e85-48f0-ca28-1b8be42882db"
      },
      "execution_count": null,
      "outputs": [
        {
          "output_type": "stream",
          "name": "stdout",
          "text": [
            "(9548,) (1364,) (2734,)\n"
          ]
        }
      ]
    }
  ]
}