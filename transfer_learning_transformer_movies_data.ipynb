{
  "nbformat": 4,
  "nbformat_minor": 0,
  "metadata": {
    "colab": {
      "provenance": [],
      "collapsed_sections": [
        "II784z1uYNdS",
        "wryP8k9KXdPm",
        "s2so4O8CYpEJ",
        "k-V9JzqnxeHD"
      ],
      "include_colab_link": true
    },
    "kernelspec": {
      "name": "python3",
      "display_name": "Python 3"
    },
    "language_info": {
      "name": "python"
    },
    "gpuClass": "standard"
  },
  "cells": [
    {
      "cell_type": "markdown",
      "metadata": {
        "id": "view-in-github",
        "colab_type": "text"
      },
      "source": [
        "<a href=\"https://colab.research.google.com/github/moharamfatema/graduation-project/blob/main/transfer_learning_transformer_movies_data.ipynb\" target=\"_parent\"><img src=\"https://colab.research.google.com/assets/colab-badge.svg\" alt=\"Open In Colab\"/></a>"
      ]
    },
    {
      "cell_type": "markdown",
      "source": [
        "\n",
        "[![Open In Colab](https://colab.research.google.com/assets/colab-badge.svg)](https://colab.research.google.com/drive/1r_ElyehZwlWC7je1ZCsrauqKAObqnjNN?usp=sharing)\n",
        "\n",
        "# Violence Detection In Movie Scenes"
      ],
      "metadata": {
        "id": "OFgTD_PAXmUQ"
      }
    },
    {
      "cell_type": "markdown",
      "source": [
        "## Prepare the runtime"
      ],
      "metadata": {
        "id": "II784z1uYNdS"
      }
    },
    {
      "cell_type": "code",
      "source": [
        "!pip install colab-convert"
      ],
      "metadata": {
        "id": "YzX5K-pfW0DP",
        "colab": {
          "base_uri": "https://localhost:8080/"
        },
        "outputId": "f0cc1425-6786-4434-9714-10d8fb4a1fd9"
      },
      "execution_count": null,
      "outputs": [
        {
          "output_type": "stream",
          "name": "stdout",
          "text": [
            "Looking in indexes: https://pypi.org/simple, https://us-python.pkg.dev/colab-wheels/public/simple/\n",
            "Collecting colab-convert\n",
            "  Downloading colab-convert-2.0.5.tar.gz (18 kB)\n",
            "Collecting json5\n",
            "  Downloading json5-0.9.10-py2.py3-none-any.whl (19 kB)\n",
            "Building wheels for collected packages: colab-convert\n",
            "  Building wheel for colab-convert (setup.py) ... \u001b[?25l\u001b[?25hdone\n",
            "  Created wheel for colab-convert: filename=colab_convert-2.0.5-py3-none-any.whl size=19224 sha256=6716d0924e59e731a6de2da4ff597d4d0eba818c33be6d5bac8a386c08ab2edd\n",
            "  Stored in directory: /root/.cache/pip/wheels/04/f2/9d/ee946c8db91ba06736f0fc6d0391421f891d5e19785ce707f6\n",
            "Successfully built colab-convert\n",
            "Installing collected packages: json5, colab-convert\n",
            "Successfully installed colab-convert-2.0.5 json5-0.9.10\n"
          ]
        }
      ]
    },
    {
      "cell_type": "code",
      "source": [
        "!pip install -q git+https://github.com/tensorflow/docs"
      ],
      "metadata": {
        "id": "4hg5Eb1iq6ig",
        "colab": {
          "base_uri": "https://localhost:8080/"
        },
        "outputId": "10b9866a-24ad-44b5-eadd-02efdeaf8df4"
      },
      "execution_count": null,
      "outputs": [
        {
          "output_type": "stream",
          "name": "stdout",
          "text": [
            "  Building wheel for tensorflow-docs (setup.py) ... \u001b[?25l\u001b[?25hdone\n"
          ]
        }
      ]
    },
    {
      "cell_type": "code",
      "source": [
        "!pip show colab-convert\n",
        "print()\n",
        "!pip show numpy\n",
        "print()\n",
        "!pip show tensorflow\n",
        "print()\n",
        "!pip show opencv-python\n",
        "print()\n",
        "!pip show pyyaml\n",
        "print()\n",
        "!pip show h5py"
      ],
      "metadata": {
        "colab": {
          "base_uri": "https://localhost:8080/"
        },
        "id": "2HNxQirlYbcB",
        "outputId": "30ce07d3-2da1-4317-9ac2-3287c1f9d5db"
      },
      "execution_count": null,
      "outputs": [
        {
          "output_type": "stream",
          "name": "stdout",
          "text": [
            "Name: colab-convert\n",
            "Version: 2.0.5\n",
            "Summary: Convert .py files runnable in VSCode/Python or Atom/Hydrogen to jupyter/colab .ipynb notebooks and vice versa\n",
            "Home-page: https://github.com/MSFTserver/colab-convert\n",
            "Author: HostsServer\n",
            "Author-email: msftserver@gmail.com\n",
            "License: MIT\n",
            "Location: /usr/local/lib/python3.7/dist-packages\n",
            "Requires: json5\n",
            "Required-by: \n",
            "\n",
            "Name: numpy\n",
            "Version: 1.21.6\n",
            "Summary: NumPy is the fundamental package for array computing with Python.\n",
            "Home-page: https://www.numpy.org\n",
            "Author: Travis E. Oliphant et al.\n",
            "Author-email: None\n",
            "License: BSD\n",
            "Location: /usr/local/lib/python3.7/dist-packages\n",
            "Requires: \n",
            "Required-by: yellowbrick, xgboost, xarray, xarray-einstats, wordcloud, torchvision, torchtext, tifffile, thinc, tensorflow, tensorflow-probability, tensorflow-hub, tensorflow-datasets, tensorboard, tables, statsmodels, spacy, sklearn-pandas, seaborn, scs, scipy, scikit-learn, scikit-image, resampy, qudida, qdldl, PyWavelets, python-louvain, pystan, pysndfile, pymc, pyerfa, pyemd, pycocotools, pyarrow, prophet, plotnine, patsy, pandas, osqp, opt-einsum, opencv-python, opencv-python-headless, opencv-contrib-python, numexpr, numba, nibabel, netCDF4, moviepy, mlxtend, mizani, missingno, matplotlib, matplotlib-venn, lightgbm, librosa, Keras-Preprocessing, kapre, jpeg4py, jaxlib, jax, imgaug, imbalanced-learn, imageio, hyperopt, httpstan, holoviews, h5py, gym, gensim, folium, fix-yahoo-finance, fastdtw, fa2, ecos, datascience, daft, cvxpy, cufflinks, cmdstanpy, cftime, bokeh, blis, autograd, atari-py, astropy, arviz, altair, albumentations, aesara, aeppl\n",
            "\n",
            "Name: tensorflow\n",
            "Version: 2.8.2+zzzcolab20220719082949\n",
            "Summary: TensorFlow is an open source machine learning framework for everyone.\n",
            "Home-page: https://www.tensorflow.org/\n",
            "Author: Google Inc.\n",
            "Author-email: packages@tensorflow.org\n",
            "License: Apache 2.0\n",
            "Location: /usr/local/lib/python3.7/dist-packages\n",
            "Requires: tensorboard, typing-extensions, tensorflow-estimator, gast, google-pasta, numpy, grpcio, h5py, flatbuffers, termcolor, keras-preprocessing, wrapt, protobuf, six, libclang, astunparse, absl-py, tensorflow-io-gcs-filesystem, opt-einsum, keras, setuptools\n",
            "Required-by: kapre\n",
            "\n",
            "Name: opencv-python\n",
            "Version: 4.6.0.66\n",
            "Summary: Wrapper package for OpenCV python bindings.\n",
            "Home-page: https://github.com/skvark/opencv-python\n",
            "Author: None\n",
            "Author-email: None\n",
            "License: MIT\n",
            "Location: /usr/local/lib/python3.7/dist-packages\n",
            "Requires: numpy\n",
            "Required-by: imgaug, dopamine-rl\n",
            "\n",
            "Name: PyYAML\n",
            "Version: 6.0\n",
            "Summary: YAML parser and emitter for Python\n",
            "Home-page: https://pyyaml.org/\n",
            "Author: Kirill Simonov\n",
            "Author-email: xi@resolvent.net\n",
            "License: MIT\n",
            "Location: /usr/local/lib/python3.7/dist-packages\n",
            "Requires: \n",
            "Required-by: tensorflow-docs, PyDrive, fastai, distributed, dask, bokeh, albumentations\n",
            "\n",
            "Name: h5py\n",
            "Version: 3.1.0\n",
            "Summary: Read and write HDF5 files from Python\n",
            "Home-page: http://www.h5py.org\n",
            "Author: Andrew Collette\n",
            "Author-email: andrew.collette@gmail.com\n",
            "License: BSD\n",
            "Location: /usr/local/lib/python3.7/dist-packages\n",
            "Requires: numpy, cached-property\n",
            "Required-by: tensorflow, keras-vis\n"
          ]
        }
      ]
    },
    {
      "cell_type": "markdown",
      "source": [
        "### Mount Drive"
      ],
      "metadata": {
        "id": "wryP8k9KXdPm"
      }
    },
    {
      "cell_type": "code",
      "execution_count": null,
      "metadata": {
        "id": "5y09Bw_IGCtT",
        "colab": {
          "base_uri": "https://localhost:8080/"
        },
        "outputId": "da17297f-ec46-42ff-eb30-bbbfa9456351"
      },
      "outputs": [
        {
          "output_type": "stream",
          "name": "stdout",
          "text": [
            "Mounted at /content/drive/\n",
            "/content/drive/.shortcut-targets-by-id/1lB9yrEkShjexDmBZKReu7bjw8lfmUnmH/automatic-detection-of-violence-in-video-scenes\n",
            "cc-outputs.log    \u001b[0m\u001b[01;34m.git\u001b[0m/               MViTv2_L_40x3_k400_f306903192.pyth\n",
            "\u001b[01;34mCombined\u001b[0m/         .gitignore          new_repo.sh\n",
            "config_user.sh    git_interactive.py  requirements.txt\n",
            "convert.txt       \u001b[01;36mHockey\u001b[0m@             svm_model.pkl\n",
            "\u001b[01;36mCrowd2\u001b[0m@           info.txt            sync.sh\n",
            "forest_model.pkl  \u001b[01;34mMovies\u001b[0m/             \u001b[01;34mtransformers\u001b[0m/\n"
          ]
        }
      ],
      "source": [
        "from google.colab import drive\n",
        "drive.mount('/content/drive/')\n",
        "\n",
        "%cd '/content/drive/MyDrive/automatic-detection-of-violence-in-video-scenes'\n",
        "%ls -a"
      ]
    },
    {
      "cell_type": "markdown",
      "source": [
        "### Imports"
      ],
      "metadata": {
        "id": "s2so4O8CYpEJ"
      }
    },
    {
      "cell_type": "code",
      "source": [
        "import tensorflow as tf\n",
        "from tensorflow      import keras\n",
        "from keras           import layers as tfl\n",
        "from keras.callbacks import EarlyStopping\n",
        "from keras.backend   import clear_session\n",
        "from tensorflow_docs.vis import embed\n",
        "\n",
        "import os\n",
        "import numpy as np\n",
        "import cv2 \n",
        "import datetime\n",
        "import imageio\n",
        "import pandas as pd\n",
        "import matplotlib.pyplot as plt\n",
        "import seaborn as sns\n",
        "import pickle\n",
        "\n",
        "tf.test.gpu_device_name()\n",
        "# Standard output is '/device:GPU:0'"
      ],
      "metadata": {
        "id": "lt1G6WwGYv-V",
        "colab": {
          "base_uri": "https://localhost:8080/"
        },
        "outputId": "01977351-ab28-46db-effb-217dc114c291"
      },
      "execution_count": null,
      "outputs": [
        {
          "output_type": "execute_result",
          "data": {
            "text/plain": [
              "''"
            ],
            "application/vnd.google.colaboratory.intrinsic+json": {
              "type": "string"
            }
          },
          "metadata": {},
          "execution_count": 6
        }
      ]
    },
    {
      "cell_type": "markdown",
      "source": [
        "## Data Preprocessing"
      ],
      "metadata": {
        "id": "YhHJ07ZWZCzr"
      }
    },
    {
      "cell_type": "markdown",
      "source": [
        "### Define Constants"
      ],
      "metadata": {
        "id": "k-V9JzqnxeHD"
      }
    },
    {
      "cell_type": "code",
      "source": [
        "# define input paths\n",
        "\n",
        "ROOT_PATH = '/content/drive/MyDrive/automatic-detection-of-violence-in-video-scenes'\n",
        "MOVIES_PATH = ROOT_PATH + '/Movies/Movies Fight Dataset'\n",
        "\n",
        "VIOLENCE_PATH = MOVIES_PATH + '/Violence'\n",
        "NORMAL_PATH = MOVIES_PATH + '/Normal'\n",
        "\n",
        "print(os.listdir(NORMAL_PATH)[-1])\n",
        "print(os.listdir(VIOLENCE_PATH)[-1])\n",
        "\n",
        "# define output paths\n",
        "\n",
        "OUT_PATH = ROOT_PATH + '/transformers/preprocessed_data'\n"
      ],
      "metadata": {
        "id": "tKkvBlmCZF-a",
        "colab": {
          "base_uri": "https://localhost:8080/"
        },
        "outputId": "afb8d1dc-94ec-40e2-ab2d-a2c39e2f92c8"
      },
      "execution_count": null,
      "outputs": [
        {
          "output_type": "stream",
          "name": "stdout",
          "text": [
            "60.mpg\n",
            "newfi67.avi\n"
          ]
        }
      ]
    },
    {
      "cell_type": "markdown",
      "source": [
        "### Process raw data"
      ],
      "metadata": {
        "id": "fL4v8Detxl5k"
      }
    },
    {
      "cell_type": "code",
      "source": [
        "IMG_SIZE = 50\n",
        "\n",
        "def load_video(path, max_frames=0, dimension=IMG_SIZE):\n",
        "    cap = cv2.VideoCapture(path)\n",
        "    frames = []\n",
        "    try:\n",
        "        i = -1\n",
        "        while True:\n",
        "            i += 1\n",
        "            if i % 2 != 0:\n",
        "                continue\n",
        "            ret, frame = cap.read()\n",
        "            if not ret:\n",
        "                break\n",
        "            frame = cv2.resize(frame, (dimension, dimension), interpolation = cv2.INTER_AREA)\n",
        "            frames.append(frame)\n",
        "\n",
        "            if len(frames) == max_frames:\n",
        "                break\n",
        "    finally:\n",
        "        cap.release()\n",
        "    return np.array(frames)\n"
      ],
      "metadata": {
        "id": "bL0emhASlS9C"
      },
      "execution_count": null,
      "outputs": []
    },
    {
      "cell_type": "code",
      "source": [
        "def build_feature_extractor(dimension=IMG_SIZE):\n",
        "    feature_extractor = keras.applications.DenseNet121(\n",
        "        weights=\"imagenet\",\n",
        "        include_top=False,\n",
        "        pooling=\"avg\",\n",
        "        input_shape=(dimension, dimension,3),\n",
        "    )\n",
        "    preprocess_input = keras.applications.densenet.preprocess_input\n",
        "\n",
        "    inputs = keras.Input((dimension, dimension,3))\n",
        "    preprocessed = preprocess_input(inputs)\n",
        "\n",
        "    outputs = feature_extractor(preprocessed)\n",
        "    return keras.Model(inputs, outputs, name=\"feature_extractor\")"
      ],
      "metadata": {
        "id": "iaUbucRCrujy"
      },
      "execution_count": null,
      "outputs": []
    },
    {
      "cell_type": "code",
      "source": [
        "feature_extractor = build_feature_extractor()"
      ],
      "metadata": {
        "id": "f_Q9BTmym53b",
        "outputId": "3dee514c-6bc5-487f-9a12-6bbf9d3032eb",
        "colab": {
          "base_uri": "https://localhost:8080/"
        }
      },
      "execution_count": null,
      "outputs": [
        {
          "output_type": "stream",
          "name": "stdout",
          "text": [
            "Downloading data from https://storage.googleapis.com/tensorflow/keras-applications/densenet/densenet121_weights_tf_dim_ordering_tf_kernels_notop.h5\n",
            "29089792/29084464 [==============================] - 0s 0us/step\n",
            "29097984/29084464 [==============================] - 0s 0us/step\n"
          ]
        }
      ]
    },
    {
      "cell_type": "code",
      "source": [
        "MAX_SEQ_LENGTH = 20\n",
        "NUM_FEATURES = 1024\n",
        "IMG_SIZE = 50\n",
        "\n",
        "\n",
        "\n",
        "\n",
        "def prepare_all_videos(df, root_dir=MOVIES_PATH):\n",
        "    num_samples = len(df)\n",
        "    video_paths = df[\"video_name\"].values.tolist()\n",
        "    labels = df[\"label\"].values\n",
        "\n",
        "    # `frame_features` are what we will feed to our sequence model.\n",
        "    frame_features = np.zeros(\n",
        "        shape=(num_samples, MAX_SEQ_LENGTH, NUM_FEATURES), dtype=\"float32\"\n",
        "    )\n",
        "\n",
        "    # For each video.\n",
        "    for idx, path in enumerate(video_paths):\n",
        "        # Gather all its frames and add a batch dimension.\n",
        "        frames = load_video(os.path.join(root_dir,NORMAL_PATH if labels[idx]==0 else VIOLENCE_PATH, path))\n",
        "\n",
        "        # Pad shorter videos.\n",
        "        if len(frames) < MAX_SEQ_LENGTH:\n",
        "            diff = MAX_SEQ_LENGTH - len(frames)\n",
        "            padding = np.zeros((diff, IMG_SIZE, IMG_SIZE, 3))\n",
        "            frames = np.concatenate(frames, padding)\n",
        "\n",
        "        frames = frames[None, ...]\n",
        "\n",
        "        # Initialize placeholder to store the features of the current video.\n",
        "        temp_frame_features = np.zeros(\n",
        "            shape=(1, MAX_SEQ_LENGTH, NUM_FEATURES), dtype=\"float32\"\n",
        "        )\n",
        "\n",
        "        # Extract features from the frames of the current video.\n",
        "        for i, batch in enumerate(frames):\n",
        "            video_length = batch.shape[0]\n",
        "            length = min(MAX_SEQ_LENGTH, video_length)\n",
        "            for j in range(length):\n",
        "                if np.mean(batch[j, :]) > 0.0:\n",
        "                    temp_frame_features[i, j, :] = feature_extractor.predict(\n",
        "                        batch[None, j, :]\n",
        "                    )\n",
        "\n",
        "                else:\n",
        "                    temp_frame_features[i, j, :] = 0.0\n",
        "\n",
        "        frame_features[idx,] = temp_frame_features.squeeze()\n",
        "\n",
        "    return frame_features, labels"
      ],
      "metadata": {
        "id": "r395IB8FnGSI"
      },
      "execution_count": null,
      "outputs": []
    },
    {
      "cell_type": "code",
      "source": [
        "def process_paths(normal, violence):\n",
        "  subset = min(len(normal),len(violence))\n",
        "\n",
        "  y = np.concatenate([np.zeros(subset), np.ones(subset)])\n",
        "  x = np.concatenate([normal[:subset], violence[:subset]], axis = 0)\n",
        "\n",
        "  print((x.shape, y.shape))\n",
        "\n",
        "  #shuffle\n",
        "  per = np.random.permutation(len(x))\n",
        "\n",
        "  x = x[per]\n",
        "  y = y[per]\n",
        "  y = y.astype(int)\n",
        "\n",
        "  y = np.expand_dims(y, -1)\n",
        "\n",
        "  return x, y"
      ],
      "metadata": {
        "id": "nFlQIM1Hq8e4"
      },
      "execution_count": null,
      "outputs": []
    },
    {
      "cell_type": "code",
      "source": [
        "def save_datasets(\n",
        "    save_path: str\n",
        "  ) -> np.ndarray:\n",
        "  \n",
        "  normal_random = np.random.permutation(100)\n",
        "  violence_random = np.random.permutation(100)\n",
        "\n",
        "  # train\n",
        "  normal_data = np.array(os.listdir(f'{MOVIES_PATH}/Normal'))[normal_random[:70]]\n",
        "  violence_data = np.array(os.listdir(f'{MOVIES_PATH}/Violence'))[violence_random[:70]]\n",
        "\n",
        "  x, y = process_paths(normal_data, violence_data)\n",
        "\n",
        "  del normal_data\n",
        "  del violence_data\n",
        "\n",
        "  x = x.reshape(-1)\n",
        "  y = y.reshape(-1)\n",
        "\n",
        "  data_dict = {\n",
        "    \"video_name\":x,\n",
        "    \"label\":y,\n",
        "  }\n",
        "\n",
        "  df = pd.DataFrame.from_dict(data_dict)\n",
        "\n",
        "  x, y = prepare_all_videos(df)\n",
        "\n",
        "  del df\n",
        "  del data_dict\n",
        "\n",
        "  np.save(f'{save_path}/x_train',x)\n",
        "  np.save(f'{save_path}/y_train',y)\n",
        "\n",
        "  del x\n",
        "  del y\n",
        "\n",
        "  # validation\n",
        "  normal_data = np.array(os.listdir(f'{MOVIES_PATH}/Normal'))[normal_random[70:85]]\n",
        "  violence_data = np.array(os.listdir(f'{MOVIES_PATH}/Violence'))[violence_random[70:85]]\n",
        "\n",
        "  x, y = process_paths(normal_data, violence_data)\n",
        "\n",
        "  del normal_data\n",
        "  del violence_data\n",
        "\n",
        "  x = x.reshape(-1)\n",
        "  y = y.reshape(-1)\n",
        "\n",
        "  data_dict = {\n",
        "    \"video_name\":x,\n",
        "    \"label\":y,\n",
        "  }\n",
        "\n",
        "  df = pd.DataFrame.from_dict(data_dict)\n",
        "\n",
        "  x, y = prepare_all_videos(df)\n",
        "\n",
        "  del df\n",
        "  del data_dict\n",
        "\n",
        "  np.save(f'{save_path}/x_val',x)\n",
        "  np.save(f'{save_path}/y_val',y)\n",
        "\n",
        "  del x\n",
        "  del y\n",
        "\n",
        "  # test\n",
        "  normal_data = np.array(os.listdir(f'{MOVIES_PATH}/Normal'))[normal_random[85:]]\n",
        "  violence_data = np.array(os.listdir(f'{MOVIES_PATH}/Violence'))[violence_random[85:]]\n",
        "\n",
        "  x, y = process_paths(normal_data, violence_data)\n",
        "\n",
        "  del normal_data\n",
        "  del violence_data\n",
        "\n",
        "  x = x.reshape(-1)\n",
        "  y = y.reshape(-1)\n",
        "\n",
        "  data_dict = {\n",
        "    \"video_name\":x,\n",
        "    \"label\":y,\n",
        "  }\n",
        "\n",
        "  df = pd.DataFrame.from_dict(data_dict)\n",
        "\n",
        "  x, y = prepare_all_videos(df)\n",
        "\n",
        "  del df\n",
        "  del data_dict\n",
        "\n",
        "  np.save(f'{save_path}/x_test',x)\n",
        "  np.save(f'{save_path}/y_test',y)\n",
        "\n",
        "  del x\n",
        "  del y"
      ],
      "metadata": {
        "id": "0aDXp-zBy_W1"
      },
      "execution_count": null,
      "outputs": []
    },
    {
      "cell_type": "code",
      "source": [
        "# save_datasets(OUT_PATH)"
      ],
      "metadata": {
        "id": "nwWvZXHI1ZEY"
      },
      "execution_count": null,
      "outputs": []
    },
    {
      "cell_type": "markdown",
      "source": [
        "### Load presaved and preprocessed data"
      ],
      "metadata": {
        "id": "8GlQgzks2teN"
      }
    },
    {
      "cell_type": "code",
      "source": [
        "# Load Data\n",
        "\n",
        "def load_x_y(\n",
        "    load_which: str = 'train', \n",
        "  ):\n",
        "  violence_data = None\n",
        "  normal_data = None\n",
        "\n",
        "  if load_which == 'train':\n",
        "    x = np.load(f'{OUT_PATH}/x_train.npy')\n",
        "    y  = np.load(f'{OUT_PATH}/y_train.npy')\n",
        "\n",
        "  elif load_which == 'validation':\n",
        "    x = np.load(f'{OUT_PATH}/x_val.npy')\n",
        "    y  = np.load(f'{OUT_PATH}/y_val.npy')\n",
        "\n",
        "  elif load_which == 'test':\n",
        "    x = np.load(f'{OUT_PATH}/x_test.npy')\n",
        "    y  = np.load(f'{OUT_PATH}/y_test.npy')\n",
        "\n",
        "  print(f'y shape = {y.shape}')\n",
        "  print(f'x shape = {x.shape}')\n",
        "\n",
        "  return x, y"
      ],
      "metadata": {
        "id": "Pct8093s2nBV"
      },
      "execution_count": null,
      "outputs": []
    },
    {
      "cell_type": "code",
      "source": [
        "x_train, y_train = load_x_y('train')\n",
        "\n",
        "x_val, y_val = load_x_y('validation')\n",
        "\n",
        "x_test, y_test = load_x_y('test')\n"
      ],
      "metadata": {
        "id": "hXsoLrYK2sMz",
        "outputId": "e9734072-4bd8-4206-c906-464ad37e2a8a",
        "colab": {
          "base_uri": "https://localhost:8080/"
        }
      },
      "execution_count": null,
      "outputs": [
        {
          "output_type": "stream",
          "name": "stdout",
          "text": [
            "y shape = (140,)\n",
            "x shape = (140, 20, 1024)\n",
            "y shape = (30,)\n",
            "x shape = (30, 20, 1024)\n",
            "y shape = (30,)\n",
            "x shape = (30, 20, 1024)\n"
          ]
        }
      ]
    },
    {
      "cell_type": "markdown",
      "source": [
        "#Model\n"
      ],
      "metadata": {
        "id": "TzYXNhQPD-pu"
      }
    },
    {
      "cell_type": "code",
      "source": [
        "class PositionalEmbedding(tfl.Layer):\n",
        "    def __init__(self, sequence_length, output_dim, **kwargs):\n",
        "        super().__init__(**kwargs)\n",
        "        self.position_embeddings = tfl.Embedding(\n",
        "            input_dim=sequence_length, output_dim=output_dim\n",
        "        )\n",
        "        self.sequence_length = sequence_length\n",
        "        self.output_dim = output_dim\n",
        "\n",
        "    def call(self, inputs):\n",
        "        # The inputs are of shape: `(batch_size, frames, num_features)`\n",
        "        length = tf.shape(inputs)[1]\n",
        "        positions = tf.range(start=0, limit=length, delta=1)\n",
        "        embedded_positions = self.position_embeddings(positions)\n",
        "        return inputs + embedded_positions\n",
        "\n",
        "    def compute_mask(self, inputs, mask=None):\n",
        "        mask = tf.reduce_any(tf.cast(inputs, \"bool\"), axis=-1)\n",
        "        return mask"
      ],
      "metadata": {
        "id": "paRY02FADwi2"
      },
      "execution_count": null,
      "outputs": []
    },
    {
      "cell_type": "code",
      "source": [
        "class TransformerEncoder(tfl.Layer):\n",
        "    def __init__(self, embed_dim, dense_dim, num_heads, **kwargs):\n",
        "        super().__init__(**kwargs)\n",
        "        self.embed_dim = embed_dim\n",
        "        self.dense_dim = dense_dim\n",
        "        self.num_heads = num_heads\n",
        "        self.attention = tfl.MultiHeadAttention(\n",
        "            num_heads=num_heads, key_dim=embed_dim, dropout=0.3\n",
        "        )\n",
        "        self.dense_proj = keras.Sequential(\n",
        "            [tfl.Dense(dense_dim, activation=tf.nn.gelu), tfl.Dense(embed_dim),]\n",
        "        )\n",
        "        self.layernorm_1 = tfl.LayerNormalization()\n",
        "        self.layernorm_2 = tfl.LayerNormalization()\n",
        "\n",
        "    def call(self, inputs, mask=None):\n",
        "        if mask is not None:\n",
        "            mask = mask[:, tf.newaxis, :]\n",
        "\n",
        "        attention_output = self.attention(inputs, inputs, attention_mask=mask)\n",
        "        proj_input = self.layernorm_1(inputs + attention_output)\n",
        "        proj_output = self.dense_proj(proj_input)\n",
        "        return self.layernorm_2(proj_input + proj_output)"
      ],
      "metadata": {
        "id": "pWEeV7IxEVW5"
      },
      "execution_count": null,
      "outputs": []
    },
    {
      "cell_type": "code",
      "source": [
        "def get_compiled_model():\n",
        "    sequence_length = MAX_SEQ_LENGTH\n",
        "    embed_dim = NUM_FEATURES\n",
        "    dense_dim = 4\n",
        "    num_heads = 1\n",
        "    classes = 2\n",
        "\n",
        "    inputs = keras.Input(shape=(None, None))\n",
        "    x = PositionalEmbedding(\n",
        "        sequence_length, embed_dim, name=\"frame_position_embedding\"\n",
        "    )(inputs)\n",
        "    x = TransformerEncoder(embed_dim, dense_dim, num_heads, name=\"transformer_layer\")(x)\n",
        "    x = tfl.GlobalMaxPooling1D()(x)\n",
        "    x = tfl.Dropout(0.5)(x)\n",
        "    outputs = tfl.Dense(classes, activation=\"softmax\")(x)\n",
        "    model = keras.Model(inputs, outputs)\n",
        "\n",
        "    model.compile(\n",
        "        optimizer=\"adam\", loss=\"sparse_categorical_crossentropy\", metrics=[\"accuracy\"]\n",
        "    )\n",
        "    return model\n",
        "\n",
        "\n",
        "def run_experiment():\n",
        "    filepath = OUT_PATH\n",
        "    checkpoint = keras.callbacks.ModelCheckpoint(\n",
        "        filepath, save_weights_only=True, save_best_only=True, verbose=1\n",
        "    )\n",
        "\n",
        "    model = get_compiled_model()\n",
        "    history = model.fit(\n",
        "        x_train,\n",
        "        y_train,\n",
        "        validation_data= (x_val, y_val),\n",
        "        epochs=EPOCHS,\n",
        "        callbacks=[checkpoint],\n",
        "    )\n",
        "\n",
        "    model.load_weights(filepath)\n",
        "    _, accuracy = model.evaluate(x_test, y_test)\n",
        "    print(f\"Test accuracy: {round(accuracy * 100, 2)}%\")\n",
        "\n",
        "    return model, history"
      ],
      "metadata": {
        "id": "pgIGw80xE6Il"
      },
      "execution_count": null,
      "outputs": []
    },
    {
      "cell_type": "code",
      "source": [
        "EPOCHS = 40"
      ],
      "metadata": {
        "id": "gJJtdfY4B-e3"
      },
      "execution_count": null,
      "outputs": []
    },
    {
      "cell_type": "code",
      "source": [
        "trained_model, history  = run_experiment()"
      ],
      "metadata": {
        "id": "yn5F3bgOQz45",
        "outputId": "e177d4b1-9211-44e5-c95b-77c6d6bf9e11",
        "colab": {
          "base_uri": "https://localhost:8080/"
        }
      },
      "execution_count": null,
      "outputs": [
        {
          "output_type": "stream",
          "name": "stdout",
          "text": [
            "Epoch 1/40\n",
            "5/5 [==============================] - ETA: 0s - loss: 1.0168 - accuracy: 0.7500\n",
            "Epoch 1: val_loss improved from inf to 0.07763, saving model to /content/drive/MyDrive/automatic-detection-of-violence-in-video-scenes/transformers/preprocessed_data\n",
            "5/5 [==============================] - 4s 535ms/step - loss: 1.0168 - accuracy: 0.7500 - val_loss: 0.0776 - val_accuracy: 0.9667\n",
            "Epoch 2/40\n",
            "5/5 [==============================] - ETA: 0s - loss: 0.2175 - accuracy: 0.9500\n",
            "Epoch 2: val_loss improved from 0.07763 to 0.03568, saving model to /content/drive/MyDrive/automatic-detection-of-violence-in-video-scenes/transformers/preprocessed_data\n",
            "5/5 [==============================] - 2s 446ms/step - loss: 0.2175 - accuracy: 0.9500 - val_loss: 0.0357 - val_accuracy: 1.0000\n",
            "Epoch 3/40\n",
            "5/5 [==============================] - ETA: 0s - loss: 0.1522 - accuracy: 0.9714\n",
            "Epoch 3: val_loss did not improve from 0.03568\n",
            "5/5 [==============================] - 2s 393ms/step - loss: 0.1522 - accuracy: 0.9714 - val_loss: 0.4041 - val_accuracy: 0.8667\n",
            "Epoch 4/40\n",
            "5/5 [==============================] - ETA: 0s - loss: 0.0582 - accuracy: 0.9786\n",
            "Epoch 4: val_loss did not improve from 0.03568\n",
            "5/5 [==============================] - 2s 399ms/step - loss: 0.0582 - accuracy: 0.9786 - val_loss: 0.0486 - val_accuracy: 0.9667\n",
            "Epoch 5/40\n",
            "5/5 [==============================] - ETA: 0s - loss: 0.0356 - accuracy: 0.9929\n",
            "Epoch 5: val_loss improved from 0.03568 to 0.01985, saving model to /content/drive/MyDrive/automatic-detection-of-violence-in-video-scenes/transformers/preprocessed_data\n",
            "5/5 [==============================] - 2s 458ms/step - loss: 0.0356 - accuracy: 0.9929 - val_loss: 0.0198 - val_accuracy: 1.0000\n",
            "Epoch 6/40\n",
            "5/5 [==============================] - ETA: 0s - loss: 0.0124 - accuracy: 0.9929\n",
            "Epoch 6: val_loss did not improve from 0.01985\n",
            "5/5 [==============================] - 2s 403ms/step - loss: 0.0124 - accuracy: 0.9929 - val_loss: 0.0585 - val_accuracy: 0.9667\n",
            "Epoch 7/40\n",
            "5/5 [==============================] - ETA: 0s - loss: 0.0346 - accuracy: 0.9929\n",
            "Epoch 7: val_loss did not improve from 0.01985\n",
            "5/5 [==============================] - 2s 396ms/step - loss: 0.0346 - accuracy: 0.9929 - val_loss: 0.2020 - val_accuracy: 0.9333\n",
            "Epoch 8/40\n",
            "5/5 [==============================] - ETA: 0s - loss: 0.0282 - accuracy: 0.9786\n",
            "Epoch 8: val_loss did not improve from 0.01985\n",
            "5/5 [==============================] - 2s 405ms/step - loss: 0.0282 - accuracy: 0.9786 - val_loss: 0.1491 - val_accuracy: 0.9333\n",
            "Epoch 9/40\n",
            "5/5 [==============================] - ETA: 0s - loss: 0.0011 - accuracy: 1.0000\n",
            "Epoch 9: val_loss did not improve from 0.01985\n",
            "5/5 [==============================] - 2s 445ms/step - loss: 0.0011 - accuracy: 1.0000 - val_loss: 0.0235 - val_accuracy: 1.0000\n",
            "Epoch 10/40\n",
            "5/5 [==============================] - ETA: 0s - loss: 0.0201 - accuracy: 0.9929\n",
            "Epoch 10: val_loss did not improve from 0.01985\n",
            "5/5 [==============================] - 2s 408ms/step - loss: 0.0201 - accuracy: 0.9929 - val_loss: 0.1228 - val_accuracy: 0.9667\n",
            "Epoch 11/40\n",
            "5/5 [==============================] - ETA: 0s - loss: 0.0040 - accuracy: 1.0000\n",
            "Epoch 11: val_loss did not improve from 0.01985\n",
            "5/5 [==============================] - 2s 398ms/step - loss: 0.0040 - accuracy: 1.0000 - val_loss: 0.5856 - val_accuracy: 0.9000\n",
            "Epoch 12/40\n",
            "5/5 [==============================] - ETA: 0s - loss: 0.0055 - accuracy: 1.0000\n",
            "Epoch 12: val_loss did not improve from 0.01985\n",
            "5/5 [==============================] - 2s 395ms/step - loss: 0.0055 - accuracy: 1.0000 - val_loss: 0.5766 - val_accuracy: 0.9000\n",
            "Epoch 13/40\n",
            "5/5 [==============================] - ETA: 0s - loss: 8.8002e-05 - accuracy: 1.0000\n",
            "Epoch 13: val_loss did not improve from 0.01985\n",
            "5/5 [==============================] - 2s 400ms/step - loss: 8.8002e-05 - accuracy: 1.0000 - val_loss: 0.5539 - val_accuracy: 0.9000\n",
            "Epoch 14/40\n",
            "5/5 [==============================] - ETA: 0s - loss: 4.2348e-04 - accuracy: 1.0000\n",
            "Epoch 14: val_loss did not improve from 0.01985\n",
            "5/5 [==============================] - 2s 399ms/step - loss: 4.2348e-04 - accuracy: 1.0000 - val_loss: 0.5629 - val_accuracy: 0.9000\n",
            "Epoch 15/40\n",
            "5/5 [==============================] - ETA: 0s - loss: 3.2302e-05 - accuracy: 1.0000\n",
            "Epoch 15: val_loss did not improve from 0.01985\n",
            "5/5 [==============================] - 2s 399ms/step - loss: 3.2302e-05 - accuracy: 1.0000 - val_loss: 0.5668 - val_accuracy: 0.9000\n",
            "Epoch 16/40\n",
            "5/5 [==============================] - ETA: 0s - loss: 2.1860e-05 - accuracy: 1.0000\n",
            "Epoch 16: val_loss did not improve from 0.01985\n",
            "5/5 [==============================] - 2s 394ms/step - loss: 2.1860e-05 - accuracy: 1.0000 - val_loss: 0.5671 - val_accuracy: 0.9000\n",
            "Epoch 17/40\n",
            "5/5 [==============================] - ETA: 0s - loss: 3.5461e-04 - accuracy: 1.0000\n",
            "Epoch 17: val_loss did not improve from 0.01985\n",
            "5/5 [==============================] - 2s 402ms/step - loss: 3.5461e-04 - accuracy: 1.0000 - val_loss: 0.5805 - val_accuracy: 0.9000\n",
            "Epoch 18/40\n",
            "5/5 [==============================] - ETA: 0s - loss: 1.3475e-05 - accuracy: 1.0000\n",
            "Epoch 18: val_loss did not improve from 0.01985\n",
            "5/5 [==============================] - 2s 397ms/step - loss: 1.3475e-05 - accuracy: 1.0000 - val_loss: 0.5860 - val_accuracy: 0.9000\n",
            "Epoch 19/40\n",
            "5/5 [==============================] - ETA: 0s - loss: 7.2500e-04 - accuracy: 1.0000\n",
            "Epoch 19: val_loss did not improve from 0.01985\n",
            "5/5 [==============================] - 2s 399ms/step - loss: 7.2500e-04 - accuracy: 1.0000 - val_loss: 0.5442 - val_accuracy: 0.9000\n",
            "Epoch 20/40\n",
            "5/5 [==============================] - ETA: 0s - loss: 1.2005e-05 - accuracy: 1.0000\n",
            "Epoch 20: val_loss did not improve from 0.01985\n",
            "5/5 [==============================] - 2s 405ms/step - loss: 1.2005e-05 - accuracy: 1.0000 - val_loss: 0.4950 - val_accuracy: 0.9000\n",
            "Epoch 21/40\n",
            "5/5 [==============================] - ETA: 0s - loss: 2.0982e-05 - accuracy: 1.0000\n",
            "Epoch 21: val_loss did not improve from 0.01985\n",
            "5/5 [==============================] - 2s 395ms/step - loss: 2.0982e-05 - accuracy: 1.0000 - val_loss: 0.4627 - val_accuracy: 0.9000\n",
            "Epoch 22/40\n",
            "5/5 [==============================] - ETA: 0s - loss: 5.6777e-05 - accuracy: 1.0000\n",
            "Epoch 22: val_loss did not improve from 0.01985\n",
            "5/5 [==============================] - 2s 400ms/step - loss: 5.6777e-05 - accuracy: 1.0000 - val_loss: 0.4399 - val_accuracy: 0.9000\n",
            "Epoch 23/40\n",
            "5/5 [==============================] - ETA: 0s - loss: 7.6431e-06 - accuracy: 1.0000\n",
            "Epoch 23: val_loss did not improve from 0.01985\n",
            "5/5 [==============================] - 2s 397ms/step - loss: 7.6431e-06 - accuracy: 1.0000 - val_loss: 0.4218 - val_accuracy: 0.9000\n",
            "Epoch 24/40\n",
            "5/5 [==============================] - ETA: 0s - loss: 7.8386e-06 - accuracy: 1.0000\n",
            "Epoch 24: val_loss did not improve from 0.01985\n",
            "5/5 [==============================] - 2s 397ms/step - loss: 7.8386e-06 - accuracy: 1.0000 - val_loss: 0.4110 - val_accuracy: 0.9000\n",
            "Epoch 25/40\n",
            "5/5 [==============================] - ETA: 0s - loss: 4.7960e-05 - accuracy: 1.0000\n",
            "Epoch 25: val_loss did not improve from 0.01985\n",
            "5/5 [==============================] - 2s 398ms/step - loss: 4.7960e-05 - accuracy: 1.0000 - val_loss: 0.4083 - val_accuracy: 0.9000\n",
            "Epoch 26/40\n",
            "5/5 [==============================] - ETA: 0s - loss: 9.6123e-06 - accuracy: 1.0000\n",
            "Epoch 26: val_loss did not improve from 0.01985\n",
            "5/5 [==============================] - 3s 478ms/step - loss: 9.6123e-06 - accuracy: 1.0000 - val_loss: 0.4074 - val_accuracy: 0.9000\n",
            "Epoch 27/40\n",
            "5/5 [==============================] - ETA: 0s - loss: 8.7418e-06 - accuracy: 1.0000\n",
            "Epoch 27: val_loss did not improve from 0.01985\n",
            "5/5 [==============================] - 2s 401ms/step - loss: 8.7418e-06 - accuracy: 1.0000 - val_loss: 0.4076 - val_accuracy: 0.9000\n",
            "Epoch 28/40\n",
            "5/5 [==============================] - ETA: 0s - loss: 5.8219e-06 - accuracy: 1.0000\n",
            "Epoch 28: val_loss did not improve from 0.01985\n",
            "5/5 [==============================] - 2s 403ms/step - loss: 5.8219e-06 - accuracy: 1.0000 - val_loss: 0.4076 - val_accuracy: 0.9000\n",
            "Epoch 29/40\n",
            "5/5 [==============================] - ETA: 0s - loss: 2.1457e-06 - accuracy: 1.0000\n",
            "Epoch 29: val_loss did not improve from 0.01985\n",
            "5/5 [==============================] - 2s 402ms/step - loss: 2.1457e-06 - accuracy: 1.0000 - val_loss: 0.4074 - val_accuracy: 0.9000\n",
            "Epoch 30/40\n",
            "5/5 [==============================] - ETA: 0s - loss: 9.6139e-06 - accuracy: 1.0000\n",
            "Epoch 30: val_loss did not improve from 0.01985\n",
            "5/5 [==============================] - 2s 395ms/step - loss: 9.6139e-06 - accuracy: 1.0000 - val_loss: 0.4067 - val_accuracy: 0.9000\n",
            "Epoch 31/40\n",
            "5/5 [==============================] - ETA: 0s - loss: 3.2712e-05 - accuracy: 1.0000\n",
            "Epoch 31: val_loss did not improve from 0.01985\n",
            "5/5 [==============================] - 2s 392ms/step - loss: 3.2712e-05 - accuracy: 1.0000 - val_loss: 0.4054 - val_accuracy: 0.9000\n",
            "Epoch 32/40\n",
            "5/5 [==============================] - ETA: 0s - loss: 1.9054e-05 - accuracy: 1.0000\n",
            "Epoch 32: val_loss did not improve from 0.01985\n",
            "5/5 [==============================] - 2s 400ms/step - loss: 1.9054e-05 - accuracy: 1.0000 - val_loss: 0.4020 - val_accuracy: 0.9000\n",
            "Epoch 33/40\n",
            "5/5 [==============================] - ETA: 0s - loss: 3.9966e-06 - accuracy: 1.0000\n",
            "Epoch 33: val_loss did not improve from 0.01985\n",
            "5/5 [==============================] - 2s 399ms/step - loss: 3.9966e-06 - accuracy: 1.0000 - val_loss: 0.3996 - val_accuracy: 0.9000\n",
            "Epoch 34/40\n",
            "5/5 [==============================] - ETA: 0s - loss: 3.4909e-06 - accuracy: 1.0000\n",
            "Epoch 34: val_loss did not improve from 0.01985\n",
            "5/5 [==============================] - 2s 394ms/step - loss: 3.4909e-06 - accuracy: 1.0000 - val_loss: 0.3975 - val_accuracy: 0.9000\n",
            "Epoch 35/40\n",
            "5/5 [==============================] - ETA: 0s - loss: 4.2941e-05 - accuracy: 1.0000\n",
            "Epoch 35: val_loss did not improve from 0.01985\n",
            "5/5 [==============================] - 2s 406ms/step - loss: 4.2941e-05 - accuracy: 1.0000 - val_loss: 0.3928 - val_accuracy: 0.9000\n",
            "Epoch 36/40\n",
            "5/5 [==============================] - ETA: 0s - loss: 1.0432e-05 - accuracy: 1.0000\n",
            "Epoch 36: val_loss did not improve from 0.01985\n",
            "5/5 [==============================] - 2s 396ms/step - loss: 1.0432e-05 - accuracy: 1.0000 - val_loss: 0.3872 - val_accuracy: 0.9000\n",
            "Epoch 37/40\n",
            "5/5 [==============================] - ETA: 0s - loss: 3.4737e-04 - accuracy: 1.0000\n",
            "Epoch 37: val_loss did not improve from 0.01985\n",
            "5/5 [==============================] - 2s 401ms/step - loss: 3.4737e-04 - accuracy: 1.0000 - val_loss: 0.4180 - val_accuracy: 0.9000\n",
            "Epoch 38/40\n",
            "5/5 [==============================] - ETA: 0s - loss: 2.1057e-05 - accuracy: 1.0000\n",
            "Epoch 38: val_loss did not improve from 0.01985\n",
            "5/5 [==============================] - 2s 399ms/step - loss: 2.1057e-05 - accuracy: 1.0000 - val_loss: 0.5563 - val_accuracy: 0.9000\n",
            "Epoch 39/40\n",
            "5/5 [==============================] - ETA: 0s - loss: 2.1295e-06 - accuracy: 1.0000\n",
            "Epoch 39: val_loss did not improve from 0.01985\n",
            "5/5 [==============================] - 2s 401ms/step - loss: 2.1295e-06 - accuracy: 1.0000 - val_loss: 0.6404 - val_accuracy: 0.9000\n",
            "Epoch 40/40\n",
            "5/5 [==============================] - ETA: 0s - loss: 1.6967e-04 - accuracy: 1.0000\n",
            "Epoch 40: val_loss did not improve from 0.01985\n",
            "5/5 [==============================] - 2s 404ms/step - loss: 1.6967e-04 - accuracy: 1.0000 - val_loss: 0.6730 - val_accuracy: 0.9000\n",
            "1/1 [==============================] - 0s 143ms/step - loss: 0.3191 - accuracy: 0.9333\n",
            "Test accuracy: 93.33%\n"
          ]
        }
      ]
    },
    {
      "cell_type": "code",
      "source": [
        "trained_model.save(OUT_PATH+'/model')"
      ],
      "metadata": {
        "id": "xKyshKegRG8T",
        "colab": {
          "base_uri": "https://localhost:8080/"
        },
        "outputId": "7c5cbe7a-da56-4eda-c04b-7f85fa2476ba"
      },
      "execution_count": null,
      "outputs": [
        {
          "output_type": "stream",
          "name": "stderr",
          "text": [
            "WARNING:absl:Found untraced functions such as embedding_2_layer_call_fn, embedding_2_layer_call_and_return_conditional_losses, multi_head_attention_2_layer_call_fn, multi_head_attention_2_layer_call_and_return_conditional_losses, layer_normalization_4_layer_call_fn while saving (showing 5 of 20). These functions will not be directly callable after loading.\n",
            "/usr/local/lib/python3.7/dist-packages/keras/engine/functional.py:1410: CustomMaskWarning: Custom mask layers require a config and must override get_config. When loading, the custom mask layer must be passed to the custom_objects argument.\n",
            "  layer_config = serialize_layer_fn(layer)\n",
            "/usr/local/lib/python3.7/dist-packages/keras/saving/saved_model/layer_serialization.py:112: CustomMaskWarning: Custom mask layers require a config and must override get_config. When loading, the custom mask layer must be passed to the custom_objects argument.\n",
            "  return generic_utils.serialize_keras_object(obj)\n"
          ]
        }
      ]
    },
    {
      "cell_type": "code",
      "source": [
        "y_pred = trained_model.predict(x_test)"
      ],
      "metadata": {
        "id": "dMWsv0Z3GJV9"
      },
      "execution_count": null,
      "outputs": []
    },
    {
      "cell_type": "code",
      "source": [
        "print(y_pred.shape)\n",
        "print(y_test.shape)"
      ],
      "metadata": {
        "colab": {
          "base_uri": "https://localhost:8080/"
        },
        "id": "jan6M-cxGsJv",
        "outputId": "590f80c4-ee8d-42b3-b7bc-4f4e1ad1d173"
      },
      "execution_count": null,
      "outputs": [
        {
          "output_type": "stream",
          "name": "stdout",
          "text": [
            "(30, 2)\n",
            "(30,)\n"
          ]
        }
      ]
    },
    {
      "cell_type": "code",
      "source": [
        "y_pred = tf.argmax(y_pred, axis=-1)"
      ],
      "metadata": {
        "id": "5ZsIn9f-G6Hg"
      },
      "execution_count": null,
      "outputs": []
    },
    {
      "cell_type": "code",
      "source": [
        "y_pred"
      ],
      "metadata": {
        "colab": {
          "base_uri": "https://localhost:8080/"
        },
        "id": "0r0njfVNHFBO",
        "outputId": "fc3fdb17-1941-4a99-ed0c-59647e71f395"
      },
      "execution_count": null,
      "outputs": [
        {
          "output_type": "execute_result",
          "data": {
            "text/plain": [
              "<tf.Tensor: shape=(30,), dtype=int64, numpy=\n",
              "array([0, 1, 0, 0, 1, 1, 0, 1, 0, 0, 1, 1, 0, 1, 1, 0, 0, 1, 1, 1, 1, 0,\n",
              "       0, 0, 1, 0, 1, 0, 0, 1])>"
            ]
          },
          "metadata": {},
          "execution_count": 42
        }
      ]
    },
    {
      "cell_type": "code",
      "source": [
        "from numpy import sqrt\n",
        "from numpy import argmax\n",
        "from sklearn.metrics import roc_curve\n",
        "from sklearn.metrics import roc_auc_score\n",
        "from matplotlib import pyplot\n",
        "# keep probabilities for the positive outcome only\n",
        "# calculate scores\n",
        "ns_auc = roc_auc_score(y_test, y_pred)\n",
        "lr_auc = roc_auc_score(y_test, y_pred)\n",
        "# summarize scores\n",
        "print('Logistic: ROC AUC=%.3f' % (lr_auc))\n",
        "# calculate roc curves\n",
        "fpr, tpr, thresholds = roc_curve(y_test, y_pred)\n",
        "# calculate the g-mean for each threshold\n",
        "gmeans = sqrt(tpr * (1-fpr))\n",
        "# locate the index of the largest g-mean\n",
        "ix = argmax(gmeans)\n",
        "print('Best Threshold=%f, G-Mean=%.3f' % (thresholds[ix], gmeans[ix]))\n",
        "# plot the roc curve for the model\n",
        "pyplot.plot(fpr, tpr, marker='.', label='Logistic')\n",
        "pyplot.scatter(fpr[ix], tpr[ix], marker='o', color='black', label='Best')\n",
        "# axis labels\n",
        "pyplot.xlabel('False Positive Rate')\n",
        "pyplot.ylabel('True Positive Rate')\n",
        "pyplot.legend()\n",
        "# show the plot\n",
        "pyplot.show()"
      ],
      "metadata": {
        "colab": {
          "base_uri": "https://localhost:8080/",
          "height": 314
        },
        "id": "ClWLXxPwFj0v",
        "outputId": "8dc2aee4-edeb-437e-94af-2efe316fcdc2"
      },
      "execution_count": null,
      "outputs": [
        {
          "output_type": "stream",
          "name": "stdout",
          "text": [
            "Logistic: ROC AUC=0.933\n",
            "Best Threshold=1.000000, G-Mean=0.933\n"
          ]
        },
        {
          "output_type": "display_data",
          "data": {
            "text/plain": [
              "<Figure size 432x288 with 1 Axes>"
            ],
            "image/png": "[encoded data removed]"
          },
          "metadata": {
            "needs_background": "light"
          }
        }
      ]
    },
    {
      "cell_type": "code",
      "source": [
        "fpr, tpr, threshold = roc_curve(y_test, y_pred, pos_label=1)\n",
        "fnr = 1 - tpr\n",
        "EER = fpr[np.nanargmin(np.absolute((fnr - fpr)))]\n",
        "print('EER: %f' % EER)"
      ],
      "metadata": {
        "colab": {
          "base_uri": "https://localhost:8080/"
        },
        "id": "cmjpoLRSGf_K",
        "outputId": "f5d919f2-76b0-4775-aca1-797a5ff04d88"
      },
      "execution_count": null,
      "outputs": [
        {
          "output_type": "stream",
          "name": "stdout",
          "text": [
            "EER: 0.066667\n"
          ]
        }
      ]
    },
    {
      "cell_type": "code",
      "source": [
        "#y_pred = [1 * (x[0]>=thresholds[ix]) for x in y_pred]\n",
        "con_mat = tf.math.confusion_matrix(labels=y_test, predictions=y_pred).numpy()"
      ],
      "metadata": {
        "id": "4die2ujXHUrm"
      },
      "execution_count": null,
      "outputs": []
    },
    {
      "cell_type": "code",
      "source": [
        "con_mat"
      ],
      "metadata": {
        "colab": {
          "base_uri": "https://localhost:8080/"
        },
        "id": "FBGh9rL2Hbfm",
        "outputId": "c21d461d-68ad-4e81-80ee-b04c8c1d3286"
      },
      "execution_count": null,
      "outputs": [
        {
          "output_type": "execute_result",
          "data": {
            "text/plain": [
              "array([[14,  1],\n",
              "       [ 1, 14]], dtype=int32)"
            ]
          },
          "metadata": {},
          "execution_count": 47
        }
      ]
    },
    {
      "cell_type": "code",
      "source": [
        "con_mat_norm = np.around(con_mat.astype('float') / con_mat.sum(axis=1)[:, np.newaxis], decimals=3)\n",
        " \n",
        "con_mat_df = pd.DataFrame(con_mat_norm,\n",
        "                     index = [0,1], \n",
        "                     columns = [0,1])"
      ],
      "metadata": {
        "id": "jvY6DnHpHnlX"
      },
      "execution_count": null,
      "outputs": []
    },
    {
      "cell_type": "code",
      "source": [
        "figure = plt.figure(figsize=(8, 8))\n",
        "sns.heatmap(con_mat_df, annot=True,cmap=plt.cm.Blues)\n",
        "plt.tight_layout()\n",
        "plt.ylabel('True label')  \n",
        "plt.xlabel('Predicted label')\n",
        "plt.show()"
      ],
      "metadata": {
        "colab": {
          "base_uri": "https://localhost:8080/",
          "height": 599
        },
        "id": "3C7mRPn6Hsgt",
        "outputId": "da866009-5e8b-4d0c-fa7a-c5a3908eb34c"
      },
      "execution_count": null,
      "outputs": [
        {
          "output_type": "display_data",
          "data": {
            "text/plain": [
              "<Figure size 576x576 with 2 Axes>"
            ],
            "image/png": "[encoded data removed]"
          },
          "metadata": {
            "needs_background": "light"
          }
        }
      ]
    },
    {
      "cell_type": "code",
      "source": [
        "acc = (con_mat[0][0] + con_mat[1][1]) / (con_mat[0][0] + con_mat[0][1] + con_mat[1][0] + con_mat[1][1]) \n",
        "print('Accuracy when predicting based on best threshold: %f' % acc)"
      ],
      "metadata": {
        "colab": {
          "base_uri": "https://localhost:8080/"
        },
        "id": "12K27VNGHukq",
        "outputId": "99cdeac9-0793-4517-993b-4eac592ba474"
      },
      "execution_count": null,
      "outputs": [
        {
          "output_type": "stream",
          "name": "stdout",
          "text": [
            "Accuracy when predicting based on best threshold: 0.933333\n"
          ]
        }
      ]
    },
    {
      "cell_type": "code",
      "source": [],
      "metadata": {
        "id": "dpL0omfEHzdR"
      },
      "execution_count": null,
      "outputs": []
    }
  ]
}