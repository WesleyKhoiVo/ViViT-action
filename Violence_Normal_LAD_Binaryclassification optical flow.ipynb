{
  "cells": [
    {
      "cell_type": "code",
      "execution_count": 1,
      "metadata": {
        "execution": {
          "iopub.execute_input": "2022-12-30T14:25:34.347538Z",
          "iopub.status.busy": "2022-12-30T14:25:34.347046Z",
          "iopub.status.idle": "2022-12-30T14:25:40.603017Z",
          "shell.execute_reply": "2022-12-30T14:25:40.601868Z",
          "shell.execute_reply.started": "2022-12-30T14:25:34.347442Z"
        },
        "id": "-E6FptesbZi7",
        "trusted": true
      },
      "outputs": [],
      "source": [
        "import tensorflow as tf\n",
        "from tensorflow import keras\n",
        "import ipywidgets"
      ]
    },
    {
      "cell_type": "code",
      "execution_count": 2,
      "metadata": {
        "colab": {
          "base_uri": "https://localhost:8080/",
          "height": 71
        },
        "execution": {
          "iopub.execute_input": "2022-12-30T14:08:21.337991Z",
          "iopub.status.busy": "2022-12-30T14:08:21.337244Z",
          "iopub.status.idle": "2022-12-30T14:08:21.354381Z",
          "shell.execute_reply": "2022-12-30T14:08:21.353001Z",
          "shell.execute_reply.started": "2022-12-30T14:08:21.337949Z"
        },
        "id": "itk9H3ytMIq3",
        "outputId": "c99b1565-9495-4772-be19-80488f244df0",
        "trusted": true
      },
      "outputs": [
        {
          "name": "stdout",
          "output_type": "stream",
          "text": [
            "Num GPUs Available:  1\n",
            "2.12.0\n"
          ]
        },
        {
          "data": {
            "application/vnd.google.colaboratory.intrinsic+json": {
              "type": "string"
            },
            "text/plain": [
              "'3.10.11 (main, Apr  5 2023, 14:15:10) [GCC 9.4.0]'"
            ]
          },
          "execution_count": 2,
          "metadata": {},
          "output_type": "execute_result"
        }
      ],
      "source": [
        "tf.compat.v1.logging.set_verbosity(tf.compat.v1.logging.ERROR)\n",
        "print(\"Num GPUs Available: \", len(tf.config.experimental.list_physical_devices('GPU')))\n",
        "tf.test.is_built_with_cuda()\n",
        "print(tf.version.VERSION)\n",
        "import sys\n",
        "sys.version"
      ]
    },
    {
      "cell_type": "code",
      "execution_count": null,
      "metadata": {
        "execution": {
          "iopub.execute_input": "2022-12-30T14:15:42.127108Z",
          "iopub.status.busy": "2022-12-30T14:15:42.126682Z",
          "iopub.status.idle": "2022-12-30T14:15:52.144490Z",
          "shell.execute_reply": "2022-12-30T14:15:52.143617Z",
          "shell.execute_reply.started": "2022-12-30T14:15:42.127072Z"
        },
        "id": "drVuKOApbZjB",
        "trusted": true
      },
      "outputs": [],
      "source": [
        "# ! pip install opencv-python"
      ]
    },
    {
      "cell_type": "code",
      "execution_count": 3,
      "metadata": {
        "colab": {
          "base_uri": "https://localhost:8080/"
        },
        "id": "OY2d5EwIbq4Q",
        "outputId": "d7700a15-471c-46b5-8a7d-a1fb85b9505a"
      },
      "outputs": [
        {
          "name": "stdout",
          "output_type": "stream",
          "text": [
            "Drive already mounted at /content/gdrive; to attempt to forcibly remount, call drive.mount(\"/content/gdrive\", force_remount=True).\n"
          ]
        }
      ],
      "source": [
        "from google.colab import drive\n",
        "drive.mount('/content/gdrive')"
      ]
    },
    {
      "attachments": {},
      "cell_type": "markdown",
      "metadata": {
        "id": "3IQLjkXIMIq4"
      },
      "source": [
        "## Imports"
      ]
    },
    {
      "cell_type": "code",
      "execution_count": 4,
      "metadata": {
        "execution": {
          "iopub.execute_input": "2022-12-30T14:25:40.605904Z",
          "iopub.status.busy": "2022-12-30T14:25:40.605115Z",
          "iopub.status.idle": "2022-12-30T14:25:41.379407Z",
          "shell.execute_reply": "2022-12-30T14:25:41.377784Z",
          "shell.execute_reply.started": "2022-12-30T14:25:40.605859Z"
        },
        "id": "LhaEi9ToMIq5",
        "trusted": true
      },
      "outputs": [],
      "source": [
        "import os\n",
        "import io\n",
        "import matplotlib.pyplot as plt\n",
        "import cv2\n",
        "import imageio\n",
        "#import medmnist\n",
        "#import ipywidgets\n",
        "import numpy as np\n",
        "import tensorflow as tf\n",
        "from tensorflow import keras\n",
        "from tensorflow.keras import layers\n",
        "from tensorflow.keras.callbacks import ModelCheckpoint\n",
        "import cv2 as cv\n",
        "import numpy as np\n",
        "import tensorflow as tf\n",
        "from tensorflow import keras\n",
        "from tensorflow.keras import layers\n",
        "from keras.layers import Dense\n",
        "from keras.regularizers import l2\n",
        "from tensorflow.keras.layers import BatchNormalization\n",
        "from tensorflow.keras.regularizers import l2\n",
        "\n",
        "# Setting seed for reproducibility\n",
        "SEED = 42\n",
        "os.environ[\"TF_CUDNN_DETERMINISTIC\"] = \"1\"\n",
        "np.random.seed(SEED)"
      ]
    },
    {
      "attachments": {},
      "cell_type": "markdown",
      "metadata": {
        "id": "WhnaMHXmMIq6"
      },
      "source": [
        "## Hyperparameters\n",
        "\n",
        "The hyperparameters are chosen via hyperparameter\n",
        "search. You can learn more about the process in the \"conclusion\" section."
      ]
    },
    {
      "cell_type": "code",
      "execution_count": 5,
      "metadata": {
        "id": "xn2VF0EY0vf3"
      },
      "outputs": [],
      "source": [
        "#Binray\n",
        "\n",
        "# DATA\n",
        "DATASET_NAME = \"LAD2000\"\n",
        "BATCH_SIZE = 8\n",
        "PATH = '/content/gdrive/MyDrive/All_extracted_frames/LAD2000_Vio_Nor/Vio_nor/'\n",
        "Extraction_Name = ''\n",
        "# AUTO = tf.data.AUTOTUNE\n",
        "INPUT_SHAPE = (75, 75, 14, 2)\n",
        "NUM_CLASSES = 2\n",
        "\n",
        "# OPTIMIZER\n",
        "LEARNING_RATE = 1e-2\n",
        "WEIGHT_DECAY = 1e-5\n",
        "\n",
        "# TRAINING\n",
        "EPOCHS = 50\n",
        "\n",
        "# TUBELET EMBEDDING\n",
        "PATCH_SIZE = (8, 8, 8)\n",
        "NUM_PATCHES = (INPUT_SHAPE[0] // PATCH_SIZE[0]) ** 2\n",
        "\n",
        "# ViViT ARCHITECTURE\n",
        "LAYER_NORM_EPS = 1e-6\n",
        "PROJECTION_DIM = 128\n",
        "NUM_HEADS = 8\n",
        "NUM_LAYERS = 8"
      ]
    },
    {
      "attachments": {},
      "cell_type": "markdown",
      "metadata": {
        "id": "5XIkxzaDmIaH"
      },
      "source": [
        "# Loading original frames"
      ]
    },
    {
      "cell_type": "code",
      "execution_count": null,
      "metadata": {
        "colab": {
          "base_uri": "https://localhost:8080/"
        },
        "id": "C4N3JoYIvbBy",
        "outputId": "21070c81-b216-4a7e-df93-3158d1ea089b"
      },
      "outputs": [
        {
          "name": "stdout",
          "output_type": "stream",
          "text": [
            "X_test_dense_flow.npy  X_Test.npy  y_test_dense_flow.npy  y_test.npy\n"
          ]
        }
      ],
      "source": [
        "! ls '/content/gdrive/MyDrive/All extracted frames/LAD2000_Vio_Nor/Vio_nor/Test'"
      ]
    },
    {
      "cell_type": "code",
      "execution_count": null,
      "metadata": {
        "id": "vFSFdH0E1E-W"
      },
      "outputs": [],
      "source": [
        "X_train, y_train = np.load(PATH + 'Train/X_train.npy', mmap_mode = 'r'), np.load(PATH + 'Train/y_train.npy', mmap_mode = 'r')\n",
        "X_val, y_val = np.load(PATH + 'Val/X_val.npy', mmap_mode = 'r'), np.load(PATH + 'Val/y_val.npy', mmap_mode = 'r')\n",
        "X_test, y_test = np.load(PATH + 'Test/X_Test.npy', mmap_mode = 'r'), np.load(PATH + 'Test/y_test.npy', mmap_mode = 'r')"
      ]
    },
    {
      "cell_type": "code",
      "execution_count": null,
      "metadata": {
        "colab": {
          "base_uri": "https://localhost:8080/"
        },
        "id": "PnE3OckBobuU",
        "outputId": "7b59bc1c-01a9-4374-ef3e-65bf19dedb65"
      },
      "outputs": [
        {
          "data": {
            "text/plain": [
              "(4778, 15, 75, 75, 3)"
            ]
          },
          "execution_count": 8,
          "metadata": {},
          "output_type": "execute_result"
        }
      ],
      "source": [
        "X_train.shape"
      ]
    },
    {
      "cell_type": "code",
      "execution_count": null,
      "metadata": {
        "colab": {
          "base_uri": "https://localhost:8080/"
        },
        "id": "7iT8twYDoi3j",
        "outputId": "684a2d25-0649-4ff2-e80c-4b6763d1c8e2"
      },
      "outputs": [
        {
          "data": {
            "text/plain": [
              "(4778,)"
            ]
          },
          "execution_count": 9,
          "metadata": {},
          "output_type": "execute_result"
        }
      ],
      "source": [
        "y_train.shape"
      ]
    },
    {
      "cell_type": "code",
      "execution_count": null,
      "metadata": {
        "colab": {
          "base_uri": "https://localhost:8080/"
        },
        "id": "xZLlbal6oY5t",
        "outputId": "22c4fd63-0359-466c-f313-b3d9efc2f8c7"
      },
      "outputs": [
        {
          "data": {
            "text/plain": [
              "(1186, 15, 75, 75, 3)"
            ]
          },
          "execution_count": 10,
          "metadata": {},
          "output_type": "execute_result"
        }
      ],
      "source": [
        "X_test.shape"
      ]
    },
    {
      "cell_type": "code",
      "execution_count": null,
      "metadata": {
        "colab": {
          "base_uri": "https://localhost:8080/"
        },
        "id": "wERnhDkLr1CN",
        "outputId": "357954da-9b77-4738-9bcb-8ec3859d1db5"
      },
      "outputs": [
        {
          "data": {
            "text/plain": [
              "(1186,)"
            ]
          },
          "execution_count": 11,
          "metadata": {},
          "output_type": "execute_result"
        }
      ],
      "source": [
        "y_test.shape"
      ]
    },
    {
      "cell_type": "code",
      "execution_count": null,
      "metadata": {
        "colab": {
          "base_uri": "https://localhost:8080/"
        },
        "id": "v8fx1cO9sjyE",
        "outputId": "c3124adc-4a8f-40c5-c6f6-389a07b7485f"
      },
      "outputs": [
        {
          "data": {
            "text/plain": [
              "(1149, 15, 75, 75, 3)"
            ]
          },
          "execution_count": 12,
          "metadata": {},
          "output_type": "execute_result"
        }
      ],
      "source": [
        "X_val.shape"
      ]
    },
    {
      "cell_type": "code",
      "execution_count": null,
      "metadata": {
        "colab": {
          "base_uri": "https://localhost:8080/"
        },
        "id": "eobz6lXRr4OL",
        "outputId": "649d3a97-22c3-407c-e397-a5e839a970c9"
      },
      "outputs": [
        {
          "data": {
            "text/plain": [
              "(1149,)"
            ]
          },
          "execution_count": 13,
          "metadata": {},
          "output_type": "execute_result"
        }
      ],
      "source": [
        "y_val.shape"
      ]
    },
    {
      "cell_type": "code",
      "execution_count": null,
      "metadata": {
        "id": "kuQX-eEV1xHQ"
      },
      "outputs": [],
      "source": [
        "X_train = np.moveaxis(X_train, 1, 3)\n",
        "X_val = np.moveaxis(X_val, 1, 3)\n",
        "X_test = np.moveaxis(X_test, 1, 3)"
      ]
    },
    {
      "attachments": {},
      "cell_type": "markdown",
      "metadata": {
        "id": "sCpdhvtdmR46"
      },
      "source": [
        "#Loading optical flow"
      ]
    },
    {
      "attachments": {},
      "cell_type": "markdown",
      "metadata": {
        "id": "KqZcjfvOKnMi"
      },
      "source": [
        "#Loading sparse optical flow"
      ]
    },
    {
      "cell_type": "code",
      "execution_count": null,
      "metadata": {
        "id": "f6UVU1UU6t3O"
      },
      "outputs": [],
      "source": [
        "# X_train_flow, y_train_flow = np.load(PATH + 'Train/X_train_flow.npy'), np.load(PATH + 'Train/y_train_flow.npy')"
      ]
    },
    {
      "cell_type": "code",
      "execution_count": null,
      "metadata": {
        "colab": {
          "base_uri": "https://localhost:8080/"
        },
        "id": "be_rhn8st6f4",
        "outputId": "cd3cffca-108d-4205-eb61-4ed43dcaa0be"
      },
      "outputs": [
        {
          "data": {
            "text/plain": [
              "(4573, 75, 75, 14, 2)"
            ]
          },
          "execution_count": 7,
          "metadata": {},
          "output_type": "execute_result"
        }
      ],
      "source": [
        "# X_train_flow.shape"
      ]
    },
    {
      "cell_type": "code",
      "execution_count": null,
      "metadata": {
        "colab": {
          "base_uri": "https://localhost:8080/"
        },
        "id": "wxjpzsI_uAXu",
        "outputId": "658f13ff-e204-475c-eb0c-5cfb9c2a83b3"
      },
      "outputs": [
        {
          "data": {
            "text/plain": [
              "(4573,)"
            ]
          },
          "execution_count": 8,
          "metadata": {},
          "output_type": "execute_result"
        }
      ],
      "source": [
        "# y_train_flow.shape"
      ]
    },
    {
      "cell_type": "code",
      "execution_count": null,
      "metadata": {
        "id": "9QtTohO4UMmT"
      },
      "outputs": [],
      "source": [
        "# X_test_flow, y_test_flow = np.load(PATH + 'Test/X_test_flow.npy'), np.load(PATH + 'Test/y_test_flow.npy')"
      ]
    },
    {
      "cell_type": "code",
      "execution_count": null,
      "metadata": {
        "colab": {
          "base_uri": "https://localhost:8080/"
        },
        "id": "oIDiYwaJnSSe",
        "outputId": "daeefc0d-c4ac-43c9-e3e8-137e935f3d12"
      },
      "outputs": [
        {
          "data": {
            "text/plain": [
              "(1345, 75, 75, 14, 2)"
            ]
          },
          "execution_count": 10,
          "metadata": {},
          "output_type": "execute_result"
        }
      ],
      "source": [
        "# X_test_flow.shape"
      ]
    },
    {
      "cell_type": "code",
      "execution_count": null,
      "metadata": {
        "colab": {
          "base_uri": "https://localhost:8080/"
        },
        "id": "O0zCVlD1qOzg",
        "outputId": "e63963e7-9025-4b82-f110-a2708e681363"
      },
      "outputs": [
        {
          "data": {
            "text/plain": [
              "(1345,)"
            ]
          },
          "execution_count": 11,
          "metadata": {},
          "output_type": "execute_result"
        }
      ],
      "source": [
        "# y_test_flow.shape"
      ]
    },
    {
      "cell_type": "code",
      "execution_count": null,
      "metadata": {
        "id": "jeaCeP6fUU7r"
      },
      "outputs": [],
      "source": [
        "# X_val_flow, y_val_flow = np.load(PATH + 'Val/X_val_flow.npy'), np.load(PATH + 'Val/y_val_flow.npy')"
      ]
    },
    {
      "cell_type": "code",
      "execution_count": null,
      "metadata": {
        "colab": {
          "base_uri": "https://localhost:8080/"
        },
        "id": "lCJKUVbcsnJZ",
        "outputId": "dff0f206-9c09-4806-beac-7182bab46ddd"
      },
      "outputs": [
        {
          "data": {
            "text/plain": [
              "(655, 75, 75, 14, 2)"
            ]
          },
          "execution_count": 13,
          "metadata": {},
          "output_type": "execute_result"
        }
      ],
      "source": [
        "# X_val_flow.shape"
      ]
    },
    {
      "cell_type": "code",
      "execution_count": null,
      "metadata": {
        "colab": {
          "base_uri": "https://localhost:8080/"
        },
        "id": "zvdPNUDzl1A-",
        "outputId": "dea823d5-645d-4ce7-e528-af0e70951d33"
      },
      "outputs": [
        {
          "data": {
            "text/plain": [
              "(655,)"
            ]
          },
          "execution_count": 14,
          "metadata": {},
          "output_type": "execute_result"
        }
      ],
      "source": [
        "# y_val_flow.shape"
      ]
    },
    {
      "cell_type": "code",
      "execution_count": null,
      "metadata": {
        "id": "b6y0ZxOGDgom"
      },
      "outputs": [],
      "source": [
        "# dim = X_val_flow.shape[1:]"
      ]
    },
    {
      "cell_type": "code",
      "execution_count": null,
      "metadata": {
        "colab": {
          "base_uri": "https://localhost:8080/"
        },
        "id": "urJUVSEwRFiL",
        "outputId": "b876eff0-f12f-426b-98f1-bf0f1f04d03d"
      },
      "outputs": [
        {
          "data": {
            "text/plain": [
              "(4573, 75, 75, 14, 2)"
            ]
          },
          "execution_count": 16,
          "metadata": {},
          "output_type": "execute_result"
        }
      ],
      "source": [
        "# X_train_flow.shape"
      ]
    },
    {
      "cell_type": "code",
      "execution_count": null,
      "metadata": {
        "colab": {
          "base_uri": "https://localhost:8080/"
        },
        "id": "5XtdlWg2DLFx",
        "outputId": "2d72fb94-6e14-4206-a8f6-c5b98d89deba"
      },
      "outputs": [
        {
          "data": {
            "text/plain": [
              "(655, 75, 75, 14, 2)"
            ]
          },
          "execution_count": 17,
          "metadata": {},
          "output_type": "execute_result"
        }
      ],
      "source": [
        "# X_val_flow.shape"
      ]
    },
    {
      "cell_type": "code",
      "execution_count": null,
      "metadata": {
        "colab": {
          "base_uri": "https://localhost:8080/"
        },
        "id": "VbFq-0GrT-XZ",
        "outputId": "49a07dfb-a55c-415f-ba1c-431b1281208a"
      },
      "outputs": [
        {
          "data": {
            "text/plain": [
              "(1345, 75, 75, 14, 2)"
            ]
          },
          "execution_count": 18,
          "metadata": {},
          "output_type": "execute_result"
        }
      ],
      "source": [
        "# X_test_flow.shape"
      ]
    },
    {
      "cell_type": "code",
      "execution_count": null,
      "metadata": {
        "colab": {
          "base_uri": "https://localhost:8080/"
        },
        "id": "GwoRDuTAb9ao",
        "outputId": "36af6877-0b88-48a0-b85e-1ba95440400d"
      },
      "outputs": [
        {
          "data": {
            "text/plain": [
              "(75, 75, 14, 2)"
            ]
          },
          "execution_count": 19,
          "metadata": {},
          "output_type": "execute_result"
        }
      ],
      "source": [
        "# dim"
      ]
    },
    {
      "attachments": {},
      "cell_type": "markdown",
      "metadata": {
        "id": "nNjDX4STKjbZ"
      },
      "source": [
        "#Loading dense optical flow"
      ]
    },
    {
      "cell_type": "code",
      "execution_count": 6,
      "metadata": {
        "id": "d72eg5XmKKDU"
      },
      "outputs": [],
      "source": [
        "X_train_flow, y_train_flow = np.load(PATH + 'Train/X_train_dense_flow.npy', mmap_mode='r'), np.load(PATH + 'Train/y_train_dense_flow.npy', mmap_mode = 'r')"
      ]
    },
    {
      "cell_type": "code",
      "execution_count": 7,
      "metadata": {
        "colab": {
          "base_uri": "https://localhost:8080/"
        },
        "id": "-olwe0iYK6cy",
        "outputId": "b527d2f9-be0c-4c4e-b101-c47a0703dfca"
      },
      "outputs": [
        {
          "name": "stdout",
          "output_type": "stream",
          "text": [
            "(4778, 75, 75, 14, 2) (4778,)\n"
          ]
        }
      ],
      "source": [
        "print(X_train_flow.shape, y_train_flow.shape)"
      ]
    },
    {
      "cell_type": "code",
      "execution_count": 7,
      "metadata": {
        "id": "ZaKRim3iLXS6"
      },
      "outputs": [],
      "source": [
        "X_test_flow, y_test_flow = np.load(PATH + 'Test/X_test_dense_flow.npy', mmap_mode='r'), np.load(PATH + 'Test/y_test_dense_flow.npy', mmap_mode = 'r')"
      ]
    },
    {
      "cell_type": "code",
      "execution_count": 9,
      "metadata": {
        "colab": {
          "base_uri": "https://localhost:8080/"
        },
        "id": "1orNuYsELeDG",
        "outputId": "558b56f7-7536-4a8f-a01c-ec7c69895843"
      },
      "outputs": [
        {
          "name": "stdout",
          "output_type": "stream",
          "text": [
            "(1186, 75, 75, 14, 2) (1186,)\n"
          ]
        }
      ],
      "source": [
        "print(X_test_flow.shape, y_test_flow.shape)"
      ]
    },
    {
      "cell_type": "code",
      "execution_count": 8,
      "metadata": {
        "id": "JxJe9P9BLg-M"
      },
      "outputs": [],
      "source": [
        "X_val_flow, y_val_flow = np.load(PATH + 'Val/X_val_dense_flow.npy', mmap_mode='r'), np.load(PATH + 'Val/y_val_dense_flow.npy', mmap_mode = 'r')"
      ]
    },
    {
      "cell_type": "code",
      "execution_count": 11,
      "metadata": {
        "colab": {
          "base_uri": "https://localhost:8080/"
        },
        "id": "vg_ByOyPhk1G",
        "outputId": "2a255cba-627e-44a1-8b6f-35ecba0bbb55"
      },
      "outputs": [
        {
          "name": "stdout",
          "output_type": "stream",
          "text": [
            "(1149, 75, 75, 14, 2) (1149,)\n"
          ]
        }
      ],
      "source": [
        "print(X_val_flow.shape, y_val_flow.shape)"
      ]
    },
    {
      "cell_type": "code",
      "execution_count": 12,
      "metadata": {
        "id": "hJJ4Ju2zK2e7"
      },
      "outputs": [],
      "source": [
        "dim = X_val_flow.shape[1:]"
      ]
    },
    {
      "cell_type": "code",
      "execution_count": 13,
      "metadata": {
        "colab": {
          "base_uri": "https://localhost:8080/"
        },
        "id": "1DAe3pZyLsl2",
        "outputId": "f69b851b-e6a4-4c20-8ffd-15587f83892b"
      },
      "outputs": [
        {
          "data": {
            "text/plain": [
              "(75, 75, 14, 2)"
            ]
          },
          "execution_count": 13,
          "metadata": {},
          "output_type": "execute_result"
        }
      ],
      "source": [
        "dim"
      ]
    },
    {
      "attachments": {},
      "cell_type": "markdown",
      "metadata": {
        "id": "aRQzU1JUrDBD"
      },
      "source": [
        "#Binary with MM model\n"
      ]
    },
    {
      "cell_type": "code",
      "execution_count": 14,
      "metadata": {
        "id": "izhwK8SErRVu"
      },
      "outputs": [],
      "source": [
        "import os\n",
        "import sys\n",
        "import cv2\n",
        "import zipfile\n",
        "import numpy as np\n",
        "import imageio\n",
        "import matplotlib.pyplot as plt\n",
        "import tensorflow as tf\n",
        "from sklearn import svm\n",
        "from sklearn.model_selection import train_test_split\n",
        "# from tensorflow_docs.vis import embed\n",
        "from tensorflow import keras\n",
        "from imutils import paths\n",
        "from tensorflow.keras import layers, models"
      ]
    },
    {
      "cell_type": "code",
      "execution_count": 16,
      "metadata": {
        "id": "wZzo7zQEwPwl"
      },
      "outputs": [],
      "source": [
        "model = models.Sequential()\n",
        "model.add(layers.BatchNormalization())\n",
        "model.add(layers.Conv3D(32, kernel_size=(3, 3, 1), activation='relu', kernel_initializer='he_uniform', data_format='channels_last', input_shape=dim))\n",
        "model.add(layers.MaxPooling3D((2, 2, 1)))\n",
        "model.add(layers.BatchNormalization())\n",
        "model.add(layers.Conv3D(32, kernel_size=(3, 3, 2), activation='relu', kernel_initializer='he_uniform'))\n",
        "model.add(layers.MaxPooling3D((3, 3, 1)))\n",
        "model.add(layers.BatchNormalization())\n",
        "model.add(layers.Conv3D(32, kernel_size=(3, 3, 1), activation='relu', kernel_initializer='he_uniform'))\n",
        "model.add(layers.MaxPooling3D((2, 2, 1)))\n",
        "model.add(layers.BatchNormalization())\n",
        "model.add(layers.Flatten())\n",
        "model.add(layers.Dropout(0.5))\n",
        "model.add(layers.Dense(4096, activation='relu'))\n",
        "model.add(layers.Dense(1024, activation='relu'))\n",
        "model.add(layers.BatchNormalization())\n",
        "model.add(layers.Dropout(0.5))\n",
        "model.add(layers.Dense(256, activation='relu'))\n",
        "model.add(layers.Dense(16, activation='relu'))\n",
        "model.add(layers.BatchNormalization())\n",
        "model.add(layers.Dense(1, activation='sigmoid'))"
      ]
    },
    {
      "cell_type": "code",
      "execution_count": 17,
      "metadata": {
        "colab": {
          "base_uri": "https://localhost:8080/"
        },
        "id": "MYVmrrfHwSfn",
        "outputId": "27a174d4-5bd8-452d-8a03-d6a81592947b"
      },
      "outputs": [
        {
          "name": "stdout",
          "output_type": "stream",
          "text": [
            "Epoch 1/50\n",
            "598/598 [==============================] - 47s 52ms/step - loss: 0.6892 - accuracy: 0.5793 - val_loss: 0.6865 - val_accuracy: 0.5648\n",
            "Epoch 2/50\n",
            "598/598 [==============================] - 27s 45ms/step - loss: 0.6533 - accuracy: 0.6151 - val_loss: 0.6880 - val_accuracy: 0.5840\n",
            "Epoch 3/50\n",
            "598/598 [==============================] - 26s 44ms/step - loss: 0.6366 - accuracy: 0.6369 - val_loss: 0.7134 - val_accuracy: 0.5614\n",
            "Epoch 4/50\n",
            "598/598 [==============================] - 26s 43ms/step - loss: 0.6131 - accuracy: 0.6624 - val_loss: 0.6934 - val_accuracy: 0.5962\n",
            "Epoch 5/50\n",
            "598/598 [==============================] - 27s 45ms/step - loss: 0.5968 - accuracy: 0.6781 - val_loss: 0.6897 - val_accuracy: 0.5944\n",
            "Epoch 6/50\n",
            "598/598 [==============================] - 27s 45ms/step - loss: 0.5716 - accuracy: 0.6936 - val_loss: 0.7502 - val_accuracy: 0.5640\n",
            "Epoch 7/50\n",
            "598/598 [==============================] - 26s 43ms/step - loss: 0.5358 - accuracy: 0.7200 - val_loss: 0.7027 - val_accuracy: 0.5814\n",
            "Epoch 8/50\n",
            "598/598 [==============================] - 26s 43ms/step - loss: 0.5194 - accuracy: 0.7382 - val_loss: 0.7365 - val_accuracy: 0.5875\n",
            "Epoch 9/50\n",
            "598/598 [==============================] - 26s 43ms/step - loss: 0.4982 - accuracy: 0.7537 - val_loss: 0.7492 - val_accuracy: 0.5875\n",
            "Epoch 10/50\n",
            "598/598 [==============================] - 26s 43ms/step - loss: 0.4601 - accuracy: 0.7800 - val_loss: 0.8122 - val_accuracy: 0.5631\n",
            "Epoch 11/50\n",
            "598/598 [==============================] - 27s 45ms/step - loss: 0.4586 - accuracy: 0.7792 - val_loss: 0.7481 - val_accuracy: 0.5875\n",
            "Epoch 12/50\n",
            "598/598 [==============================] - 26s 43ms/step - loss: 0.4174 - accuracy: 0.8072 - val_loss: 0.7895 - val_accuracy: 0.5762\n",
            "Epoch 13/50\n",
            "598/598 [==============================] - 26s 43ms/step - loss: 0.4207 - accuracy: 0.8043 - val_loss: 0.7999 - val_accuracy: 0.5413\n",
            "Epoch 14/50\n",
            "598/598 [==============================] - 26s 43ms/step - loss: 0.3764 - accuracy: 0.8298 - val_loss: 0.8330 - val_accuracy: 0.5709\n",
            "Epoch 15/50\n",
            "598/598 [==============================] - 27s 45ms/step - loss: 0.3508 - accuracy: 0.8434 - val_loss: 0.7933 - val_accuracy: 0.6040\n",
            "Epoch 16/50\n",
            "598/598 [==============================] - 26s 43ms/step - loss: 0.3235 - accuracy: 0.8617 - val_loss: 0.9073 - val_accuracy: 0.5866\n",
            "Epoch 17/50\n",
            "598/598 [==============================] - 26s 43ms/step - loss: 0.3241 - accuracy: 0.8614 - val_loss: 0.9243 - val_accuracy: 0.5831\n",
            "Epoch 18/50\n",
            "598/598 [==============================] - 26s 43ms/step - loss: 0.3051 - accuracy: 0.8709 - val_loss: 0.9429 - val_accuracy: 0.5857\n",
            "Epoch 19/50\n",
            "598/598 [==============================] - 26s 43ms/step - loss: 0.3201 - accuracy: 0.8571 - val_loss: 0.9314 - val_accuracy: 0.5622\n",
            "Epoch 20/50\n",
            "598/598 [==============================] - 26s 43ms/step - loss: 0.2681 - accuracy: 0.8878 - val_loss: 1.0107 - val_accuracy: 0.5683\n",
            "Epoch 21/50\n",
            "598/598 [==============================] - 27s 44ms/step - loss: 0.2605 - accuracy: 0.8951 - val_loss: 0.9467 - val_accuracy: 0.5701\n",
            "Epoch 22/50\n",
            "598/598 [==============================] - 26s 43ms/step - loss: 0.2439 - accuracy: 0.8997 - val_loss: 1.0111 - val_accuracy: 0.5849\n",
            "Epoch 23/50\n",
            "598/598 [==============================] - 27s 45ms/step - loss: 0.2336 - accuracy: 0.9090 - val_loss: 1.0905 - val_accuracy: 0.5509\n",
            "Epoch 24/50\n",
            "598/598 [==============================] - 27s 45ms/step - loss: 0.2168 - accuracy: 0.9165 - val_loss: 1.0011 - val_accuracy: 0.5596\n",
            "Epoch 25/50\n",
            "598/598 [==============================] - 27s 44ms/step - loss: 0.2000 - accuracy: 0.9267 - val_loss: 1.1073 - val_accuracy: 0.5770\n",
            "Epoch 26/50\n",
            "598/598 [==============================] - 27s 45ms/step - loss: 0.1928 - accuracy: 0.9259 - val_loss: 1.1168 - val_accuracy: 0.5805\n",
            "Epoch 27/50\n",
            "598/598 [==============================] - 26s 43ms/step - loss: 0.1862 - accuracy: 0.9330 - val_loss: 1.0624 - val_accuracy: 0.5979\n",
            "Epoch 28/50\n",
            "598/598 [==============================] - 26s 43ms/step - loss: 0.1640 - accuracy: 0.9393 - val_loss: 1.2313 - val_accuracy: 0.5762\n",
            "Epoch 29/50\n",
            "598/598 [==============================] - 26s 43ms/step - loss: 0.1628 - accuracy: 0.9433 - val_loss: 1.1062 - val_accuracy: 0.5762\n",
            "Epoch 30/50\n",
            "598/598 [==============================] - 27s 45ms/step - loss: 0.1555 - accuracy: 0.9433 - val_loss: 1.2836 - val_accuracy: 0.5814\n",
            "Epoch 31/50\n",
            "598/598 [==============================] - 27s 45ms/step - loss: 0.1271 - accuracy: 0.9558 - val_loss: 1.3276 - val_accuracy: 0.5579\n",
            "Epoch 32/50\n",
            "598/598 [==============================] - 26s 43ms/step - loss: 0.1368 - accuracy: 0.9514 - val_loss: 1.1971 - val_accuracy: 0.5970\n",
            "Epoch 33/50\n",
            "598/598 [==============================] - 27s 45ms/step - loss: 0.1270 - accuracy: 0.9544 - val_loss: 1.2073 - val_accuracy: 0.5840\n",
            "Epoch 34/50\n",
            "598/598 [==============================] - 26s 43ms/step - loss: 0.1369 - accuracy: 0.9550 - val_loss: 1.1506 - val_accuracy: 0.5883\n",
            "Epoch 35/50\n",
            "598/598 [==============================] - 27s 44ms/step - loss: 0.1137 - accuracy: 0.9636 - val_loss: 1.2031 - val_accuracy: 0.5892\n",
            "Epoch 36/50\n",
            "598/598 [==============================] - 27s 44ms/step - loss: 0.1054 - accuracy: 0.9680 - val_loss: 1.2953 - val_accuracy: 0.5770\n",
            "Epoch 37/50\n",
            "598/598 [==============================] - 26s 43ms/step - loss: 0.0974 - accuracy: 0.9678 - val_loss: 1.2171 - val_accuracy: 0.5840\n",
            "Epoch 38/50\n",
            "598/598 [==============================] - 27s 46ms/step - loss: 0.1227 - accuracy: 0.9621 - val_loss: 1.4377 - val_accuracy: 0.5474\n",
            "Epoch 39/50\n",
            "598/598 [==============================] - 27s 44ms/step - loss: 0.0959 - accuracy: 0.9709 - val_loss: 1.4358 - val_accuracy: 0.5413\n",
            "Epoch 40/50\n",
            "598/598 [==============================] - 27s 44ms/step - loss: 0.0803 - accuracy: 0.9761 - val_loss: 1.2985 - val_accuracy: 0.5901\n",
            "Epoch 41/50\n",
            "598/598 [==============================] - 27s 45ms/step - loss: 0.0867 - accuracy: 0.9740 - val_loss: 1.4328 - val_accuracy: 0.5849\n",
            "Epoch 42/50\n",
            "598/598 [==============================] - 27s 45ms/step - loss: 0.0805 - accuracy: 0.9761 - val_loss: 1.5243 - val_accuracy: 0.5344\n",
            "Epoch 43/50\n",
            "598/598 [==============================] - 27s 44ms/step - loss: 0.0716 - accuracy: 0.9803 - val_loss: 1.5273 - val_accuracy: 0.5727\n",
            "Epoch 44/50\n",
            "598/598 [==============================] - 27s 44ms/step - loss: 0.0639 - accuracy: 0.9826 - val_loss: 1.3814 - val_accuracy: 0.5683\n",
            "Epoch 45/50\n",
            "598/598 [==============================] - 27s 45ms/step - loss: 0.0884 - accuracy: 0.9734 - val_loss: 1.2500 - val_accuracy: 0.5674\n",
            "Epoch 46/50\n",
            "598/598 [==============================] - 27s 45ms/step - loss: 0.0532 - accuracy: 0.9847 - val_loss: 1.3292 - val_accuracy: 0.5927\n",
            "Epoch 47/50\n",
            "598/598 [==============================] - 27s 45ms/step - loss: 0.0734 - accuracy: 0.9780 - val_loss: 1.5379 - val_accuracy: 0.5805\n",
            "Epoch 48/50\n",
            "598/598 [==============================] - 26s 44ms/step - loss: 0.1051 - accuracy: 0.9674 - val_loss: 1.2735 - val_accuracy: 0.5883\n",
            "Epoch 49/50\n",
            "598/598 [==============================] - 26s 43ms/step - loss: 0.0857 - accuracy: 0.9768 - val_loss: 1.3938 - val_accuracy: 0.5805\n",
            "Epoch 50/50\n",
            "598/598 [==============================] - 27s 44ms/step - loss: 0.0628 - accuracy: 0.9803 - val_loss: 1.5206 - val_accuracy: 0.5805\n"
          ]
        }
      ],
      "source": [
        "model.compile(loss=tf.keras.losses.BinaryCrossentropy(from_logits=False),\n",
        "              optimizer=tf.keras.optimizers.Adam(learning_rate=0.00025),\n",
        "              metrics=['accuracy'])\n",
        "\n",
        "history = model.fit(X_train_flow, y_train_flow,\n",
        "                    batch_size=8,\n",
        "                    epochs=50,\n",
        "                    validation_data=(X_val_flow, y_val_flow),\n",
        "                    shuffle=True)\n",
        "\n"
      ]
    },
    {
      "cell_type": "code",
      "execution_count": 24,
      "metadata": {
        "id": "VjstZFzW6778"
      },
      "outputs": [],
      "source": [
        "testing_generator = DataGenerator(X_test_flow, y_test_flow)"
      ]
    },
    {
      "cell_type": "code",
      "execution_count": 25,
      "metadata": {
        "colab": {
          "base_uri": "https://localhost:8080/"
        },
        "id": "92SboKHKFeUy",
        "outputId": "1ff87403-e74c-4831-a5ca-afe1ddd9da7d"
      },
      "outputs": [
        {
          "name": "stdout",
          "output_type": "stream",
          "text": [
            "148/148 [==============================] - 3s 14ms/step - loss: 1.2853 - accuracy: 0.6284\n"
          ]
        },
        {
          "data": {
            "text/plain": [
              "[1.285257339477539, 0.6283783912658691]"
            ]
          },
          "execution_count": 25,
          "metadata": {},
          "output_type": "execute_result"
        }
      ],
      "source": [
        "model.evaluate(testing_generator)"
      ]
    },
    {
      "cell_type": "code",
      "execution_count": 18,
      "metadata": {
        "colab": {
          "base_uri": "https://localhost:8080/"
        },
        "id": "Pz_TJBX76735",
        "outputId": "91adf102-dde4-46c7-b35b-c9263358579d"
      },
      "outputs": [
        {
          "name": "stdout",
          "output_type": "stream",
          "text": [
            "38/38 [==============================] - 2s 40ms/step - loss: 1.2835 - accuracy: 0.6290\n"
          ]
        },
        {
          "data": {
            "text/plain": [
              "[1.2835150957107544, 0.6290050745010376]"
            ]
          },
          "execution_count": 18,
          "metadata": {},
          "output_type": "execute_result"
        }
      ],
      "source": [
        "model.evaluate(X_test_flow, y_test_flow)"
      ]
    },
    {
      "cell_type": "code",
      "execution_count": 28,
      "metadata": {
        "colab": {
          "base_uri": "https://localhost:8080/",
          "height": 466
        },
        "id": "ZcV3F5lO67w4",
        "outputId": "7d0910a0-b859-4494-9400-372d3a33ded3"
      },
      "outputs": [
        {
          "name": "stdout",
          "output_type": "stream",
          "text": [
            "38/38 [==============================] - 1s 38ms/step\n"
          ]
        },
        {
          "data": {
            "image/png": "[encoded data removed]",
            "text/plain": [
              "<Figure size 640x480 with 2 Axes>"
            ]
          },
          "metadata": {},
          "output_type": "display_data"
        }
      ],
      "source": [
        "from sklearn.metrics import confusion_matrix\n",
        "import matplotlib.pyplot as plt\n",
        "import numpy as np\n",
        "\n",
        "classes = [0, 1]\n",
        "# assuming you have already made predictions and have ground truth labels\n",
        "y_pred = model.predict(X_test_flow)\n",
        "y_pred_classes = np.argmax(y_pred,axis = 1) \n",
        "y_true = np.argmax(y_test_flow,axis = 1)\n",
        "\n",
        "# compute the confusion matrix\n",
        "confusion_mtx = confusion_matrix(y_true, y_pred_classes) \n",
        "\n",
        "# plot the confusion matrix\n",
        "plt.imshow(confusion_mtx, interpolation='nearest', cmap=plt.cm.Blues)\n",
        "plt.colorbar()\n",
        "tick_marks = np.arange(len(classes))\n",
        "plt.xticks(tick_marks, classes)\n",
        "plt.yticks(tick_marks, classes)\n",
        "plt.xlabel('Predicted label')\n",
        "plt.ylabel('True label')\n",
        "plt.show()"
      ]
    },
    {
      "attachments": {},
      "cell_type": "markdown",
      "metadata": {
        "id": "ITWTUCAJEpGY"
      },
      "source": [
        "#Reducing Model complexity"
      ]
    },
    {
      "cell_type": "code",
      "execution_count": null,
      "metadata": {
        "id": "75zN_f__rJ5Z"
      },
      "outputs": [],
      "source": [
        "# model = models.Sequential()\n",
        "# model.add(layers.BatchNormalization())\n",
        "# model.add(layers.Conv3D(32, kernel_size=(3, 3, 1), activation='relu', kernel_initializer='he_uniform', data_format='channels_last', input_shape=dim))\n",
        "# model.add(layers.MaxPooling3D((2, 2, 1)))\n",
        "# model.add(layers.BatchNormalization())\n",
        "# model.add(layers.Flatten())\n",
        "# model.add(layers.Dropout(0.5))\n",
        "# model.add(layers.Dense(256, activation='relu'))\n",
        "# model.add(layers.BatchNormalization())\n",
        "# model.add(layers.Dropout(0.5))\n",
        "# model.add(layers.Dense(1, activation='sigmoid'))\n"
      ]
    },
    {
      "cell_type": "code",
      "execution_count": null,
      "metadata": {
        "id": "51YY-4dclRQv"
      },
      "outputs": [],
      "source": [
        "# model.compile(loss=tf.keras.losses.BinaryCrossentropy(from_logits=False),\n",
        "#               optimizer=tf.keras.optimizers.Adam(learning_rate=0.00025),\n",
        "#               metrics=['accuracy'])\n",
        "\n",
        "# history = model.fit(X_train_flow, y_train_flow,\n",
        "#                     batch_size=8,\n",
        "#                     epochs=50,\n",
        "#                     validation_data=(X_test_flow, y_test_flow),\n",
        "#                     shuffle=True)\n",
        "\n"
      ]
    },
    {
      "cell_type": "code",
      "execution_count": null,
      "metadata": {
        "collapsed": true,
        "id": "EhgH9rmfrNaQ"
      },
      "outputs": [],
      "source": [
        "\n",
        "\n",
        "# model.compile(loss=tf.keras.losses.BinaryCrossentropy(from_logits=False),\n",
        "#               optimizer=tf.keras.optimizers.Adam(learning_rate=0.00025),\n",
        "#               metrics=['accuracy'])\n",
        "\n",
        "# history = model.fit(X_val_flow, y_val_flow,\n",
        "#                     batch_size=8,\n",
        "#                     epochs=50,\n",
        "#                     validation_data=(X_test_flow, y_test_flow),\n",
        "#                     shuffle=True)\n",
        "\n"
      ]
    },
    {
      "cell_type": "code",
      "execution_count": null,
      "metadata": {
        "id": "f0lkzfX7kw0T"
      },
      "outputs": [],
      "source": [
        "# # Replace \"model.h5\" with the name of your model file\n",
        "# model.save('/content/gdrive/MyDrive/Final_models/MM_model_val_test')"
      ]
    },
    {
      "attachments": {},
      "cell_type": "markdown",
      "metadata": {
        "id": "P_XGA2IZMIq-"
      },
      "source": [
        "### `tf.data` pipeline"
      ]
    },
    {
      "cell_type": "code",
      "execution_count": null,
      "metadata": {
        "cellView": "form",
        "id": "g_xlCyrVbZjY"
      },
      "outputs": [],
      "source": [
        "#@title\n",
        "# import numpy as np\n",
        "# import cv2\n",
        "# from tensorflow.keras.utils import Sequence\n",
        "\n",
        "\n",
        "# class DataGenerator(Sequence):\n",
        "#     def __init__(self, list_IDs, labels,\n",
        "#                  to_fit=True, batch_size=BATCH_SIZE, dim=(75, 75, 15),\n",
        "#                  n_channels=3, n_classes=2, shuffle=True):\n",
        "#         self.list_IDs = list_IDs\n",
        "#         self.labels = labels\n",
        "#         self.to_fit = to_fit\n",
        "#         self.batch_size = batch_size\n",
        "#         self.dim = dim\n",
        "#         self.n_channels = n_channels\n",
        "#         self.n_classes = n_classes\n",
        "#         self.shuffle = shuffle\n",
        "#         self.on_epoch_end()\n",
        "\n",
        "#     def __len__(self):\n",
        "#         \"\"\"Denotes the number of batches per epoch\n",
        "#         :return: number of batches per epoch\n",
        "#         \"\"\"\n",
        "#         return int(np.floor(len(self.list_IDs) / self.batch_size))\n",
        "\n",
        "#     def __getitem__(self, index):\n",
        "#         \"\"\"Generate one batch of data\n",
        "#         :param index: index of the batch\n",
        "#         :return: X and y when fitting. X only when predicting\n",
        "#         \"\"\"\n",
        "#         # Generate indexes of the batch\n",
        "#         indexes = self.indexes[index * self.batch_size:(index + 1) * self.batch_size]\n",
        "\n",
        "#         # Find list of IDs\n",
        "#         list_IDs_temp = [self.list_IDs[k] for k in indexes]\n",
        "\n",
        "#         # Generate data\n",
        "#         X = self._generate_X(list_IDs_temp)\n",
        "\n",
        "#         if self.to_fit:\n",
        "#             y = self._generate_y(list_IDs_temp)\n",
        "#             return X, y\n",
        "#         else:\n",
        "#             return X\n",
        "\n",
        "#     def on_epoch_end(self):\n",
        "#         \"\"\"Updates indexes after each epoch\n",
        "#         \"\"\"\n",
        "#         self.indexes = np.arange(len(self.list_IDs))\n",
        "#         if self.shuffle == True:\n",
        "#             np.random.shuffle(self.indexes)\n",
        "\n",
        "#     def _generate_X(self, list_IDs_temp):\n",
        "#         \"\"\"Generates data containing batch_size images\n",
        "#         :param list_IDs_temp: list of label ids to load\n",
        "#         :return: batch of images\n",
        "#         \"\"\"\n",
        "#         # Initialization\n",
        "#         X = np.empty((self.batch_size, *self.dim, self.n_channels))\n",
        "\n",
        "#         # Generate data\n",
        "#         for i, ID in enumerate(list_IDs_temp):\n",
        "#             # Load RGB image\n",
        "#             img = cv2.imread(self.image_path + self.labels[ID])\n",
        "#             # Resize image\n",
        "#             img = cv2.resize(img, (self.dim[0], self.dim[1]))\n",
        "#             # Add channel dimension\n",
        "#             img = np.expand_dims(img, axis=-1)\n",
        "#             # Store sample\n",
        "#             X[i,] = img\n",
        "\n",
        "#         return X\n",
        "\n",
        "#     def _generate_y(self, list_IDs_temp):\n",
        "#         \"\"\"Generates data containing batch_size masks\n",
        "#         :param list_IDs_temp: list of label ids to load\n",
        "#         :return: batch if masks\n",
        "#         \"\"\"\n",
        "#         y = np.empty((self.batch_size, *self.dim), dtype=int)\n",
        "\n",
        "#         # Generate data\n",
        "#         for i, ID in enumerate(list_IDs_temp):\n",
        "#             # Store sample\n",
        "#             y[i,] = self._load_grayscale_image(self.mask_path + self.labels[ID])\n",
        "\n",
        "#         return y\n",
        "# training_generator = DataGenerator(X_train, y_train)\n",
        "# validation_generator = DataGenerator(X_val, y_val)"
      ]
    },
    {
      "attachments": {},
      "cell_type": "markdown",
      "metadata": {
        "id": "jmxEmSWdE1Pc"
      },
      "source": [
        "#VIVIT Model"
      ]
    },
    {
      "cell_type": "code",
      "execution_count": 9,
      "metadata": {
        "id": "qNd5V_5GtB4u"
      },
      "outputs": [],
      "source": [
        "from tensorflow.keras.utils import to_categorical\n",
        "\n",
        "y_train_flow = to_categorical(y_train_flow, 2)\n",
        "y_val_flow = to_categorical(y_val_flow, 2)\n",
        "y_test_flow = to_categorical(y_test_flow, 2)"
      ]
    },
    {
      "cell_type": "code",
      "execution_count": 10,
      "metadata": {
        "id": "DGUqwLtKEGnR"
      },
      "outputs": [],
      "source": [
        "class DataGenerator(keras.utils.Sequence):\n",
        "\n",
        "    def __init__(self, x_in, y_in, batch_size=BATCH_SIZE, shuffle=True):\n",
        "        # Initialization\n",
        "        self.batch_size = batch_size\n",
        "        self.shuffle = shuffle\n",
        "        self.x = x_in\n",
        "        self.y = y_in\n",
        "        self.datalen = len(y_in)\n",
        "        self.indexes = np.arange(self.datalen)\n",
        "        if self.shuffle:\n",
        "            np.random.shuffle(self.indexes)\n",
        "\n",
        "    def __getitem__(self, index):\n",
        "        # get batch indexes from shuffled indexes\n",
        "        batch_indexes = self.indexes[index*self.batch_size:(index+1)*self.batch_size]\n",
        "        x_batch = self.x[batch_indexes]\n",
        "        y_batch = self.y[batch_indexes]\n",
        "        return x_batch, y_batch\n",
        "    \n",
        "    def __len__(self):\n",
        "        # Denotes the number of batches per epoch\n",
        "        return self.datalen // self.batch_size\n",
        "\n",
        "    def on_epoch_end(self):\n",
        "        # Updates indexes after each epoch\n",
        "        self.indexes = np.arange(self.datalen)\n",
        "        if self.shuffle:\n",
        "            np.random.shuffle(self.indexes)\n",
        "\n",
        "#training_generator = DataGenerator(X_train_flow, y_train_flow)\n",
        "#validation_generator = DataGenerator(X_val_flow, y_val_flow)"
      ]
    },
    {
      "cell_type": "code",
      "execution_count": 11,
      "metadata": {
        "id": "igqdpz27MIq_"
      },
      "outputs": [],
      "source": [
        "\n",
        "class TubeletEmbedding(layers.Layer):\n",
        "    def __init__(self, embed_dim, patch_size, **kwargs):\n",
        "        super().__init__(**kwargs)\n",
        "        self.projection = layers.Conv3D(\n",
        "            filters=embed_dim,\n",
        "            kernel_size=patch_size,\n",
        "            strides=patch_size,\n",
        "            padding=\"VALID\",\n",
        "        )\n",
        "        self.flatten = layers.Reshape(target_shape=(-1, embed_dim))\n",
        "\n",
        "    def call(self, videos):\n",
        "        projected_patches = self.projection(videos)\n",
        "        flattened_patches = self.flatten(projected_patches)\n",
        "        return flattened_patches\n"
      ]
    },
    {
      "cell_type": "code",
      "execution_count": 12,
      "metadata": {
        "id": "9P4kswaIMIrA"
      },
      "outputs": [],
      "source": [
        "\n",
        "class PositionalEncoder(layers.Layer):\n",
        "    def __init__(self, embed_dim, **kwargs):\n",
        "        super().__init__(**kwargs)\n",
        "        self.embed_dim = embed_dim\n",
        "\n",
        "    def build(self, input_shape):\n",
        "        _, num_tokens, _ = input_shape\n",
        "        self.position_embedding = layers.Embedding(\n",
        "            input_dim=num_tokens, output_dim=self.embed_dim\n",
        "        )\n",
        "        self.positions = tf.range(start=0, limit=num_tokens, delta=1)\n",
        "\n",
        "    def call(self, encoded_tokens):\n",
        "        # Encode the positions and add it to the encoded tokens\n",
        "        encoded_positions = self.position_embedding(self.positions)\n",
        "        encoded_tokens = encoded_tokens + encoded_positions\n",
        "        return encoded_tokens\n"
      ]
    },
    {
      "cell_type": "code",
      "execution_count": 13,
      "metadata": {
        "id": "rgJvyE09cpw7"
      },
      "outputs": [],
      "source": [
        "checkpoint_filepath = '/content/gdrive/MyDrive/Checkpoints/run_lad_flow/checkpoint/'\n",
        "model_checkpoint = model_checkpoint_callback = tf.keras.callbacks.ModelCheckpoint(\n",
        "                                filepath=checkpoint_filepath,\n",
        "                                save_weights_only=True,\n",
        "                                monitor='val_loss',\n",
        "                                mode='min',\n",
        "                                save_best_only=True\n",
        "                                )"
      ]
    },
    {
      "cell_type": "code",
      "execution_count": 14,
      "metadata": {
        "id": "fRPd8rH5kmjz"
      },
      "outputs": [],
      "source": [
        "from keras.callbacks import ReduceLROnPlateau\n",
        "checkpoint_filepath = '/content/gdrive/MyDrive/Checkpoints/run_lad_flow/checkpoint/'\n",
        "checkpoint = model_checkpoint_callback = tf.keras.callbacks.ModelCheckpoint(\n",
        "                                filepath=checkpoint_filepath,\n",
        "                                save_weights_only=True,\n",
        "                                monitor='val_loss',\n",
        "                                mode='min',\n",
        "                                save_best_only=True\n",
        "                                )\n",
        "\n",
        "earlystopping = tf.keras.callbacks.EarlyStopping(\n",
        "                     monitor=\"val_loss\",\n",
        "                     min_delta=0.025,\n",
        "                     patience=5,\n",
        "                     verbose=0,\n",
        "                     mode=\"min\",\n",
        "                     baseline=None,\n",
        "                     restore_best_weights=False\n",
        "                 )\n",
        "\n",
        "values = np.linspace(0.00001,LEARNING_RATE,14)[::-1].astype(np.float32)\n",
        "boundaries = np.linspace(5, 45,13)[:values.shape[0]-1].astype(np.int32)\n",
        "\n",
        "scheduler = keras.optimizers.schedules.PiecewiseConstantDecay(\n",
        "    list(boundaries), list(values))\n",
        "\n",
        "lr_scheduler = tf.keras.callbacks.LearningRateScheduler(scheduler,verbose=1)\n",
        "\n",
        "reduce_lr = ReduceLROnPlateau(monitor='val_loss', factor=0.5,\n",
        "                              patience=3, min_lr=0.000001)\n",
        "\n",
        "callbacks = [checkpoint, lr_scheduler, reduce_lr]"
      ]
    },
    {
      "cell_type": "code",
      "execution_count": 15,
      "metadata": {
        "id": "tIWQUMvdMIrB"
      },
      "outputs": [],
      "source": [
        "def create_vivit_classifier(\n",
        "    tubelet_embedder,\n",
        "    positional_encoder,\n",
        "    input_shape=INPUT_SHAPE,\n",
        "    transformer_layers=NUM_LAYERS,\n",
        "    num_heads=NUM_HEADS,\n",
        "    embed_dim=PROJECTION_DIM,\n",
        "    layer_norm_eps=LAYER_NORM_EPS,\n",
        "    num_classes=2,\n",
        "):\n",
        "    input_shape = (75, 75, 14, 2)\n",
        "    # Get the input layer\n",
        "    inputs = layers.Input(shape=input_shape)\n",
        "    # Create patches.\n",
        "    patches = tubelet_embedder(inputs)\n",
        "    # Encode patches.\n",
        "    encoded_patches = positional_encoder(patches)\n",
        "\n",
        "    # Create multiple layers of the Transformer block.\n",
        "    for _ in range(transformer_layers):\n",
        "        # Layer normalization and MHSA\n",
        "        x1 = layers.LayerNormalization(epsilon=1e-6)(encoded_patches)\n",
        "        attention_output = layers.MultiHeadAttention(\n",
        "            num_heads=num_heads, key_dim=embed_dim // num_heads, dropout=0.1\n",
        "        )(x1, x1)\n",
        "\n",
        "        # Skip connection\n",
        "        x2 = layers.Add()([attention_output, encoded_patches])\n",
        "\n",
        "        # Layer Normalization and MLP\n",
        "        x3 = layers.LayerNormalization(epsilon=1e-6)(x2)\n",
        "        x3 = keras.Sequential(\n",
        "            [\n",
        "                layers.Dense(units=embed_dim * 4, activation=tf.nn.gelu),\n",
        "                layers.Dense(units=embed_dim, activation=tf.nn.gelu),\n",
        "            ]\n",
        "        )(x3)\n",
        "\n",
        "        # Skip connection\n",
        "        encoded_patches = layers.Add()([x3, x2])\n",
        "\n",
        "    # Layer normalization and Global average pooling.\n",
        "    representation = layers.LayerNormalization(epsilon=layer_norm_eps)(encoded_patches)\n",
        "    representation = layers.GlobalAvgPool1D()(representation)\n",
        "\n",
        "    # Classify outputs.\n",
        "    outputs = layers.Dense(units=num_classes, activation=\"softmax\")(representation)\n",
        "\n",
        "    # Create the Keras model.\n",
        "    model = keras.Model(inputs=inputs, outputs=outputs)\n",
        "    return model\n"
      ]
    },
    {
      "attachments": {},
      "cell_type": "markdown",
      "metadata": {
        "id": "VergBBi6E9Om"
      },
      "source": [
        "#Using learning rate scheduler and learning rate reduce on plateau"
      ]
    },
    {
      "cell_type": "code",
      "execution_count": 16,
      "metadata": {
        "colab": {
          "base_uri": "https://localhost:8080/"
        },
        "id": "_1LwPvm0vroL",
        "outputId": "571a83f2-ae0c-4f86-d21a-2f472c2330b2"
      },
      "outputs": [
        {
          "name": "stdout",
          "output_type": "stream",
          "text": [
            "\n",
            "Epoch 1: LearningRateScheduler setting learning rate to 0.009999999776482582.\n",
            "Epoch 1/50\n",
            "150/150 [==============================] - 55s 133ms/step - loss: 0.7281 - accuracy: 0.5251 - val_loss: 0.7156 - val_accuracy: 0.5004 - lr: 0.0100\n",
            "\n",
            "Epoch 2: LearningRateScheduler setting learning rate to 0.009999999776482582.\n",
            "Epoch 2/50\n",
            "150/150 [==============================] - 14s 96ms/step - loss: 0.6764 - accuracy: 0.5737 - val_loss: 0.6891 - val_accuracy: 0.5422 - lr: 0.0100\n",
            "\n",
            "Epoch 3: LearningRateScheduler setting learning rate to 0.009999999776482582.\n",
            "Epoch 3/50\n",
            "150/150 [==============================] - 13s 83ms/step - loss: 0.6786 - accuracy: 0.5615 - val_loss: 0.7090 - val_accuracy: 0.5013 - lr: 0.0100\n",
            "\n",
            "Epoch 4: LearningRateScheduler setting learning rate to 0.009999999776482582.\n",
            "Epoch 4/50\n",
            "150/150 [==============================] - 11s 74ms/step - loss: 0.6820 - accuracy: 0.5576 - val_loss: 0.7061 - val_accuracy: 0.5117 - lr: 0.0100\n",
            "\n",
            "Epoch 5: LearningRateScheduler setting learning rate to 0.009999999776482582.\n",
            "Epoch 5/50\n",
            "150/150 [==============================] - 11s 75ms/step - loss: 0.6743 - accuracy: 0.5808 - val_loss: 0.7021 - val_accuracy: 0.5387 - lr: 0.0100\n",
            "\n",
            "Epoch 6: LearningRateScheduler setting learning rate to 0.009999999776482582.\n",
            "Epoch 6/50\n",
            "150/150 [==============================] - 11s 73ms/step - loss: 0.6751 - accuracy: 0.5785 - val_loss: 0.6907 - val_accuracy: 0.5440 - lr: 0.0100\n",
            "\n",
            "Epoch 7: LearningRateScheduler setting learning rate to 0.009231538511812687.\n",
            "Epoch 7/50\n",
            "150/150 [==============================] - 10s 68ms/step - loss: 0.6720 - accuracy: 0.5797 - val_loss: 0.6956 - val_accuracy: 0.5466 - lr: 0.0092\n",
            "\n",
            "Epoch 8: LearningRateScheduler setting learning rate to 0.009231538511812687.\n",
            "Epoch 8/50\n",
            "150/150 [==============================] - 11s 74ms/step - loss: 0.6694 - accuracy: 0.5858 - val_loss: 0.7336 - val_accuracy: 0.5117 - lr: 0.0092\n",
            "\n",
            "Epoch 9: LearningRateScheduler setting learning rate to 0.009231538511812687.\n",
            "Epoch 9/50\n",
            "150/150 [==============================] - 11s 74ms/step - loss: 0.6734 - accuracy: 0.5856 - val_loss: 0.6931 - val_accuracy: 0.5448 - lr: 0.0092\n",
            "\n",
            "Epoch 10: LearningRateScheduler setting learning rate to 0.008463077247142792.\n",
            "Epoch 10/50\n",
            "150/150 [==============================] - 11s 74ms/step - loss: 0.6763 - accuracy: 0.5739 - val_loss: 0.7011 - val_accuracy: 0.5135 - lr: 0.0085\n",
            "\n",
            "Epoch 11: LearningRateScheduler setting learning rate to 0.008463077247142792.\n",
            "Epoch 11/50\n",
            "150/150 [==============================] - 11s 73ms/step - loss: 0.6752 - accuracy: 0.5789 - val_loss: 0.7129 - val_accuracy: 0.5257 - lr: 0.0085\n",
            "\n",
            "Epoch 12: LearningRateScheduler setting learning rate to 0.008463077247142792.\n",
            "Epoch 12/50\n",
            "150/150 [==============================] - 10s 68ms/step - loss: 0.6743 - accuracy: 0.5843 - val_loss: 0.6980 - val_accuracy: 0.5518 - lr: 0.0085\n",
            "\n",
            "Epoch 13: LearningRateScheduler setting learning rate to 0.007694615516811609.\n",
            "Epoch 13/50\n",
            "150/150 [==============================] - 11s 73ms/step - loss: 0.6722 - accuracy: 0.5804 - val_loss: 0.6982 - val_accuracy: 0.5135 - lr: 0.0077\n",
            "\n",
            "Epoch 14: LearningRateScheduler setting learning rate to 0.007694615516811609.\n",
            "Epoch 14/50\n",
            "150/150 [==============================] - 11s 72ms/step - loss: 0.6848 - accuracy: 0.5565 - val_loss: 0.6988 - val_accuracy: 0.4961 - lr: 0.0077\n",
            "\n",
            "Epoch 15: LearningRateScheduler setting learning rate to 0.007694615516811609.\n",
            "Epoch 15/50\n",
            "150/150 [==============================] - 12s 83ms/step - loss: 0.6887 - accuracy: 0.5358 - val_loss: 0.6874 - val_accuracy: 0.5405 - lr: 0.0077\n",
            "\n",
            "Epoch 16: LearningRateScheduler setting learning rate to 0.007694615516811609.\n",
            "Epoch 16/50\n",
            "150/150 [==============================] - 11s 74ms/step - loss: 0.6850 - accuracy: 0.5454 - val_loss: 0.7086 - val_accuracy: 0.4978 - lr: 0.0077\n",
            "\n",
            "Epoch 17: LearningRateScheduler setting learning rate to 0.006926153786480427.\n",
            "Epoch 17/50\n",
            "150/150 [==============================] - 12s 79ms/step - loss: 0.6841 - accuracy: 0.5569 - val_loss: 0.6984 - val_accuracy: 0.5170 - lr: 0.0069\n",
            "\n",
            "Epoch 18: LearningRateScheduler setting learning rate to 0.006926153786480427.\n",
            "Epoch 18/50\n",
            "150/150 [==============================] - 10s 68ms/step - loss: 0.6822 - accuracy: 0.5615 - val_loss: 0.6919 - val_accuracy: 0.5309 - lr: 0.0069\n",
            "\n",
            "Epoch 19: LearningRateScheduler setting learning rate to 0.006926153786480427.\n",
            "Epoch 19/50\n",
            "150/150 [==============================] - 11s 71ms/step - loss: 0.6832 - accuracy: 0.5580 - val_loss: 0.7003 - val_accuracy: 0.5135 - lr: 0.0069\n",
            "\n",
            "Epoch 20: LearningRateScheduler setting learning rate to 0.006157692521810532.\n",
            "Epoch 20/50\n",
            "150/150 [==============================] - 11s 73ms/step - loss: 0.6810 - accuracy: 0.5594 - val_loss: 0.7301 - val_accuracy: 0.5004 - lr: 0.0062\n",
            "\n",
            "Epoch 21: LearningRateScheduler setting learning rate to 0.006157692521810532.\n",
            "Epoch 21/50\n",
            "150/150 [==============================] - 11s 73ms/step - loss: 0.6807 - accuracy: 0.5749 - val_loss: 0.6919 - val_accuracy: 0.5448 - lr: 0.0062\n",
            "\n",
            "Epoch 22: LearningRateScheduler setting learning rate to 0.006157692521810532.\n",
            "Epoch 22/50\n",
            "150/150 [==============================] - 11s 73ms/step - loss: 0.6781 - accuracy: 0.5772 - val_loss: 0.7382 - val_accuracy: 0.4978 - lr: 0.0062\n",
            "\n",
            "Epoch 23: LearningRateScheduler setting learning rate to 0.005389230791479349.\n",
            "Epoch 23/50\n",
            "150/150 [==============================] - 10s 67ms/step - loss: 0.6762 - accuracy: 0.5705 - val_loss: 0.6961 - val_accuracy: 0.5370 - lr: 0.0054\n",
            "\n",
            "Epoch 24: LearningRateScheduler setting learning rate to 0.005389230791479349.\n",
            "Epoch 24/50\n",
            "150/150 [==============================] - 11s 72ms/step - loss: 0.6747 - accuracy: 0.5724 - val_loss: 0.6948 - val_accuracy: 0.5413 - lr: 0.0054\n",
            "\n",
            "Epoch 25: LearningRateScheduler setting learning rate to 0.005389230791479349.\n",
            "Epoch 25/50\n",
            "150/150 [==============================] - 11s 72ms/step - loss: 0.6708 - accuracy: 0.5927 - val_loss: 0.6885 - val_accuracy: 0.5422 - lr: 0.0054\n",
            "\n",
            "Epoch 26: LearningRateScheduler setting learning rate to 0.005389230791479349.\n",
            "Epoch 26/50\n",
            "150/150 [==============================] - 11s 73ms/step - loss: 0.6765 - accuracy: 0.5712 - val_loss: 0.7105 - val_accuracy: 0.5048 - lr: 0.0054\n",
            "\n",
            "Epoch 27: LearningRateScheduler setting learning rate to 0.004620769061148167.\n",
            "Epoch 27/50\n",
            "150/150 [==============================] - 12s 79ms/step - loss: 0.6737 - accuracy: 0.5733 - val_loss: 0.6883 - val_accuracy: 0.5553 - lr: 0.0046\n",
            "\n",
            "Epoch 28: LearningRateScheduler setting learning rate to 0.004620769061148167.\n",
            "Epoch 28/50\n",
            "150/150 [==============================] - 11s 77ms/step - loss: 0.6672 - accuracy: 0.5908 - val_loss: 0.6983 - val_accuracy: 0.5396 - lr: 0.0046\n",
            "\n",
            "Epoch 29: LearningRateScheduler setting learning rate to 0.004620769061148167.\n",
            "Epoch 29/50\n",
            "150/150 [==============================] - 10s 67ms/step - loss: 0.6676 - accuracy: 0.5902 - val_loss: 0.6950 - val_accuracy: 0.5222 - lr: 0.0046\n",
            "\n",
            "Epoch 30: LearningRateScheduler setting learning rate to 0.0038523077964782715.\n",
            "Epoch 30/50\n",
            "150/150 [==============================] - 11s 72ms/step - loss: 0.6649 - accuracy: 0.5967 - val_loss: 0.7088 - val_accuracy: 0.5248 - lr: 0.0039\n",
            "\n",
            "Epoch 31: LearningRateScheduler setting learning rate to 0.0038523077964782715.\n",
            "Epoch 31/50\n",
            "150/150 [==============================] - 11s 73ms/step - loss: 0.6616 - accuracy: 0.5998 - val_loss: 0.7089 - val_accuracy: 0.5361 - lr: 0.0039\n",
            "\n",
            "Epoch 32: LearningRateScheduler setting learning rate to 0.0038523077964782715.\n",
            "Epoch 32/50\n",
            "150/150 [==============================] - 11s 72ms/step - loss: 0.6602 - accuracy: 0.5990 - val_loss: 0.7015 - val_accuracy: 0.5300 - lr: 0.0039\n",
            "\n",
            "Epoch 33: LearningRateScheduler setting learning rate to 0.003083846066147089.\n",
            "Epoch 33/50\n",
            "150/150 [==============================] - 12s 80ms/step - loss: 0.6620 - accuracy: 0.6028 - val_loss: 0.7084 - val_accuracy: 0.5492 - lr: 0.0031\n",
            "\n",
            "Epoch 34: LearningRateScheduler setting learning rate to 0.003083846066147089.\n",
            "Epoch 34/50\n",
            "150/150 [==============================] - 10s 68ms/step - loss: 0.6640 - accuracy: 0.5946 - val_loss: 0.7024 - val_accuracy: 0.5413 - lr: 0.0031\n",
            "\n",
            "Epoch 35: LearningRateScheduler setting learning rate to 0.003083846066147089.\n",
            "Epoch 35/50\n",
            "150/150 [==============================] - 11s 70ms/step - loss: 0.6621 - accuracy: 0.6040 - val_loss: 0.7089 - val_accuracy: 0.5413 - lr: 0.0031\n",
            "\n",
            "Epoch 36: LearningRateScheduler setting learning rate to 0.003083846066147089.\n",
            "Epoch 36/50\n",
            "150/150 [==============================] - 11s 73ms/step - loss: 0.6643 - accuracy: 0.5967 - val_loss: 0.7360 - val_accuracy: 0.5091 - lr: 0.0031\n",
            "\n",
            "Epoch 37: LearningRateScheduler setting learning rate to 0.00231538456864655.\n",
            "Epoch 37/50\n",
            "150/150 [==============================] - 11s 73ms/step - loss: 0.6571 - accuracy: 0.6103 - val_loss: 0.7201 - val_accuracy: 0.5248 - lr: 0.0023\n",
            "\n",
            "Epoch 38: LearningRateScheduler setting learning rate to 0.00231538456864655.\n",
            "Epoch 38/50\n",
            "150/150 [==============================] - 11s 72ms/step - loss: 0.6572 - accuracy: 0.6072 - val_loss: 0.7208 - val_accuracy: 0.5213 - lr: 0.0023\n",
            "\n",
            "Epoch 39: LearningRateScheduler setting learning rate to 0.00231538456864655.\n",
            "Epoch 39/50\n",
            "150/150 [==============================] - 12s 78ms/step - loss: 0.6582 - accuracy: 0.6053 - val_loss: 0.7063 - val_accuracy: 0.5187 - lr: 0.0023\n",
            "\n",
            "Epoch 40: LearningRateScheduler setting learning rate to 0.0015469230711460114.\n",
            "Epoch 40/50\n",
            "150/150 [==============================] - 10s 68ms/step - loss: 0.6566 - accuracy: 0.6107 - val_loss: 0.7204 - val_accuracy: 0.5178 - lr: 0.0015\n",
            "\n",
            "Epoch 41: LearningRateScheduler setting learning rate to 0.0015469230711460114.\n",
            "Epoch 41/50\n",
            "150/150 [==============================] - 11s 73ms/step - loss: 0.6563 - accuracy: 0.6082 - val_loss: 0.7131 - val_accuracy: 0.5222 - lr: 0.0015\n",
            "\n",
            "Epoch 42: LearningRateScheduler setting learning rate to 0.0015469230711460114.\n",
            "Epoch 42/50\n",
            "150/150 [==============================] - 11s 74ms/step - loss: 0.6558 - accuracy: 0.6124 - val_loss: 0.7226 - val_accuracy: 0.5109 - lr: 0.0015\n",
            "\n",
            "Epoch 43: LearningRateScheduler setting learning rate to 0.0007784615154378116.\n",
            "Epoch 43/50\n",
            "150/150 [==============================] - 11s 72ms/step - loss: 0.6521 - accuracy: 0.6170 - val_loss: 0.7185 - val_accuracy: 0.5231 - lr: 7.7846e-04\n",
            "\n",
            "Epoch 44: LearningRateScheduler setting learning rate to 0.0007784615154378116.\n",
            "Epoch 44/50\n",
            "150/150 [==============================] - 12s 80ms/step - loss: 0.6507 - accuracy: 0.6174 - val_loss: 0.7237 - val_accuracy: 0.5239 - lr: 7.7846e-04\n",
            "\n",
            "Epoch 45: LearningRateScheduler setting learning rate to 0.0007784615154378116.\n",
            "Epoch 45/50\n",
            "150/150 [==============================] - 12s 79ms/step - loss: 0.6509 - accuracy: 0.6206 - val_loss: 0.7324 - val_accuracy: 0.5213 - lr: 7.7846e-04\n",
            "\n",
            "Epoch 46: LearningRateScheduler setting learning rate to 0.0007784615154378116.\n",
            "Epoch 46/50\n",
            "150/150 [==============================] - 10s 67ms/step - loss: 0.6507 - accuracy: 0.6187 - val_loss: 0.7216 - val_accuracy: 0.5283 - lr: 7.7846e-04\n",
            "\n",
            "Epoch 47: LearningRateScheduler setting learning rate to 9.999999747378752e-06.\n",
            "Epoch 47/50\n",
            "150/150 [==============================] - 11s 73ms/step - loss: 0.6474 - accuracy: 0.6270 - val_loss: 0.7219 - val_accuracy: 0.5283 - lr: 1.0000e-05\n",
            "\n",
            "Epoch 48: LearningRateScheduler setting learning rate to 9.999999747378752e-06.\n",
            "Epoch 48/50\n",
            "150/150 [==============================] - 11s 72ms/step - loss: 0.6496 - accuracy: 0.6308 - val_loss: 0.7222 - val_accuracy: 0.5283 - lr: 1.0000e-05\n",
            "\n",
            "Epoch 49: LearningRateScheduler setting learning rate to 9.999999747378752e-06.\n",
            "Epoch 49/50\n",
            "150/150 [==============================] - 11s 72ms/step - loss: 0.6473 - accuracy: 0.6260 - val_loss: 0.7224 - val_accuracy: 0.5265 - lr: 1.0000e-05\n",
            "\n",
            "Epoch 50: LearningRateScheduler setting learning rate to 9.999999747378752e-06.\n",
            "Epoch 50/50\n",
            "150/150 [==============================] - 12s 78ms/step - loss: 0.6485 - accuracy: 0.6266 - val_loss: 0.7229 - val_accuracy: 0.5265 - lr: 1.0000e-05\n"
          ]
        }
      ],
      "source": [
        "#new dense optical flow\n",
        "def run_experiment():\n",
        "    mirrored_strategy = tf.distribute.MirroredStrategy(devices= [\"/gpu:0\"],cross_device_ops=tf.distribute.HierarchicalCopyAllReduce())\n",
        "    with mirrored_strategy.scope():\n",
        "    # Initialize model\n",
        "        model = create_vivit_classifier(\n",
        "            tubelet_embedder=TubeletEmbedding(\n",
        "                embed_dim=PROJECTION_DIM, patch_size=PATCH_SIZE\n",
        "            ),\n",
        "            positional_encoder=PositionalEncoder(embed_dim=PROJECTION_DIM),\n",
        "        )\n",
        "\n",
        "        # Compile the model with the optimizer, loss function\n",
        "        # and the metrics.\n",
        "        optimizer = keras.optimizers.Adam(learning_rate=LEARNING_RATE)\n",
        "\n",
        "        model.compile(loss=tf.keras.losses.BinaryCrossentropy(from_logits=False),\n",
        "              optimizer=tf.keras.optimizers.Adam(learning_rate=LEARNING_RATE),\n",
        "              metrics=['accuracy'])\n",
        "\n",
        "        # Train the model.\n",
        "        history = model.fit(X_train_flow, y_train_flow, epochs=EPOCHS, validation_data=(X_val_flow, y_val_flow), callbacks=[model_checkpoint, callbacks])\n",
        "\n",
        "    return model, history\n",
        "\n",
        "\n",
        "model, history = run_experiment()\n"
      ]
    },
    {
      "cell_type": "code",
      "execution_count": 17,
      "metadata": {
        "id": "Z16l4lCY72xA"
      },
      "outputs": [],
      "source": [
        "testing_generator = DataGenerator(X_test_flow, y_test_flow)"
      ]
    },
    {
      "cell_type": "code",
      "execution_count": 18,
      "metadata": {
        "colab": {
          "base_uri": "https://localhost:8080/"
        },
        "id": "OI5YDb7h72xD",
        "outputId": "7ce440ef-4080-4019-8d4b-865689669f28"
      },
      "outputs": [
        {
          "name": "stdout",
          "output_type": "stream",
          "text": [
            "148/148 [==============================] - 8s 41ms/step - loss: 0.6678 - accuracy: 0.5997\n"
          ]
        },
        {
          "data": {
            "text/plain": [
              "[0.6678218841552734, 0.599662184715271]"
            ]
          },
          "execution_count": 18,
          "metadata": {},
          "output_type": "execute_result"
        }
      ],
      "source": [
        "model.evaluate(testing_generator)"
      ]
    },
    {
      "cell_type": "code",
      "execution_count": 19,
      "metadata": {
        "colab": {
          "base_uri": "https://localhost:8080/",
          "height": 466
        },
        "id": "3pPNwvjlMfmG",
        "outputId": "86fcf88b-f4a0-4bbc-83e1-c111dec6bde9"
      },
      "outputs": [
        {
          "name": "stdout",
          "output_type": "stream",
          "text": [
            "38/38 [==============================] - 3s 36ms/step\n"
          ]
        },
        {
          "data": {
            "image/png": "[encoded data removed]",
            "text/plain": [
              "<Figure size 640x480 with 2 Axes>"
            ]
          },
          "metadata": {},
          "output_type": "display_data"
        }
      ],
      "source": [
        "from sklearn.metrics import confusion_matrix\n",
        "import matplotlib.pyplot as plt\n",
        "import numpy as np\n",
        "\n",
        "classes = [0, 1]\n",
        "# assuming you have already made predictions and have ground truth labels\n",
        "y_pred = model.predict(X_test_flow)\n",
        "y_pred_classes = np.argmax(y_pred,axis = 1) \n",
        "y_true = np.argmax(y_test_flow,axis = 1)\n",
        "\n",
        "# compute the confusion matrix\n",
        "confusion_mtx = confusion_matrix(y_true, y_pred_classes) \n",
        "\n",
        "# plot the confusion matrix\n",
        "plt.imshow(confusion_mtx, interpolation='nearest', cmap=plt.cm.Blues)\n",
        "plt.colorbar()\n",
        "tick_marks = np.arange(len(classes))\n",
        "plt.xticks(tick_marks, classes)\n",
        "plt.yticks(tick_marks, classes)\n",
        "plt.xlabel('Predicted label')\n",
        "plt.ylabel('True label')\n",
        "plt.show()\n"
      ]
    },
    {
      "cell_type": "code",
      "execution_count": 20,
      "metadata": {
        "colab": {
          "base_uri": "https://localhost:8080/"
        },
        "id": "Kg8DQj4yNuOL",
        "outputId": "d6473da9-b799-4659-e25b-5e19d1dd0c75"
      },
      "outputs": [
        {
          "name": "stderr",
          "output_type": "stream",
          "text": [
            "WARNING:absl:Found untraced functions such as conv3d_layer_call_fn, conv3d_layer_call_and_return_conditional_losses, _jit_compiled_convolution_op, reshape_layer_call_fn, reshape_layer_call_and_return_conditional_losses while saving (showing 5 of 103). These functions will not be directly callable after loading.\n"
          ]
        }
      ],
      "source": [
        "model.save('/content/gdrive/MyDrive/All_extracted_frames/LAD2000_Vio_Nor/Model_flow')"
      ]
    }
  ],
  "metadata": {
    "accelerator": "GPU",
    "colab": {
      "collapsed_sections": [
        "aRQzU1JUrDBD",
        "ITWTUCAJEpGY"
      ],
      "machine_shape": "hm",
      "provenance": []
    },
    "gpuClass": "standard",
    "kernelspec": {
      "display_name": "azureml_py38",
      "language": "python",
      "name": "python3"
    },
    "language_info": {
      "codemirror_mode": {
        "name": "ipython",
        "version": 3
      },
      "file_extension": ".py",
      "mimetype": "text/x-python",
      "name": "python",
      "nbconvert_exporter": "python",
      "pygments_lexer": "ipython3",
      "version": "3.8.5"
    },
    "vscode": {
      "interpreter": {
        "hash": "6d65a8c07f5b6469e0fc613f182488c0dccce05038bbda39e5ac9075c0454d11"
      }
    }
  },
  "nbformat": 4,
  "nbformat_minor": 0
}
