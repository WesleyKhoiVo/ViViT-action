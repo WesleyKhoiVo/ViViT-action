{
  "nbformat": 4,
  "nbformat_minor": 0,
  "metadata": {
    "colab": {
      "provenance": [],
      "gpuType": "T4"
    },
    "kernelspec": {
      "name": "python3",
      "display_name": "Python 3"
    },
    "language_info": {
      "name": "python"
    },
    "accelerator": "GPU",
    "gpuClass": "standard"
  },
  "cells": [
    {
      "cell_type": "markdown",
      "source": [
        "\n",
        "\n",
        "#Note: Check paths before running\n",
        "\n"
      ],
      "metadata": {
        "id": "-kIPzYrYxEis"
      }
    },
    {
      "cell_type": "markdown",
      "source": [
        "#Imports"
      ],
      "metadata": {
        "id": "FmPADVV4uv2R"
      }
    },
    {
      "cell_type": "code",
      "source": [
        "import os\n",
        "import sys\n",
        "from datetime import datetime\n",
        "from packaging import version\n",
        "import io\n",
        "import matplotlib.pyplot as plt\n",
        "import imageio\n",
        "import ipywidgets\n",
        "\n",
        "\n",
        "import numpy as np\n",
        "\n",
        "import tensorflow as tf\n",
        "from tensorflow import keras\n",
        "\n",
        "from keras import layers\n",
        "from keras.layers import Dense, BatchNormalization\n",
        "from keras.regularizers import l2\n",
        "from keras.callbacks import ModelCheckpoint, ReduceLROnPlateau\n",
        "from keras.utils import to_categorical, OrderedEnqueuer\n",
        "\n",
        "import ipywidgets\n",
        "from sklearn.metrics import confusion_matrix, classification_report\n",
        "\n",
        "# import wandb\n",
        "# from wandb.keras import WandbCallback, WandbMetricsLogger\n",
        "# Setting seed for reproducibility\n",
        "SEED = 42\n",
        "os.environ[\"TF_CUDNN_DETERMINISTIC\"] = \"1\"\n",
        "np.random.seed(SEED)"
      ],
      "metadata": {
        "id": "sbvx0xxEuvXi"
      },
      "execution_count": 1,
      "outputs": []
    },
    {
      "cell_type": "code",
      "source": [
        "tf.compat.v1.logging.set_verbosity(tf.compat.v1.logging.ERROR)\n",
        "print(\"Num GPUs Available: \", len(tf.config.experimental.list_physical_devices('GPU')))\n",
        "tf.test.is_built_with_cuda()\n",
        "print(tf.version.VERSION)\n",
        "import sys\n",
        "sys.version"
      ],
      "metadata": {
        "colab": {
          "base_uri": "https://localhost:8080/",
          "height": 71
        },
        "id": "_5nNyGk-KuPb",
        "outputId": "38f51c4c-9d2d-4f51-c4e2-9d1ab9684224"
      },
      "execution_count": 2,
      "outputs": [
        {
          "output_type": "stream",
          "name": "stdout",
          "text": [
            "Num GPUs Available:  1\n",
            "2.12.0\n"
          ]
        },
        {
          "output_type": "execute_result",
          "data": {
            "text/plain": [
              "'3.10.12 (main, Jun  7 2023, 12:45:35) [GCC 9.4.0]'"
            ],
            "application/vnd.google.colaboratory.intrinsic+json": {
              "type": "string"
            }
          },
          "metadata": {},
          "execution_count": 2
        }
      ]
    },
    {
      "cell_type": "markdown",
      "source": [
        "##Drive mounting"
      ],
      "metadata": {
        "id": "tgDV5Dsau2jI"
      }
    },
    {
      "cell_type": "code",
      "execution_count": 3,
      "metadata": {
        "colab": {
          "base_uri": "https://localhost:8080/"
        },
        "id": "0kgJrQtAueAi",
        "outputId": "fae5be81-c5f8-4ec2-9b60-8dbcacdd2935"
      },
      "outputs": [
        {
          "output_type": "stream",
          "name": "stdout",
          "text": [
            "Mounted at /content/gdrive\n"
          ]
        }
      ],
      "source": [
        "from google.colab import drive\n",
        "drive.mount('/content/gdrive')"
      ]
    },
    {
      "cell_type": "markdown",
      "source": [
        "#Hyperparameters"
      ],
      "metadata": {
        "id": "VE8Z4kWN29w5"
      }
    },
    {
      "cell_type": "code",
      "source": [
        "# DATA\n",
        "BATCH_SIZE = 8\n",
        "\n",
        "# AUTO = tf.data.AUTOTUNE\n",
        "INPUT_SHAPE = (75, 75, 14, 2)\n",
        "NUM_CLASSES = 1\n",
        "\n",
        "# OPTIMIZER\n",
        "LEARNING_RATE = 0.0001\n",
        "WEIGHT_DECAY = 1e-5\n",
        "DROPOUT = 0.1\n",
        "\n",
        "# TUBELET EMBEDDING\n",
        "PATCH_SIZE = 10\n",
        "\n",
        "# ViViT ARCHITECTURE\n",
        "LAYER_NORM_EPS = 1e-6\n",
        "PROJECTION_DIM = 510\n",
        "NUM_HEADS = 17\n",
        "NUM_LAYERS = 9"
      ],
      "metadata": {
        "id": "VPCXXWYPqr2M"
      },
      "execution_count": 4,
      "outputs": []
    },
    {
      "cell_type": "markdown",
      "source": [
        "#Data Generator"
      ],
      "metadata": {
        "id": "c1F8slLE1zCh"
      }
    },
    {
      "cell_type": "code",
      "source": [
        "class DataGenerator(keras.utils.Sequence):\n",
        "\n",
        "    def __init__(self, x_in, y_in, batch_size=BATCH_SIZE, shuffle=True):\n",
        "        # Initialization\n",
        "        self.batch_size = batch_size\n",
        "        self.shuffle = shuffle\n",
        "        self.x = x_in\n",
        "        self.y = y_in\n",
        "        self.datalen = len(y_in)\n",
        "        self.indexes = np.arange(self.datalen)\n",
        "        if self.shuffle:\n",
        "            np.random.shuffle(self.indexes)\n",
        "\n",
        "    def __getitem__(self, index):\n",
        "        # get batch indexes from shuffled indexes\n",
        "        batch_indexes = self.indexes[index*self.batch_size:(index+1)*self.batch_size]\n",
        "        x_batch = self.x[batch_indexes]\n",
        "        y_batch = self.y[batch_indexes]\n",
        "        return x_batch, y_batch\n",
        "\n",
        "    def __len__(self):\n",
        "        # Denotes the number of batches per epoch\n",
        "        return self.datalen // self.batch_size\n",
        "\n",
        "    def on_epoch_end(self):\n",
        "        # Updates indexes after each epoch\n",
        "        self.indexes = np.arange(self.datalen)\n",
        "        if self.shuffle:\n",
        "            np.random.shuffle(self.indexes)"
      ],
      "metadata": {
        "id": "uImgcpBQ1xLA"
      },
      "execution_count": 5,
      "outputs": []
    },
    {
      "cell_type": "markdown",
      "source": [
        "#Cross testing the trained model"
      ],
      "metadata": {
        "id": "Pfk8ppEbvICg"
      }
    },
    {
      "cell_type": "markdown",
      "source": [
        "##Loading Data"
      ],
      "metadata": {
        "id": "HHR0pjbEvDBK"
      }
    },
    {
      "cell_type": "code",
      "source": [
        "DATA_PATH_LAD = '/content/gdrive/MyDrive/LAD2000_Vio_Nor/Vio_nor/'"
      ],
      "metadata": {
        "id": "0_pnWJ4ov-Wo"
      },
      "execution_count": 6,
      "outputs": []
    },
    {
      "cell_type": "markdown",
      "source": [
        "###LAD2000"
      ],
      "metadata": {
        "id": "IAxr0hH_xfuE"
      }
    },
    {
      "cell_type": "code",
      "source": [
        "X_train_lad, y_train_lad = np.load(DATA_PATH_LAD + 'Train/X_train_dense_flow.npy',mmap_mode='r'), np.load(DATA_PATH_LAD  + 'Train/y_train_dense_flow.npy', mmap_mode='r')"
      ],
      "metadata": {
        "id": "HyErOfAswqKC"
      },
      "execution_count": 7,
      "outputs": []
    },
    {
      "cell_type": "code",
      "source": [
        "X_test_lad, y_test_lad = np.load(DATA_PATH_LAD + 'Test/X_test_dense_flow.npy',mmap_mode='r'), np.load(DATA_PATH_LAD + 'Test/y_test_dense_flow.npy',mmap_mode='r')"
      ],
      "metadata": {
        "id": "uZkIwLOuxa97"
      },
      "execution_count": 8,
      "outputs": []
    },
    {
      "cell_type": "code",
      "source": [
        "X_val_lad, y_val_lad = np.load(DATA_PATH_LAD  + 'Val/X_val_dense_flow.npy',mmap_mode='r'), np.load(DATA_PATH_LAD  + 'Val/y_val_dense_flow.npy', mmap_mode='r')"
      ],
      "metadata": {
        "id": "0QJEaT3gxa7Y"
      },
      "execution_count": 9,
      "outputs": []
    },
    {
      "cell_type": "code",
      "source": [
        "X_train_lad.shape, y_train_lad.shape"
      ],
      "metadata": {
        "id": "LZAYi87Txayk",
        "colab": {
          "base_uri": "https://localhost:8080/"
        },
        "outputId": "d81eae5a-3262-4fac-9b31-e39818335913"
      },
      "execution_count": 10,
      "outputs": [
        {
          "output_type": "execute_result",
          "data": {
            "text/plain": [
              "((4778, 75, 75, 14, 2), (4778,))"
            ]
          },
          "metadata": {},
          "execution_count": 10
        }
      ]
    },
    {
      "cell_type": "code",
      "source": [
        "X_test_lad.shape, y_test_lad.shape"
      ],
      "metadata": {
        "id": "wQrlTfstxarv",
        "colab": {
          "base_uri": "https://localhost:8080/"
        },
        "outputId": "7b026fb1-d1d2-4c1d-f3d4-465b84941d50"
      },
      "execution_count": 11,
      "outputs": [
        {
          "output_type": "execute_result",
          "data": {
            "text/plain": [
              "((1186, 75, 75, 14, 2), (1186,))"
            ]
          },
          "metadata": {},
          "execution_count": 11
        }
      ]
    },
    {
      "cell_type": "code",
      "source": [
        "X_val_lad.shape, y_val_lad.shape"
      ],
      "metadata": {
        "id": "TO8oH0u1xwao",
        "colab": {
          "base_uri": "https://localhost:8080/"
        },
        "outputId": "9f51ea90-89b3-4b31-b645-eea7f88fcdd4"
      },
      "execution_count": 12,
      "outputs": [
        {
          "output_type": "execute_result",
          "data": {
            "text/plain": [
              "((1149, 75, 75, 14, 2), (1149,))"
            ]
          },
          "metadata": {},
          "execution_count": 12
        }
      ]
    },
    {
      "cell_type": "markdown",
      "source": [
        "##Labels"
      ],
      "metadata": {
        "id": "ZuNCTOc61vpR"
      }
    },
    {
      "cell_type": "code",
      "source": [
        "from tensorflow.keras.utils import to_categorical\n",
        "\n",
        "y_train_lad = to_categorical(y_train_lad, 2)\n",
        "y_val_lad = to_categorical(y_val_lad, 2)\n",
        "y_test_lad = to_categorical(y_test_lad, 2)"
      ],
      "metadata": {
        "id": "vtcJPoRZ1xSS"
      },
      "execution_count": 13,
      "outputs": []
    },
    {
      "cell_type": "code",
      "source": [
        "X_train_lad = np.moveaxis(X_train_lad, 1, 3)\n",
        "X_val_lad = np.moveaxis(X_val_lad, 1, 3)\n",
        "X_test_lad = np.moveaxis(X_test_lad, 1, 3)"
      ],
      "metadata": {
        "id": "CGf5ESgvNhcl"
      },
      "execution_count": null,
      "outputs": []
    },
    {
      "cell_type": "code",
      "source": [
        "training_generator = DataGenerator(X_train_lad, y_train_lad)\n",
        "validation_generator = DataGenerator(X_val_lad, y_val_lad)"
      ],
      "metadata": {
        "id": "v8uDkglHOAsw"
      },
      "execution_count": 14,
      "outputs": []
    },
    {
      "cell_type": "markdown",
      "source": [
        "#ViVit Model\n"
      ],
      "metadata": {
        "id": "PPKHIq1G2Y8D"
      }
    },
    {
      "cell_type": "code",
      "source": [
        "class TubeletEmbedding(layers.Layer):\n",
        "    def __init__(self, embed_dim, patch_size, **kwargs):\n",
        "        super().__init__(**kwargs)\n",
        "        self.projection = layers.Conv3D(\n",
        "            filters=embed_dim,\n",
        "            kernel_size=patch_size,\n",
        "            strides=patch_size,\n",
        "            padding=\"VALID\",\n",
        "        )\n",
        "        self.flatten = layers.Reshape(target_shape=(-1, embed_dim))\n",
        "\n",
        "    def call(self, videos):\n",
        "        projected_patches = self.projection(videos)\n",
        "        flattened_patches = self.flatten(projected_patches)\n",
        "        return flattened_patches\n"
      ],
      "metadata": {
        "id": "gpL6HxWM2YZ2"
      },
      "execution_count": 15,
      "outputs": []
    },
    {
      "cell_type": "code",
      "source": [
        "class PositionalEncoder(layers.Layer):\n",
        "    def __init__(self, embed_dim, **kwargs):\n",
        "        super().__init__(**kwargs)\n",
        "        self.embed_dim = embed_dim\n",
        "\n",
        "    def build(self, input_shape):\n",
        "        _, num_tokens, _ = input_shape\n",
        "        self.position_embedding = layers.Embedding(\n",
        "            input_dim=num_tokens, output_dim=self.embed_dim\n",
        "        )\n",
        "        self.positions = tf.range(start=0, limit=num_tokens, delta=1)\n",
        "\n",
        "    def call(self, encoded_tokens):\n",
        "        # Encode the positions and add it to the encoded tokens\n",
        "        encoded_positions = self.position_embedding(self.positions)\n",
        "        encoded_tokens = encoded_tokens + encoded_positions\n",
        "        return encoded_tokens"
      ],
      "metadata": {
        "id": "6nzu1V2O2hD8"
      },
      "execution_count": 16,
      "outputs": []
    },
    {
      "cell_type": "code",
      "source": [
        "def create_vivit_classifier(\n",
        "    tubelet_embedder,\n",
        "    positional_encoder,\n",
        "    transformer_layers,\n",
        "    num_heads,\n",
        "    embed_dim,\n",
        "    dropout,\n",
        "    input_shape=INPUT_SHAPE,\n",
        "    layer_norm_eps=LAYER_NORM_EPS,\n",
        "    num_classes=2,\n",
        "):\n",
        "    input_shape = INPUT_SHAPE\n",
        "    # Get the input layer\n",
        "    inputs = layers.Input(shape=input_shape)\n",
        "    # Create patches.\n",
        "    patches = tubelet_embedder(inputs)\n",
        "    # Encode patches.\n",
        "    encoded_patches = positional_encoder(patches)\n",
        "\n",
        "    # Create multiple layers of the Transformer block.\n",
        "    for _ in range(transformer_layers):\n",
        "        # Layer normalization and MHSA\n",
        "        x1 = layers.LayerNormalization(epsilon=1e-6)(encoded_patches)\n",
        "        attention_output = layers.MultiHeadAttention(\n",
        "            num_heads=num_heads, key_dim=embed_dim // num_heads, dropout=dropout\n",
        "        )(x1, x1)\n",
        "\n",
        "        # Skip connection\n",
        "        x2 = layers.Add()([attention_output, encoded_patches])\n",
        "\n",
        "        # Layer Normalization and MLP\n",
        "        x3 = layers.LayerNormalization(epsilon=1e-6)(x2)\n",
        "        x3 = keras.Sequential(\n",
        "            [\n",
        "                layers.Dense(units=embed_dim * 4, activation=tf.nn.gelu),\n",
        "                layers.Dense(units=embed_dim, activation=tf.nn.gelu),\n",
        "            ]\n",
        "        )(x3)\n",
        "\n",
        "        # Skip connection\n",
        "        encoded_patches = layers.Add()([x3, x2])\n",
        "\n",
        "    # Layer normalization and Global average pooling.\n",
        "    representation = layers.LayerNormalization(epsilon=layer_norm_eps)(encoded_patches)\n",
        "    representation = layers.GlobalAvgPool1D()(representation)\n",
        "\n",
        "    # Classify outputs.\n",
        "    outputs = layers.Dense(units=num_classes, activation=\"softmax\")(representation)\n",
        "\n",
        "    # Create the Keras model.\n",
        "    model = keras.Model(inputs=inputs, outputs=outputs)\n",
        "    return model\n"
      ],
      "metadata": {
        "id": "R_mQLRT_2jlp"
      },
      "execution_count": 17,
      "outputs": []
    },
    {
      "cell_type": "markdown",
      "source": [
        "##Loading the Model"
      ],
      "metadata": {
        "id": "jQxSEmqox0K5"
      }
    },
    {
      "cell_type": "code",
      "source": [
        "MODEL_PATH = '/content/gdrive/MyDrive/Checkpoints/hptuning-OF-ucf-vivit/checkpoint.tf'"
      ],
      "metadata": {
        "id": "QKHAQQw1vHbg"
      },
      "execution_count": 18,
      "outputs": []
    },
    {
      "cell_type": "code",
      "source": [
        "model=create_vivit_classifier(\n",
        "        tubelet_embedder=TubeletEmbedding(\n",
        "                embed_dim=121, patch_size=(\n",
        "                    3,3,3)\n",
        "            ),\n",
        "            positional_encoder=PositionalEncoder(embed_dim=121),\n",
        "        transformer_layers=7,\n",
        "        num_heads=2,\n",
        "        embed_dim=121,\n",
        "        dropout=0.3,\n",
        "    )\n",
        "\n",
        "optimizer = keras.optimizers.Adam(learning_rate=LEARNING_RATE)\n",
        "\n",
        "model.compile(loss=tf.keras.losses.BinaryCrossentropy(from_logits=False),\n",
        "        optimizer=optimizer,\n",
        "        metrics=['accuracy'])"
      ],
      "metadata": {
        "id": "ol2HC0jEuILW"
      },
      "execution_count": 19,
      "outputs": []
    },
    {
      "cell_type": "code",
      "source": [
        "model = tf.keras.models.load_model(MODEL_PATH)"
      ],
      "metadata": {
        "id": "NebVaS-w1T08"
      },
      "execution_count": null,
      "outputs": []
    },
    {
      "cell_type": "code",
      "source": [
        "model.summary()"
      ],
      "metadata": {
        "colab": {
          "base_uri": "https://localhost:8080/"
        },
        "id": "dGS5KV9U0-Xr",
        "outputId": "3a192107-c427-43c2-f33f-a1c9af716fb8"
      },
      "execution_count": null,
      "outputs": [
        {
          "output_type": "stream",
          "name": "stdout",
          "text": [
            "Model: \"model\"\n",
            "__________________________________________________________________________________________________\n",
            " Layer (type)                   Output Shape         Param #     Connected to                     \n",
            "==================================================================================================\n",
            " input_1 (InputLayer)           [(None, 75, 75, 14,  0           []                               \n",
            "                                 2)]                                                              \n",
            "                                                                                                  \n",
            " tubelet_embedding (TubeletEmbe  (None, 36, 39)      134823      ['input_1[0][0]']                \n",
            " dding)                                                                                           \n",
            "                                                                                                  \n",
            " positional_encoder (Positional  (None, 36, 39)      1404        ['tubelet_embedding[0][0]']      \n",
            " Encoder)                                                                                         \n",
            "                                                                                                  \n",
            " layer_normalization (LayerNorm  (None, 36, 39)      78          ['positional_encoder[0][0]']     \n",
            " alization)                                                                                       \n",
            "                                                                                                  \n",
            " multi_head_attention (MultiHea  (None, 36, 39)      5604        ['layer_normalization[0][0]',    \n",
            " dAttention)                                                      'layer_normalization[0][0]']    \n",
            "                                                                                                  \n",
            " add (Add)                      (None, 36, 39)       0           ['multi_head_attention[0][0]',   \n",
            "                                                                  'positional_encoder[0][0]']     \n",
            "                                                                                                  \n",
            " layer_normalization_1 (LayerNo  (None, 36, 39)      78          ['add[0][0]']                    \n",
            " rmalization)                                                                                     \n",
            "                                                                                                  \n",
            " sequential (Sequential)        (None, 36, 39)       12363       ['layer_normalization_1[0][0]']  \n",
            "                                                                                                  \n",
            " add_1 (Add)                    (None, 36, 39)       0           ['sequential[0][0]',             \n",
            "                                                                  'add[0][0]']                    \n",
            "                                                                                                  \n",
            " layer_normalization_2 (LayerNo  (None, 36, 39)      78          ['add_1[0][0]']                  \n",
            " rmalization)                                                                                     \n",
            "                                                                                                  \n",
            " multi_head_attention_1 (MultiH  (None, 36, 39)      5604        ['layer_normalization_2[0][0]',  \n",
            " eadAttention)                                                    'layer_normalization_2[0][0]']  \n",
            "                                                                                                  \n",
            " add_2 (Add)                    (None, 36, 39)       0           ['multi_head_attention_1[0][0]', \n",
            "                                                                  'add_1[0][0]']                  \n",
            "                                                                                                  \n",
            " layer_normalization_3 (LayerNo  (None, 36, 39)      78          ['add_2[0][0]']                  \n",
            " rmalization)                                                                                     \n",
            "                                                                                                  \n",
            " sequential_1 (Sequential)      (None, 36, 39)       12363       ['layer_normalization_3[0][0]']  \n",
            "                                                                                                  \n",
            " add_3 (Add)                    (None, 36, 39)       0           ['sequential_1[0][0]',           \n",
            "                                                                  'add_2[0][0]']                  \n",
            "                                                                                                  \n",
            " layer_normalization_4 (LayerNo  (None, 36, 39)      78          ['add_3[0][0]']                  \n",
            " rmalization)                                                                                     \n",
            "                                                                                                  \n",
            " multi_head_attention_2 (MultiH  (None, 36, 39)      5604        ['layer_normalization_4[0][0]',  \n",
            " eadAttention)                                                    'layer_normalization_4[0][0]']  \n",
            "                                                                                                  \n",
            " add_4 (Add)                    (None, 36, 39)       0           ['multi_head_attention_2[0][0]', \n",
            "                                                                  'add_3[0][0]']                  \n",
            "                                                                                                  \n",
            " layer_normalization_5 (LayerNo  (None, 36, 39)      78          ['add_4[0][0]']                  \n",
            " rmalization)                                                                                     \n",
            "                                                                                                  \n",
            " sequential_2 (Sequential)      (None, 36, 39)       12363       ['layer_normalization_5[0][0]']  \n",
            "                                                                                                  \n",
            " add_5 (Add)                    (None, 36, 39)       0           ['sequential_2[0][0]',           \n",
            "                                                                  'add_4[0][0]']                  \n",
            "                                                                                                  \n",
            " layer_normalization_6 (LayerNo  (None, 36, 39)      78          ['add_5[0][0]']                  \n",
            " rmalization)                                                                                     \n",
            "                                                                                                  \n",
            " multi_head_attention_3 (MultiH  (None, 36, 39)      5604        ['layer_normalization_6[0][0]',  \n",
            " eadAttention)                                                    'layer_normalization_6[0][0]']  \n",
            "                                                                                                  \n",
            " add_6 (Add)                    (None, 36, 39)       0           ['multi_head_attention_3[0][0]', \n",
            "                                                                  'add_5[0][0]']                  \n",
            "                                                                                                  \n",
            " layer_normalization_7 (LayerNo  (None, 36, 39)      78          ['add_6[0][0]']                  \n",
            " rmalization)                                                                                     \n",
            "                                                                                                  \n",
            " sequential_3 (Sequential)      (None, 36, 39)       12363       ['layer_normalization_7[0][0]']  \n",
            "                                                                                                  \n",
            " add_7 (Add)                    (None, 36, 39)       0           ['sequential_3[0][0]',           \n",
            "                                                                  'add_6[0][0]']                  \n",
            "                                                                                                  \n",
            " layer_normalization_8 (LayerNo  (None, 36, 39)      78          ['add_7[0][0]']                  \n",
            " rmalization)                                                                                     \n",
            "                                                                                                  \n",
            " multi_head_attention_4 (MultiH  (None, 36, 39)      5604        ['layer_normalization_8[0][0]',  \n",
            " eadAttention)                                                    'layer_normalization_8[0][0]']  \n",
            "                                                                                                  \n",
            " add_8 (Add)                    (None, 36, 39)       0           ['multi_head_attention_4[0][0]', \n",
            "                                                                  'add_7[0][0]']                  \n",
            "                                                                                                  \n",
            " layer_normalization_9 (LayerNo  (None, 36, 39)      78          ['add_8[0][0]']                  \n",
            " rmalization)                                                                                     \n",
            "                                                                                                  \n",
            " sequential_4 (Sequential)      (None, 36, 39)       12363       ['layer_normalization_9[0][0]']  \n",
            "                                                                                                  \n",
            " add_9 (Add)                    (None, 36, 39)       0           ['sequential_4[0][0]',           \n",
            "                                                                  'add_8[0][0]']                  \n",
            "                                                                                                  \n",
            " layer_normalization_10 (LayerN  (None, 36, 39)      78          ['add_9[0][0]']                  \n",
            " ormalization)                                                                                    \n",
            "                                                                                                  \n",
            " multi_head_attention_5 (MultiH  (None, 36, 39)      5604        ['layer_normalization_10[0][0]', \n",
            " eadAttention)                                                    'layer_normalization_10[0][0]'] \n",
            "                                                                                                  \n",
            " add_10 (Add)                   (None, 36, 39)       0           ['multi_head_attention_5[0][0]', \n",
            "                                                                  'add_9[0][0]']                  \n",
            "                                                                                                  \n",
            " layer_normalization_11 (LayerN  (None, 36, 39)      78          ['add_10[0][0]']                 \n",
            " ormalization)                                                                                    \n",
            "                                                                                                  \n",
            " sequential_5 (Sequential)      (None, 36, 39)       12363       ['layer_normalization_11[0][0]'] \n",
            "                                                                                                  \n",
            " add_11 (Add)                   (None, 36, 39)       0           ['sequential_5[0][0]',           \n",
            "                                                                  'add_10[0][0]']                 \n",
            "                                                                                                  \n",
            " layer_normalization_12 (LayerN  (None, 36, 39)      78          ['add_11[0][0]']                 \n",
            " ormalization)                                                                                    \n",
            "                                                                                                  \n",
            " multi_head_attention_6 (MultiH  (None, 36, 39)      5604        ['layer_normalization_12[0][0]', \n",
            " eadAttention)                                                    'layer_normalization_12[0][0]'] \n",
            "                                                                                                  \n",
            " add_12 (Add)                   (None, 36, 39)       0           ['multi_head_attention_6[0][0]', \n",
            "                                                                  'add_11[0][0]']                 \n",
            "                                                                                                  \n",
            " layer_normalization_13 (LayerN  (None, 36, 39)      78          ['add_12[0][0]']                 \n",
            " ormalization)                                                                                    \n",
            "                                                                                                  \n",
            " sequential_6 (Sequential)      (None, 36, 39)       12363       ['layer_normalization_13[0][0]'] \n",
            "                                                                                                  \n",
            " add_13 (Add)                   (None, 36, 39)       0           ['sequential_6[0][0]',           \n",
            "                                                                  'add_12[0][0]']                 \n",
            "                                                                                                  \n",
            " layer_normalization_14 (LayerN  (None, 36, 39)      78          ['add_13[0][0]']                 \n",
            " ormalization)                                                                                    \n",
            "                                                                                                  \n",
            " multi_head_attention_7 (MultiH  (None, 36, 39)      5604        ['layer_normalization_14[0][0]', \n",
            " eadAttention)                                                    'layer_normalization_14[0][0]'] \n",
            "                                                                                                  \n",
            " add_14 (Add)                   (None, 36, 39)       0           ['multi_head_attention_7[0][0]', \n",
            "                                                                  'add_13[0][0]']                 \n",
            "                                                                                                  \n",
            " layer_normalization_15 (LayerN  (None, 36, 39)      78          ['add_14[0][0]']                 \n",
            " ormalization)                                                                                    \n",
            "                                                                                                  \n",
            " sequential_7 (Sequential)      (None, 36, 39)       12363       ['layer_normalization_15[0][0]'] \n",
            "                                                                                                  \n",
            " add_15 (Add)                   (None, 36, 39)       0           ['sequential_7[0][0]',           \n",
            "                                                                  'add_14[0][0]']                 \n",
            "                                                                                                  \n",
            " layer_normalization_16 (LayerN  (None, 36, 39)      78          ['add_15[0][0]']                 \n",
            " ormalization)                                                                                    \n",
            "                                                                                                  \n",
            " multi_head_attention_8 (MultiH  (None, 36, 39)      5604        ['layer_normalization_16[0][0]', \n",
            " eadAttention)                                                    'layer_normalization_16[0][0]'] \n",
            "                                                                                                  \n",
            " add_16 (Add)                   (None, 36, 39)       0           ['multi_head_attention_8[0][0]', \n",
            "                                                                  'add_15[0][0]']                 \n",
            "                                                                                                  \n",
            " layer_normalization_17 (LayerN  (None, 36, 39)      78          ['add_16[0][0]']                 \n",
            " ormalization)                                                                                    \n",
            "                                                                                                  \n",
            " sequential_8 (Sequential)      (None, 36, 39)       12363       ['layer_normalization_17[0][0]'] \n",
            "                                                                                                  \n",
            " add_17 (Add)                   (None, 36, 39)       0           ['sequential_8[0][0]',           \n",
            "                                                                  'add_16[0][0]']                 \n",
            "                                                                                                  \n",
            " layer_normalization_18 (LayerN  (None, 36, 39)      78          ['add_17[0][0]']                 \n",
            " ormalization)                                                                                    \n",
            "                                                                                                  \n",
            " multi_head_attention_9 (MultiH  (None, 36, 39)      5604        ['layer_normalization_18[0][0]', \n",
            " eadAttention)                                                    'layer_normalization_18[0][0]'] \n",
            "                                                                                                  \n",
            " add_18 (Add)                   (None, 36, 39)       0           ['multi_head_attention_9[0][0]', \n",
            "                                                                  'add_17[0][0]']                 \n",
            "                                                                                                  \n",
            " layer_normalization_19 (LayerN  (None, 36, 39)      78          ['add_18[0][0]']                 \n",
            " ormalization)                                                                                    \n",
            "                                                                                                  \n",
            " sequential_9 (Sequential)      (None, 36, 39)       12363       ['layer_normalization_19[0][0]'] \n",
            "                                                                                                  \n",
            " add_19 (Add)                   (None, 36, 39)       0           ['sequential_9[0][0]',           \n",
            "                                                                  'add_18[0][0]']                 \n",
            "                                                                                                  \n",
            " layer_normalization_20 (LayerN  (None, 36, 39)      78          ['add_19[0][0]']                 \n",
            " ormalization)                                                                                    \n",
            "                                                                                                  \n",
            " multi_head_attention_10 (Multi  (None, 36, 39)      5604        ['layer_normalization_20[0][0]', \n",
            " HeadAttention)                                                   'layer_normalization_20[0][0]'] \n",
            "                                                                                                  \n",
            " add_20 (Add)                   (None, 36, 39)       0           ['multi_head_attention_10[0][0]',\n",
            "                                                                  'add_19[0][0]']                 \n",
            "                                                                                                  \n",
            " layer_normalization_21 (LayerN  (None, 36, 39)      78          ['add_20[0][0]']                 \n",
            " ormalization)                                                                                    \n",
            "                                                                                                  \n",
            " sequential_10 (Sequential)     (None, 36, 39)       12363       ['layer_normalization_21[0][0]'] \n",
            "                                                                                                  \n",
            " add_21 (Add)                   (None, 36, 39)       0           ['sequential_10[0][0]',          \n",
            "                                                                  'add_20[0][0]']                 \n",
            "                                                                                                  \n",
            " layer_normalization_22 (LayerN  (None, 36, 39)      78          ['add_21[0][0]']                 \n",
            " ormalization)                                                                                    \n",
            "                                                                                                  \n",
            " multi_head_attention_11 (Multi  (None, 36, 39)      5604        ['layer_normalization_22[0][0]', \n",
            " HeadAttention)                                                   'layer_normalization_22[0][0]'] \n",
            "                                                                                                  \n",
            " add_22 (Add)                   (None, 36, 39)       0           ['multi_head_attention_11[0][0]',\n",
            "                                                                  'add_21[0][0]']                 \n",
            "                                                                                                  \n",
            " layer_normalization_23 (LayerN  (None, 36, 39)      78          ['add_22[0][0]']                 \n",
            " ormalization)                                                                                    \n",
            "                                                                                                  \n",
            " sequential_11 (Sequential)     (None, 36, 39)       12363       ['layer_normalization_23[0][0]'] \n",
            "                                                                                                  \n",
            " add_23 (Add)                   (None, 36, 39)       0           ['sequential_11[0][0]',          \n",
            "                                                                  'add_22[0][0]']                 \n",
            "                                                                                                  \n",
            " layer_normalization_24 (LayerN  (None, 36, 39)      78          ['add_23[0][0]']                 \n",
            " ormalization)                                                                                    \n",
            "                                                                                                  \n",
            " multi_head_attention_12 (Multi  (None, 36, 39)      5604        ['layer_normalization_24[0][0]', \n",
            " HeadAttention)                                                   'layer_normalization_24[0][0]'] \n",
            "                                                                                                  \n",
            " add_24 (Add)                   (None, 36, 39)       0           ['multi_head_attention_12[0][0]',\n",
            "                                                                  'add_23[0][0]']                 \n",
            "                                                                                                  \n",
            " layer_normalization_25 (LayerN  (None, 36, 39)      78          ['add_24[0][0]']                 \n",
            " ormalization)                                                                                    \n",
            "                                                                                                  \n",
            " sequential_12 (Sequential)     (None, 36, 39)       12363       ['layer_normalization_25[0][0]'] \n",
            "                                                                                                  \n",
            " add_25 (Add)                   (None, 36, 39)       0           ['sequential_12[0][0]',          \n",
            "                                                                  'add_24[0][0]']                 \n",
            "                                                                                                  \n",
            " layer_normalization_26 (LayerN  (None, 36, 39)      78          ['add_25[0][0]']                 \n",
            " ormalization)                                                                                    \n",
            "                                                                                                  \n",
            " multi_head_attention_13 (Multi  (None, 36, 39)      5604        ['layer_normalization_26[0][0]', \n",
            " HeadAttention)                                                   'layer_normalization_26[0][0]'] \n",
            "                                                                                                  \n",
            " add_26 (Add)                   (None, 36, 39)       0           ['multi_head_attention_13[0][0]',\n",
            "                                                                  'add_25[0][0]']                 \n",
            "                                                                                                  \n",
            " layer_normalization_27 (LayerN  (None, 36, 39)      78          ['add_26[0][0]']                 \n",
            " ormalization)                                                                                    \n",
            "                                                                                                  \n",
            " sequential_13 (Sequential)     (None, 36, 39)       12363       ['layer_normalization_27[0][0]'] \n",
            "                                                                                                  \n",
            " add_27 (Add)                   (None, 36, 39)       0           ['sequential_13[0][0]',          \n",
            "                                                                  'add_26[0][0]']                 \n",
            "                                                                                                  \n",
            " layer_normalization_28 (LayerN  (None, 36, 39)      78          ['add_27[0][0]']                 \n",
            " ormalization)                                                                                    \n",
            "                                                                                                  \n",
            " multi_head_attention_14 (Multi  (None, 36, 39)      5604        ['layer_normalization_28[0][0]', \n",
            " HeadAttention)                                                   'layer_normalization_28[0][0]'] \n",
            "                                                                                                  \n",
            " add_28 (Add)                   (None, 36, 39)       0           ['multi_head_attention_14[0][0]',\n",
            "                                                                  'add_27[0][0]']                 \n",
            "                                                                                                  \n",
            " layer_normalization_29 (LayerN  (None, 36, 39)      78          ['add_28[0][0]']                 \n",
            " ormalization)                                                                                    \n",
            "                                                                                                  \n",
            " sequential_14 (Sequential)     (None, 36, 39)       12363       ['layer_normalization_29[0][0]'] \n",
            "                                                                                                  \n",
            " add_29 (Add)                   (None, 36, 39)       0           ['sequential_14[0][0]',          \n",
            "                                                                  'add_28[0][0]']                 \n",
            "                                                                                                  \n",
            " layer_normalization_30 (LayerN  (None, 36, 39)      78          ['add_29[0][0]']                 \n",
            " ormalization)                                                                                    \n",
            "                                                                                                  \n",
            " multi_head_attention_15 (Multi  (None, 36, 39)      5604        ['layer_normalization_30[0][0]', \n",
            " HeadAttention)                                                   'layer_normalization_30[0][0]'] \n",
            "                                                                                                  \n",
            " add_30 (Add)                   (None, 36, 39)       0           ['multi_head_attention_15[0][0]',\n",
            "                                                                  'add_29[0][0]']                 \n",
            "                                                                                                  \n",
            " layer_normalization_31 (LayerN  (None, 36, 39)      78          ['add_30[0][0]']                 \n",
            " ormalization)                                                                                    \n",
            "                                                                                                  \n",
            " sequential_15 (Sequential)     (None, 36, 39)       12363       ['layer_normalization_31[0][0]'] \n",
            "                                                                                                  \n",
            " add_31 (Add)                   (None, 36, 39)       0           ['sequential_15[0][0]',          \n",
            "                                                                  'add_30[0][0]']                 \n",
            "                                                                                                  \n",
            " layer_normalization_32 (LayerN  (None, 36, 39)      78          ['add_31[0][0]']                 \n",
            " ormalization)                                                                                    \n",
            "                                                                                                  \n",
            " multi_head_attention_16 (Multi  (None, 36, 39)      5604        ['layer_normalization_32[0][0]', \n",
            " HeadAttention)                                                   'layer_normalization_32[0][0]'] \n",
            "                                                                                                  \n",
            " add_32 (Add)                   (None, 36, 39)       0           ['multi_head_attention_16[0][0]',\n",
            "                                                                  'add_31[0][0]']                 \n",
            "                                                                                                  \n",
            " layer_normalization_33 (LayerN  (None, 36, 39)      78          ['add_32[0][0]']                 \n",
            " ormalization)                                                                                    \n",
            "                                                                                                  \n",
            " sequential_16 (Sequential)     (None, 36, 39)       12363       ['layer_normalization_33[0][0]'] \n",
            "                                                                                                  \n",
            " add_33 (Add)                   (None, 36, 39)       0           ['sequential_16[0][0]',          \n",
            "                                                                  'add_32[0][0]']                 \n",
            "                                                                                                  \n",
            " layer_normalization_34 (LayerN  (None, 36, 39)      78          ['add_33[0][0]']                 \n",
            " ormalization)                                                                                    \n",
            "                                                                                                  \n",
            " global_average_pooling1d (Glob  (None, 39)          0           ['layer_normalization_34[0][0]'] \n",
            " alAveragePooling1D)                                                                              \n",
            "                                                                                                  \n",
            " dense_34 (Dense)               (None, 2)            80          ['global_average_pooling1d[0][0]'\n",
            "                                                                 ]                                \n",
            "                                                                                                  \n",
            "==================================================================================================\n",
            "Total params: 444,476\n",
            "Trainable params: 444,476\n",
            "Non-trainable params: 0\n",
            "__________________________________________________________________________________________________\n"
          ]
        }
      ]
    },
    {
      "cell_type": "code",
      "source": [
        "checkpoint_filepath = '/content/gdrive/MyDrive/Checkpoints/lad-of-pretrained-on-ucf/checkpoint.tf/'\n",
        "model_checkpoint = model_checkpoint_callback = tf.keras.callbacks.ModelCheckpoint(\n",
        "                                filepath=checkpoint_filepath,\n",
        "                                save_weights_only=True,\n",
        "                                monitor='val_loss',\n",
        "                                mode='min',\n",
        "                                save_best_only=True\n",
        "                                )"
      ],
      "metadata": {
        "id": "YtRHscscND2J"
      },
      "execution_count": 24,
      "outputs": []
    },
    {
      "cell_type": "code",
      "source": [
        "from keras.callbacks import ReduceLROnPlateau\n",
        "checkpoint_filepath = '/content/gdrive/MyDrive/Checkpoints/lad-of-pretrained-on-ucf/checkpoint.tf/'\n",
        "checkpoint = model_checkpoint_callback = tf.keras.callbacks.ModelCheckpoint(\n",
        "                                filepath=checkpoint_filepath,\n",
        "                                save_weights_only=True,\n",
        "                                monitor='val_loss',\n",
        "                                mode='min',\n",
        "                                save_best_only=True\n",
        "                                )\n",
        "\n",
        "earlystopping = tf.keras.callbacks.EarlyStopping(\n",
        "                     monitor=\"val_loss\",\n",
        "                     min_delta=0.025,\n",
        "                     patience=5,\n",
        "                     verbose=0,\n",
        "                     mode=\"min\",\n",
        "                     baseline=None,\n",
        "                     restore_best_weights=False\n",
        "                 )\n",
        "\n",
        "values = np.linspace(0.00001,LEARNING_RATE,14)[::-1].astype(np.float32)\n",
        "boundaries = np.linspace(5, 45,13)[:values.shape[0]-1].astype(np.int32)\n",
        "\n",
        "scheduler = keras.optimizers.schedules.PiecewiseConstantDecay(\n",
        "    list(boundaries), list(values))\n",
        "\n",
        "lr_scheduler = tf.keras.callbacks.LearningRateScheduler(scheduler,verbose=1)\n",
        "\n",
        "reduce_lr = ReduceLROnPlateau(monitor='val_loss', factor=0.5,\n",
        "                              patience=3, min_lr=0.000001)\n",
        "\n",
        "callbacks = [checkpoint, lr_scheduler, reduce_lr]"
      ],
      "metadata": {
        "id": "K4C-FTdXNWCg"
      },
      "execution_count": 25,
      "outputs": []
    },
    {
      "cell_type": "code",
      "source": [
        "def run_experiment():\n",
        "    model = tf.keras.models.load_model(MODEL_PATH)\n",
        "\n",
        "    # Compile the model with the optimizer, loss function\n",
        "    # and the metrics.\n",
        "    new_model = model\n",
        "    opt = keras.optimizers.Adam(learning_rate=LEARNING_RATE)\n",
        "    loss_fn = keras.losses.BinaryCrossentropy(from_logits=False)\n",
        "    new_model.compile(loss=loss_fn,optimizer=opt,metrics=['accuracy'])\n",
        "    #model.load_weights(checkpoint_filepath)\n",
        "    # Train the model.\n",
        "    history = new_model.fit(training_generator, epochs=20, validation_data=(validation_generator), callbacks=[model_checkpoint, callbacks])\n",
        "\n",
        "    return new_model, history\n",
        "\n",
        "\n",
        "model, history = run_experiment()"
      ],
      "metadata": {
        "colab": {
          "base_uri": "https://localhost:8080/"
        },
        "id": "a8LljGphMLaw",
        "outputId": "a9eb2210-fd7d-478a-eccc-3b45809d8f5b"
      },
      "execution_count": 26,
      "outputs": [
        {
          "output_type": "stream",
          "name": "stdout",
          "text": [
            "\n",
            "Epoch 1: LearningRateScheduler setting learning rate to 9.999999747378752e-05.\n",
            "Epoch 1/20\n",
            "597/597 [==============================] - 136s 110ms/step - loss: 0.7026 - accuracy: 0.5406 - val_loss: 0.6938 - val_accuracy: 0.4991 - lr: 1.0000e-04\n",
            "\n",
            "Epoch 2: LearningRateScheduler setting learning rate to 9.999999747378752e-05.\n",
            "Epoch 2/20\n",
            "597/597 [==============================] - 64s 107ms/step - loss: 0.6724 - accuracy: 0.5846 - val_loss: 0.6867 - val_accuracy: 0.5376 - lr: 1.0000e-04\n",
            "\n",
            "Epoch 3: LearningRateScheduler setting learning rate to 9.999999747378752e-05.\n",
            "Epoch 3/20\n",
            "597/597 [==============================] - 61s 101ms/step - loss: 0.6548 - accuracy: 0.6074 - val_loss: 0.7065 - val_accuracy: 0.5385 - lr: 1.0000e-04\n",
            "\n",
            "Epoch 4: LearningRateScheduler setting learning rate to 9.999999747378752e-05.\n",
            "Epoch 4/20\n",
            "597/597 [==============================] - 61s 102ms/step - loss: 0.6311 - accuracy: 0.6386 - val_loss: 0.7415 - val_accuracy: 0.5323 - lr: 1.0000e-04\n",
            "\n",
            "Epoch 5: LearningRateScheduler setting learning rate to 9.999999747378752e-05.\n",
            "Epoch 5/20\n",
            "597/597 [==============================] - 60s 101ms/step - loss: 0.6080 - accuracy: 0.6656 - val_loss: 0.7146 - val_accuracy: 0.5612 - lr: 1.0000e-04\n",
            "\n",
            "Epoch 6: LearningRateScheduler setting learning rate to 9.999999747378752e-05.\n",
            "Epoch 6/20\n",
            "597/597 [==============================] - 63s 105ms/step - loss: 0.5790 - accuracy: 0.6859 - val_loss: 0.7950 - val_accuracy: 0.5323 - lr: 1.0000e-04\n",
            "\n",
            "Epoch 7: LearningRateScheduler setting learning rate to 9.307692380389199e-05.\n",
            "Epoch 7/20\n",
            "597/597 [==============================] - 61s 103ms/step - loss: 0.5531 - accuracy: 0.7027 - val_loss: 0.8344 - val_accuracy: 0.5297 - lr: 9.3077e-05\n",
            "\n",
            "Epoch 8: LearningRateScheduler setting learning rate to 9.307692380389199e-05.\n",
            "Epoch 8/20\n",
            "597/597 [==============================] - 61s 103ms/step - loss: 0.5266 - accuracy: 0.7255 - val_loss: 0.8273 - val_accuracy: 0.5664 - lr: 9.3077e-05\n",
            "\n",
            "Epoch 9: LearningRateScheduler setting learning rate to 9.307692380389199e-05.\n",
            "Epoch 9/20\n",
            "597/597 [==============================] - 60s 101ms/step - loss: 0.5026 - accuracy: 0.7366 - val_loss: 0.8719 - val_accuracy: 0.5594 - lr: 9.3077e-05\n",
            "\n",
            "Epoch 10: LearningRateScheduler setting learning rate to 8.615384285803884e-05.\n",
            "Epoch 10/20\n",
            "597/597 [==============================] - 61s 103ms/step - loss: 0.4722 - accuracy: 0.7588 - val_loss: 0.8998 - val_accuracy: 0.5612 - lr: 8.6154e-05\n",
            "\n",
            "Epoch 11: LearningRateScheduler setting learning rate to 8.615384285803884e-05.\n",
            "Epoch 11/20\n",
            "597/597 [==============================] - 60s 101ms/step - loss: 0.4519 - accuracy: 0.7753 - val_loss: 0.9858 - val_accuracy: 0.5673 - lr: 8.6154e-05\n",
            "\n",
            "Epoch 12: LearningRateScheduler setting learning rate to 8.615384285803884e-05.\n",
            "Epoch 12/20\n",
            "597/597 [==============================] - 61s 102ms/step - loss: 0.4315 - accuracy: 0.7850 - val_loss: 1.0082 - val_accuracy: 0.5769 - lr: 8.6154e-05\n",
            "\n",
            "Epoch 13: LearningRateScheduler setting learning rate to 7.923076918814331e-05.\n",
            "Epoch 13/20\n",
            "597/597 [==============================] - 61s 103ms/step - loss: 0.4097 - accuracy: 0.7967 - val_loss: 1.0184 - val_accuracy: 0.5743 - lr: 7.9231e-05\n",
            "\n",
            "Epoch 14: LearningRateScheduler setting learning rate to 7.923076918814331e-05.\n",
            "Epoch 14/20\n",
            "597/597 [==============================] - 61s 102ms/step - loss: 0.3934 - accuracy: 0.8067 - val_loss: 1.1122 - val_accuracy: 0.5559 - lr: 7.9231e-05\n",
            "\n",
            "Epoch 15: LearningRateScheduler setting learning rate to 7.923076918814331e-05.\n",
            "Epoch 15/20\n",
            "597/597 [==============================] - 61s 102ms/step - loss: 0.3832 - accuracy: 0.8139 - val_loss: 1.1386 - val_accuracy: 0.5699 - lr: 7.9231e-05\n",
            "\n",
            "Epoch 16: LearningRateScheduler setting learning rate to 7.923076918814331e-05.\n",
            "Epoch 16/20\n",
            "597/597 [==============================] - 61s 103ms/step - loss: 0.3711 - accuracy: 0.8189 - val_loss: 1.2277 - val_accuracy: 0.5612 - lr: 7.9231e-05\n",
            "\n",
            "Epoch 17: LearningRateScheduler setting learning rate to 7.230769551824778e-05.\n",
            "Epoch 17/20\n",
            "597/597 [==============================] - 60s 100ms/step - loss: 0.3457 - accuracy: 0.8327 - val_loss: 1.1848 - val_accuracy: 0.5734 - lr: 7.2308e-05\n",
            "\n",
            "Epoch 18: LearningRateScheduler setting learning rate to 7.230769551824778e-05.\n",
            "Epoch 18/20\n",
            "597/597 [==============================] - 62s 104ms/step - loss: 0.3333 - accuracy: 0.8375 - val_loss: 1.2761 - val_accuracy: 0.5612 - lr: 7.2308e-05\n",
            "\n",
            "Epoch 19: LearningRateScheduler setting learning rate to 7.230769551824778e-05.\n",
            "Epoch 19/20\n",
            "597/597 [==============================] - 60s 100ms/step - loss: 0.3383 - accuracy: 0.8396 - val_loss: 1.2564 - val_accuracy: 0.5691 - lr: 7.2308e-05\n",
            "\n",
            "Epoch 20: LearningRateScheduler setting learning rate to 6.538461457239464e-05.\n",
            "Epoch 20/20\n",
            "597/597 [==============================] - 62s 104ms/step - loss: 0.3293 - accuracy: 0.8438 - val_loss: 1.3081 - val_accuracy: 0.5708 - lr: 6.5385e-05\n"
          ]
        }
      ]
    },
    {
      "cell_type": "markdown",
      "source": [
        "#Testing"
      ],
      "metadata": {
        "id": "voSmkewE1ZcC"
      }
    },
    {
      "cell_type": "code",
      "source": [
        "# @title\n",
        "import plotly.figure_factory as ff\n",
        "\n",
        "def eval_model(model,x,y):\n",
        "#     print(model.evaluate(x.reshape(x.shape+(1,)),y_encoded))\n",
        "    y_pred = model.predict(x)\n",
        "    y_pred = np.argmax(y_pred,axis = -1)\n",
        "    y_numbers = np.argmax(y,axis=-1)\n",
        "\n",
        "    target_names = ['normal','violence']\n",
        "    labels = target_names\n",
        "    tick_marks = np.arange(len(labels))\n",
        "\n",
        "    print(classification_report(y_numbers, y_pred, target_names=target_names))\n",
        "\n",
        "    z = tf.math.confusion_matrix(y_numbers,y_pred).numpy().astype(np.int64)\n",
        "    z = np.around(z.astype('float') / z.sum(axis=1)[:, np.newaxis], decimals=3)\n",
        "\n",
        "    x = target_names\n",
        "    y = target_names\n",
        "\n",
        "    # change each element of z to type string for annotations\n",
        "    z_text = [[str(y) for y in x] for x in z]\n",
        "\n",
        "    # set up figure\n",
        "    fig = ff.create_annotated_heatmap(z, x=x, y=y, annotation_text=z_text, colorscale='Viridis')\n",
        "\n",
        "    # add title\n",
        "    fig.update_layout(title_text='<i><b>Confusion matrix</b></i>',\n",
        "                    #xaxis = dict(title='x'),\n",
        "                    #yaxis = dict(title='x')\n",
        "                    )\n",
        "\n",
        "    # add custom xaxis title\n",
        "    fig.add_annotation(dict(font=dict(color=\"black\",size=14),\n",
        "                            x=0.5,\n",
        "                            y=-0.15,\n",
        "                            showarrow=False,\n",
        "                            text=\"Predicted value\",\n",
        "                            xref=\"paper\",\n",
        "                            yref=\"paper\"))\n",
        "\n",
        "    # add custom yaxis title\n",
        "    fig.add_annotation(dict(font=dict(color=\"black\",size=14),\n",
        "                            x=-0.35,\n",
        "                            y=0.5,\n",
        "                            showarrow=False,\n",
        "                            text=\"Real value\",\n",
        "                            textangle=-90,\n",
        "                            xref=\"paper\",\n",
        "                            yref=\"paper\"))\n",
        "\n",
        "    # adjust margins to make room for yaxis title\n",
        "    fig.update_layout(margin=dict(t=50, l=200))\n",
        "\n",
        "    # add colorbar\n",
        "    fig['data'][0]['showscale'] = True\n",
        "    fig.show()\n"
      ],
      "metadata": {
        "id": "4SJywpkb7PC0"
      },
      "execution_count": 27,
      "outputs": []
    },
    {
      "cell_type": "markdown",
      "source": [
        "##Note: you may replicate the next cell to test on the train, validation or test dataset"
      ],
      "metadata": {
        "id": "fzPT2hT62LIj"
      }
    },
    {
      "cell_type": "markdown",
      "source": [
        "##Testing on LAd2000"
      ],
      "metadata": {
        "id": "EKktG9Yj578M"
      }
    },
    {
      "cell_type": "code",
      "source": [
        "eval_model(model, X_test_lad, y_test_lad)"
      ],
      "metadata": {
        "colab": {
          "base_uri": "https://localhost:8080/",
          "height": 716
        },
        "id": "ylEBMmz07XO2",
        "outputId": "bd3c54c6-8a60-445c-ba92-2fa2044fa996"
      },
      "execution_count": 28,
      "outputs": [
        {
          "output_type": "stream",
          "name": "stdout",
          "text": [
            "38/38 [==============================] - 8s 77ms/step\n",
            "              precision    recall  f1-score   support\n",
            "\n",
            "      normal       0.55      0.63      0.58       570\n",
            "    violence       0.60      0.52      0.56       616\n",
            "\n",
            "    accuracy                           0.57      1186\n",
            "   macro avg       0.57      0.57      0.57      1186\n",
            "weighted avg       0.57      0.57      0.57      1186\n",
            "\n"
          ]
        },
        {
          "output_type": "display_data",
          "data": {
            "text/html": [
              "<html>\n",
              "<head><meta charset=\"utf-8\" /></head>\n",
              "<body>\n",
              "    <div>            <script src=\"https://cdnjs.cloudflare.com/ajax/libs/mathjax/2.7.5/MathJax.js?config=TeX-AMS-MML_SVG\"></script><script type=\"text/javascript\">if (window.MathJax && window.MathJax.Hub && window.MathJax.Hub.Config) {window.MathJax.Hub.Config({SVG: {font: \"STIX-Web\"}});}</script>                <script type=\"text/javascript\">window.PlotlyConfig = {MathJaxConfig: 'local'};</script>\n",
              "        <script src=\"https://cdn.plot.ly/plotly-2.18.2.min.js\"></script>                <div id=\"cc0e6220-ac5b-4b12-9143-e396ac8c2018\" class=\"plotly-graph-div\" style=\"height:525px; width:100%;\"></div>            <script type=\"text/javascript\">                                    window.PLOTLYENV=window.PLOTLYENV || {};                                    if (document.getElementById(\"cc0e6220-ac5b-4b12-9143-e396ac8c2018\")) {                    Plotly.newPlot(                        \"cc0e6220-ac5b-4b12-9143-e396ac8c2018\",                        [{\"colorscale\":[[0.0,\"#440154\"],[0.1111111111111111,\"#482878\"],[0.2222222222222222,\"#3e4989\"],[0.3333333333333333,\"#31688e\"],[0.4444444444444444,\"#26828e\"],[0.5555555555555556,\"#1f9e89\"],[0.6666666666666666,\"#35b779\"],[0.7777777777777778,\"#6ece58\"],[0.8888888888888888,\"#b5de2b\"],[1.0,\"#fde725\"]],\"reversescale\":false,\"showscale\":true,\"x\":[\"normal\",\"violence\"],\"y\":[\"normal\",\"violence\"],\"z\":[[0.626,0.374],[0.481,0.519]],\"type\":\"heatmap\"}],                        {\"annotations\":[{\"font\":{\"color\":\"#000000\"},\"showarrow\":false,\"text\":\"0.626\",\"x\":\"normal\",\"xref\":\"x\",\"y\":\"normal\",\"yref\":\"y\"},{\"font\":{\"color\":\"#FFFFFF\"},\"showarrow\":false,\"text\":\"0.374\",\"x\":\"violence\",\"xref\":\"x\",\"y\":\"normal\",\"yref\":\"y\"},{\"font\":{\"color\":\"#FFFFFF\"},\"showarrow\":false,\"text\":\"0.481\",\"x\":\"normal\",\"xref\":\"x\",\"y\":\"violence\",\"yref\":\"y\"},{\"font\":{\"color\":\"#000000\"},\"showarrow\":false,\"text\":\"0.519\",\"x\":\"violence\",\"xref\":\"x\",\"y\":\"violence\",\"yref\":\"y\"},{\"font\":{\"color\":\"black\",\"size\":14},\"showarrow\":false,\"text\":\"Predicted value\",\"x\":0.5,\"xref\":\"paper\",\"y\":-0.15,\"yref\":\"paper\"},{\"font\":{\"color\":\"black\",\"size\":14},\"showarrow\":false,\"text\":\"Real value\",\"textangle\":-90,\"x\":-0.35,\"xref\":\"paper\",\"y\":0.5,\"yref\":\"paper\"}],\"xaxis\":{\"dtick\":1,\"gridcolor\":\"rgb(0, 0, 0)\",\"side\":\"top\",\"ticks\":\"\"},\"yaxis\":{\"dtick\":1,\"ticks\":\"\",\"ticksuffix\":\"  \"},\"template\":{\"data\":{\"histogram2dcontour\":[{\"type\":\"histogram2dcontour\",\"colorbar\":{\"outlinewidth\":0,\"ticks\":\"\"},\"colorscale\":[[0.0,\"#0d0887\"],[0.1111111111111111,\"#46039f\"],[0.2222222222222222,\"#7201a8\"],[0.3333333333333333,\"#9c179e\"],[0.4444444444444444,\"#bd3786\"],[0.5555555555555556,\"#d8576b\"],[0.6666666666666666,\"#ed7953\"],[0.7777777777777778,\"#fb9f3a\"],[0.8888888888888888,\"#fdca26\"],[1.0,\"#f0f921\"]]}],\"choropleth\":[{\"type\":\"choropleth\",\"colorbar\":{\"outlinewidth\":0,\"ticks\":\"\"}}],\"histogram2d\":[{\"type\":\"histogram2d\",\"colorbar\":{\"outlinewidth\":0,\"ticks\":\"\"},\"colorscale\":[[0.0,\"#0d0887\"],[0.1111111111111111,\"#46039f\"],[0.2222222222222222,\"#7201a8\"],[0.3333333333333333,\"#9c179e\"],[0.4444444444444444,\"#bd3786\"],[0.5555555555555556,\"#d8576b\"],[0.6666666666666666,\"#ed7953\"],[0.7777777777777778,\"#fb9f3a\"],[0.8888888888888888,\"#fdca26\"],[1.0,\"#f0f921\"]]}],\"heatmap\":[{\"type\":\"heatmap\",\"colorbar\":{\"outlinewidth\":0,\"ticks\":\"\"},\"colorscale\":[[0.0,\"#0d0887\"],[0.1111111111111111,\"#46039f\"],[0.2222222222222222,\"#7201a8\"],[0.3333333333333333,\"#9c179e\"],[0.4444444444444444,\"#bd3786\"],[0.5555555555555556,\"#d8576b\"],[0.6666666666666666,\"#ed7953\"],[0.7777777777777778,\"#fb9f3a\"],[0.8888888888888888,\"#fdca26\"],[1.0,\"#f0f921\"]]}],\"heatmapgl\":[{\"type\":\"heatmapgl\",\"colorbar\":{\"outlinewidth\":0,\"ticks\":\"\"},\"colorscale\":[[0.0,\"#0d0887\"],[0.1111111111111111,\"#46039f\"],[0.2222222222222222,\"#7201a8\"],[0.3333333333333333,\"#9c179e\"],[0.4444444444444444,\"#bd3786\"],[0.5555555555555556,\"#d8576b\"],[0.6666666666666666,\"#ed7953\"],[0.7777777777777778,\"#fb9f3a\"],[0.8888888888888888,\"#fdca26\"],[1.0,\"#f0f921\"]]}],\"contourcarpet\":[{\"type\":\"contourcarpet\",\"colorbar\":{\"outlinewidth\":0,\"ticks\":\"\"}}],\"contour\":[{\"type\":\"contour\",\"colorbar\":{\"outlinewidth\":0,\"ticks\":\"\"},\"colorscale\":[[0.0,\"#0d0887\"],[0.1111111111111111,\"#46039f\"],[0.2222222222222222,\"#7201a8\"],[0.3333333333333333,\"#9c179e\"],[0.4444444444444444,\"#bd3786\"],[0.5555555555555556,\"#d8576b\"],[0.6666666666666666,\"#ed7953\"],[0.7777777777777778,\"#fb9f3a\"],[0.8888888888888888,\"#fdca26\"],[1.0,\"#f0f921\"]]}],\"surface\":[{\"type\":\"surface\",\"colorbar\":{\"outlinewidth\":0,\"ticks\":\"\"},\"colorscale\":[[0.0,\"#0d0887\"],[0.1111111111111111,\"#46039f\"],[0.2222222222222222,\"#7201a8\"],[0.3333333333333333,\"#9c179e\"],[0.4444444444444444,\"#bd3786\"],[0.5555555555555556,\"#d8576b\"],[0.6666666666666666,\"#ed7953\"],[0.7777777777777778,\"#fb9f3a\"],[0.8888888888888888,\"#fdca26\"],[1.0,\"#f0f921\"]]}],\"mesh3d\":[{\"type\":\"mesh3d\",\"colorbar\":{\"outlinewidth\":0,\"ticks\":\"\"}}],\"scatter\":[{\"fillpattern\":{\"fillmode\":\"overlay\",\"size\":10,\"solidity\":0.2},\"type\":\"scatter\"}],\"parcoords\":[{\"type\":\"parcoords\",\"line\":{\"colorbar\":{\"outlinewidth\":0,\"ticks\":\"\"}}}],\"scatterpolargl\":[{\"type\":\"scatterpolargl\",\"marker\":{\"colorbar\":{\"outlinewidth\":0,\"ticks\":\"\"}}}],\"bar\":[{\"error_x\":{\"color\":\"#2a3f5f\"},\"error_y\":{\"color\":\"#2a3f5f\"},\"marker\":{\"line\":{\"color\":\"#E5ECF6\",\"width\":0.5},\"pattern\":{\"fillmode\":\"overlay\",\"size\":10,\"solidity\":0.2}},\"type\":\"bar\"}],\"scattergeo\":[{\"type\":\"scattergeo\",\"marker\":{\"colorbar\":{\"outlinewidth\":0,\"ticks\":\"\"}}}],\"scatterpolar\":[{\"type\":\"scatterpolar\",\"marker\":{\"colorbar\":{\"outlinewidth\":0,\"ticks\":\"\"}}}],\"histogram\":[{\"marker\":{\"pattern\":{\"fillmode\":\"overlay\",\"size\":10,\"solidity\":0.2}},\"type\":\"histogram\"}],\"scattergl\":[{\"type\":\"scattergl\",\"marker\":{\"colorbar\":{\"outlinewidth\":0,\"ticks\":\"\"}}}],\"scatter3d\":[{\"type\":\"scatter3d\",\"line\":{\"colorbar\":{\"outlinewidth\":0,\"ticks\":\"\"}},\"marker\":{\"colorbar\":{\"outlinewidth\":0,\"ticks\":\"\"}}}],\"scattermapbox\":[{\"type\":\"scattermapbox\",\"marker\":{\"colorbar\":{\"outlinewidth\":0,\"ticks\":\"\"}}}],\"scatterternary\":[{\"type\":\"scatterternary\",\"marker\":{\"colorbar\":{\"outlinewidth\":0,\"ticks\":\"\"}}}],\"scattercarpet\":[{\"type\":\"scattercarpet\",\"marker\":{\"colorbar\":{\"outlinewidth\":0,\"ticks\":\"\"}}}],\"carpet\":[{\"aaxis\":{\"endlinecolor\":\"#2a3f5f\",\"gridcolor\":\"white\",\"linecolor\":\"white\",\"minorgridcolor\":\"white\",\"startlinecolor\":\"#2a3f5f\"},\"baxis\":{\"endlinecolor\":\"#2a3f5f\",\"gridcolor\":\"white\",\"linecolor\":\"white\",\"minorgridcolor\":\"white\",\"startlinecolor\":\"#2a3f5f\"},\"type\":\"carpet\"}],\"table\":[{\"cells\":{\"fill\":{\"color\":\"#EBF0F8\"},\"line\":{\"color\":\"white\"}},\"header\":{\"fill\":{\"color\":\"#C8D4E3\"},\"line\":{\"color\":\"white\"}},\"type\":\"table\"}],\"barpolar\":[{\"marker\":{\"line\":{\"color\":\"#E5ECF6\",\"width\":0.5},\"pattern\":{\"fillmode\":\"overlay\",\"size\":10,\"solidity\":0.2}},\"type\":\"barpolar\"}],\"pie\":[{\"automargin\":true,\"type\":\"pie\"}]},\"layout\":{\"autotypenumbers\":\"strict\",\"colorway\":[\"#636efa\",\"#EF553B\",\"#00cc96\",\"#ab63fa\",\"#FFA15A\",\"#19d3f3\",\"#FF6692\",\"#B6E880\",\"#FF97FF\",\"#FECB52\"],\"font\":{\"color\":\"#2a3f5f\"},\"hovermode\":\"closest\",\"hoverlabel\":{\"align\":\"left\"},\"paper_bgcolor\":\"white\",\"plot_bgcolor\":\"#E5ECF6\",\"polar\":{\"bgcolor\":\"#E5ECF6\",\"angularaxis\":{\"gridcolor\":\"white\",\"linecolor\":\"white\",\"ticks\":\"\"},\"radialaxis\":{\"gridcolor\":\"white\",\"linecolor\":\"white\",\"ticks\":\"\"}},\"ternary\":{\"bgcolor\":\"#E5ECF6\",\"aaxis\":{\"gridcolor\":\"white\",\"linecolor\":\"white\",\"ticks\":\"\"},\"baxis\":{\"gridcolor\":\"white\",\"linecolor\":\"white\",\"ticks\":\"\"},\"caxis\":{\"gridcolor\":\"white\",\"linecolor\":\"white\",\"ticks\":\"\"}},\"coloraxis\":{\"colorbar\":{\"outlinewidth\":0,\"ticks\":\"\"}},\"colorscale\":{\"sequential\":[[0.0,\"#0d0887\"],[0.1111111111111111,\"#46039f\"],[0.2222222222222222,\"#7201a8\"],[0.3333333333333333,\"#9c179e\"],[0.4444444444444444,\"#bd3786\"],[0.5555555555555556,\"#d8576b\"],[0.6666666666666666,\"#ed7953\"],[0.7777777777777778,\"#fb9f3a\"],[0.8888888888888888,\"#fdca26\"],[1.0,\"#f0f921\"]],\"sequentialminus\":[[0.0,\"#0d0887\"],[0.1111111111111111,\"#46039f\"],[0.2222222222222222,\"#7201a8\"],[0.3333333333333333,\"#9c179e\"],[0.4444444444444444,\"#bd3786\"],[0.5555555555555556,\"#d8576b\"],[0.6666666666666666,\"#ed7953\"],[0.7777777777777778,\"#fb9f3a\"],[0.8888888888888888,\"#fdca26\"],[1.0,\"#f0f921\"]],\"diverging\":[[0,\"#8e0152\"],[0.1,\"#c51b7d\"],[0.2,\"#de77ae\"],[0.3,\"#f1b6da\"],[0.4,\"#fde0ef\"],[0.5,\"#f7f7f7\"],[0.6,\"#e6f5d0\"],[0.7,\"#b8e186\"],[0.8,\"#7fbc41\"],[0.9,\"#4d9221\"],[1,\"#276419\"]]},\"xaxis\":{\"gridcolor\":\"white\",\"linecolor\":\"white\",\"ticks\":\"\",\"title\":{\"standoff\":15},\"zerolinecolor\":\"white\",\"automargin\":true,\"zerolinewidth\":2},\"yaxis\":{\"gridcolor\":\"white\",\"linecolor\":\"white\",\"ticks\":\"\",\"title\":{\"standoff\":15},\"zerolinecolor\":\"white\",\"automargin\":true,\"zerolinewidth\":2},\"scene\":{\"xaxis\":{\"backgroundcolor\":\"#E5ECF6\",\"gridcolor\":\"white\",\"linecolor\":\"white\",\"showbackground\":true,\"ticks\":\"\",\"zerolinecolor\":\"white\",\"gridwidth\":2},\"yaxis\":{\"backgroundcolor\":\"#E5ECF6\",\"gridcolor\":\"white\",\"linecolor\":\"white\",\"showbackground\":true,\"ticks\":\"\",\"zerolinecolor\":\"white\",\"gridwidth\":2},\"zaxis\":{\"backgroundcolor\":\"#E5ECF6\",\"gridcolor\":\"white\",\"linecolor\":\"white\",\"showbackground\":true,\"ticks\":\"\",\"zerolinecolor\":\"white\",\"gridwidth\":2}},\"shapedefaults\":{\"line\":{\"color\":\"#2a3f5f\"}},\"annotationdefaults\":{\"arrowcolor\":\"#2a3f5f\",\"arrowhead\":0,\"arrowwidth\":1},\"geo\":{\"bgcolor\":\"white\",\"landcolor\":\"#E5ECF6\",\"subunitcolor\":\"white\",\"showland\":true,\"showlakes\":true,\"lakecolor\":\"white\"},\"title\":{\"x\":0.05},\"mapbox\":{\"style\":\"light\"}}},\"title\":{\"text\":\"<i><b>Confusion matrix</b></i>\"},\"margin\":{\"t\":50,\"l\":200}},                        {\"responsive\": true}                    ).then(function(){\n",
              "                            \n",
              "var gd = document.getElementById('cc0e6220-ac5b-4b12-9143-e396ac8c2018');\n",
              "var x = new MutationObserver(function (mutations, observer) {{\n",
              "        var display = window.getComputedStyle(gd).display;\n",
              "        if (!display || display === 'none') {{\n",
              "            console.log([gd, 'removed!']);\n",
              "            Plotly.purge(gd);\n",
              "            observer.disconnect();\n",
              "        }}\n",
              "}});\n",
              "\n",
              "// Listen for the removal of the full notebook cells\n",
              "var notebookContainer = gd.closest('#notebook-container');\n",
              "if (notebookContainer) {{\n",
              "    x.observe(notebookContainer, {childList: true});\n",
              "}}\n",
              "\n",
              "// Listen for the clearing of the current output cell\n",
              "var outputEl = gd.closest('.output');\n",
              "if (outputEl) {{\n",
              "    x.observe(outputEl, {childList: true});\n",
              "}}\n",
              "\n",
              "                        })                };                            </script>        </div>\n",
              "</body>\n",
              "</html>"
            ]
          },
          "metadata": {}
        }
      ]
    },
    {
      "cell_type": "code",
      "source": [
        "model.evaluate(X_test_lad, y_test_lad)"
      ],
      "metadata": {
        "id": "r3Ed-OUE2Frw",
        "colab": {
          "base_uri": "https://localhost:8080/"
        },
        "outputId": "d85c8008-8887-4dd7-d443-b81a395e916f"
      },
      "execution_count": 29,
      "outputs": [
        {
          "output_type": "stream",
          "name": "stdout",
          "text": [
            "38/38 [==============================] - 2s 52ms/step - loss: 1.2314 - accuracy: 0.5708\n"
          ]
        },
        {
          "output_type": "execute_result",
          "data": {
            "text/plain": [
              "[1.2314329147338867, 0.5708262920379639]"
            ]
          },
          "metadata": {},
          "execution_count": 29
        }
      ]
    },
    {
      "cell_type": "code",
      "source": [
        "import seaborn as sns\n",
        "import numpy as np\n",
        "import matplotlib.pyplot as plt\n",
        "from sklearn.metrics import confusion_matrix as cm\n",
        "\n",
        "def eval_model_f(model,x,y):\n",
        "#     print(model.evaluate(x.reshape(x.shape+(1,)),y_encoded))\n",
        "    y_pred = model.predict(x)\n",
        "    y_pred = np.argmax(y_pred,axis = -1)\n",
        "    y_numbers = np.argmax(y,axis=-1)\n",
        "\n",
        "    target_names = [\n",
        "  'normal', 'violence'\n",
        "    ]\n",
        "    tick_marks = np.arange(len(target_names))\n",
        "    print(classification_report(y_numbers, y_pred, target_names=target_names))\n",
        "\n",
        "    conf = cm(y_numbers,y_pred)\n",
        "\n",
        "    sns.heatmap(conf,annot=True)\n",
        "    plt.xticks(tick_marks,target_names,rotation=45)\n",
        "    plt.yticks(tick_marks,target_names,rotation=0)\n",
        "    plt.show()"
      ],
      "metadata": {
        "id": "Qyiito7AWq5M"
      },
      "execution_count": 30,
      "outputs": []
    },
    {
      "cell_type": "code",
      "source": [
        "eval_model_f(model,X_test_lad,y_test_lad)"
      ],
      "metadata": {
        "id": "d9Y56X8nWqxF",
        "colab": {
          "base_uri": "https://localhost:8080/",
          "height": 648
        },
        "outputId": "31394aac-1f6e-4e8d-85ec-7662a2365daf"
      },
      "execution_count": 31,
      "outputs": [
        {
          "output_type": "stream",
          "name": "stdout",
          "text": [
            "38/38 [==============================] - 2s 41ms/step\n",
            "              precision    recall  f1-score   support\n",
            "\n",
            "      normal       0.55      0.63      0.58       570\n",
            "    violence       0.60      0.52      0.56       616\n",
            "\n",
            "    accuracy                           0.57      1186\n",
            "   macro avg       0.57      0.57      0.57      1186\n",
            "weighted avg       0.57      0.57      0.57      1186\n",
            "\n"
          ]
        },
        {
          "output_type": "display_data",
          "data": {
            "text/plain": [
              "<Figure size 640x480 with 2 Axes>"
            ],
            "image/png": "[encoded data removed]"
          },
          "metadata": {}
        }
      ]
    }
  ]
}