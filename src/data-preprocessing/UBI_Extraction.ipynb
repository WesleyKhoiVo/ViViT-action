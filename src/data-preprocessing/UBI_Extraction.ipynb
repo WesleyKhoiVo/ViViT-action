{
  "nbformat": 4,
  "nbformat_minor": 0,
  "metadata": {
    "colab": {
      "provenance": [],
      "include_colab_link": true
    },
    "kernelspec": {
      "name": "python3",
      "display_name": "Python 3"
    },
    "language_info": {
      "name": "python"
    }
  },
  "cells": [
    {
      "cell_type": "markdown",
      "metadata": {
        "id": "view-in-github",
        "colab_type": "text"
      },
      "source": [
        "<a href=\"https://colab.research.google.com/github/WesleyKhoiVo/ViViT-action/blob/main/src/data-preprocessing/UBI_Extraction.ipynb\" target=\"_parent\"><img src=\"https://colab.research.google.com/assets/colab-badge.svg\" alt=\"Open In Colab\"/></a>"
      ]
    },
    {
      "cell_type": "markdown",
      "source": [
        "# Extracting packets and labels fron UBI Fights dataset\n",
        "\n",
        "Packet size = 28 frames * 28 W * 28 H"
      ],
      "metadata": {
        "id": "JMAkxvcvjCzi"
      }
    },
    {
      "cell_type": "code",
      "execution_count": 2,
      "metadata": {
        "colab": {
          "base_uri": "https://localhost:8080/"
        },
        "id": "rG0CZHdcimcv",
        "outputId": "f4b06438-e84e-4f9c-eaf2-dc9b4d4dd782"
      },
      "outputs": [
        {
          "output_type": "stream",
          "name": "stdout",
          "text": [
            "Mounted at /content/drive\n"
          ]
        }
      ],
      "source": [
        "from google.colab import drive\n",
        "drive.mount('/content/drive')"
      ]
    },
    {
      "cell_type": "code",
      "source": [
        "! pip install npy_append_array scikit-video opencv-python scikit-image"
      ],
      "metadata": {
        "colab": {
          "base_uri": "https://localhost:8080/"
        },
        "id": "-n2bE449ojAi",
        "outputId": "91c6f540-79a6-4259-e98c-cf9534829d85"
      },
      "execution_count": 3,
      "outputs": [
        {
          "output_type": "stream",
          "name": "stdout",
          "text": [
            "Collecting npy_append_array\n",
            "  Downloading npy_append_array-0.9.16-py3-none-any.whl (9.0 kB)\n",
            "Collecting scikit-video\n",
            "  Downloading scikit_video-1.1.11-py2.py3-none-any.whl (2.3 MB)\n",
            "\u001b[2K     \u001b[90m━━━━━━━━━━━━━━━━━━━━━━━━━━━━━━━━━━━━━━━━\u001b[0m \u001b[32m2.3/2.3 MB\u001b[0m \u001b[31m35.8 MB/s\u001b[0m eta \u001b[36m0:00:00\u001b[0m\n",
            "\u001b[?25hRequirement already satisfied: opencv-python in /usr/local/lib/python3.10/dist-packages (4.7.0.72)\n",
            "Requirement already satisfied: scikit-image in /usr/local/lib/python3.10/dist-packages (0.19.3)\n",
            "Requirement already satisfied: numpy in /usr/local/lib/python3.10/dist-packages (from scikit-video) (1.22.4)\n",
            "Requirement already satisfied: pillow in /usr/local/lib/python3.10/dist-packages (from scikit-video) (8.4.0)\n",
            "Requirement already satisfied: scipy in /usr/local/lib/python3.10/dist-packages (from scikit-video) (1.10.1)\n",
            "Requirement already satisfied: networkx>=2.2 in /usr/local/lib/python3.10/dist-packages (from scikit-image) (3.1)\n",
            "Requirement already satisfied: imageio>=2.4.1 in /usr/local/lib/python3.10/dist-packages (from scikit-image) (2.25.1)\n",
            "Requirement already satisfied: tifffile>=2019.7.26 in /usr/local/lib/python3.10/dist-packages (from scikit-image) (2023.4.12)\n",
            "Requirement already satisfied: PyWavelets>=1.1.1 in /usr/local/lib/python3.10/dist-packages (from scikit-image) (1.4.1)\n",
            "Requirement already satisfied: packaging>=20.0 in /usr/local/lib/python3.10/dist-packages (from scikit-image) (23.1)\n",
            "Installing collected packages: npy_append_array, scikit-video\n",
            "Successfully installed npy_append_array-0.9.16 scikit-video-1.1.11\n"
          ]
        }
      ]
    },
    {
      "cell_type": "code",
      "source": [
        "from npy_append_array import NpyAppendArray as npaa\n",
        "import matplotlib.pyplot as plt\n",
        "import skvideo.io\n",
        "import os\n",
        "import numpy as np\n",
        "from glob import glob\n",
        "from tqdm import tqdm\n",
        "import gc\n",
        "from typing import Tuple\n",
        "import cv2\n",
        "from time import perf_counter\n",
        "from skimage.transform import resize"
      ],
      "metadata": {
        "id": "9vtvxm-voa1s"
      },
      "execution_count": 4,
      "outputs": []
    },
    {
      "cell_type": "code",
      "source": [
        "#!wget \"http://socia-lab.di.ubi.pt/EventDetection/UBI_FIGHTS.zip\" -P \"/content/drive/My Drive/Datasets/\""
      ],
      "metadata": {
        "id": "iQzYZVzlSnIB"
      },
      "execution_count": 5,
      "outputs": []
    },
    {
      "cell_type": "code",
      "source": [
        "#!unzip \"/content/drive/My Drive/Datasets/UBI_FIGHTS.zip\""
      ],
      "metadata": {
        "id": "_0rMopo2VgQV"
      },
      "execution_count": 6,
      "outputs": []
    },
    {
      "cell_type": "code",
      "source": [
        "#ROOT = '/gdrive/MyDrive/Datasets/UBI_FIGHTS/UBI_FIGHTS_v2/UBI_FIGHTS'\n",
        "ROOT = '/content/drive/My Drive/Datasets/UBI_FIGHTS'\n",
        "VIDEOS = ROOT + '/videos'\n",
        "ANNOTATIONS = ROOT + '/annotation'\n",
        "OUT = ROOT + '/extracted'\n",
        "#OUT = '/gdrive/MyDrive/Datasets/UBI_FIGHTS/extracted'"
      ],
      "metadata": {
        "id": "hQcHxTaHjfxg"
      },
      "execution_count": 7,
      "outputs": []
    },
    {
      "cell_type": "code",
      "source": [
        "#!cd ROOT\n",
        "#!mkdir extracted\n",
        "#!cd ../../../../.."
      ],
      "metadata": {
        "id": "W2o3LeJsIRP9"
      },
      "execution_count": 8,
      "outputs": []
    },
    {
      "cell_type": "code",
      "source": [
        "PACKET_SHAPE = (28, 28, 28)\n",
        "VIOLENT = 1\n",
        "NON_VIOLENT = 0"
      ],
      "metadata": {
        "id": "tWp2ciYls1J_"
      },
      "execution_count": 9,
      "outputs": []
    },
    {
      "cell_type": "code",
      "source": [
        "video_paths = sorted(glob(VIDEOS + '/**/*.mp4'))\n",
        "annot_paths = sorted(glob(ANNOTATIONS + '/*.csv'))"
      ],
      "metadata": {
        "id": "z9Jths9Oq7GB"
      },
      "execution_count": 10,
      "outputs": []
    },
    {
      "cell_type": "code",
      "source": [
        "class Extractor():\n",
        "    def __init__(self,\n",
        "                 packet_shape = PACKET_SHAPE,\n",
        "                 overlap = 0,\n",
        "                 backend_read='opencv'\n",
        "                ) -> None:\n",
        "        assert len(packet_shape) == 3 , f'Packet shape { packet_shape } should be in the format: (number of frames, width, height)'\n",
        "        assert backend_read == 'opencv' or backend_read == 'scikit'\n",
        "        assert overlap == 0, 'This feature is not yet implemented'\n",
        "        self.packet_shape = packet_shape\n",
        "        self.overlap = overlap\n",
        "        self.backend_read = backend_read\n",
        "\n",
        "    # Read the data\n",
        "    def video_to_np(self, path, verbose=False):\n",
        "        shape = self.packet_shape[1:]\n",
        "        if self.backend_read == 'opencv':\n",
        "            cap = cv2.VideoCapture(path)\n",
        "            n_frames = int(cap.get(cv2.CAP_PROP_FRAME_COUNT))\n",
        "            video = np.zeros((n_frames,) + shape)\n",
        "            loop = range(n_frames)\n",
        "            if verbose:\n",
        "                loop = tqdm(loop)\n",
        "            for i in loop:\n",
        "                _, frame = cap.read()\n",
        "                frame = cv2.resize(frame, shape, interpolation=cv2.INTER_AREA)\n",
        "                video[i] = cv2.cvtColor(frame, cv2.COLOR_RGB2GRAY)\n",
        "\n",
        "            cv2.destroyAllWindows()\n",
        "\n",
        "        else: # 'scikit'\n",
        "            temp = skvideo.io.vread(path)\n",
        "            video = np.zeros((temp.shape[0],) + shape)\n",
        "\n",
        "            if verbose:\n",
        "                print('Resizing...')\n",
        "\n",
        "            resized = np.zeros((temp.shape[0],) + shape + (3,))\n",
        "\n",
        "            for i in range(temp.shape[0]):\n",
        "                resized[i] = cv2.resize(temp[i], shape, interpolation=cv2.INTER_AREA)\n",
        "\n",
        "            if verbose:\n",
        "                print('Converting to grayscale...')\n",
        "\n",
        "            video = np.dot(resized, [0.299, 0.587, 0.114])\n",
        "\n",
        "        return video / 255.\n",
        "\n",
        "    def extract_packets_ubi(self,\n",
        "        video_path: str,\n",
        "        annotation_path: str,\n",
        "        verbose = False\n",
        "    ) -> Tuple[np.ndarray, np.ndarray]:\n",
        "        ''' This function always outputs grayscale packets '''\n",
        "\n",
        "        tick = None\n",
        "        if verbose:\n",
        "            print(f'Reading video ...')\n",
        "            tick = perf_counter()\n",
        "        video = self.video_to_np(video_path, verbose)\n",
        "        if verbose:\n",
        "            tock = perf_counter() - tick if tick is not None else 0\n",
        "            print(f'Video reading took {tock} sec.')\n",
        "\n",
        "        lbl = np.genfromtxt(\n",
        "            annotation_path,\n",
        "            delimiter=\",\", dtype=int\n",
        "        )\n",
        "        anchor = np.where(np.diff(lbl) != 0)[0]\n",
        "\n",
        "        # initialize placeholders for output\n",
        "        shape_x = (1 + len(video) // self.packet_shape[0],) + self.packet_shape\n",
        "        shape_y = (shape_x[0],1)\n",
        "        count = 0\n",
        "        y = np.zeros(shape_y)\n",
        "        x = np.zeros(shape_x)\n",
        "\n",
        "        # fill in output\n",
        "        current = lbl[0]\n",
        "        nxt_anchor = anchor[0] if anchor.shape[0] != 0 else np.inf\n",
        "        idx = 0\n",
        "        for i in range(0, len(video), self.packet_shape[0] - self.overlap):\n",
        "            packet = np.zeros(self.packet_shape)\n",
        "            temp = video[i: i + self.packet_shape[0]]\n",
        "            packet[:len(temp)] = temp\n",
        "            del temp\n",
        "            x[count] = packet\n",
        "            y[count] = current\n",
        "            if i >= nxt_anchor:\n",
        "                current = lbl[i + 1]\n",
        "                idx = idx + 1\n",
        "                nxt_anchor = anchor[idx] if idx < anchor.shape[0] else np.inf\n",
        "            count = count + 1\n",
        "\n",
        "        return (x, y)\n",
        "\n",
        "    def get_shapes(self,paths):\n",
        "        final = 0\n",
        "        for path in tqdm(paths):\n",
        "            cap = cv2.VideoCapture(path)\n",
        "            n_frames = int(cap.get(cv2.CAP_PROP_FRAME_COUNT))\n",
        "            cv2.destroyAllWindows()\n",
        "            final = final + 1 + n_frames // self.packet_shape[0]\n",
        "        shape_x = (final,) + self.packet_shape\n",
        "        shape_y = (final, 1)\n",
        "        return shape_x, shape_y\n",
        "\n",
        "    def __map_vid_to_lbl_paths(self,\n",
        "                               video_paths: list[str],\n",
        "                               annot_paths: list[str],\n",
        "                               ext = 'csv'\n",
        "                            ) -> dict[str,str]:\n",
        "        '''\n",
        "        Warning: This function assumes all video paths are from the same directory and the same for annotations\n",
        "        '''\n",
        "        map = {}\n",
        "        root = '/'.join(annot_paths[0].split('/')[:-1])\n",
        "        for p in video_paths:\n",
        "            token = p.split('/')[-1].split('.')[0]\n",
        "            map[p] = f'{root}/{token}.{ext}'\n",
        "        return map\n",
        "\n",
        "\n",
        "\n",
        "    def packets_from_paths(self, video_paths, annot_paths, out_path):\n",
        "        skipped = []\n",
        "        print('Calculating shapes ...')\n",
        "        _ , shape_y = self.get_shapes(video_paths)\n",
        "        map = self.__map_vid_to_lbl_paths(video_paths,annot_paths)\n",
        "        y = np.zeros(shape_y)\n",
        "        start = 0\n",
        "        print('Processing files ...')\n",
        "        with npaa(out_path+'/x.npy') as x:\n",
        "            for video_path in tqdm(video_paths):\n",
        "                annot_path = map[video_path]\n",
        "                if not os.path.exists(annot_path):\n",
        "                    skipped.append(video_path)\n",
        "                    continue\n",
        "                x_sub, y_sub = (self.extract_packets_ubi(video_path, annot_path))\n",
        "                x.append(x_sub)\n",
        "                end = y_sub.shape[0] + start\n",
        "                y[start:end] = y_sub\n",
        "                start = end\n",
        "                for _ in range(10):\n",
        "                    gc.collect()\n",
        "        np.save(out_path+'/y.npy',y)\n",
        "        print('The following files were skipped because no annotation file was found')\n",
        "        print(skipped)\n",
        "\n"
      ],
      "metadata": {
        "id": "mDKqo_SCXnfM"
      },
      "execution_count": 11,
      "outputs": []
    },
    {
      "cell_type": "code",
      "source": [
        "ext = Extractor()\n",
        "x, y = ext.extract_packets_ubi(video_paths[0], annot_paths[0])\n",
        "print(x.shape, y.shape)\n",
        "plt.imshow(x[8,8],cmap='gray')\n",
        "plt.show()"
      ],
      "metadata": {
        "colab": {
          "base_uri": "https://localhost:8080/",
          "height": 448
        },
        "id": "EPf1I-yxH94v",
        "outputId": "7e8d9d7e-cde2-4929-c9c9-d23bcbdb4cce"
      },
      "execution_count": 12,
      "outputs": [
        {
          "output_type": "stream",
          "name": "stdout",
          "text": [
            "(155, 28, 28, 28) (155, 1)\n"
          ]
        },
        {
          "output_type": "display_data",
          "data": {
            "text/plain": [
              "<Figure size 640x480 with 1 Axes>"
            ],
            "image/png": "[encoded data removed]"
          },
          "metadata": {}
        }
      ]
    },
    {
      "cell_type": "code",
      "source": [
        "x, y = ext.extract_packets_ubi(video_paths[0], annot_paths[0],verbose=True)\n",
        "plt.imshow(x[8,8],cmap='gray')\n",
        "plt.show()"
      ],
      "metadata": {
        "colab": {
          "base_uri": "https://localhost:8080/",
          "height": 484
        },
        "id": "u1nCBhN0wohu",
        "outputId": "6a81c3e5-25b7-406c-ce25-fced4963e863"
      },
      "execution_count": 13,
      "outputs": [
        {
          "output_type": "stream",
          "name": "stdout",
          "text": [
            "Reading video ...\n"
          ]
        },
        {
          "output_type": "stream",
          "name": "stderr",
          "text": [
            "100%|██████████| 4320/4320 [00:10<00:00, 415.50it/s]\n"
          ]
        },
        {
          "output_type": "stream",
          "name": "stdout",
          "text": [
            "Video reading took 10.430255793000015 sec.\n"
          ]
        },
        {
          "output_type": "display_data",
          "data": {
            "text/plain": [
              "<Figure size 640x480 with 1 Axes>"
            ],
            "image/png": "[encoded data removed]"
          },
          "metadata": {}
        }
      ]
    },
    {
      "cell_type": "code",
      "source": [
        "ext = Extractor()\n",
        "ext.get_shapes(video_paths)"
      ],
      "metadata": {
        "colab": {
          "base_uri": "https://localhost:8080/"
        },
        "id": "xXTkusr7yttQ",
        "outputId": "e9a8e866-a548-49b5-9409-7f0da3312252"
      },
      "execution_count": 14,
      "outputs": [
        {
          "output_type": "stream",
          "name": "stderr",
          "text": [
            "100%|██████████| 1000/1000 [10:01<00:00,  1.66it/s]\n"
          ]
        },
        {
          "output_type": "execute_result",
          "data": {
            "text/plain": [
              "((305272, 28, 28, 28), (305272, 1))"
            ]
          },
          "metadata": {},
          "execution_count": 14
        }
      ]
    },
    {
      "cell_type": "code",
      "source": [
        "for _ in tqdm(range(100)):\n",
        "    gc.collect()"
      ],
      "metadata": {
        "colab": {
          "base_uri": "https://localhost:8080/"
        },
        "id": "PoFbEdFHGvkU",
        "outputId": "025996e0-e399-4520-810b-f23dff777af9"
      },
      "execution_count": 15,
      "outputs": [
        {
          "output_type": "stream",
          "name": "stderr",
          "text": [
            "100%|██████████| 100/100 [00:06<00:00, 15.43it/s]\n"
          ]
        }
      ]
    },
    {
      "cell_type": "code",
      "source": [
        "ext.packets_from_paths(video_paths, annot_paths, OUT)"
      ],
      "metadata": {
        "id": "Y5Z7aywKkTjt",
        "outputId": "94471a40-3b8a-46b4-c67e-1af49fd5cc5c",
        "colab": {
          "base_uri": "https://localhost:8080/"
        }
      },
      "execution_count": null,
      "outputs": [
        {
          "output_type": "stream",
          "name": "stdout",
          "text": [
            "Calculating shapes ...\n"
          ]
        },
        {
          "output_type": "stream",
          "name": "stderr",
          "text": [
            "100%|██████████| 1000/1000 [00:08<00:00, 119.85it/s]\n"
          ]
        },
        {
          "output_type": "stream",
          "name": "stdout",
          "text": [
            "Processing files ...\n"
          ]
        },
        {
          "output_type": "stream",
          "name": "stderr",
          "text": [
            " 28%|██▊       | 284/1000 [57:20<1:58:57,  9.97s/it]"
          ]
        }
      ]
    }
  ]
}