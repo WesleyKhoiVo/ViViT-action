{
  "nbformat": 4,
  "nbformat_minor": 0,
  "metadata": {
    "colab": {
      "provenance": [],
      "include_colab_link": true
    },
    "kernelspec": {
      "name": "python3",
      "display_name": "Python 3"
    },
    "language_info": {
      "name": "python"
    }
  },
  "cells": [
    {
      "cell_type": "markdown",
      "metadata": {
        "id": "view-in-github",
        "colab_type": "text"
      },
      "source": [
        "<a href=\"https://colab.research.google.com/github/WesleyKhoiVo/ViViT-action/blob/main/src/data-preprocessing/UBI_splitting.ipynb\" target=\"_parent\"><img src=\"https://colab.research.google.com/assets/colab-badge.svg\" alt=\"Open In Colab\"/></a>"
      ]
    },
    {
      "cell_type": "code",
      "source": [
        "! pip install npy_append_array"
      ],
      "metadata": {
        "colab": {
          "base_uri": "https://localhost:8080/"
        },
        "id": "8538CufWp81A",
        "outputId": "6f3af331-edbf-4231-bde3-9921419253dc"
      },
      "execution_count": 8,
      "outputs": [
        {
          "output_type": "stream",
          "name": "stdout",
          "text": [
            "Requirement already satisfied: npy_append_array in /usr/local/lib/python3.10/dist-packages (0.9.16)\n"
          ]
        }
      ]
    },
    {
      "cell_type": "code",
      "source": [
        "from google.colab import drive\n",
        "drive.mount('/content/drive')"
      ],
      "metadata": {
        "colab": {
          "base_uri": "https://localhost:8080/"
        },
        "id": "AnmA1KcxadgV",
        "outputId": "7cc47a12-a146-43b7-d1f7-16032a6e774f"
      },
      "execution_count": 9,
      "outputs": [
        {
          "output_type": "stream",
          "name": "stdout",
          "text": [
            "Drive already mounted at /content/drive; to attempt to forcibly remount, call drive.mount(\"/content/drive\", force_remount=True).\n"
          ]
        }
      ]
    },
    {
      "cell_type": "code",
      "source": [
        "from tqdm import tqdm\n",
        "import numpy as np\n",
        "from npy_append_array import NpyAppendArray as npaa\n",
        "import gc"
      ],
      "metadata": {
        "id": "3FWx_KLqcgug"
      },
      "execution_count": 10,
      "outputs": []
    },
    {
      "cell_type": "code",
      "execution_count": 11,
      "metadata": {
        "id": "3fRvoO-kaWHk"
      },
      "outputs": [],
      "source": [
        "ROOT = '/content/drive/My Drive/Datasets/extracted'\n",
        "shape_x, shape_y = (299354, 28, 28, 28), (299354, 1)"
      ]
    },
    {
      "cell_type": "code",
      "source": [
        "dtype = np.float32\n",
        "mode = 'r+'\n",
        "xmap = np.memmap(ROOT+'/x.npy',dtype=dtype, shape=shape_x, mode=mode)"
      ],
      "metadata": {
        "id": "0VnhRUoVeY6P"
      },
      "execution_count": 12,
      "outputs": []
    },
    {
      "cell_type": "code",
      "source": [
        "def perm_to_file(arr, perm:np.ndarray, filename:str,batch_size=1e4):\n",
        "    with npaa(filename) as x:\n",
        "        start = 0\n",
        "        loop_end = int(max(len(perm),batch_size))\n",
        "        loop_start = int(min(len(perm),batch_size))\n",
        "        loop = [i for i in range(loop_start, loop_end,int(batch_size))]\n",
        "        loop.append(len(perm))\n",
        "        print(loop)\n",
        "        for i in tqdm(loop):\n",
        "            end = min(i, perm.shape[0])\n",
        "            x.append(arr[start:end])\n",
        "            # print(start,end)\n",
        "            start = end\n",
        ""
      ],
      "metadata": {
        "id": "s0JBTK0kplYO"
      },
      "execution_count": 13,
      "outputs": []
    },
    {
      "cell_type": "markdown",
      "source": [
        "## Unbalanced data"
      ],
      "metadata": {
        "id": "WEJGOcTVLBzr"
      }
    },
    {
      "cell_type": "code",
      "source": [
        "# splitting 70 10 20\n",
        "np.random.seed(123)\n",
        "y = np.load(ROOT+'/y.npy')\n",
        "\n",
        "y_viol = np.argwhere(y == 1)\n",
        "y_norm = np.argwhere(y == 0)\n",
        "\n",
        "perm_viol  = np.random.permutation(y_viol.shape[0])\n",
        "train_ratio_viol = len(perm_viol) // 10 * 7\n",
        "val_ratio_viol   = train_ratio_viol + len(perm_viol) // 10 * 1\n",
        "\n",
        "print(train_ratio_viol, val_ratio_viol)\n",
        "\n",
        "perm_norm  = np.random.permutation(y_norm.shape[0])\n",
        "train_ratio_norm = len(perm_norm) // 10 * 7\n",
        "val_ratio_norm   = train_ratio_norm + len(perm_norm) // 10\n",
        "\n",
        "print(train_ratio_norm, val_ratio_norm)\n",
        "\n"
      ],
      "metadata": {
        "colab": {
          "base_uri": "https://localhost:8080/",
          "height": 366
        },
        "id": "hNqUyKuSeuVB",
        "outputId": "51ac7494-464e-48a8-bce9-c16ad3a5ac3e"
      },
      "execution_count": 14,
      "outputs": [
        {
          "output_type": "error",
          "ename": "FileNotFoundError",
          "evalue": "ignored",
          "traceback": [
            "\u001b[0;31m---------------------------------------------------------------------------\u001b[0m",
            "\u001b[0;31mFileNotFoundError\u001b[0m                         Traceback (most recent call last)",
            "\u001b[0;32m<ipython-input-14-fea203b6fd6f>\u001b[0m in \u001b[0;36m<cell line: 3>\u001b[0;34m()\u001b[0m\n\u001b[1;32m      1\u001b[0m \u001b[0;31m# splitting 70 10 20\u001b[0m\u001b[0;34m\u001b[0m\u001b[0;34m\u001b[0m\u001b[0m\n\u001b[1;32m      2\u001b[0m \u001b[0mnp\u001b[0m\u001b[0;34m.\u001b[0m\u001b[0mrandom\u001b[0m\u001b[0;34m.\u001b[0m\u001b[0mseed\u001b[0m\u001b[0;34m(\u001b[0m\u001b[0;36m123\u001b[0m\u001b[0;34m)\u001b[0m\u001b[0;34m\u001b[0m\u001b[0;34m\u001b[0m\u001b[0m\n\u001b[0;32m----> 3\u001b[0;31m \u001b[0my\u001b[0m \u001b[0;34m=\u001b[0m \u001b[0mnp\u001b[0m\u001b[0;34m.\u001b[0m\u001b[0mload\u001b[0m\u001b[0;34m(\u001b[0m\u001b[0mROOT\u001b[0m\u001b[0;34m+\u001b[0m\u001b[0;34m'/y.npy'\u001b[0m\u001b[0;34m)\u001b[0m\u001b[0;34m\u001b[0m\u001b[0;34m\u001b[0m\u001b[0m\n\u001b[0m\u001b[1;32m      4\u001b[0m \u001b[0;34m\u001b[0m\u001b[0m\n\u001b[1;32m      5\u001b[0m \u001b[0my_viol\u001b[0m \u001b[0;34m=\u001b[0m \u001b[0mnp\u001b[0m\u001b[0;34m.\u001b[0m\u001b[0margwhere\u001b[0m\u001b[0;34m(\u001b[0m\u001b[0my\u001b[0m \u001b[0;34m==\u001b[0m \u001b[0;36m1\u001b[0m\u001b[0;34m)\u001b[0m\u001b[0;34m\u001b[0m\u001b[0;34m\u001b[0m\u001b[0m\n",
            "\u001b[0;32m/usr/local/lib/python3.10/dist-packages/numpy/lib/npyio.py\u001b[0m in \u001b[0;36mload\u001b[0;34m(file, mmap_mode, allow_pickle, fix_imports, encoding)\u001b[0m\n\u001b[1;32m    405\u001b[0m             \u001b[0mown_fid\u001b[0m \u001b[0;34m=\u001b[0m \u001b[0;32mFalse\u001b[0m\u001b[0;34m\u001b[0m\u001b[0;34m\u001b[0m\u001b[0m\n\u001b[1;32m    406\u001b[0m         \u001b[0;32melse\u001b[0m\u001b[0;34m:\u001b[0m\u001b[0;34m\u001b[0m\u001b[0;34m\u001b[0m\u001b[0m\n\u001b[0;32m--> 407\u001b[0;31m             \u001b[0mfid\u001b[0m \u001b[0;34m=\u001b[0m \u001b[0mstack\u001b[0m\u001b[0;34m.\u001b[0m\u001b[0menter_context\u001b[0m\u001b[0;34m(\u001b[0m\u001b[0mopen\u001b[0m\u001b[0;34m(\u001b[0m\u001b[0mos_fspath\u001b[0m\u001b[0;34m(\u001b[0m\u001b[0mfile\u001b[0m\u001b[0;34m)\u001b[0m\u001b[0;34m,\u001b[0m \u001b[0;34m\"rb\"\u001b[0m\u001b[0;34m)\u001b[0m\u001b[0;34m)\u001b[0m\u001b[0;34m\u001b[0m\u001b[0;34m\u001b[0m\u001b[0m\n\u001b[0m\u001b[1;32m    408\u001b[0m             \u001b[0mown_fid\u001b[0m \u001b[0;34m=\u001b[0m \u001b[0;32mTrue\u001b[0m\u001b[0;34m\u001b[0m\u001b[0;34m\u001b[0m\u001b[0m\n\u001b[1;32m    409\u001b[0m \u001b[0;34m\u001b[0m\u001b[0m\n",
            "\u001b[0;31mFileNotFoundError\u001b[0m: [Errno 2] No such file or directory: '/content/drive/My Drive/Datasets/extracted/y.npy'"
          ]
        }
      ]
    },
    {
      "cell_type": "code",
      "source": [
        "len(perm_norm)"
      ],
      "metadata": {
        "id": "j-SZg8qfvYCe"
      },
      "execution_count": null,
      "outputs": []
    },
    {
      "cell_type": "code",
      "source": [
        "import matplotlib.pyplot as plt\n",
        "plt.imshow(xmap[8,5]*255.,cmap='gray')"
      ],
      "metadata": {
        "id": "KdqKSoqY_o2X"
      },
      "execution_count": null,
      "outputs": []
    },
    {
      "cell_type": "code",
      "source": [
        "train_perm = np.concatenate((perm_viol[:train_ratio_viol], perm_norm[:train_ratio_norm]))\n",
        "val_perm   = np.concatenate((perm_viol[train_ratio_viol:val_ratio_viol], perm_norm[train_ratio_norm:val_ratio_norm]))\n",
        "test_perm  = np.concatenate((perm_viol[val_ratio_viol:], perm_norm[val_ratio_norm:]))\n",
        "\n",
        "np.random.shuffle(train_perm)\n",
        "np.random.shuffle(val_perm)\n",
        "np.random.shuffle(test_perm)"
      ],
      "metadata": {
        "id": "FFEEIKbXlHQC"
      },
      "execution_count": null,
      "outputs": []
    },
    {
      "cell_type": "code",
      "source": [
        "# perm_to_file(xmap, val_perm,ROOT+'/x_val.npy',batch_size=5e4)\n",
        "# perm_to_file(xmap, test_perm,ROOT+'/x_test.npy',batch_size=5e4)\n",
        "perm_to_file(xmap, train_perm,ROOT+'/x_train.npy',batch_size=5e4)"
      ],
      "metadata": {
        "id": "OZtzwJbFr5ys"
      },
      "execution_count": null,
      "outputs": []
    },
    {
      "cell_type": "code",
      "source": [
        "np.save(ROOT+'/y_val'   ,y[val_perm])\n",
        "np.save(ROOT+'/y_test'  ,y[test_perm])\n",
        "np.save(ROOT+'/y_train' ,y[train_perm])"
      ],
      "metadata": {
        "id": "gEYojiS0r_rf"
      },
      "execution_count": null,
      "outputs": []
    },
    {
      "cell_type": "code",
      "source": [
        "!ls {ROOT} -l"
      ],
      "metadata": {
        "id": "Y7c0U9vZuepH"
      },
      "execution_count": null,
      "outputs": []
    },
    {
      "cell_type": "markdown",
      "source": [
        "## Balanced data\n"
      ],
      "metadata": {
        "id": "jrEi-Aa1K9is"
      }
    },
    {
      "cell_type": "code",
      "source": [
        "# ! rm -rf {ROOT}/balanced\n",
        "# ! mkdir {ROOT}/balanced"
      ],
      "metadata": {
        "id": "w9ZylKboUswK"
      },
      "execution_count": null,
      "outputs": []
    },
    {
      "cell_type": "code",
      "source": [
        "OUT = '/content/drive/My Drive/Datasets/extracted/balanced'\n",
        "shape_x, shape_y = (299354, 28, 28, 28), (299354, 1)\n",
        "\n",
        "# splitting 70 10 20\n",
        "np.random.seed(123)\n",
        "y = np.load(ROOT+'/y.npy')\n",
        "\n",
        "y_viol = np.argwhere(y == 1)\n",
        "y_norm = np.argwhere(y == 0)\n",
        "\n",
        "size = min(y_viol.shape[0], y_norm.shape[0])\n",
        "\n",
        "perm_viol  = np.random.permutation(y_viol.shape[0])\n",
        "perm_viol  = perm_viol[:size]\n",
        "train_ratio_viol = len(perm_viol) // 10 * 7\n",
        "val_ratio_viol   = train_ratio_viol + len(perm_viol) // 10 * 1\n",
        "\n",
        "print(train_ratio_viol, val_ratio_viol)\n",
        "\n",
        "perm_norm  = np.random.permutation(y_norm.shape[0])\n",
        "perm_norm  = perm_norm[:size]\n",
        "train_ratio_norm = len(perm_norm) // 10 * 7\n",
        "val_ratio_norm   = train_ratio_norm + len(perm_norm) // 10\n",
        "\n",
        "print(train_ratio_norm, val_ratio_norm)\n",
        "\n",
        "train_perm = np.concatenate((perm_viol[:train_ratio_viol], perm_norm[:train_ratio_norm]))\n",
        "val_perm   = np.concatenate((perm_viol[train_ratio_viol:val_ratio_viol], perm_norm[train_ratio_norm:val_ratio_norm]))\n",
        "test_perm  = np.concatenate((perm_viol[val_ratio_viol:], perm_norm[val_ratio_norm:]))\n",
        "\n",
        "np.random.shuffle(train_perm)\n",
        "np.random.shuffle(val_perm)\n",
        "np.random.shuffle(test_perm)"
      ],
      "metadata": {
        "id": "bdGCrxb_LAcC"
      },
      "execution_count": null,
      "outputs": []
    },
    {
      "cell_type": "code",
      "source": [
        "# perm_to_file(xmap, val_perm     ,OUT+'/x_val.npy'  ,batch_size=5e3)\n",
        "# perm_to_file(xmap, test_perm    ,OUT+'/x_test.npy' ,batch_size=5e3)\n",
        "perm_to_file(xmap, train_perm   ,OUT+'/x_train.npy',batch_size=5e3)"
      ],
      "metadata": {
        "id": "snjk8-moNvL0"
      },
      "execution_count": null,
      "outputs": []
    },
    {
      "cell_type": "code",
      "source": [
        "np.save(OUT+'/y_val'   ,y[val_perm])\n",
        "np.save(OUT+'/y_test'  ,y[test_perm])\n",
        "np.save(OUT+'/y_train' ,y[train_perm])"
      ],
      "metadata": {
        "id": "PF7P_ETKNw5q"
      },
      "execution_count": null,
      "outputs": []
    },
    {
      "cell_type": "code",
      "source": [
        "print(train_perm.shape,val_perm.shape,test_perm.shape)"
      ],
      "metadata": {
        "id": "tbsw6OzhPKQY"
      },
      "execution_count": null,
      "outputs": []
    }
  ]
}